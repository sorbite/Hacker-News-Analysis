{
 "cells": [
  {
   "cell_type": "markdown",
   "metadata": {},
   "source": [
    "#  Project: Hacker News Analysis"
   ]
  },
  {
   "cell_type": "markdown",
   "metadata": {},
   "source": [
    "## (I) In the project, we'll work with a data set of submissions to [Hacker News](https://news.ycombinator.com/). \n",
    "Brief description:Hacker News is a popular technology site, where user-submitted stories (known as \"posts\") are voted and commented upon. The site is extremely popular in technology and startup circles. The top posts can attract hundreds of thousands of visitors.\n",
    "\n",
    "## (II) The dataset fetched form [kaggle](https://www.kaggle.com/hacker-news/hacker-news-posts).\n",
    "Description of dataset: This dataset is Hacker News posts from 2006-10 to 2019-06 (2,709,143 posts).\n",
    "\n",
    "It includes the following columns:\n",
    "\n",
    "    title: title of the post (self explanatory)\n",
    "    url: the url of the item being linked to\n",
    "    num_points: the number of upvotes the post received\n",
    "    num_comments: the number of comments the post received\n",
    "    author: the name of the account that made the post\n",
    "    created_at: the date and time the post was made (the time zone is Eastern Time in the US)"
   ]
  },
  {
   "cell_type": "markdown",
   "metadata": {},
   "source": [
    "## (III) Objectives: Indentifying features of the posts attracting more views"
   ]
  },
  {
   "cell_type": "markdown",
   "metadata": {},
   "source": [
    "## (IV) Potential applications, for example:\n",
    "#### 1. For tech business: analyzing the posts with emerging interests\n",
    "#### 2. For advertisers:  Indentifying the highly-viewed posts to broadcast Ads in the future similar posts\n",
    "#### 3. For site owner: helping to classify the posts in detailed categories.\n",
    "#### ......"
   ]
  },
  {
   "cell_type": "markdown",
   "metadata": {},
   "source": [
    "## (V) Methodology\n",
    "1. Fetch the dataset from kaggle (requests).\n",
    "2. Store the dataset in the database (pySpark).\n",
    "3. Extract data with indentified time range (Spark SQL).\n",
    "4. Clean and manipulate data (Pandas).\n",
    "5. Visualize 'views' frequency table to indentidy highly-viewed post (Matplotlib).\n",
    "6. Natural language process of the 'title' of posts by following steps: remove punctuations, tokenize,remove stopwords, and lemmatize (or stem) (nltk).\n",
    "7. Vectorize processed 'title' into Bag-Of-Words (BoWs) or N-gram (sklearn).\n",
    "<br /> (Optional) Feature engineer the data.\n",
    "8. Build ML classifiers: random forest with GridSearchCV to exploring model parameters (sklearn).\n",
    "9. Validate the model accuracy and visualize the result with confusion matrix (sklearn and seaborn).\n",
    "10. Cluster posts by BoWs and title length using K-means clustering (sklearn). "
   ]
  },
  {
   "cell_type": "markdown",
   "metadata": {},
   "source": [
    "## (VI) Analysis\n",
    "## 1. Fetch the dataset from kaggle"
   ]
  },
  {
   "cell_type": "code",
   "execution_count": 1,
   "metadata": {},
   "outputs": [
    {
     "name": "stdout",
     "output_type": "stream",
     "text": [
      "Success\n"
     ]
    }
   ],
   "source": [
    "import requests\n",
    "data_url = \"https://www.kaggle.com/santiagobasulto/all-hacker-news-posts-stories-askshow-hn-polls/downloads/all-hacker-news-posts-stories-askshow-hn-polls.zip/4\"\n",
    "response = requests.get(data_url)\n",
    "if response.status_code == 200:\n",
    "    print(\"Success\")\n",
    "else:\n",
    "    print(\"Check URL\")"
   ]
  },
  {
   "cell_type": "markdown",
   "metadata": {},
   "source": [
    "## 2. Store the dataset in the database"
   ]
  },
  {
   "cell_type": "code",
   "execution_count": 2,
   "metadata": {},
   "outputs": [],
   "source": [
    "# Import PySpark and initialize SparkContext object.\n",
    "import pyspark\n",
    "sc = pyspark.SparkContext()"
   ]
  },
  {
   "cell_type": "code",
   "execution_count": 3,
   "metadata": {},
   "outputs": [],
   "source": [
    "#Instantiating the SQLContext class.\n",
    "from pyspark.sql import SQLContext\n",
    "# Pass in the SparkContext object `sc`\n",
    "sqlCtx = SQLContext(sc)"
   ]
  },
  {
   "cell_type": "code",
   "execution_count": 4,
   "metadata": {},
   "outputs": [
    {
     "name": "stdout",
     "output_type": "stream",
     "text": [
      "<class 'pyspark.sql.dataframe.DataFrame'>\n",
      "+---------+--------------------+---------+-----------+-------------------+--------------------+------+------------------+\n",
      "|      _c0|                 _c1|      _c2|        _c3|                _c4|                 _c5|   _c6|               _c7|\n",
      "+---------+--------------------+---------+-----------+-------------------+--------------------+------+------------------+\n",
      "|Object ID|               Title|Post Type|     Author|         Created At|                 URL|Points|Number of Comments|\n",
      "|        1|        Y Combinator|    story|         pg|2006-10-09 18:21:51|http://ycombinato...|    61|              18.0|\n",
      "|        2|A Student's Guide...|    story|    phyllis|2006-10-09 18:30:28|http://www.paulgr...|    16|               1.0|\n",
      "|        3|Woz Interview: th...|    story|    phyllis|2006-10-09 18:40:33|http://www.founde...|     7|               1.0|\n",
      "|        4|NYC Developer Dil...|    story|onebeerdave|2006-10-09 18:47:42|http://avc.blogs....|     5|               1.0|\n",
      "+---------+--------------------+---------+-----------+-------------------+--------------------+------+------------------+\n",
      "only showing top 5 rows\n",
      "\n"
     ]
    }
   ],
   "source": [
    "df = sqlCtx.read.csv('hn.csv')\n",
    "print(type(df))\n",
    "df.show(5)"
   ]
  },
  {
   "cell_type": "code",
   "execution_count": 5,
   "metadata": {},
   "outputs": [
    {
     "name": "stdout",
     "output_type": "stream",
     "text": [
      "['hackernews']\n"
     ]
    }
   ],
   "source": [
    "# Register the DataFrame df as a table.\n",
    "df.registerTempTable('hackernews')\n",
    "tables = sqlCtx.tableNames()\n",
    "print(tables)"
   ]
  },
  {
   "cell_type": "code",
   "execution_count": 6,
   "metadata": {},
   "outputs": [
    {
     "data": {
      "text/plain": [
       "2709143"
      ]
     },
     "execution_count": 6,
     "metadata": {},
     "output_type": "execute_result"
    }
   ],
   "source": [
    "df.count()"
   ]
  },
  {
   "cell_type": "markdown",
   "metadata": {},
   "source": [
    "### Only 'Title', 'Post Type', 'Created At', 'Points' (View), and 'Number of Comments' are needed for further anaysis."
   ]
  },
  {
   "cell_type": "code",
   "execution_count": 7,
   "metadata": {},
   "outputs": [
    {
     "name": "stdout",
     "output_type": "stream",
     "text": [
      "2709143\n",
      "+--------------------+---------+-------------------+------+------------------+\n",
      "|                 _c1|      _c2|                _c4|   _c6|               _c7|\n",
      "+--------------------+---------+-------------------+------+------------------+\n",
      "|               Title|Post Type|         Created At|Points|Number of Comments|\n",
      "|        Y Combinator|    story|2006-10-09 18:21:51|    61|              18.0|\n",
      "|A Student's Guide...|    story|2006-10-09 18:30:28|    16|               1.0|\n",
      "|Woz Interview: th...|    story|2006-10-09 18:40:33|     7|               1.0|\n",
      "|NYC Developer Dil...|    story|2006-10-09 18:47:42|     5|               1.0|\n",
      "|Google, YouTube a...|    story|2006-10-09 18:51:04|     7|               1.0|\n",
      "|Business Intellig...|    story|2006-10-09 18:56:40|     4|               1.0|\n",
      "|Sevin Rosen Unfun...|    story|2006-10-09 19:00:55|     5|               0.0|\n",
      "|LikeBetter featur...|    story|2006-10-09 19:17:39|    10|               0.0|\n",
      "|weekendr: social ...|    story|2006-10-09 19:19:02|     4|               0.0|\n",
      "|PhotoShow: Broadc...|    story|2006-10-09 19:21:14|     3|               1.0|\n",
      "|Participation Ine...|    story|2006-10-09 19:24:44|     5|               1.0|\n",
      "|Wired: The Deskto...|    story|2006-10-09 19:28:32|     5|               1.0|\n",
      "|The Hardest Lesso...|    story|2006-10-09 19:36:12|     5|               1.0|\n",
      "|Small is Beautifu...|    story|2006-10-09 19:50:20|     4|               1.0|\n",
      "|Feld: Question Re...|    story|2006-10-09 19:51:43|    11|               1.0|\n",
      "|Voddler Raises $2...|    story|2006-10-09 19:55:46|     3|               1.0|\n",
      "|Will Silicon Ligh...|    story|2006-10-09 19:59:03|     2|               1.0|\n",
      "|Salaries at VC-ba...|    story|2006-10-09 20:00:38|     8|               3.0|\n",
      "|Best IRR ever?  Y...|    story|2006-10-10 01:21:11|     6|               3.0|\n",
      "+--------------------+---------+-------------------+------+------------------+\n",
      "only showing top 20 rows\n",
      "\n"
     ]
    }
   ],
   "source": [
    "df_reduced = sqlCtx.sql('select _c1, _c2,_c4,_c6,_c7 from hackernews')\n",
    "print(df_reduced.count())\n",
    "df_reduced.show()"
   ]
  },
  {
   "cell_type": "markdown",
   "metadata": {},
   "source": [
    "## 3. Extract data with indentified time range\n",
    "### Due to the computer performance, only latest data (2019) is used in the demo."
   ]
  },
  {
   "cell_type": "code",
   "execution_count": 8,
   "metadata": {},
   "outputs": [],
   "source": [
    "year = [2019]"
   ]
  },
  {
   "cell_type": "code",
   "execution_count": 9,
   "metadata": {},
   "outputs": [],
   "source": [
    "# from Spark df to Pandas df\n",
    "import pandas as pd \n",
    "\n",
    "def year_data(dataframe = df_reduced, year = year):\n",
    "    import pandas as pd \n",
    "    year_df = pd.DataFrame()\n",
    "    for i in year:\n",
    "        dfx = df_reduced.filter(df['_c4'].startswith(str(i)))\n",
    "        print(dfx.count())\n",
    "        #print(dfx.toPandas())\n",
    "        year_df = year_df.append(dfx.toPandas())\n",
    "        print(year_df)\n",
    "    return year_df"
   ]
  },
  {
   "cell_type": "code",
   "execution_count": 10,
   "metadata": {},
   "outputs": [
    {
     "name": "stdout",
     "output_type": "stream",
     "text": [
      "137208\n",
      "                                                      _c1      _c2  \\\n",
      "0       The Tech That Was Fixed in 2018 and the Tech T...    story   \n",
      "1         Why Is the Google Podcasts App Failing So Hard?    story   \n",
      "2                               Doing Dishes Is the Worst    story   \n",
      "3       Setting Up a MongoDB Replica Set with Docker a...    story   \n",
      "4       History favors co-operation and non-zero sum g...    story   \n",
      "5         The man turning China into a quantum superpower    story   \n",
      "6           Ask HN: What are your New Year's resolutions?   ask_hn   \n",
      "7                        An update on Python's governance    story   \n",
      "8       Solid Passenger Traffic Growth and Moderate Ai...    story   \n",
      "9       NASA’s OSIRIS-REx Spacecraft Enters Close Orbi...    story   \n",
      "10                          First capital raise: complete    story   \n",
      "11      Earth is missing a huge part of its crust. Now...    story   \n",
      "12      The Chinese scientist who allegedly created CR...    story   \n",
      "13                           Project Cybersyn (1971-1973)    story   \n",
      "14      Venice to charge day-trippers for access to ci...    story   \n",
      "15                             Cards Against Humanity APP    story   \n",
      "16                       Happy New Year 2019 HN Community    story   \n",
      "17                  Show HN: Snigl – Forth with Lisp in C  show_hn   \n",
      "18               Quality time, brought to you by Big Tech    story   \n",
      "19      Ask HN: How do you find roles as a solo develo...   ask_hn   \n",
      "20      Ask HN: Is Battlecode a good way to learn AI/A...   ask_hn   \n",
      "21                   Why We Sleep, and Why We Often Can’t    story   \n",
      "22      Ask HN: Could CRISPR ever become as ubiquitous...   ask_hn   \n",
      "23                       Letters to a Young Mathematician    story   \n",
      "24       Dockerizing Django in development and production    story   \n",
      "25      Ask HN: Is there any way to stop constant clou...   ask_hn   \n",
      "26      How to Git push to an AWS EC2 remote using a P...    story   \n",
      "27      In Screening for Suicide Risk, Facebook Takes ...    story   \n",
      "28      The Media’s Post-Advertising Future Is Also It...    story   \n",
      "29      Ask HN: Academics who switched to industry, wh...   ask_hn   \n",
      "...                                                   ...      ...   \n",
      "137178              Shipped fun pun E-commerce site in 4h    story   \n",
      "137179  Is one of history’s most rousing speeches apoc...    story   \n",
      "137180                Engineering Management: An Overview    story   \n",
      "137181  Ask HN: Why Edgar F. Codd is not recognized as...   ask_hn   \n",
      "137182   Show HN: Building a CI/CD on GCP with Kubernetes  show_hn   \n",
      "137183              Super-Kamiokande Neutrino Observatory    story   \n",
      "137184  The Libera Manifesto: A Manifesto for Open Sou...    story   \n",
      "137185  Harvard's George Church: List of Genetic Upgrades    story   \n",
      "137186  Microsoft Evolves Azure Event Grid: New Teleme...    story   \n",
      "137187                                 Pointers in Python    story   \n",
      "137188  In case hexapods weren’t creepy enough: the ce...    story   \n",
      "137189  French geographer uses “peripheral France” to ...    story   \n",
      "137190  Cloud gaming: Nintendo is playing the waiting ...    story   \n",
      "137191                               Magic Numbers in CSS    story   \n",
      "137192                              Algorithms as Objects    story   \n",
      "137193  The DSM-IV Believed Women Didn’t Have Paraphilias    story   \n",
      "137194  People Experiencing Hardship Using Tech Don't ...    story   \n",
      "137195  Privacy benefits aside-Sign in with Apple will...    story   \n",
      "137196                 The Croissant, Breakfast of Rebels    story   \n",
      "137197                              Tasting Mercury Metal    story   \n",
      "137198  Terra Incognito|One Minute Reads|Fantastic Pul...    story   \n",
      "137199  Show HN: SnapNews – self destructing HN storie...  show_hn   \n",
      "137200               Learn Multiple Programming Languages    story   \n",
      "137201          Choosing the Wrong Lane in the Race to 5G    story   \n",
      "137202  Concerned Users Worry as Twitter Suspenders Se...    story   \n",
      "137203  Québec will ban hijab & other religious symbol...    story   \n",
      "137204  The opportunity cost of animal based diets exc...    story   \n",
      "137205                                        HAProxy 2.0    story   \n",
      "137206  So, what’s the point of Clojure? A business ap...    story   \n",
      "137207  Learn by Programming or Learn Programming to P...    story   \n",
      "\n",
      "                        _c4  _c6    _c7  \n",
      "0       2019-01-01 00:02:59    3    0.0  \n",
      "1       2019-01-01 00:08:37    4    0.0  \n",
      "2       2019-01-01 00:11:12    2    0.0  \n",
      "3       2019-01-01 00:14:08    1    0.0  \n",
      "4       2019-01-01 00:16:38    3    0.0  \n",
      "5       2019-01-01 00:19:11    4    0.0  \n",
      "6       2019-01-01 00:25:21    2    2.0  \n",
      "7       2019-01-01 00:25:37    4    0.0  \n",
      "8       2019-01-01 00:25:57    2    0.0  \n",
      "9       2019-01-01 00:31:55   54    9.0  \n",
      "10      2019-01-01 00:35:08    1    0.0  \n",
      "11      2019-01-01 00:38:15   16    6.0  \n",
      "12      2019-01-01 00:44:07  171  150.0  \n",
      "13      2019-01-01 00:46:27    6    0.0  \n",
      "14      2019-01-01 00:47:32    2    0.0  \n",
      "15      2019-01-01 00:50:57    2    0.0  \n",
      "16      2019-01-01 00:57:26    3    0.0  \n",
      "17      2019-01-01 00:59:23   87    8.0  \n",
      "18      2019-01-01 01:04:04    2    0.0  \n",
      "19      2019-01-01 01:21:23   34   18.0  \n",
      "20      2019-01-01 01:27:32    2    0.0  \n",
      "21      2019-01-01 01:42:08  200   80.0  \n",
      "22      2019-01-01 01:51:09    3    1.0  \n",
      "23      2019-01-01 01:56:32    2    0.0  \n",
      "24      2019-01-01 01:56:53    1    0.0  \n",
      "25      2019-01-01 01:58:52    4    1.0  \n",
      "26      2019-01-01 02:09:12    3    0.0  \n",
      "27      2019-01-01 02:11:13   75  100.0  \n",
      "28      2019-01-01 02:12:17    4    0.0  \n",
      "29      2019-01-01 02:16:52  113   72.0  \n",
      "...                     ...  ...    ...  \n",
      "137178  2019-06-16 20:13:26    2    1.0  \n",
      "137179  2019-06-16 20:14:30    2    0.0  \n",
      "137180  2019-06-16 20:15:44    3    0.0  \n",
      "137181  2019-06-16 20:32:37    5    1.0  \n",
      "137182  2019-06-16 20:36:38    1    0.0  \n",
      "137183  2019-06-16 20:41:30    1    0.0  \n",
      "137184  2019-06-16 20:41:51    1    0.0  \n",
      "137185  2019-06-16 20:44:39    1    0.0  \n",
      "137186  2019-06-16 20:46:06    1    0.0  \n",
      "137187  2019-06-16 20:50:45    1    0.0  \n",
      "137188  2019-06-16 20:51:31    2    0.0  \n",
      "137189  2019-06-16 20:51:41    1    0.0  \n",
      "137190  2019-06-16 20:51:53    2    0.0  \n",
      "137191  2019-06-16 20:52:14    1    0.0  \n",
      "137192  2019-06-16 20:52:21    2    0.0  \n",
      "137193  2019-06-16 20:55:43    1    0.0  \n",
      "137194  2019-06-16 20:57:01    1    0.0  \n",
      "137195  2019-06-16 20:57:43    1    0.0  \n",
      "137196  2019-06-16 20:58:54    2    0.0  \n",
      "137197  2019-06-16 20:59:24    2    0.0  \n",
      "137198  2019-06-16 20:59:54    1    0.0  \n",
      "137199  2019-06-16 21:00:17    1    1.0  \n",
      "137200  2019-06-16 21:00:40    1    0.0  \n",
      "137201  2019-06-16 21:01:28    1    0.0  \n",
      "137202  2019-06-16 21:02:45    1    0.0  \n",
      "137203  2019-06-16 21:02:53    2    0.0  \n",
      "137204  2019-06-16 21:04:10    1    0.0  \n",
      "137205  2019-06-16 21:08:56    1    0.0  \n",
      "137206  2019-06-16 21:09:17    1    0.0  \n",
      "137207  2019-06-16 21:09:24    1    0.0  \n",
      "\n",
      "[137208 rows x 5 columns]\n"
     ]
    }
   ],
   "source": [
    "year_df = year_data(dataframe = df, year = year)"
   ]
  },
  {
   "cell_type": "code",
   "execution_count": 11,
   "metadata": {},
   "outputs": [
    {
     "name": "stdout",
     "output_type": "stream",
     "text": [
      "<class 'pandas.core.frame.DataFrame'>\n",
      "RangeIndex: 137208 entries, 0 to 137207\n",
      "Data columns (total 5 columns):\n",
      "_c1    137208 non-null object\n",
      "_c2    137208 non-null object\n",
      "_c4    137208 non-null object\n",
      "_c6    137208 non-null object\n",
      "_c7    137208 non-null object\n",
      "dtypes: object(5)\n",
      "memory usage: 5.2+ MB\n"
     ]
    }
   ],
   "source": [
    "year_df.info()"
   ]
  },
  {
   "cell_type": "markdown",
   "metadata": {},
   "source": [
    "## 4. Clean and manipulate data"
   ]
  },
  {
   "cell_type": "code",
   "execution_count": 12,
   "metadata": {},
   "outputs": [],
   "source": [
    "# Rename the column titles of the dataframe.\n",
    "df_rename = year_df.rename({'_c1':'title', '_c2':'genre','_c4':'time', '_c6':'view', '_c7':'comment'}, axis =  'columns')"
   ]
  },
  {
   "cell_type": "code",
   "execution_count": 13,
   "metadata": {},
   "outputs": [],
   "source": [
    "df_rename['datetime'] = pd.to_datetime(df_rename.time, format='%Y-%m-%d')\n",
    "df_cleaned = df_rename.drop(['time'], axis = 1) "
   ]
  },
  {
   "cell_type": "code",
   "execution_count": 14,
   "metadata": {},
   "outputs": [
    {
     "data": {
      "text/plain": [
       "dtype('int64')"
      ]
     },
     "execution_count": 14,
     "metadata": {},
     "output_type": "execute_result"
    }
   ],
   "source": [
    "df_cleaned['view'] = pd.to_numeric(df_cleaned['view']) #assign datatype\n",
    "df_cleaned['view'].dtype"
   ]
  },
  {
   "cell_type": "code",
   "execution_count": 15,
   "metadata": {},
   "outputs": [
    {
     "data": {
      "text/plain": [
       "0"
      ]
     },
     "execution_count": 15,
     "metadata": {},
     "output_type": "execute_result"
    }
   ],
   "source": [
    "df_cleaned['view'].isnull().sum() #check null"
   ]
  },
  {
   "cell_type": "code",
   "execution_count": 16,
   "metadata": {
    "scrolled": true
   },
   "outputs": [
    {
     "data": {
      "text/plain": [
       "1       45391\n",
       "2       37164\n",
       "3       17181\n",
       "4        7273\n",
       "5        3645\n",
       "6        2382\n",
       "7        1663\n",
       "8        1182\n",
       "9         970\n",
       "10        776\n",
       "11        718\n",
       "12        569\n",
       "13        533\n",
       "14        461\n",
       "15        411\n",
       "16        393\n",
       "17        363\n",
       "18        327\n",
       "19        297\n",
       "20        271\n",
       "21        236\n",
       "23        232\n",
       "22        228\n",
       "24        202\n",
       "26        188\n",
       "28        183\n",
       "25        182\n",
       "27        182\n",
       "29        179\n",
       "34        171\n",
       "        ...  \n",
       "970         1\n",
       "964         1\n",
       "927         1\n",
       "799         1\n",
       "671         1\n",
       "582         1\n",
       "3015        1\n",
       "839         1\n",
       "456         1\n",
       "1310        1\n",
       "798         1\n",
       "670         1\n",
       "584         1\n",
       "714         1\n",
       "1181        1\n",
       "595         1\n",
       "925         1\n",
       "717         1\n",
       "669         1\n",
       "973         1\n",
       "718         1\n",
       "1102        1\n",
       "591         1\n",
       "719         1\n",
       "540         1\n",
       "1743        1\n",
       "1179        1\n",
       "722         1\n",
       "467         1\n",
       "701         1\n",
       "Name: view, Length: 838, dtype: int64"
      ]
     },
     "execution_count": 16,
     "metadata": {},
     "output_type": "execute_result"
    }
   ],
   "source": [
    "df_cleaned['view'].value_counts()"
   ]
  },
  {
   "cell_type": "markdown",
   "metadata": {},
   "source": [
    "## 5. Visualize 'views' frequency table to indentidy highly-viewed post"
   ]
  },
  {
   "cell_type": "code",
   "execution_count": 17,
   "metadata": {},
   "outputs": [
    {
     "name": "stdout",
     "output_type": "stream",
     "text": [
      "[ 100  200  300  400  500  600  700  800  900 1000]\n"
     ]
    }
   ],
   "source": [
    "# frequency table for column:'view'\n",
    "import numpy as np\n",
    "step = 100 # resolution of the table\n",
    "view_threshold = np.arange(100,1100,step)\n",
    "print(view_threshold)\n",
    "\n",
    "# Function to generate frequency table\n",
    "def freq_view(dataframe = df_cleaned, segment = view_threshold,step =step):\n",
    "    freq_table = {}\n",
    "    for i in segment:\n",
    "        b = i -step\n",
    "        if i == segment.max():\n",
    "            freq_table[str(i)+'< view'] = len(dataframe[(i) < dataframe['view']])\n",
    "        if i == segment.min():\n",
    "            freq_table[str(b)+' < view < '+str(i)] = len(dataframe[dataframe['view'] < i])\n",
    "        else:\n",
    "            freq_table[str(b)+' < view < '+str(i)] = len(dataframe[dataframe['view'] < i])\\\n",
    "            - len(dataframe[dataframe['view'] < b])\n",
    "    return freq_table"
   ]
  },
  {
   "cell_type": "code",
   "execution_count": 18,
   "metadata": {},
   "outputs": [
    {
     "name": "stdout",
     "output_type": "stream",
     "text": [
      "{'0 < view < 100': 130458, '100 < view < 200': 3730, '200 < view < 300': 1453, '300 < view < 400': 705, '400 < view < 500': 317, '500 < view < 600': 193, '600 < view < 700': 114, '700 < view < 800': 81, '800 < view < 900': 43, '1000< view': 87, '900 < view < 1000': 27}\n"
     ]
    }
   ],
   "source": [
    "freq_table = freq_view()\n",
    "print(freq_table)"
   ]
  },
  {
   "cell_type": "code",
   "execution_count": 19,
   "metadata": {},
   "outputs": [],
   "source": [
    "df_freq = pd.DataFrame.from_dict(freq_table, orient='index')"
   ]
  },
  {
   "cell_type": "code",
   "execution_count": 20,
   "metadata": {},
   "outputs": [
    {
     "data": {
      "text/plain": [
       "0.048823683750218644"
      ]
     },
     "execution_count": 20,
     "metadata": {},
     "output_type": "execute_result"
    }
   ],
   "source": [
    "high_view_percent = len(df_cleaned[df_cleaned['view']>100])/len(df_cleaned)\n",
    "high_view_percent"
   ]
  },
  {
   "cell_type": "markdown",
   "metadata": {},
   "source": [
    "### 4.9% of total posts in 2019 have more than 100 views"
   ]
  },
  {
   "cell_type": "code",
   "execution_count": 21,
   "metadata": {},
   "outputs": [],
   "source": [
    "df_freq2 = df_freq.reindex(['0 < view < 100', '100 < view < 200', '200 < view < 300',\n",
    "       '300 < view < 400', '400 < view < 500', '500 < view < 600',\n",
    "       '600 < view < 700', '700 < view < 800', '800 < view < 900',\n",
    "     '900 < view < 1000',  '1000< view'])\n",
    "df_freq3 =  df_freq2.rename({0:'count'}, axis =  'columns')"
   ]
  },
  {
   "cell_type": "code",
   "execution_count": 22,
   "metadata": {},
   "outputs": [
    {
     "data": {
      "text/html": [
       "<div>\n",
       "<style scoped>\n",
       "    .dataframe tbody tr th:only-of-type {\n",
       "        vertical-align: middle;\n",
       "    }\n",
       "\n",
       "    .dataframe tbody tr th {\n",
       "        vertical-align: top;\n",
       "    }\n",
       "\n",
       "    .dataframe thead th {\n",
       "        text-align: right;\n",
       "    }\n",
       "</style>\n",
       "<table border=\"1\" class=\"dataframe\">\n",
       "  <thead>\n",
       "    <tr style=\"text-align: right;\">\n",
       "      <th></th>\n",
       "      <th>count</th>\n",
       "    </tr>\n",
       "  </thead>\n",
       "  <tbody>\n",
       "    <tr>\n",
       "      <th>0 &lt; view &lt; 100</th>\n",
       "      <td>130458</td>\n",
       "    </tr>\n",
       "    <tr>\n",
       "      <th>100 &lt; view &lt; 200</th>\n",
       "      <td>3730</td>\n",
       "    </tr>\n",
       "    <tr>\n",
       "      <th>200 &lt; view &lt; 300</th>\n",
       "      <td>1453</td>\n",
       "    </tr>\n",
       "    <tr>\n",
       "      <th>300 &lt; view &lt; 400</th>\n",
       "      <td>705</td>\n",
       "    </tr>\n",
       "    <tr>\n",
       "      <th>400 &lt; view &lt; 500</th>\n",
       "      <td>317</td>\n",
       "    </tr>\n",
       "    <tr>\n",
       "      <th>500 &lt; view &lt; 600</th>\n",
       "      <td>193</td>\n",
       "    </tr>\n",
       "    <tr>\n",
       "      <th>600 &lt; view &lt; 700</th>\n",
       "      <td>114</td>\n",
       "    </tr>\n",
       "    <tr>\n",
       "      <th>700 &lt; view &lt; 800</th>\n",
       "      <td>81</td>\n",
       "    </tr>\n",
       "    <tr>\n",
       "      <th>800 &lt; view &lt; 900</th>\n",
       "      <td>43</td>\n",
       "    </tr>\n",
       "    <tr>\n",
       "      <th>900 &lt; view &lt; 1000</th>\n",
       "      <td>27</td>\n",
       "    </tr>\n",
       "    <tr>\n",
       "      <th>1000&lt; view</th>\n",
       "      <td>87</td>\n",
       "    </tr>\n",
       "  </tbody>\n",
       "</table>\n",
       "</div>"
      ],
      "text/plain": [
       "                    count\n",
       "0 < view < 100     130458\n",
       "100 < view < 200     3730\n",
       "200 < view < 300     1453\n",
       "300 < view < 400      705\n",
       "400 < view < 500      317\n",
       "500 < view < 600      193\n",
       "600 < view < 700      114\n",
       "700 < view < 800       81\n",
       "800 < view < 900       43\n",
       "900 < view < 1000      27\n",
       "1000< view             87"
      ]
     },
     "execution_count": 22,
     "metadata": {},
     "output_type": "execute_result"
    }
   ],
   "source": [
    "df_freq3 "
   ]
  },
  {
   "cell_type": "code",
   "execution_count": 65,
   "metadata": {},
   "outputs": [
    {
     "data": {
      "text/plain": [
       "Text(0, 0.5, 'Count')"
      ]
     },
     "execution_count": 65,
     "metadata": {},
     "output_type": "execute_result"
    },
    {
     "data": {
      "image/png": "[encoded data removed]",
      "text/plain": [
       "<Figure size 720x360 with 1 Axes>"
      ]
     },
     "metadata": {
      "needs_background": "light"
     },
     "output_type": "display_data"
    }
   ],
   "source": [
    "import matplotlib.pyplot as plt\n",
    "df_freq3.plot.bar(logy=True, legend = False, figsize=(10, 5), title = 'Most popular posts by view',grid = True)\n",
    "plt.ylabel('Count')"
   ]
  },
  {
   "cell_type": "markdown",
   "metadata": {},
   "source": [
    "### According to the figure, posts with more than 100 views are defined as highly viewed posts"
   ]
  },
  {
   "cell_type": "markdown",
   "metadata": {},
   "source": [
    "## 5.1 Factors attracting more views\n",
    "\n",
    "Before we start NLP of the post titles, we have to verify other factors may attracting more views. For example, the genre of the posts. Posts with 'ask_hn' are asking questions to the vistor, which are possible to get more views. The time of the posts created in a day could also affects the total view counts, since the degree of audience exposure is different.    "
   ]
  },
  {
   "cell_type": "markdown",
   "metadata": {},
   "source": [
    "### Check if certain 'genre' attacting more views"
   ]
  },
  {
   "cell_type": "code",
   "execution_count": 24,
   "metadata": {},
   "outputs": [
    {
     "data": {
      "text/plain": [
       "story      126846\n",
       "ask_hn       5454\n",
       "show_hn      4902\n",
       "poll            6\n",
       "Name: genre, dtype: int64"
      ]
     },
     "execution_count": 24,
     "metadata": {},
     "output_type": "execute_result"
    }
   ],
   "source": [
    "df_cleaned['genre'].value_counts()"
   ]
  },
  {
   "cell_type": "code",
   "execution_count": 25,
   "metadata": {},
   "outputs": [],
   "source": [
    "genre = ['story', 'ask_hn', 'show_hn','poll']\n",
    " \n",
    "def avg_view(dataframe = df_cleaned, genre = genre):\n",
    "    avg_count = {}\n",
    "    for i in genre:\n",
    "        dfx = dataframe[dataframe.genre == i]\n",
    "        avg_count[i] = dfx['view'].sum() / len(dfx)\n",
    "    df_avg_count = pd.DataFrame.from_dict(avg_count, orient='index')\n",
    "    return df_avg_count"
   ]
  },
  {
   "cell_type": "code",
   "execution_count": 26,
   "metadata": {},
   "outputs": [],
   "source": [
    "df_avg_count = avg_view()"
   ]
  },
  {
   "cell_type": "code",
   "execution_count": 27,
   "metadata": {},
   "outputs": [
    {
     "data": {
      "text/html": [
       "<div>\n",
       "<style scoped>\n",
       "    .dataframe tbody tr th:only-of-type {\n",
       "        vertical-align: middle;\n",
       "    }\n",
       "\n",
       "    .dataframe tbody tr th {\n",
       "        vertical-align: top;\n",
       "    }\n",
       "\n",
       "    .dataframe thead th {\n",
       "        text-align: right;\n",
       "    }\n",
       "</style>\n",
       "<table border=\"1\" class=\"dataframe\">\n",
       "  <thead>\n",
       "    <tr style=\"text-align: right;\">\n",
       "      <th></th>\n",
       "      <th>0</th>\n",
       "    </tr>\n",
       "  </thead>\n",
       "  <tbody>\n",
       "    <tr>\n",
       "      <th>story</th>\n",
       "      <td>18.116117</td>\n",
       "    </tr>\n",
       "    <tr>\n",
       "      <th>ask_hn</th>\n",
       "      <td>14.362303</td>\n",
       "    </tr>\n",
       "    <tr>\n",
       "      <th>show_hn</th>\n",
       "      <td>17.159731</td>\n",
       "    </tr>\n",
       "    <tr>\n",
       "      <th>poll</th>\n",
       "      <td>2.166667</td>\n",
       "    </tr>\n",
       "  </tbody>\n",
       "</table>\n",
       "</div>"
      ],
      "text/plain": [
       "                 0\n",
       "story    18.116117\n",
       "ask_hn   14.362303\n",
       "show_hn  17.159731\n",
       "poll      2.166667"
      ]
     },
     "execution_count": 27,
     "metadata": {},
     "output_type": "execute_result"
    }
   ],
   "source": [
    "df_avg_count"
   ]
  },
  {
   "cell_type": "code",
   "execution_count": 28,
   "metadata": {},
   "outputs": [
    {
     "data": {
      "text/plain": [
       "Text(0, 0.5, 'Count')"
      ]
     },
     "execution_count": 28,
     "metadata": {},
     "output_type": "execute_result"
    },
    {
     "data": {
      "image/png": "[encoded data removed]",
      "text/plain": [
       "<Figure size 720x360 with 1 Axes>"
      ]
     },
     "metadata": {
      "needs_background": "light"
     },
     "output_type": "display_data"
    }
   ],
   "source": [
    "df_avg_count.plot.bar(legend = False, figsize=(10, 5), title = 'Average view by genre', grid = True)\n",
    "plt.ylabel('Count')"
   ]
  },
  {
   "cell_type": "markdown",
   "metadata": {},
   "source": [
    "### Table 'Average view by genre' indicates there is no significant difference between view counts and genre. "
   ]
  },
  {
   "cell_type": "markdown",
   "metadata": {},
   "source": [
    "### Check if posts created in a certain time period attacting more views"
   ]
  },
  {
   "cell_type": "code",
   "execution_count": 29,
   "metadata": {},
   "outputs": [],
   "source": [
    "def avg_view_hr(dataframe = df_cleaned):\n",
    "    avg_count_hr = {}\n",
    "    for i in range(24):\n",
    "        dfx = dataframe[dataframe.datetime.dt.hour == i]\n",
    "        avg_count_hr[i] = dfx['view'].sum() / len(dfx)\n",
    "    df_avg_hr = pd.DataFrame.from_dict(avg_count_hr, orient='index')\n",
    "    return df_avg_hr"
   ]
  },
  {
   "cell_type": "code",
   "execution_count": 30,
   "metadata": {},
   "outputs": [],
   "source": [
    "avg_count_hr = avg_view_hr()"
   ]
  },
  {
   "cell_type": "code",
   "execution_count": 31,
   "metadata": {
    "scrolled": true
   },
   "outputs": [
    {
     "data": {
      "text/html": [
       "<div>\n",
       "<style scoped>\n",
       "    .dataframe tbody tr th:only-of-type {\n",
       "        vertical-align: middle;\n",
       "    }\n",
       "\n",
       "    .dataframe tbody tr th {\n",
       "        vertical-align: top;\n",
       "    }\n",
       "\n",
       "    .dataframe thead th {\n",
       "        text-align: right;\n",
       "    }\n",
       "</style>\n",
       "<table border=\"1\" class=\"dataframe\">\n",
       "  <thead>\n",
       "    <tr style=\"text-align: right;\">\n",
       "      <th></th>\n",
       "      <th>0</th>\n",
       "    </tr>\n",
       "  </thead>\n",
       "  <tbody>\n",
       "    <tr>\n",
       "      <th>0</th>\n",
       "      <td>19.366131</td>\n",
       "    </tr>\n",
       "    <tr>\n",
       "      <th>1</th>\n",
       "      <td>18.475317</td>\n",
       "    </tr>\n",
       "    <tr>\n",
       "      <th>2</th>\n",
       "      <td>20.878297</td>\n",
       "    </tr>\n",
       "    <tr>\n",
       "      <th>3</th>\n",
       "      <td>18.319006</td>\n",
       "    </tr>\n",
       "    <tr>\n",
       "      <th>4</th>\n",
       "      <td>16.446761</td>\n",
       "    </tr>\n",
       "    <tr>\n",
       "      <th>5</th>\n",
       "      <td>16.606734</td>\n",
       "    </tr>\n",
       "    <tr>\n",
       "      <th>6</th>\n",
       "      <td>16.887613</td>\n",
       "    </tr>\n",
       "    <tr>\n",
       "      <th>7</th>\n",
       "      <td>15.670625</td>\n",
       "    </tr>\n",
       "    <tr>\n",
       "      <th>8</th>\n",
       "      <td>16.997912</td>\n",
       "    </tr>\n",
       "    <tr>\n",
       "      <th>9</th>\n",
       "      <td>14.971899</td>\n",
       "    </tr>\n",
       "    <tr>\n",
       "      <th>10</th>\n",
       "      <td>17.879542</td>\n",
       "    </tr>\n",
       "    <tr>\n",
       "      <th>11</th>\n",
       "      <td>19.217290</td>\n",
       "    </tr>\n",
       "    <tr>\n",
       "      <th>12</th>\n",
       "      <td>21.566231</td>\n",
       "    </tr>\n",
       "    <tr>\n",
       "      <th>13</th>\n",
       "      <td>19.396658</td>\n",
       "    </tr>\n",
       "    <tr>\n",
       "      <th>14</th>\n",
       "      <td>16.428162</td>\n",
       "    </tr>\n",
       "    <tr>\n",
       "      <th>15</th>\n",
       "      <td>16.882995</td>\n",
       "    </tr>\n",
       "    <tr>\n",
       "      <th>16</th>\n",
       "      <td>19.049870</td>\n",
       "    </tr>\n",
       "    <tr>\n",
       "      <th>17</th>\n",
       "      <td>17.967810</td>\n",
       "    </tr>\n",
       "    <tr>\n",
       "      <th>18</th>\n",
       "      <td>16.782619</td>\n",
       "    </tr>\n",
       "    <tr>\n",
       "      <th>19</th>\n",
       "      <td>17.037347</td>\n",
       "    </tr>\n",
       "    <tr>\n",
       "      <th>20</th>\n",
       "      <td>17.185687</td>\n",
       "    </tr>\n",
       "    <tr>\n",
       "      <th>21</th>\n",
       "      <td>17.140738</td>\n",
       "    </tr>\n",
       "    <tr>\n",
       "      <th>22</th>\n",
       "      <td>19.005573</td>\n",
       "    </tr>\n",
       "    <tr>\n",
       "      <th>23</th>\n",
       "      <td>20.351485</td>\n",
       "    </tr>\n",
       "  </tbody>\n",
       "</table>\n",
       "</div>"
      ],
      "text/plain": [
       "            0\n",
       "0   19.366131\n",
       "1   18.475317\n",
       "2   20.878297\n",
       "3   18.319006\n",
       "4   16.446761\n",
       "5   16.606734\n",
       "6   16.887613\n",
       "7   15.670625\n",
       "8   16.997912\n",
       "9   14.971899\n",
       "10  17.879542\n",
       "11  19.217290\n",
       "12  21.566231\n",
       "13  19.396658\n",
       "14  16.428162\n",
       "15  16.882995\n",
       "16  19.049870\n",
       "17  17.967810\n",
       "18  16.782619\n",
       "19  17.037347\n",
       "20  17.185687\n",
       "21  17.140738\n",
       "22  19.005573\n",
       "23  20.351485"
      ]
     },
     "execution_count": 31,
     "metadata": {},
     "output_type": "execute_result"
    }
   ],
   "source": [
    "avg_count_hr"
   ]
  },
  {
   "cell_type": "code",
   "execution_count": 32,
   "metadata": {},
   "outputs": [
    {
     "data": {
      "image/png": "[encoded data removed]",
      "text/plain": [
       "<Figure size 720x360 with 1 Axes>"
      ]
     },
     "metadata": {
      "needs_background": "light"
     },
     "output_type": "display_data"
    }
   ],
   "source": [
    "avg_count_hr.plot.line(legend = False, figsize=(10, 5), title = 'Average view by hour', grid = True)\n",
    "plt.ylabel('Count')\n",
    "plt.xlabel('Hour')\n",
    "plt.xticks(np.arange(0,24,1))\n",
    "plt.show()"
   ]
  },
  {
   "cell_type": "markdown",
   "metadata": {},
   "source": [
    "### Table 'Average view by hour' indicates there are distinctions between view counts of posts created at different in a day. \n",
    "Posts created at noon (around 12 pm) and in night (10 pm to 2 am) got more views. The peak view count at 12 pm is 44% higher than lowest view count. The trend makes sense becasue Hacker News are popular in North America, and at around 12 pm (EST), people have lunch break to view the posts."
   ]
  },
  {
   "cell_type": "markdown",
   "metadata": {},
   "source": [
    "### Hereafter,  posts with more than 100 views are defined as highly viewed posts"
   ]
  },
  {
   "cell_type": "code",
   "execution_count": 33,
   "metadata": {
    "scrolled": true
   },
   "outputs": [
    {
     "name": "stdout",
     "output_type": "stream",
     "text": [
      "<class 'pandas.core.frame.DataFrame'>\n",
      "RangeIndex: 20357 entries, 0 to 20356\n",
      "Data columns (total 6 columns):\n",
      "title       20357 non-null object\n",
      "genre       20357 non-null object\n",
      "view        20357 non-null int64\n",
      "comment     20357 non-null object\n",
      "datetime    20357 non-null datetime64[ns]\n",
      "tag         20357 non-null bool\n",
      "dtypes: bool(1), datetime64[ns](1), int64(1), object(3)\n",
      "memory usage: 815.2+ KB\n"
     ]
    }
   ],
   "source": [
    "df_cleaned = df_cleaned[df_cleaned.view >= 10].copy().reset_index(drop=True)\n",
    "df_cleaned['tag'] = df_cleaned.view >= 100 # tag = True if post >= 100 views\n",
    "df_cleaned.info()"
   ]
  },
  {
   "cell_type": "code",
   "execution_count": 34,
   "metadata": {},
   "outputs": [
    {
     "name": "stdout",
     "output_type": "stream",
     "text": [
      "<class 'pandas.core.frame.DataFrame'>\n",
      "RangeIndex: 20357 entries, 0 to 20356\n",
      "Data columns (total 6 columns):\n",
      "title       20357 non-null object\n",
      "genre       20357 non-null object\n",
      "view        20357 non-null int64\n",
      "comment     20357 non-null object\n",
      "datetime    20357 non-null datetime64[ns]\n",
      "tag         20357 non-null bool\n",
      "dtypes: bool(1), datetime64[ns](1), int64(1), object(3)\n",
      "memory usage: 815.2+ KB\n"
     ]
    }
   ],
   "source": [
    "# tag = True post >= 100 views\n",
    "df_cleaned = df_cleaned[df_cleaned.view >= 10].copy().reset_index(drop=True)\n",
    "df_cleaned['tag'] = df_cleaned.view >= 100\n",
    "df_cleaned.info()"
   ]
  },
  {
   "cell_type": "markdown",
   "metadata": {},
   "source": [
    "## 6. Natural language process of the 'title' of posts"
   ]
  },
  {
   "cell_type": "code",
   "execution_count": 35,
   "metadata": {},
   "outputs": [],
   "source": [
    "import nltk"
   ]
  },
  {
   "cell_type": "code",
   "execution_count": 36,
   "metadata": {},
   "outputs": [
    {
     "data": {
      "text/plain": [
       "'!\"#$%&\\'()*+,-./:;<=>?@[\\\\]^_`{|}~'"
      ]
     },
     "execution_count": 36,
     "metadata": {},
     "output_type": "execute_result"
    }
   ],
   "source": [
    "# Remove punctuation\n",
    "import string\n",
    "string.punctuation"
   ]
  },
  {
   "cell_type": "code",
   "execution_count": 37,
   "metadata": {},
   "outputs": [
    {
     "data": {
      "text/html": [
       "<div>\n",
       "<style scoped>\n",
       "    .dataframe tbody tr th:only-of-type {\n",
       "        vertical-align: middle;\n",
       "    }\n",
       "\n",
       "    .dataframe tbody tr th {\n",
       "        vertical-align: top;\n",
       "    }\n",
       "\n",
       "    .dataframe thead th {\n",
       "        text-align: right;\n",
       "    }\n",
       "</style>\n",
       "<table border=\"1\" class=\"dataframe\">\n",
       "  <thead>\n",
       "    <tr style=\"text-align: right;\">\n",
       "      <th></th>\n",
       "      <th>title</th>\n",
       "      <th>genre</th>\n",
       "      <th>view</th>\n",
       "      <th>comment</th>\n",
       "      <th>datetime</th>\n",
       "      <th>tag</th>\n",
       "      <th>title_nonpunct</th>\n",
       "    </tr>\n",
       "  </thead>\n",
       "  <tbody>\n",
       "    <tr>\n",
       "      <th>0</th>\n",
       "      <td>NASA’s OSIRIS-REx Spacecraft Enters Close Orbi...</td>\n",
       "      <td>story</td>\n",
       "      <td>54</td>\n",
       "      <td>9.0</td>\n",
       "      <td>2019-01-01 00:31:55</td>\n",
       "      <td>False</td>\n",
       "      <td>NASA’s OSIRISREx Spacecraft Enters Close Orbit...</td>\n",
       "    </tr>\n",
       "    <tr>\n",
       "      <th>1</th>\n",
       "      <td>Earth is missing a huge part of its crust. Now...</td>\n",
       "      <td>story</td>\n",
       "      <td>16</td>\n",
       "      <td>6.0</td>\n",
       "      <td>2019-01-01 00:38:15</td>\n",
       "      <td>False</td>\n",
       "      <td>Earth is missing a huge part of its crust Now ...</td>\n",
       "    </tr>\n",
       "    <tr>\n",
       "      <th>2</th>\n",
       "      <td>The Chinese scientist who allegedly created CR...</td>\n",
       "      <td>story</td>\n",
       "      <td>171</td>\n",
       "      <td>150.0</td>\n",
       "      <td>2019-01-01 00:44:07</td>\n",
       "      <td>True</td>\n",
       "      <td>The Chinese scientist who allegedly created CR...</td>\n",
       "    </tr>\n",
       "    <tr>\n",
       "      <th>3</th>\n",
       "      <td>Show HN: Snigl – Forth with Lisp in C</td>\n",
       "      <td>show_hn</td>\n",
       "      <td>87</td>\n",
       "      <td>8.0</td>\n",
       "      <td>2019-01-01 00:59:23</td>\n",
       "      <td>False</td>\n",
       "      <td>Show HN Snigl – Forth with Lisp in C</td>\n",
       "    </tr>\n",
       "    <tr>\n",
       "      <th>4</th>\n",
       "      <td>Ask HN: How do you find roles as a solo develo...</td>\n",
       "      <td>ask_hn</td>\n",
       "      <td>34</td>\n",
       "      <td>18.0</td>\n",
       "      <td>2019-01-01 01:21:23</td>\n",
       "      <td>False</td>\n",
       "      <td>Ask HN How do you find roles as a solo developer</td>\n",
       "    </tr>\n",
       "  </tbody>\n",
       "</table>\n",
       "</div>"
      ],
      "text/plain": [
       "                                               title    genre  view comment  \\\n",
       "0  NASA’s OSIRIS-REx Spacecraft Enters Close Orbi...    story    54     9.0   \n",
       "1  Earth is missing a huge part of its crust. Now...    story    16     6.0   \n",
       "2  The Chinese scientist who allegedly created CR...    story   171   150.0   \n",
       "3              Show HN: Snigl – Forth with Lisp in C  show_hn    87     8.0   \n",
       "4  Ask HN: How do you find roles as a solo develo...   ask_hn    34    18.0   \n",
       "\n",
       "             datetime    tag  \\\n",
       "0 2019-01-01 00:31:55  False   \n",
       "1 2019-01-01 00:38:15  False   \n",
       "2 2019-01-01 00:44:07   True   \n",
       "3 2019-01-01 00:59:23  False   \n",
       "4 2019-01-01 01:21:23  False   \n",
       "\n",
       "                                      title_nonpunct  \n",
       "0  NASA’s OSIRISREx Spacecraft Enters Close Orbit...  \n",
       "1  Earth is missing a huge part of its crust Now ...  \n",
       "2  The Chinese scientist who allegedly created CR...  \n",
       "3               Show HN Snigl – Forth with Lisp in C  \n",
       "4   Ask HN How do you find roles as a solo developer  "
      ]
     },
     "execution_count": 37,
     "metadata": {},
     "output_type": "execute_result"
    }
   ],
   "source": [
    "# Function to remove punctuations in the titles\n",
    "def remove_punct(text):\n",
    "    text_nonpunct = \"\".join([char for char in text if char not in string.punctuation])\n",
    "    return text_nonpunct\n",
    "\n",
    "df_cleaned['title_nonpunct'] = df_cleaned['title'].apply(lambda x: remove_punct(x))\n",
    "\n",
    "df_cleaned.head()"
   ]
  },
  {
   "cell_type": "code",
   "execution_count": 38,
   "metadata": {},
   "outputs": [
    {
     "data": {
      "text/html": [
       "<div>\n",
       "<style scoped>\n",
       "    .dataframe tbody tr th:only-of-type {\n",
       "        vertical-align: middle;\n",
       "    }\n",
       "\n",
       "    .dataframe tbody tr th {\n",
       "        vertical-align: top;\n",
       "    }\n",
       "\n",
       "    .dataframe thead th {\n",
       "        text-align: right;\n",
       "    }\n",
       "</style>\n",
       "<table border=\"1\" class=\"dataframe\">\n",
       "  <thead>\n",
       "    <tr style=\"text-align: right;\">\n",
       "      <th></th>\n",
       "      <th>title</th>\n",
       "      <th>genre</th>\n",
       "      <th>view</th>\n",
       "      <th>comment</th>\n",
       "      <th>datetime</th>\n",
       "      <th>tag</th>\n",
       "      <th>title_nonpunct</th>\n",
       "      <th>body_text_tokenized</th>\n",
       "    </tr>\n",
       "  </thead>\n",
       "  <tbody>\n",
       "    <tr>\n",
       "      <th>0</th>\n",
       "      <td>NASA’s OSIRIS-REx Spacecraft Enters Close Orbi...</td>\n",
       "      <td>story</td>\n",
       "      <td>54</td>\n",
       "      <td>9.0</td>\n",
       "      <td>2019-01-01 00:31:55</td>\n",
       "      <td>False</td>\n",
       "      <td>NASA’s OSIRISREx Spacecraft Enters Close Orbit...</td>\n",
       "      <td>[nasa, s, osirisrex, spacecraft, enters, close...</td>\n",
       "    </tr>\n",
       "    <tr>\n",
       "      <th>1</th>\n",
       "      <td>Earth is missing a huge part of its crust. Now...</td>\n",
       "      <td>story</td>\n",
       "      <td>16</td>\n",
       "      <td>6.0</td>\n",
       "      <td>2019-01-01 00:38:15</td>\n",
       "      <td>False</td>\n",
       "      <td>Earth is missing a huge part of its crust Now ...</td>\n",
       "      <td>[earth, is, missing, a, huge, part, of, its, c...</td>\n",
       "    </tr>\n",
       "    <tr>\n",
       "      <th>2</th>\n",
       "      <td>The Chinese scientist who allegedly created CR...</td>\n",
       "      <td>story</td>\n",
       "      <td>171</td>\n",
       "      <td>150.0</td>\n",
       "      <td>2019-01-01 00:44:07</td>\n",
       "      <td>True</td>\n",
       "      <td>The Chinese scientist who allegedly created CR...</td>\n",
       "      <td>[the, chinese, scientist, who, allegedly, crea...</td>\n",
       "    </tr>\n",
       "    <tr>\n",
       "      <th>3</th>\n",
       "      <td>Show HN: Snigl – Forth with Lisp in C</td>\n",
       "      <td>show_hn</td>\n",
       "      <td>87</td>\n",
       "      <td>8.0</td>\n",
       "      <td>2019-01-01 00:59:23</td>\n",
       "      <td>False</td>\n",
       "      <td>Show HN Snigl – Forth with Lisp in C</td>\n",
       "      <td>[show, hn, snigl, forth, with, lisp, in, c]</td>\n",
       "    </tr>\n",
       "    <tr>\n",
       "      <th>4</th>\n",
       "      <td>Ask HN: How do you find roles as a solo develo...</td>\n",
       "      <td>ask_hn</td>\n",
       "      <td>34</td>\n",
       "      <td>18.0</td>\n",
       "      <td>2019-01-01 01:21:23</td>\n",
       "      <td>False</td>\n",
       "      <td>Ask HN How do you find roles as a solo developer</td>\n",
       "      <td>[ask, hn, how, do, you, find, roles, as, a, so...</td>\n",
       "    </tr>\n",
       "  </tbody>\n",
       "</table>\n",
       "</div>"
      ],
      "text/plain": [
       "                                               title    genre  view comment  \\\n",
       "0  NASA’s OSIRIS-REx Spacecraft Enters Close Orbi...    story    54     9.0   \n",
       "1  Earth is missing a huge part of its crust. Now...    story    16     6.0   \n",
       "2  The Chinese scientist who allegedly created CR...    story   171   150.0   \n",
       "3              Show HN: Snigl – Forth with Lisp in C  show_hn    87     8.0   \n",
       "4  Ask HN: How do you find roles as a solo develo...   ask_hn    34    18.0   \n",
       "\n",
       "             datetime    tag  \\\n",
       "0 2019-01-01 00:31:55  False   \n",
       "1 2019-01-01 00:38:15  False   \n",
       "2 2019-01-01 00:44:07   True   \n",
       "3 2019-01-01 00:59:23  False   \n",
       "4 2019-01-01 01:21:23  False   \n",
       "\n",
       "                                      title_nonpunct  \\\n",
       "0  NASA’s OSIRISREx Spacecraft Enters Close Orbit...   \n",
       "1  Earth is missing a huge part of its crust Now ...   \n",
       "2  The Chinese scientist who allegedly created CR...   \n",
       "3               Show HN Snigl – Forth with Lisp in C   \n",
       "4   Ask HN How do you find roles as a solo developer   \n",
       "\n",
       "                                 body_text_tokenized  \n",
       "0  [nasa, s, osirisrex, spacecraft, enters, close...  \n",
       "1  [earth, is, missing, a, huge, part, of, its, c...  \n",
       "2  [the, chinese, scientist, who, allegedly, crea...  \n",
       "3        [show, hn, snigl, forth, with, lisp, in, c]  \n",
       "4  [ask, hn, how, do, you, find, roles, as, a, so...  "
      ]
     },
     "execution_count": 38,
     "metadata": {},
     "output_type": "execute_result"
    }
   ],
   "source": [
    "#Tokenize title\n",
    "import re\n",
    "def tokenize(text):\n",
    "    token = re.split('\\W+',text)\n",
    "    return token\n",
    "\n",
    "df_cleaned['body_text_tokenized'] = df_cleaned['title_nonpunct'].apply(lambda x: tokenize(x.lower()))\n",
    "df_cleaned.head()"
   ]
  },
  {
   "cell_type": "code",
   "execution_count": 39,
   "metadata": {},
   "outputs": [
    {
     "data": {
      "text/html": [
       "<div>\n",
       "<style scoped>\n",
       "    .dataframe tbody tr th:only-of-type {\n",
       "        vertical-align: middle;\n",
       "    }\n",
       "\n",
       "    .dataframe tbody tr th {\n",
       "        vertical-align: top;\n",
       "    }\n",
       "\n",
       "    .dataframe thead th {\n",
       "        text-align: right;\n",
       "    }\n",
       "</style>\n",
       "<table border=\"1\" class=\"dataframe\">\n",
       "  <thead>\n",
       "    <tr style=\"text-align: right;\">\n",
       "      <th></th>\n",
       "      <th>title</th>\n",
       "      <th>genre</th>\n",
       "      <th>view</th>\n",
       "      <th>comment</th>\n",
       "      <th>datetime</th>\n",
       "      <th>tag</th>\n",
       "      <th>title_nonpunct</th>\n",
       "      <th>body_text_tokenized</th>\n",
       "      <th>body_text_nonstop</th>\n",
       "    </tr>\n",
       "  </thead>\n",
       "  <tbody>\n",
       "    <tr>\n",
       "      <th>0</th>\n",
       "      <td>NASA’s OSIRIS-REx Spacecraft Enters Close Orbi...</td>\n",
       "      <td>story</td>\n",
       "      <td>54</td>\n",
       "      <td>9.0</td>\n",
       "      <td>2019-01-01 00:31:55</td>\n",
       "      <td>False</td>\n",
       "      <td>NASA’s OSIRISREx Spacecraft Enters Close Orbit...</td>\n",
       "      <td>[nasa, s, osirisrex, spacecraft, enters, close...</td>\n",
       "      <td>[nasa, osirisrex, spacecraft, enters, close, o...</td>\n",
       "    </tr>\n",
       "    <tr>\n",
       "      <th>1</th>\n",
       "      <td>Earth is missing a huge part of its crust. Now...</td>\n",
       "      <td>story</td>\n",
       "      <td>16</td>\n",
       "      <td>6.0</td>\n",
       "      <td>2019-01-01 00:38:15</td>\n",
       "      <td>False</td>\n",
       "      <td>Earth is missing a huge part of its crust Now ...</td>\n",
       "      <td>[earth, is, missing, a, huge, part, of, its, c...</td>\n",
       "      <td>[earth, missing, huge, part, crust, may, know]</td>\n",
       "    </tr>\n",
       "    <tr>\n",
       "      <th>2</th>\n",
       "      <td>The Chinese scientist who allegedly created CR...</td>\n",
       "      <td>story</td>\n",
       "      <td>171</td>\n",
       "      <td>150.0</td>\n",
       "      <td>2019-01-01 00:44:07</td>\n",
       "      <td>True</td>\n",
       "      <td>The Chinese scientist who allegedly created CR...</td>\n",
       "      <td>[the, chinese, scientist, who, allegedly, crea...</td>\n",
       "      <td>[chinese, scientist, allegedly, created, crisp...</td>\n",
       "    </tr>\n",
       "    <tr>\n",
       "      <th>3</th>\n",
       "      <td>Show HN: Snigl – Forth with Lisp in C</td>\n",
       "      <td>show_hn</td>\n",
       "      <td>87</td>\n",
       "      <td>8.0</td>\n",
       "      <td>2019-01-01 00:59:23</td>\n",
       "      <td>False</td>\n",
       "      <td>Show HN Snigl – Forth with Lisp in C</td>\n",
       "      <td>[show, hn, snigl, forth, with, lisp, in, c]</td>\n",
       "      <td>[show, hn, snigl, forth, lisp, c]</td>\n",
       "    </tr>\n",
       "    <tr>\n",
       "      <th>4</th>\n",
       "      <td>Ask HN: How do you find roles as a solo develo...</td>\n",
       "      <td>ask_hn</td>\n",
       "      <td>34</td>\n",
       "      <td>18.0</td>\n",
       "      <td>2019-01-01 01:21:23</td>\n",
       "      <td>False</td>\n",
       "      <td>Ask HN How do you find roles as a solo developer</td>\n",
       "      <td>[ask, hn, how, do, you, find, roles, as, a, so...</td>\n",
       "      <td>[ask, hn, find, roles, solo, developer]</td>\n",
       "    </tr>\n",
       "  </tbody>\n",
       "</table>\n",
       "</div>"
      ],
      "text/plain": [
       "                                               title    genre  view comment  \\\n",
       "0  NASA’s OSIRIS-REx Spacecraft Enters Close Orbi...    story    54     9.0   \n",
       "1  Earth is missing a huge part of its crust. Now...    story    16     6.0   \n",
       "2  The Chinese scientist who allegedly created CR...    story   171   150.0   \n",
       "3              Show HN: Snigl – Forth with Lisp in C  show_hn    87     8.0   \n",
       "4  Ask HN: How do you find roles as a solo develo...   ask_hn    34    18.0   \n",
       "\n",
       "             datetime    tag  \\\n",
       "0 2019-01-01 00:31:55  False   \n",
       "1 2019-01-01 00:38:15  False   \n",
       "2 2019-01-01 00:44:07   True   \n",
       "3 2019-01-01 00:59:23  False   \n",
       "4 2019-01-01 01:21:23  False   \n",
       "\n",
       "                                      title_nonpunct  \\\n",
       "0  NASA’s OSIRISREx Spacecraft Enters Close Orbit...   \n",
       "1  Earth is missing a huge part of its crust Now ...   \n",
       "2  The Chinese scientist who allegedly created CR...   \n",
       "3               Show HN Snigl – Forth with Lisp in C   \n",
       "4   Ask HN How do you find roles as a solo developer   \n",
       "\n",
       "                                 body_text_tokenized  \\\n",
       "0  [nasa, s, osirisrex, spacecraft, enters, close...   \n",
       "1  [earth, is, missing, a, huge, part, of, its, c...   \n",
       "2  [the, chinese, scientist, who, allegedly, crea...   \n",
       "3        [show, hn, snigl, forth, with, lisp, in, c]   \n",
       "4  [ask, hn, how, do, you, find, roles, as, a, so...   \n",
       "\n",
       "                                   body_text_nonstop  \n",
       "0  [nasa, osirisrex, spacecraft, enters, close, o...  \n",
       "1     [earth, missing, huge, part, crust, may, know]  \n",
       "2  [chinese, scientist, allegedly, created, crisp...  \n",
       "3                  [show, hn, snigl, forth, lisp, c]  \n",
       "4            [ask, hn, find, roles, solo, developer]  "
      ]
     },
     "execution_count": 39,
     "metadata": {},
     "output_type": "execute_result"
    }
   ],
   "source": [
    "# Remove stopwords\n",
    "stopword = nltk.corpus.stopwords.words('english')\n",
    "def remove_stopwords(tokenized_list):\n",
    "    text = [word for word in tokenized_list if word not in stopword]\n",
    "    return text\n",
    "\n",
    "df_cleaned['body_text_nonstop'] = df_cleaned['body_text_tokenized'].apply(lambda x: remove_stopwords(x))\n",
    "df_cleaned.head()"
   ]
  },
  {
   "cell_type": "code",
   "execution_count": 40,
   "metadata": {},
   "outputs": [
    {
     "data": {
      "text/html": [
       "<div>\n",
       "<style scoped>\n",
       "    .dataframe tbody tr th:only-of-type {\n",
       "        vertical-align: middle;\n",
       "    }\n",
       "\n",
       "    .dataframe tbody tr th {\n",
       "        vertical-align: top;\n",
       "    }\n",
       "\n",
       "    .dataframe thead th {\n",
       "        text-align: right;\n",
       "    }\n",
       "</style>\n",
       "<table border=\"1\" class=\"dataframe\">\n",
       "  <thead>\n",
       "    <tr style=\"text-align: right;\">\n",
       "      <th></th>\n",
       "      <th>title</th>\n",
       "      <th>genre</th>\n",
       "      <th>view</th>\n",
       "      <th>comment</th>\n",
       "      <th>datetime</th>\n",
       "      <th>tag</th>\n",
       "      <th>title_nonpunct</th>\n",
       "      <th>body_text_tokenized</th>\n",
       "      <th>body_text_nonstop</th>\n",
       "      <th>body_text_stemmed</th>\n",
       "    </tr>\n",
       "  </thead>\n",
       "  <tbody>\n",
       "    <tr>\n",
       "      <th>0</th>\n",
       "      <td>NASA’s OSIRIS-REx Spacecraft Enters Close Orbi...</td>\n",
       "      <td>story</td>\n",
       "      <td>54</td>\n",
       "      <td>9.0</td>\n",
       "      <td>2019-01-01 00:31:55</td>\n",
       "      <td>False</td>\n",
       "      <td>NASA’s OSIRISREx Spacecraft Enters Close Orbit...</td>\n",
       "      <td>[nasa, s, osirisrex, spacecraft, enters, close...</td>\n",
       "      <td>[nasa, osirisrex, spacecraft, enters, close, o...</td>\n",
       "      <td>[nasa, osirisrex, spacecraft, enter, close, or...</td>\n",
       "    </tr>\n",
       "    <tr>\n",
       "      <th>1</th>\n",
       "      <td>Earth is missing a huge part of its crust. Now...</td>\n",
       "      <td>story</td>\n",
       "      <td>16</td>\n",
       "      <td>6.0</td>\n",
       "      <td>2019-01-01 00:38:15</td>\n",
       "      <td>False</td>\n",
       "      <td>Earth is missing a huge part of its crust Now ...</td>\n",
       "      <td>[earth, is, missing, a, huge, part, of, its, c...</td>\n",
       "      <td>[earth, missing, huge, part, crust, may, know]</td>\n",
       "      <td>[earth, miss, huge, part, crust, may, know]</td>\n",
       "    </tr>\n",
       "    <tr>\n",
       "      <th>2</th>\n",
       "      <td>The Chinese scientist who allegedly created CR...</td>\n",
       "      <td>story</td>\n",
       "      <td>171</td>\n",
       "      <td>150.0</td>\n",
       "      <td>2019-01-01 00:44:07</td>\n",
       "      <td>True</td>\n",
       "      <td>The Chinese scientist who allegedly created CR...</td>\n",
       "      <td>[the, chinese, scientist, who, allegedly, crea...</td>\n",
       "      <td>[chinese, scientist, allegedly, created, crisp...</td>\n",
       "      <td>[chines, scientist, allegedli, creat, crispr, ...</td>\n",
       "    </tr>\n",
       "    <tr>\n",
       "      <th>3</th>\n",
       "      <td>Show HN: Snigl – Forth with Lisp in C</td>\n",
       "      <td>show_hn</td>\n",
       "      <td>87</td>\n",
       "      <td>8.0</td>\n",
       "      <td>2019-01-01 00:59:23</td>\n",
       "      <td>False</td>\n",
       "      <td>Show HN Snigl – Forth with Lisp in C</td>\n",
       "      <td>[show, hn, snigl, forth, with, lisp, in, c]</td>\n",
       "      <td>[show, hn, snigl, forth, lisp, c]</td>\n",
       "      <td>[show, hn, snigl, forth, lisp, c]</td>\n",
       "    </tr>\n",
       "    <tr>\n",
       "      <th>4</th>\n",
       "      <td>Ask HN: How do you find roles as a solo develo...</td>\n",
       "      <td>ask_hn</td>\n",
       "      <td>34</td>\n",
       "      <td>18.0</td>\n",
       "      <td>2019-01-01 01:21:23</td>\n",
       "      <td>False</td>\n",
       "      <td>Ask HN How do you find roles as a solo developer</td>\n",
       "      <td>[ask, hn, how, do, you, find, roles, as, a, so...</td>\n",
       "      <td>[ask, hn, find, roles, solo, developer]</td>\n",
       "      <td>[ask, hn, find, role, solo, develop]</td>\n",
       "    </tr>\n",
       "  </tbody>\n",
       "</table>\n",
       "</div>"
      ],
      "text/plain": [
       "                                               title    genre  view comment  \\\n",
       "0  NASA’s OSIRIS-REx Spacecraft Enters Close Orbi...    story    54     9.0   \n",
       "1  Earth is missing a huge part of its crust. Now...    story    16     6.0   \n",
       "2  The Chinese scientist who allegedly created CR...    story   171   150.0   \n",
       "3              Show HN: Snigl – Forth with Lisp in C  show_hn    87     8.0   \n",
       "4  Ask HN: How do you find roles as a solo develo...   ask_hn    34    18.0   \n",
       "\n",
       "             datetime    tag  \\\n",
       "0 2019-01-01 00:31:55  False   \n",
       "1 2019-01-01 00:38:15  False   \n",
       "2 2019-01-01 00:44:07   True   \n",
       "3 2019-01-01 00:59:23  False   \n",
       "4 2019-01-01 01:21:23  False   \n",
       "\n",
       "                                      title_nonpunct  \\\n",
       "0  NASA’s OSIRISREx Spacecraft Enters Close Orbit...   \n",
       "1  Earth is missing a huge part of its crust Now ...   \n",
       "2  The Chinese scientist who allegedly created CR...   \n",
       "3               Show HN Snigl – Forth with Lisp in C   \n",
       "4   Ask HN How do you find roles as a solo developer   \n",
       "\n",
       "                                 body_text_tokenized  \\\n",
       "0  [nasa, s, osirisrex, spacecraft, enters, close...   \n",
       "1  [earth, is, missing, a, huge, part, of, its, c...   \n",
       "2  [the, chinese, scientist, who, allegedly, crea...   \n",
       "3        [show, hn, snigl, forth, with, lisp, in, c]   \n",
       "4  [ask, hn, how, do, you, find, roles, as, a, so...   \n",
       "\n",
       "                                   body_text_nonstop  \\\n",
       "0  [nasa, osirisrex, spacecraft, enters, close, o...   \n",
       "1     [earth, missing, huge, part, crust, may, know]   \n",
       "2  [chinese, scientist, allegedly, created, crisp...   \n",
       "3                  [show, hn, snigl, forth, lisp, c]   \n",
       "4            [ask, hn, find, roles, solo, developer]   \n",
       "\n",
       "                                   body_text_stemmed  \n",
       "0  [nasa, osirisrex, spacecraft, enter, close, or...  \n",
       "1        [earth, miss, huge, part, crust, may, know]  \n",
       "2  [chines, scientist, allegedli, creat, crispr, ...  \n",
       "3                  [show, hn, snigl, forth, lisp, c]  \n",
       "4               [ask, hn, find, role, solo, develop]  "
      ]
     },
     "execution_count": 40,
     "metadata": {},
     "output_type": "execute_result"
    }
   ],
   "source": [
    "#Stemming\n",
    "ps = nltk.PorterStemmer()\n",
    "\n",
    "def stemming(tokenized_text):\n",
    "    text = [ps.stem(word) for word in tokenized_text]\n",
    "    return text\n",
    "\n",
    "df_cleaned['body_text_stemmed'] = df_cleaned['body_text_nonstop'].apply(lambda x: stemming(x))\n",
    "df_cleaned.head()"
   ]
  },
  {
   "cell_type": "code",
   "execution_count": 41,
   "metadata": {},
   "outputs": [
    {
     "data": {
      "text/html": [
       "<div>\n",
       "<style scoped>\n",
       "    .dataframe tbody tr th:only-of-type {\n",
       "        vertical-align: middle;\n",
       "    }\n",
       "\n",
       "    .dataframe tbody tr th {\n",
       "        vertical-align: top;\n",
       "    }\n",
       "\n",
       "    .dataframe thead th {\n",
       "        text-align: right;\n",
       "    }\n",
       "</style>\n",
       "<table border=\"1\" class=\"dataframe\">\n",
       "  <thead>\n",
       "    <tr style=\"text-align: right;\">\n",
       "      <th></th>\n",
       "      <th>title</th>\n",
       "      <th>genre</th>\n",
       "      <th>view</th>\n",
       "      <th>comment</th>\n",
       "      <th>datetime</th>\n",
       "      <th>tag</th>\n",
       "      <th>title_nonpunct</th>\n",
       "      <th>body_text_tokenized</th>\n",
       "      <th>body_text_nonstop</th>\n",
       "      <th>body_text_stemmed</th>\n",
       "      <th>body_text_lemmatized</th>\n",
       "    </tr>\n",
       "  </thead>\n",
       "  <tbody>\n",
       "    <tr>\n",
       "      <th>0</th>\n",
       "      <td>NASA’s OSIRIS-REx Spacecraft Enters Close Orbi...</td>\n",
       "      <td>story</td>\n",
       "      <td>54</td>\n",
       "      <td>9.0</td>\n",
       "      <td>2019-01-01 00:31:55</td>\n",
       "      <td>False</td>\n",
       "      <td>NASA’s OSIRISREx Spacecraft Enters Close Orbit...</td>\n",
       "      <td>[nasa, s, osirisrex, spacecraft, enters, close...</td>\n",
       "      <td>[nasa, osirisrex, spacecraft, enters, close, o...</td>\n",
       "      <td>[nasa, osirisrex, spacecraft, enter, close, or...</td>\n",
       "      <td>[nasa, osirisrex, spacecraft, enters, close, o...</td>\n",
       "    </tr>\n",
       "    <tr>\n",
       "      <th>1</th>\n",
       "      <td>Earth is missing a huge part of its crust. Now...</td>\n",
       "      <td>story</td>\n",
       "      <td>16</td>\n",
       "      <td>6.0</td>\n",
       "      <td>2019-01-01 00:38:15</td>\n",
       "      <td>False</td>\n",
       "      <td>Earth is missing a huge part of its crust Now ...</td>\n",
       "      <td>[earth, is, missing, a, huge, part, of, its, c...</td>\n",
       "      <td>[earth, missing, huge, part, crust, may, know]</td>\n",
       "      <td>[earth, miss, huge, part, crust, may, know]</td>\n",
       "      <td>[earth, missing, huge, part, crust, may, know]</td>\n",
       "    </tr>\n",
       "    <tr>\n",
       "      <th>2</th>\n",
       "      <td>The Chinese scientist who allegedly created CR...</td>\n",
       "      <td>story</td>\n",
       "      <td>171</td>\n",
       "      <td>150.0</td>\n",
       "      <td>2019-01-01 00:44:07</td>\n",
       "      <td>True</td>\n",
       "      <td>The Chinese scientist who allegedly created CR...</td>\n",
       "      <td>[the, chinese, scientist, who, allegedly, crea...</td>\n",
       "      <td>[chinese, scientist, allegedly, created, crisp...</td>\n",
       "      <td>[chines, scientist, allegedli, creat, crispr, ...</td>\n",
       "      <td>[chinese, scientist, allegedly, created, crisp...</td>\n",
       "    </tr>\n",
       "    <tr>\n",
       "      <th>3</th>\n",
       "      <td>Show HN: Snigl – Forth with Lisp in C</td>\n",
       "      <td>show_hn</td>\n",
       "      <td>87</td>\n",
       "      <td>8.0</td>\n",
       "      <td>2019-01-01 00:59:23</td>\n",
       "      <td>False</td>\n",
       "      <td>Show HN Snigl – Forth with Lisp in C</td>\n",
       "      <td>[show, hn, snigl, forth, with, lisp, in, c]</td>\n",
       "      <td>[show, hn, snigl, forth, lisp, c]</td>\n",
       "      <td>[show, hn, snigl, forth, lisp, c]</td>\n",
       "      <td>[show, hn, snigl, forth, lisp, c]</td>\n",
       "    </tr>\n",
       "    <tr>\n",
       "      <th>4</th>\n",
       "      <td>Ask HN: How do you find roles as a solo develo...</td>\n",
       "      <td>ask_hn</td>\n",
       "      <td>34</td>\n",
       "      <td>18.0</td>\n",
       "      <td>2019-01-01 01:21:23</td>\n",
       "      <td>False</td>\n",
       "      <td>Ask HN How do you find roles as a solo developer</td>\n",
       "      <td>[ask, hn, how, do, you, find, roles, as, a, so...</td>\n",
       "      <td>[ask, hn, find, roles, solo, developer]</td>\n",
       "      <td>[ask, hn, find, role, solo, develop]</td>\n",
       "      <td>[ask, hn, find, role, solo, developer]</td>\n",
       "    </tr>\n",
       "  </tbody>\n",
       "</table>\n",
       "</div>"
      ],
      "text/plain": [
       "                                               title    genre  view comment  \\\n",
       "0  NASA’s OSIRIS-REx Spacecraft Enters Close Orbi...    story    54     9.0   \n",
       "1  Earth is missing a huge part of its crust. Now...    story    16     6.0   \n",
       "2  The Chinese scientist who allegedly created CR...    story   171   150.0   \n",
       "3              Show HN: Snigl – Forth with Lisp in C  show_hn    87     8.0   \n",
       "4  Ask HN: How do you find roles as a solo develo...   ask_hn    34    18.0   \n",
       "\n",
       "             datetime    tag  \\\n",
       "0 2019-01-01 00:31:55  False   \n",
       "1 2019-01-01 00:38:15  False   \n",
       "2 2019-01-01 00:44:07   True   \n",
       "3 2019-01-01 00:59:23  False   \n",
       "4 2019-01-01 01:21:23  False   \n",
       "\n",
       "                                      title_nonpunct  \\\n",
       "0  NASA’s OSIRISREx Spacecraft Enters Close Orbit...   \n",
       "1  Earth is missing a huge part of its crust Now ...   \n",
       "2  The Chinese scientist who allegedly created CR...   \n",
       "3               Show HN Snigl – Forth with Lisp in C   \n",
       "4   Ask HN How do you find roles as a solo developer   \n",
       "\n",
       "                                 body_text_tokenized  \\\n",
       "0  [nasa, s, osirisrex, spacecraft, enters, close...   \n",
       "1  [earth, is, missing, a, huge, part, of, its, c...   \n",
       "2  [the, chinese, scientist, who, allegedly, crea...   \n",
       "3        [show, hn, snigl, forth, with, lisp, in, c]   \n",
       "4  [ask, hn, how, do, you, find, roles, as, a, so...   \n",
       "\n",
       "                                   body_text_nonstop  \\\n",
       "0  [nasa, osirisrex, spacecraft, enters, close, o...   \n",
       "1     [earth, missing, huge, part, crust, may, know]   \n",
       "2  [chinese, scientist, allegedly, created, crisp...   \n",
       "3                  [show, hn, snigl, forth, lisp, c]   \n",
       "4            [ask, hn, find, roles, solo, developer]   \n",
       "\n",
       "                                   body_text_stemmed  \\\n",
       "0  [nasa, osirisrex, spacecraft, enter, close, or...   \n",
       "1        [earth, miss, huge, part, crust, may, know]   \n",
       "2  [chines, scientist, allegedli, creat, crispr, ...   \n",
       "3                  [show, hn, snigl, forth, lisp, c]   \n",
       "4               [ask, hn, find, role, solo, develop]   \n",
       "\n",
       "                                body_text_lemmatized  \n",
       "0  [nasa, osirisrex, spacecraft, enters, close, o...  \n",
       "1     [earth, missing, huge, part, crust, may, know]  \n",
       "2  [chinese, scientist, allegedly, created, crisp...  \n",
       "3                  [show, hn, snigl, forth, lisp, c]  \n",
       "4             [ask, hn, find, role, solo, developer]  "
      ]
     },
     "execution_count": 41,
     "metadata": {},
     "output_type": "execute_result"
    }
   ],
   "source": [
    "#Lemmatizing\n",
    "wl = nltk.WordNetLemmatizer()\n",
    "\n",
    "def lemmatizing(tokenized_text):\n",
    "    text = [wl.lemmatize(word) for word in tokenized_text]\n",
    "    return text\n",
    "\n",
    "df_cleaned['body_text_lemmatized'] = df_cleaned['body_text_nonstop'].apply(lambda x: lemmatizing(x))\n",
    "df_cleaned.head()"
   ]
  },
  {
   "cell_type": "code",
   "execution_count": 42,
   "metadata": {},
   "outputs": [],
   "source": [
    "# Saving the cleaned Data\n",
    "df_cleaned.to_csv(\"hn_cleaned.csv\", sep=',')"
   ]
  },
  {
   "cell_type": "markdown",
   "metadata": {},
   "source": [
    "## 7. Vectorize processed 'title' into Bag-Of-Words (BoWs) or N-gram"
   ]
  },
  {
   "cell_type": "code",
   "execution_count": 43,
   "metadata": {},
   "outputs": [],
   "source": [
    "#Function to remove punctuation, tokenize, remove stopwords, and stem\n",
    "def clean_text(text):\n",
    "    stopword = nltk.corpus.stopwords.words('english')\n",
    "    text = \"\".join([word.lower() for word in text if word not in string.punctuation])\n",
    "    tokens = re.split('\\W+', text)\n",
    "    text = [wl.lemmatize(word) for word in tokens if word not in stopword]\n",
    "    return text"
   ]
  },
  {
   "cell_type": "code",
   "execution_count": 44,
   "metadata": {},
   "outputs": [
    {
     "name": "stdout",
     "output_type": "stream",
     "text": [
      "(20357, 20389)\n",
      "['', '0', '00', '0006', '00s', '01', '010', '012', '012340', '013', '0196', '020', '0200', '0257', '0270', '0271', '0280', '029', '030', '031', '033', '040', '0405', '0411', '050', '0590rc0', '06', '060', '071', '0713', '08', '080', '081', '091', '0924', '0byte', '0patch', '0x', '0x300', '0x4015', '1', '10', '100', '1000', '10000', '100000', '1000x', '100b', '100bn', '100game', '100k', '100lb', '100m', '100mile', '100myearold', '100pct', '101', '1012', '1014', '10145', '1015', '102', '102kb', '103', '1031', '103m', '1052000', '1060hour', '107', '108', '10b', '10er', '10gbe', '10hour', '10k', '10m', '10nm', '10th', '10x', '10year', '10yearold', '11', '1100', '11000', '1108', '111', '1110', '1111', '1115', '112', '112b', '112m', '112mph', '112thread', '113', '1130', '113m', '114', '115', '1159', '115b', '115kmonth', '115m', '116', '1160', '117', '118', '118kfollower', '119', '119word', '11b', '11m', '11th', '12', '120', '12000', '120b', '120kmonth', '120m', '121', '1213', '121t', '121year', '122', '1225w', '122b', '122m', '123', '1245', '124acre', '125', '126b', '127k', '127mph', '128', '128160', '1299', '12b', '12bn', '12c24t', '12core', '12hour', '12m', '12nm', '12step', '12t', '12yearold', '13', '130', '1300', '130000', '130m', '130pm', '131', '132', '133', '1330', '134', '1340', '1341', '1342', '1349', '134yearold', '1350', '136', '136000', '137', '137b', '137m', '138162007e', '1399', '139m', '13b', '13m', '13th', '13yearold', '13yo', '14', '14000', '1400employee', '1403', '140k', '140yearold', '1427', '143k', '144mb', '145', '149', '1492', '14977', '14b', '14digit', '14k', '14m', '14page', '14th', '14year', '15', '150', '1500', '15000', '1500fps', '150k', '150m', '1541', '155', '15500', '1568', '156inch', '157', '157b', '1580s', '1587', '1599', '15b', '15c', '15inch', '15k', '15m', '15th', '15year', '15yearold', '15yearolds', '16', '160', '1600', '16000', '1600s', '163', '165hr', '1660', '16625', '166b', '166m', '168', '1686', '169m', '16core', '16inch', '16m', '16th', '16yearold', '17', '170', '1700', '170k', '170m', '1711', '1716', '171m', '172k', '1748', '175', '1750mhz', '1757', '176250', '1776', '1790', '179m', '17b', '17m', '17mb', '17th', '17thcentury', '18', '180', '1800', '18000', '18000mah', '1800s', '1800w', '1804', '18042', '18062', '18065', '18081809', '180k', '181', '1829', '18336721001', '1839', '18441900', '1844b', '1847', '1848', '18501960', '1859', '185b', '186', '1870', '1872', '187m', '188', '1880', '1882', '1884', '1887', '1892', '1896', '1898', '1899', '18k', '18m', '18th', '18thcentury', '19', '190', '1900', '19000', '19003', '1902', '1903', '1904', '1905', '1906', '1908', '190k', '190m', '191', '1910', '1914', '1918', '192', '1920', '1920s', '1923', '1926', '1928', '1929', '1930', '19312019', '1932', '1933', '193339', '1934', '1935', '1936', '1937', '1939', '193b', '194', '1940', '1940s', '1944', '1945', '1946', '1947', '1948', '1949', '1950', '195000', '1952', '1953', '1954', '1955', '1956', '1957', '1958', '1959', '1960', '1960s', '1960s90s', '1961', '1963', '1964', '1965', '1966', '1967', '1968', '1969', '1970', '1970s', '1971', '1972', '1973', '1974', '1975', '1976', '1977', '1978', '1979', '1980', '1980s', '1981', '1982', '1983', '1984', '1985', '1986', '1987', '1988', '1989', '199', '1990', '1990s', '1991', '1992', '1993', '1994', '1995', '1996', '1997', '19972016', '1997style', '1998', '1999', '19b', '19th', '19thcentury', '19yearold', '1b', '1bn', '1d', '1h', '1k', '1kb', '1kmo', '1kyear', '1m', '1mb', '1password', '1pm', '1st', '1star', '1t', '1tb', '1terabyte', '1way', '2', '20', '200', '2000', '2000q', '2001', '20012014', '2002', '2003', '2004', '20042019', '2005', '2006', '2007', '2008', '20082010', '20089', '2009', '200alpha0', '200b', '200k', '200m', '200x', '2010', '2011', '2012', '2013', '2014', '2015', '2016', '2017', '2018', '2019', '201903', '20190312', '20190321', '202', '2020', '2021', '2024', '20243', '2025', '2028', '2030', '2038', '2040', '2048', '2048bit', '2050', '2059', '2060', '2067', '2080', '2080ti', '208m', '2090', '20b', '20bn', '20k', '20m', '20th', '20thcentury', '20x', '20year', '20yearold', '21', '2100', '21010', '21012', '213', '2142', '215', '217', '21m', '21st', '21stcentury', '21t', '22', '220', '22000', '221', '224', '225', '22b', '22m', '22t', '23', '230', '2300x', '230h', '230k', '230m', '232', '2339', '238', '238m', '23andme', '23andmes', '23b', '23bn', '23k', '23m', '23tb', '24', '240', '2400', '24000', '24192', '243', '247', '249', '249mph', '24m', '24node', '25', '250', '2500', '2500x', '250k', '250m', '254', '25536442', '255bit', '256', '256gb', '25b', '25hrs', '25inch', '25k', '25m', '25ton', '25yearhigh', '26', '26000year', '262', '263b', '2643', '264gb', '264m', '265', '265b', '26b', '26m', '27', '270', '274', '275', '27k', '27m', '28', '2800', '28000yearold', '280m', '2891', '28m', '28nm', '29', '2999', '29e', '2b', '2channel', '2d', '2day', '2doom', '2fa', '2g', '2hr', '2inch', '2k', '2kb', '2kmonth', '2m', '2ms', '2nd', '2p', '2pizza', '2pm', '2x', '3', '30', '300', '3000', '30000', '300000', '3000st', '3001', '300k', '300m', '301', '302', '3035', '307', '30b', '30k', '30m', '30plus', '30something', '30t', '30th', '30year', '31', '311', '312', '313', '3131', '314t', '316inch', '31b', '31st', '32', '320', '320000', '3264', '32bit', '32blit', '32gb', '32gts', '32m', '33', '330', '332', '333', '339', '33k', '34', '340', '348', '34yearold', '35', '350', '3500', '35000', '3500x', '350b', '350k', '350m', '35c3', '35k', '35x', '35yearold', '36', '360', '360degree', '362', '365', '3690', '36alpha', '36b', '36kr', '37', '38', '38000', '380a1', '380k', '386', '38b', '38k', '390', '3900x', '3950x', '399', '39m', '3a', '3b', '3blue1browns', '3colors', '3d', '3day', '3decade', '3dfx', '3dprinted', '3dscanning', '3g', '3inch', '3k', '3m', '3month', '3nm', '3rd', '3step', '3x', '3yearold', '4', '40', '400', '40000yearold', '400k', '400m', '400month', '400yearold', '401k', '401m', '404', '4040', '4045', '408', '40hour', '40k', '40m', '40x', '41', '414m', '415', '415ppm', '41m', '42', '420', '42000', '42010', '424', '4250', '42b', '42bn', '43', '43000', '432', '43m', '44', '440', '440m', '442b', '445000', '446k', '44b', '44m', '45', '4500', '450m', '451', '45b', '45k', '45m', '46', '460', '46000', '468', '47', '472k', '475', '47b', '47k', '48', '481', '487m', '49', '490', '499', '49inch', '49m', '4b', '4chan', '4d', '4g', '4ghz', '4hour', '4k', '4kyearold', '4m', '4point', '4th', '4x', '5', '50', '500', '5000', '50000', '500k', '500l', '500m', '500myear', '500myearold', '500yearlong', '500yearold', '502', '508', '50c', '50k', '50m', '50p', '50rc1', '50x', '50year', '50yearold', '51', '510', '5100s', '512', '515', '51camera', '51mfunded', '51rc1', '52', '5200', '53', '5300', '53000', '536m', '537', '537m', '5384', '54', '540', '540m', '55', '550', '550m', '554', '55m', '569', '56b', '56core', '56m', '57', '575m', '58', '580', '58000', '582', '584', '588', '59', '590m', '594', '5b', '5day', '5g', '5gb', '5ge', '5ghz', '5httlpr', '5k', '5km', '5m', '5meodmt', '5min', '5nm', '5star', '5t', '5th', '5x', '5year', '6', '60', '600', '60000', '600000', '600b', '600k', '600kmh', '600m', '600mph', '600page', '60k', '60m', '60mbps', '60satellite', '60year', '61', '610', '613', '63', '63yearold', '64', '64bit', '64core', '64meterlong', '65', '650', '6502', '650k', '65k', '65m', '66', '660', '6604', '66m', '67', '670', '67000', '677000', '68', '683m', '68m', '69', '69b', '6b', '6c', '6cpu', '6gb', '6k', '6minute', '6tb', '6th', '6yearold', '7', '70', '700', '7000', '700k', '700m', '702m', '703', '70k', '71', '72', '7282', '72yearold', '73', '735k', '737', '737max', '737s', '73m', '73yearold', '74', '74181', '747', '75', '75000', '7501', '7590', '75hour', '75k', '75km', '75t', '75x', '76', '763b', '767', '768k', '77', '773m', '777x', '77b', '78', '787', '78710', '787s', '79', '7b', '7gb', '7k', '7m', '7month', '7nm', '7s26', '7zip', '8', '80', '800', '8000', '80063b', '800k', '800m', '801', '80386', '808', '8086', '809m', '80k', '80m', '80x25', '81', '81b', '82', '83', '837', '84', '85', '850', '8500', '8548', '85yearold', '86', '87', '88', '8888', '88m', '89', '8base', '8bit', '8chan', '8char', '8character', '8core', '8hour', '8k', '8lane', '8th', '8year', '8yearold', '9', '90', '900', '9000', '90000', '9001', '900b', '900gb', '900k', '90700', '90b', '90k', '90m', '91', '911', '92', '925', '929m', '93', '94', '940m', '941', '945x', '95', '96', '96m', '96yearold', '97', '9700', '975', '97m', '98', '99', '9920x', '996', '996icu', '996icus', '999', '99999999999999980', '99999999999999990', '9am', '9b', '9front', '9m', '9pm', '9t', '9th', '9thgen', 'a10s', 'a12', 'a12x', 'a16z', 'a2', 'a220', 'a300', 'a320', 'a321', 'a350', 'a380', 'a50', 'aa', 'aaa', 'aapl', 'aaronson', 'ab', 'abandon', 'abandoned', 'abandoning', 'abbeel', 'abc', 'abdication', 'abduljabbar', 'abe', 'abel', 'abi', 'ability', 'able', 'ably', 'aboard', 'abolish', 'abolishes', 'abomb', 'abomination', 'aboriginal', 'abortion', 'abramov', 'abrams', 'abroad', 'absence', 'absent', 'absenteeism', 'absentia', 'absher', 'absinthe', 'absolute', 'absolutely', 'absorb', 'absorbed', 'abstain', 'abstract', 'abstraction', 'absurd', 'abu', 'abundance', 'abuse', 'abused', 'abuser', 'abusing', 'abusive', 'ac', 'academe', 'academia', 'academic', 'academy', 'accel', 'accelerate', 'accelerated', 'accelerates', 'accelerating', 'acceleration', 'accelerator', 'accelerometer', 'accent', 'accentuate', 'accenture', 'accept', 'acceptable', 'accepted', 'accepting', 'accepts', 'access', 'accessed', 'accessibility', 'accessible', 'accessing', 'accessory', 'accident', 'accidental', 'accidentally', 'accomplished', 'accord', 'according', 'account', 'accountable', 'accounting', 'accuracy', 'accurate', 'accurately', 'accusation', 'accuse', 'accused', 'accuses', 'accusing', 'ace', 'acela', 'ach', 'achieve', 'achieved', 'achievement', 'achieves', 'achieving', 'achilles', 'aci', 'acid', 'acid3', 'acidrain', 'ackermann', 'acknowledge', 'acknowledges', 'aclu', 'acm', 'acme', 'acoustic', 'acquia', 'acquihires', 'acquire', 'acquired', 'acquires', 'acquiring', 'acquisition', 'acre', 'across', 'act', 'acta2', 'acted', 'acting', 'action', 'actionable', 'activated', 'activates', 'activation', 'active', 'activeshooter', 'activision', 'activisionblizzard', 'activist', 'activity', 'activitypub', 'activties', 'actixweb', 'acton', 'actor', 'actress', 'actual', 'actually', 'acute', 'ad', 'ada', 'adachi', 'adacore', 'adafruit', 'adam', 'adapt', 'adapter', 'adapting', 'adaptive', 'adb', 'adblock', 'adblocker', 'adblockers', 'adblocking', 'adblockvpn', 'add', 'added', 'adder', 'addict', 'addicted', 'addiction', 'addictive', 'adding', 'addition', 'additional', 'additive', 'additively', 'addon', 'addons', 'addonsmozillaorg', 'address', 'addressing', 'adelaide', 'adequately', 'adfree', 'adhd', 'adhdadd', 'adheres', 'adhesion', 'adi', 'adiantum', 'adichie', 'adjoint', 'adjunct', 'adjust', 'adjustment', 'admin', 'administration', 'administrative', 'administrator', 'admins', 'admire', 'admired', 'admission', 'admit', 'admits', 'admitted', 'admitting', 'adnauseam', 'adobe', 'adolescent', 'adopt', 'adopted', 'adopting', 'adoption', 'adopts', 'adorning', 'adrenaline', 'adsb', 'adsfree', 'adtech', 'adtracking', 'adtrader', 'adult', 'adulterating', 'adulthood', 'adultoriented', 'advance', 'advanced', 'advancing', 'advantage', 'advent', 'adventure', 'adversarial', 'adversary', 'adverse', 'adversity', 'advert', 'advertise', 'advertisement', 'advertiser', 'advertising', 'advice', 'advise', 'advised', 'adviser', 'advises', 'advising', 'advisor', 'advisory', 'advocacy', 'advocate', 'adware', 'adwords', 'aecl', 'aerc', 'aerial', 'aerobic', 'aerodynamicist', 'aeroflot', 'aerospace', 'aesgcmsiv', 'aesthetic', 'aether', 'af', 'affair', 'affect', 'affected', 'affecting', 'affidavit', 'affiliate', 'affiliatereferral', 'affinity', 'affirmation', 'affirmative', 'affirms', 'afflicted', 'affluent', 'afford', 'affordability', 'affordable', 'afghan', 'afghanistan', 'afraid', 'africa', 'african', 'africanamerican', 'afrikaans', 'afrofuturist', 'afterlife', 'afterlives', 'aftermath', 'afterparty', 'ag', 'agatha', 'agda', 'age', 'aged', 'ageing', 'ageism', 'agency', 'agenda', 'agent', 'agent0', 'agentoriented', 'agerelated', 'ageresilient', 'ageverify', 'aggregate', 'aggregated', 'aggregation', 'aggregator', 'aggression', 'aggressive', 'aggressively', 'agile', 'agilecraft', 'aging', 'agnostic', 'agnès', 'ago', 'agony', 'agpllicensed', 'agree', 'agreed', 'agreement', 'agrees', 'agricultural', 'agriculture', 'agx', 'aha', 'ahead', 'ai', 'ai2', 'aiart', 'aiassisted', 'aid', 'aide', 'aideep', 'aidomainsearch', 'aidungeon', 'aienhanced', 'aigenerated', 'aikido', 'ail', 'aim', 'aimed', 'aimer', 'aiming', 'aiml', 'aimlcvnlp', 'aint', 'ainu', 'aio', 'aipowered', 'air', 'airbags', 'airbnb', 'airborne', 'airbreathing', 'airbrushed', 'airbus', 'aircraft', 'airdrop', 'airflow', 'airframe', 'airlander', 'airlaunched', 'airless', 'airline', 'airliner', 'airplane', 'airplay', 'airpods', 'airport', 'airpower', 'airship', 'airspace', 'airstrike', 'airtable', 'airtoair', 'aisle', 'aitoai', 'aitopics', 'aitts', 'ajit', 'ajv', 'ak', 'ak47', 'aka', 'akamai', 'akhenaten', 'akiaai', 'akihito', 'akin', 'akkio', 'al', 'alabama', 'alacritty', 'aladdin', 'alan', 'alarm', 'alarmed', 'alarming', 'alaska', 'alaskan', 'alasqljs', 'albatross', 'alberta', 'album', 'alchemist', 'alchemy', 'alcohol', 'alcoholinduced', 'alcoholism', 'alcosynth', 'aldi', 'alert', 'alessandro', 'alex', 'alexa', 'alexander', 'alexandra', 'alexandrescu', 'alexandria', 'alexis', 'alfred', 'algae', 'algebra', 'algebraic', 'algo', 'algodaily', 'algods', 'algol', 'algorithm', 'algorithmia', 'algorithmic', 'algotrading', 'alias', 'alibaba', 'alice', 'alien', 'alienated', 'alienware', 'align', 'aligned', 'alignment', 'alike', 'alive', 'allcause', 'alledged', 'allegation', 'allege', 'alleged', 'allegedly', 'alleges', 'alleging', 'allegorithmic', 'allelectric', 'allen', 'allenai', 'allergy', 'alleviated', 'alley', 'alliance', 'allied', 'allinone', 'allmale', 'allmeat', 'allnew', 'allocator', 'allow', 'allowed', 'allowing', 'allows', 'alloy', 'allparel', 'allpurpose', 'allred', 'alltime', 'alluxio', 'allwhite', 'ally', 'almanac', 'almond', 'almost', 'almostghz', 'almostsecret', 'alone', 'along', 'alonzo', 'alp', 'alpha', 'alphabet', 'alphabeta', 'alphabetical', 'alphabetmade', 'alphago', 'alphasmart', 'alphastar', 'alpine', 'alpr', 'already', 'alright', 'alsa', 'alshabab', 'also', 'alsoran', 'alstom', 'alsup', 'altair', 'altavista', 'alted', 'alter', 'altered', 'altering', 'alternate', 'alternative', 'alteryx', 'althea', 'altimir', 'altitude', 'altman', 'altmans', 'alto', 'altright', 'altruistic', 'alu', 'aluminum', 'alumnus', 'always', 'alwayson', 'alzheimer', 'alzheimers', 'ama', 'amadine', 'amanita', 'amarna', 'amassed', 'amateur', 'amateurradio', 'amazing', 'amazon', 'amazoncom', 'amazonled', 'ambassador', 'amber', 'ambient', 'ambiguity', 'ambiguous', 'ambitious', 'ambrosia', 'amd', 'amdbased', 'amelia', 'amendment', 'america', 'american', 'americana', 'americium', 'amethyst', 'ami', 'amid', 'amidst', 'amiga', 'amino', 'ammonite', 'amnesty', 'amomacom', 'among', 'amount', 'amp', 'ampere', 'amphibian', 'ampligraph', 'amplituhedron', 'ampm', 'ampup', 'amsterdam', 'amtrak', 'amtraks', 'amundsen', 'amy', 'amygdalatohippocampus', 'anachronism', 'analog', 'analogue', 'analogymaking', 'analyse', 'analysing', 'analysis', 'analyst', 'analytica', 'analytical', 'analytics', 'analyze', 'analyzed', 'analyzer', 'analyzes', 'analyzing', 'anand', 'anarchist', 'anarchitect', 'anatomy', 'ancestor', 'ancestry', 'anchorage', 'anchoring', 'ancient', 'andela', 'anders', 'anderton', 'andon', 'andor', 'andreas', 'andreessen', 'andrei', 'andres', 'andrew', 'android', 'andy', 'anesthesia', 'anesthesiauntil', 'angel', 'angeles', 'anger', 'angle', 'angler', 'anglosaxon', 'angora', 'angrier', 'angry', 'angryjoeshow', 'angular', 'angwin', 'anhei', 'animal', 'animalborne', 'animate', 'animated', 'animating', 'animation', 'anime', 'animejs', 'anjuna', 'anker', 'anki', 'anna', 'anne', 'annihilates', 'anniversary', 'annotated', 'annotation', 'announce', 'announced', 'announcement', 'announces', 'announcing', 'annoyance', 'annoying', 'annoyingly', 'annual', 'annually', 'anomalous', 'anomaly', 'anonymity', 'anonymized', 'anonymizing', 'anonymous', 'anonynmity', 'another', 'ansi', 'ansible', 'answer', 'answered', 'answering', 'answersengine', 'answerset', 'ant', 'antarctic', 'antarctica', 'antedating', 'antenna', 'antergos', 'anthem', 'anthony', 'anthos', 'anthrax', 'anthropic', 'anthropocene', 'anthropologicalartificial', 'anthropologist', 'anti', 'antiabortion', 'antiabuse', 'antiad', 'antiadblock', 'antiadblocker', 'antiaddiction', 'antiaging', 'antiapplication', 'antibiotic', 'antibioticresistant', 'anticensorship', 'anticheat', 'anticollege', 'anticonformists', 'anticorruption', 'antidemocratic', 'antidepressant', 'antiencryption', 'antiextremism', 'antifacebook', 'antifingerprinting', 'antifraud', 'antifreeze', 'antigay', 'antiinkling', 'antimueller', 'antipattern', 'antipatterns', 'antirez', 'antirobocalling', 'antisatellite', 'antischool', 'antisemitism', 'antisocial', 'antispam', 'antistokes', 'antitrust', 'antiunification', 'antiunion', 'antivaccination', 'antivaccine', 'antivax', 'antivaxxer', 'antivaxxers', 'antivenin', 'antivenom', 'antivirus', 'antonine', 'antonio', 'anvil', 'anxiety', 'anxious', 'anybody', 'anymore', 'anyone', 'anything', 'anytime', 'anyway', 'anywhere', 'aoa', 'aoc', 'aol', 'aortic', 'aotcompiled', 'aout', 'apa', 'apache', 'apart', 'apartheid', 'apartment', 'apex', 'apfs', 'aphantasia', 'aphex', 'api', 'apifirst', 'apilevel', 'apis', 'apk', 'apl', 'apliv', 'apnea', 'apocalypse', 'apocalyptica', 'apollo', 'apologizes', 'app', 'appalachia', 'apparent', 'apparently', 'appeal', 'appear', 'appearance', 'appearing', 'appears', 'appelbaum', 'appendonly', 'appimage', 'appl', 'apple', 'appleandroid', 'applegoogle', 'appleidapplecom', 'applicant', 'application', 'applicationlayer', 'applicationlevel', 'applied', 'applies', 'apply', 'applying', 'appointed', 'appointment', 'appraisal', 'appreciating', 'apprentice', 'apprise', 'approach', 'approachable', 'approaching', 'approval', 'approve', 'approveapi', 'approved', 'approves', 'approx', 'approximate', 'approximately', 'approximating', 'apps', 'appstore', 'appstores', 'appwebsite', 'apr', 'april', 'apt', 'aptanaorg', 'aptaptget', 'aptlock', 'apus', 'apy', 'aquifer', 'ar', 'ara', 'arabia', 'arabic', 'arabsat6a', 'aramco', 'arangodb', 'arbitrage', 'arbitrary', 'arbitration', 'arborist', 'arc', 'arcade', 'arcadia', 'arcamens', 'arcane', 'arch', 'archaea', 'archaeological', 'archaeologist', 'archaeology', 'archeologist', 'archeology', 'archetypal', 'archibald', 'archie', 'architect', 'architecting', 'architecture', 'archival', 'archive', 'archivebox', 'archiveis', 'archiveiss', 'archiveorg', 'archiver', 'archiving', 'arcio', 'arctic', 'ardern', 'arduino', 'area', 'arena', 'arent', 'aresdb', 'argentina', 'argo', 'argon16', 'argues', 'arguing', 'argument', 'arise', 'aristocrat', 'arithmetic', 'arithmetica', 'arizona', 'ark', 'arkansas', 'arkit', 'arlington', 'arm', 'armbased', 'armed', 'armenia', 'armor', 'armstrong', 'armv8', 'army', 'arnold', 'aroma', 'around', 'arp', 'arpa', 'arpanet', 'arr', 'array', 'arrayconcat', 'arraypush', 'arrest', 'arrested', 'arresting', 'arrhythmia', 'arrival', 'arrive', 'arrives', 'arrogance', 'arrow', 'arsenic', 'arstechnica', 'art', 'artery', 'arthritis', 'arthur', 'article', 'articlebook', 'artifact', 'artificial', 'artificially', 'artisan', 'artist', 'artistic', 'artistry', 'artsy', 'artwork', 'artyping', 'artzybasheff', 'arugula', 'arxiv', 'arxivorg', 'aryan', 'as400', 'asa', 'asami', 'asat', 'ascendant', 'ascent', 'ascii', 'asciidoctor', 'ash', 'ashamed', 'asia', 'asian', 'asiapacific', 'asic', 'asics', 'aside', 'asifahollywood', 'asimov', 'ask', 'askdata', 'asked', 'asking', 'asks', 'asleep', 'asml', 'asmr', 'asparagus', 'aspect', 'aspectbased', 'asperger', 'asphalt', 'aspirin', 'aspiring', 'aspnet', 'asrock', 'ass', 'assange', 'assanges', 'assassin', 'assault', 'assaulted', 'assaultstyle', 'assc', 'assemble', 'assembled', 'assembler', 'assembly', 'assert', 'asserting', 'assertion', 'assessing', 'assessment', 'asset', 'asshole', 'assignment', 'assist', 'assistance', 'assistant', 'assisted', 'associate', 'associated', 'association', 'assume', 'assumed', 'assumes', 'assuming', 'assumption', 'ast', 'asterius', 'asteroid', 'astonishing', 'astounding', 'astrograph', 'astrology', 'astronaut', 'astronomer', 'astronomical', 'astronomy', 'astrophysicist', 'astrophysics', 'astroturfed', 'asus', 'aswan', 'asylum', 'asymmetric', 'asymmetry', 'asymptotics', 'async', 'asyncawait', 'asynchronous', 'at', 'atari', 'ate', 'atheism', 'atheist', 'athlete', 'athome', 'atiyah', 'atlantic', 'atlanticus', 'atlas', 'atlassian', 'atlassians', 'atm', 'atmega1284', 'atmosphere', 'atmospheric', 'atoll', 'atom', 'atomic', 'atrazine', 'atreus', 'att', 'atta', 'attached', 'attachment', 'attack', 'attacked', 'attacker', 'attacking', 'attempt', 'attempted', 'attempting', 'attend', 'attendant', 'attention', 'attentional', 'attentionbased', 'attestation', 'attitude', 'attorney', 'attract', 'attracted', 'attracting', 'attraction', 'attractive', 'attracts', 'attribute', 'attributed', 'attribution', 'attrition', 'atttime', 'au', 'auction', 'auctioned', 'audacity', 'auden', 'audi', 'audible', 'audiblecom', 'audience', 'audio', 'audiobooks', 'audis', 'audit', 'auditing', 'audition', 'auditory', 'augmentation', 'augmented', 'august', 'aunt', 'aura', 'auris', 'aurora', 'aussie', 'austen', 'austerity', 'austerityfueled', 'austin', 'australia', 'australian', 'austria', 'austrian', 'auteurism', 'auth', 'authenticated', 'authenticates', 'authentication', 'authenticity', 'author', 'authoritarian', 'authoritarianism', 'authority', 'authorization', 'authorizing', 'autism', 'autistic', 'auto', 'autoarchive', 'autobahn', 'autobiography', 'autocert', 'autocomplete', 'autocompletion', 'autocorrect', 'autodiscovery', 'autoencoders', 'autoerases', 'autograms', 'autokeras', 'autolaced', 'automagica', 'automaker', 'automate', 'automated', 'automatic', 'automatically', 'automating', 'automation', 'automaton', 'automattic', 'automl', 'automobile', 'automotive', 'autonomous', 'autonomously', 'autonomy', 'autopark', 'autopilot', 'autoplaying', 'autorecovery', 'autorun', 'autoruns', 'autoscale', 'autosteer', 'autoworker', 'autumn', 'av', 'av1', 'avail', 'availability', 'available', 'avalanche', 'avastar', 'avatar', 'ave', 'avenger', 'average', 'aversive', 'averted', 'avian', 'aviation', 'aviv', 'avo', 'avocado', 'avoid', 'avoidable', 'avoidance', 'avoided', 'avoiding', 'avoids', 'avon', 'avr', 'avx512', 'await', 'awake', 'awakening', 'award', 'awarded', 'aware', 'awash', 'away', 'aweinducing', 'awesome', 'awesomequantifiedself', 'awful', 'awk', 'awkward', 'awry', 'aws', 'aww', 'ax', 'axcept', 'axd', 'axdraft', 'axe', 'axed', 'axing', 'axiom', 'axios', 'axon', 'ay38910', 'ayn', 'ayrshire', 'azlo', 'aztec', 'azure', 'b', 'b1', 'b17', 'b1b', 'b2', 'b25', 'b29', 'b2b', 'b52', 'b612', 'ba', 'baa', 'baba', 'babel', 'baboon', 'baby', 'babylon', 'bach', 'back', 'backblaze', 'backbone', 'backcountry', 'backdoor', 'backdoored', 'backed', 'backend', 'backends', 'backer', 'backfire', 'backgammon', 'background', 'backlash', 'backlogboard', 'backpack', 'backpacking', 'backpropagation', 'backpropogation', 'backslash', 'backtoback', 'backtotheland', 'backtracked', 'backtracks', 'backup', 'backusnaur', 'backward', 'backwards', 'backyard', 'bacon', 'bacteria', 'bacterial', 'bad', 'badge', 'badger', 'badgie', 'badly', 'badmouthed', 'baffle', 'baffled', 'baffling', 'bag', 'bagel', 'baghdad', 'bagoflocalfeatures', 'baguette', 'baidu', 'bail', 'bailout', 'bait', 'baked', 'bakery', 'bakes', 'baking', 'baku', 'balance', 'balanced', 'balancer', 'balancing', 'balcony', 'bald', 'baldurs', 'baldwin', 'balk', 'ball', 'ballad', 'ballast', 'balloon', 'balloonist', 'ballpark', 'balsillie', 'baltimore', 'balto', 'bamboo', 'ban', 'banality', 'banana', 'band', 'bandersnatch', 'bandit', 'bandwidth', 'bandwidthfriendly', 'bang', 'bangka', 'banish', 'bank', 'bankbacked', 'banker', 'banking', 'banknote', 'bankrupt', 'bankruptcy', 'bankrupting', 'banksy', 'banned', 'banning', 'banninglimiting', 'banqiao', 'banquet', 'baofengs', 'bar', 'barbara', 'barbarian', 'barber', 'barberton', 'barcelona', 'bare', 'barebones', 'barely', 'baremetal', 'barista', 'baristas', 'barker', 'barking', 'barkley', 'barnes', 'baron', 'barr', 'barred', 'barrel', 'barrier', 'barring', 'barriss', 'barry', 'bartending', 'barton', 'base', 'base64', 'baseball', 'basecamp', 'based', 'basement', 'basetofilling', 'bash', 'bashing', 'bashprofilealiases', 'basic', 'basically', 'basis', 'basketball', 'basque', 'bassano', 'bassett', 'bastion', 'bat', 'batch', 'batching', 'bathorys', 'bathroom', 'batman', 'batshit', 'battery', 'battle', 'battlebots', 'battlefield', 'battleground', 'battlesnake', 'battling', 'baud', 'bauhaus', 'baum', 'baw', 'baxx', 'bay', 'bayer', 'bayes', 'bayesian', 'bazaar', 'bazooka', 'bb', 'bbc', 'bbox', 'bboxx', 'bc', 'bcachefs', 'be7', 'beach', 'beacon', 'beaglebone', 'beam', 'beamdriven', 'bean', 'beancounters', 'bearing', 'beastly', 'beat', 'beaten', 'beating', 'beatnik', 'beautiful', 'beauty', 'beazley', 'became', 'become', 'becomes', 'becoming', 'bed', 'bedbug', 'bedridden', 'bedroom', 'bee', 'beef', 'beekeeper', 'beep', 'beer', 'beforethebancom', 'began', 'begin', 'beginner', 'beginning', 'begoneads', 'begs', 'begun', 'behalf', 'behaved', 'behavior', 'behavioral', 'behaviour', 'behavioural', 'beheads', 'behind', 'beholder', 'beholding', 'beige', 'beijing', 'beijingbacked', 'bekant', 'belgian', 'belgium', 'belief', 'believe', 'believed', 'believeinvest', 'believing', 'bell', 'bellheads', 'bellyio', 'beloved', 'belowfreezing', 'belowthefold', 'belt', 'beluga', 'benched', 'benchmark', 'benchmarking', 'benchtop', 'bendell', 'bending', 'beneath', 'benefit', 'bengio', 'benign', 'benioff', 'benjamin', 'bennu', 'bent', 'bentley', 'bento', 'beowulf', 'beppo', 'bepuphysics', 'beresheet', 'bergman', 'bergson', 'bering', 'berkeley', 'berkshire', 'berlekamp', 'berlin', 'berlinbased', 'bermuda', 'bernard', 'bernardino', 'bernerslee', 'bernerslees', 'bernie', 'bert', 'bertrand', 'besides', 'best', 'bestbefore', 'bestdesigned', 'bestiality', 'bestknown', 'bestselling', 'bet', 'beta', 'beta1', 'beto', 'betrayed', 'better', 'betting', 'bettor', 'bevelacqua', 'beverage', 'bevy', 'beware', 'bewildering', 'beyond', 'bezos', 'bezoss', 'bgp', 'bgr', 'bh', 'bhutan', 'bias', 'biased', 'bible', 'bicycle', 'bid', 'bidding', 'biden', 'bideniable', 'bifida', 'bifunctor', 'big', 'bigcorps', 'bigfoot', 'bigger', 'biggest', 'biggestever', 'biggestpopping', 'bigint', 'bigquery', 'bigtable', 'bike', 'bikeshares', 'bilderberg', 'bilibili', 'bill', 'billboard', 'billed', 'billiard', 'billing', 'billion', 'billionaire', 'billionare', 'billiondollar', 'billionpound', 'billionyearold', 'bim', 'bimble', 'binance', 'binary', 'binaryast', 'binarycompatible', 'binder', 'bindi', 'binding', 'bing', 'bingbing', 'bingereading', 'binglike', 'bini', 'binlog', 'binomial', 'binutils', 'bio', 'biodegradable', 'biographical', 'biography', 'biohacking', 'bioinstruments', 'biological', 'biologist', 'biology', 'biomarker', 'biomass', 'biometrics', 'bionic', 'bioniccactus', 'bioplastics', 'biopsy', 'bioreactor', 'biorender', 'biorxiv', 'bios', 'bioseficorebootfirmwareoptionrom', 'biosphere', 'biotech', 'bioware', 'biowares', 'bipartisan', 'bipolar', 'bird', 'birder', 'birding', 'birdinspired', 'birdseye', 'birkar', 'birmingham', 'birth', 'birthday', 'birthed', 'bisect', 'bison', 'bit', 'bitbasher', 'bitbucket', 'bitcode', 'bitcoin', 'bitcoins', 'bite', 'bitemporal', 'bitemporality', 'bitfinex', 'biting', 'bitlocker', 'bitmanip', 'bitmap', 'bitnami', 'bitpatron', 'bitrise', 'bitruncatable', 'bitset', 'bitter', 'bittorrent', 'bitwig', 'biy', 'biz', 'bizarre', 'bjarne', 'black', 'blackberry', 'blackbird', 'blackboard', 'blackbox', 'blacked', 'blackfoot', 'blackhat', 'blackhole', 'blackjack', 'blacklist', 'blacklisted', 'blacklisting', 'blackmail', 'blackmailer', 'blackout', 'blame', 'blamed', 'blaming', 'blamscript', 'bland', 'blank', 'blanket', 'blast', 'blasted', 'blaze', 'blazingsql', 'blazor', 'ble', 'bleach', 'bleak', 'bled', 'bleeding', 'blend', 'blend2d', 'blended', 'blender', 'blending', 'blendle', 'blessing', 'bleve', 'blew', 'blight', 'blind', 'blinder', 'blindness', 'blindsided', 'blindsides', 'bling', 'blink', 'blippar', 'blissymbols', 'blitzscaling', 'blizzard', 'bln', 'bloat', 'bloated', 'bloatware', 'blob', 'block', 'blockade', 'blockbuster', 'blockchain', 'blockchainbased', 'blockchaincloud', 'blockchainflavored', 'blockchains', 'blocked', 'blocker', 'blocking', 'blockspring', 'blockstream', 'blockstreams', 'blocktogether', 'blog', 'blogcast', 'blogger', 'blogging', 'blogsportfolios', 'blogwriting', 'blood', 'bloodbrain', 'bloodstream', 'bloodsucking', 'bloom', 'bloomberg', 'blooming', 'blossom', 'blow', 'blower', 'blowing', 'blown', 'blowup', 'blub', 'blue', 'bluecollar', 'bluekeep', 'blueprint', 'bluetooth', 'bluetoothenabled', 'bluetooths', 'blumberg', 'blunde', 'blunder', 'blur', 'bluray', 'blurpage', 'blurring', 'blurry', 'blush', 'bmc', 'bmw', 'board', 'boarding', 'boast', 'boat', 'bob', 'bobbedhair', 'boden', 'bodleian', 'bodleians', 'body', 'bodybuilding', 'bodycam', 'bodymind', 'bodypainting', 'bodypix', 'boeck', 'boeing', 'boeings', 'boffin', 'bogle', 'bogus', 'bohemia', 'bohemian', 'bohm', 'boiling', 'boing', 'boisjoly', 'boleyn', 'bolo', 'bolster', 'bolt', 'boltzmann', 'bolze', 'boléro', 'bomb', 'bombardment', 'bombay', 'bombe', 'bomber', 'bomberman', 'bombing', 'bombshell', 'bombsight', 'bon', 'bond', 'bonding', 'bone', 'boninis', 'bonkers', 'bonus', 'booing', 'book', 'bookbot', 'booker', 'booking', 'bookingcom', 'bookkeeping', 'booklet', 'bookmark', 'bookmarked', 'bookmarking', 'bookscomics', 'bookseller', 'booksresources', 'bookstore', 'bookwheel', 'bookworm', 'boole', 'boolean', 'booleans', 'boom', 'boombox', 'booming', 'boon', 'boost', 'booster', 'boosting', 'boot', 'bootable', 'bootcamp', 'bootcamps', 'booth', 'booting', 'bootloader', 'bootstrap', 'bootstrapped', 'bootstrappers', 'bootstrapping', 'bootstrapsass', 'booze', 'boracay', 'border', 'bore', 'borealis', 'bored', 'boring', 'boringtun', 'boris', 'borked', 'born', 'borneo', 'boron', 'borophene', 'borrowed', 'borrower', 'borrowing', 'bos', 'bosch', 'bose', 'boson', 'bosque', 'boss', 'boston', 'bot', 'botan', 'botanical', 'botanist', 'botch', 'botched', 'bother', 'bothies', 'botmaking', 'botorch', 'bottle', 'bottled', 'bottleneck', 'bottom', 'bottomless', 'bottomup', 'bought', 'boulder', 'bouman', 'bounce', 'bounced', 'bound', 'boundary', 'boundless', 'bounty', 'bout', 'bow', 'bowie', 'bowing', 'bowl', 'bowling', 'box', 'boxing', 'boy', 'boycott', 'boycotted', 'boyle', 'boz', 'bpf', 'bpftrace', 'bracelet', 'bracing', 'bradley', 'brady', 'brafree', 'braille', 'brain', 'braindead', 'brainer', 'brainfuck', 'braingut', 'brainless', 'brainmachine', 'brainwash', 'brainy', 'brake', 'branch', 'brancher', 'brand', 'branding', 'brass', 'brave', 'bravo', 'brazil', 'brazilian', 'breach', 'breached', 'bread', 'breadboard', 'break', 'breakaway', 'breakdown', 'breaker', 'breakfast', 'breakin', 'breaking', 'breakout', 'breakroom', 'breakthrough', 'breakup', 'breast', 'breath', 'breathe', 'breathes', 'breathing', 'breathtaking', 'bred', 'breed', 'breeding', 'breitbart', 'brescia', 'bret', 'brew', 'brewery', 'brewing', 'brexit', 'brian', 'bribe', 'bribed', 'bribery', 'bribing', 'brick', 'bridge', 'bridging', 'brief', 'briefly', 'brieftechnicalcurated', 'brien', 'bright', 'brighter', 'brightest', 'brilliance', 'brilliant', 'brine', 'bring', 'bringing', 'brings', 'brink', 'brisbane', 'brisk', 'bristol', 'brit', 'britain', 'british', 'britishirish', 'bro', 'broad', 'broadband', 'broadcast', 'broadcaster', 'broadcasting', 'broadcom', 'broadening', 'broader', 'broadway', 'brockovich', 'broke', 'broken', 'broker', 'brokerage', 'bronner', 'bronx', 'bronze', 'brooklyn', 'bros', 'brother', 'brought', 'brown', 'browning', 'browse', 'browser', 'browserbased', 'browserify', 'browsing', 'bruce', 'bruegel', 'bruijn', 'bruised', 'bruising', 'brunners', 'bruno', 'brunt', 'brusa', 'brush', 'brushable', 'brussels', 'brutal', 'brutalist', 'brutaljs', 'brutally', 'brute', 'bsd', 'bsed', 'bsides', 'btc', 'bthreads', 'btree', 'btrfs', 'btse', 'bubble', 'buber', 'buca', 'buchberger', 'buchla', 'buck', 'buckaroo', 'bucket', 'buckminster', 'buddhism', 'buddhist', 'budged', 'budget', 'budgeting', 'budgetvoters', 'buefy', 'buffer', 'buffered', 'buffersbased', 'buffett', 'buffins', 'bug', 'bugasalt', 'bugatti', 'buggy', 'buggycow', 'bugo', 'bugsfeedback', 'build', 'buildah', 'builder', 'building', 'buildpacks', 'built', 'builtin', 'builtins', 'buke', 'bukowski', 'bulb', 'bulgarian', 'bulk', 'bull', 'bullet', 'bulletproof', 'bullied', 'bullshit', 'bullshitters', 'bully', 'bullying', 'bulma', 'bumblebee', 'bumbling', 'bump', 'bumpallocated', 'bunch', 'bund', 'bundle', 'bundled', 'bundler', 'bungie', 'bungled', 'bunker', 'bunnie', 'burden', 'bureau', 'bureaucracy', 'bureaucrat', 'bureaucratic', 'burger', 'burgess', 'burglar', 'burglary', 'burgled', 'burial', 'buried', 'burn', 'burned', 'burnedout', 'burning', 'burnout', 'burnoutdepressionlazinesswrong', 'burnt', 'burrito', 'burroughs', 'burrow', 'burst', 'bursting', 'burt', 'burying', 'bus', 'busiest', 'business', 'businessinsiders', 'businessmen', 'businesspower', 'bust', 'busted', 'buster', 'busy', 'butler', 'butlerian', 'butt', 'butterflow', 'butterfly', 'buttigieg', 'button', 'buy', 'buyback', 'buyer', 'buying', 'buyout', 'buzan', 'buzz', 'buzzfeed', 'bx', 'byd', 'bye', 'byju', 'byod', 'bypass', 'bypassing', 'byproduct', 'byrd', 'byron', 'bystander', 'byte', 'byteaccessibility', 'bytecode', 'byteconf', 'byu', 'byzantine', 'bézier', 'c', 'c11', 'c1114', 'c128', 'c14', 'c1417', 'c17', 'c2', 'c20', 'c2x', 'c3', 'c64', 'c88', 'ca', 'cable', 'cac', 'cache', 'cachecontrol', 'cachefriendly', 'caching', 'cacophony', 'cactus', 'cad', 'caddy', 'cadence', 'cadr', 'caduceus', 'cadwalladr', 'cafe', 'caffeine', 'café', 'cafés', 'cage', 'cahill', 'cake', 'cakeml', 'cal', 'calcexe', 'calculate', 'calculated', 'calculating', 'calculation', 'calculator', 'calculus', 'calendar', 'calibre', 'california', 'californian', 'caliper', 'call', 'called', 'caller', 'callhero', 'calligraphy', 'calling', 'calljoy', 'callout', 'calm', 'calorie', 'caltrain', 'calvin', 'calypso', 'cam', 'cambrian', 'cambridge', 'came', 'camelcamelcamel', 'camera', 'cameraman', 'camille', 'camouflage', 'camp', 'campaign', 'campaigner', 'campaigning', 'camper', 'campus', 'can', 'canada', 'canadian', 'canary', 'canaveral', 'canberra', 'cancel', 'canceled', 'canceling', 'cancellation', 'cancelled', 'cancelling', 'cancer', 'cancerous', 'candida', 'candidate', 'candle', 'candlelight', 'candlestick', 'candor', 'candy', 'cangoroo', 'cannabinoids', 'cannabis', 'cannibalism', 'cannot', 'canon', 'canonical', 'cant', 'canteen', 'canticle', 'cantor', 'canuck', 'canva', 'canvas', 'canvaskit', 'canvassketch', 'canyon', 'cap', 'capability', 'capable', 'capacitance', 'capacitor', 'capacity', 'cape', 'caper', 'capital', 'capitalism', 'capitalist', 'capping', 'capsule', 'capt', 'captain', 'captcha', 'captchas', 'captivated', 'captivity', 'capture', 'captured', 'capturing', 'caput', 'car', 'car2go', 'carbanak', 'carbon', 'carbonoffset', 'carcass', 'carcharodon', 'card', 'cardashboard', 'cardboard', 'cardbox', 'cardiac', 'cardinal', 'cardinality', 'carding', 'cardiologist', 'cardiologistlevel', 'cardiovascular', 'care', 'cared', 'careem', 'career', 'careful', 'careless', 'caret', 'carfree', 'cargo', 'cargomaster', 'carl', 'carlo', 'carlos', 'carmack', 'carmageddon', 'carmaggedon', 'carmaker', 'carmel', 'carnegie', 'carnitine', 'carnival', 'carnivore', 'caro', 'carole', 'carolina', 'carousel', 'carplay', 'carpocalypse', 'carpooling', 'carreer', 'carried', 'carrier', 'carrington', 'carroll', 'carry', 'carrying', 'carson', 'cart', 'cartel', 'cartogram', 'cartographer', 'cartography', 'cartonwrap', 'cartoon', 'cartridge', 'carved', 'carving', 'cascade', 'cascading', 'case', 'cash', 'cashing', 'cashless', 'casino', 'casio', 'cask', 'casper', 'cassandra', 'cassette', 'cassini', 'cassowary', 'cast', 'caste', 'caster', 'castle', 'casual', 'casually', 'cat', 'catalina', 'catalog', 'catalogue', 'catalogued', 'catalyst', 'catapulting', 'catastrophe', 'catastrophic', 'catch', 'catch22', 'catcher', 'catching', 'catchup', 'categorical', 'categorization', 'categorized', 'categorizing', 'category', 'caterpillar', 'caters', 'catfished', 'cathay', 'cathedral', 'catheter', 'cattle', 'caucher', 'caught', 'cause', 'caused', 'causing', 'cautionary', 'cave', 'caveat', 'caviar', 'cavity', 'cbased', 'cbc', 'cbp', 'cbs', 'cbtc', 'cc', 'ccla', 'cclicensed', 'ccn', 'ccpa', 'ccso', 'cctvcaptured', 'cd', 'cdc', 'cdecl', 'cdn', 'ce', 'cease', 'ceased', 'cedes', 'cedreo', 'ceiling', 'celebrate', 'celebrates', 'celebration', 'celebrity', 'celera', 'celestial', 'celibidache', 'cell', 'cellebrite', 'cellist', 'cello', 'cellphone', 'cellphonehe', 'cellular', 'celsius', 'cemetery', 'censor', 'censored', 'censoring', 'censorship', 'censorshipfree', 'census', 'cent', 'centaur', 'centenary', 'center', 'centos', 'central', 'centralized', 'centre', 'centric', 'centrist', 'centsmile', 'century', 'ceo', 'cereal', 'cerebellum', 'cerebral', 'cern', 'cert', 'certain', 'certainty', 'certificate', 'certification', 'certified', 'certify', 'cervical', 'cessna', 'cetacean', 'cfc', 'cfia', 'cfo', 'cftc', 'cgrp', 'chabon', 'chacha20poly1305', 'chagos', 'chain', 'chaining', 'chairman', 'chalk', 'chalkscore', 'challenge', 'challenger', 'challenging', 'chamber', 'champion', 'championship', 'chan', 'chance', 'chang', 'change', 'change4', 'changeaviewcom', 'changed', 'changelog', 'changer', 'changing', 'channel', 'channelwise', 'chaos', 'chaoslist', 'chaosnet', 'chapo', 'chapos', 'chapterize', 'character', 'characteristic', 'characterized', 'characterizing', 'charge', 'chargeback', 'charged', 'charger', 'charging', 'chariot', 'charismatic', 'charity', 'charitydriven', 'charitywtf', 'charles', 'charlie', 'charm', 'chart', 'charter', 'chartjs', 'chase', 'chasing', 'chat', 'chatbot', 'chatbots', 'chathelpdesk', 'chatroom', 'chatter', 'cheap', 'cheaper', 'cheapest', 'cheat', 'cheated', 'cheating', 'cheatsheet', 'cheatsheets', 'check', 'checkboxes', 'checked', 'checker', 'checking', 'checklist', 'checkout', 'checkpoint', 'checkup', 'cheered', 'cheese', 'cheeselike', 'cheetah', 'chef', 'chelsea', 'chemical', 'chemist', 'chen', 'chequer', 'chernobyl', 'cherokee', 'cherrapunji', 'cherry', 'chess', 'chesskelet', 'chessplaying', 'chessvisionai', 'chest', 'chestnut', 'chevrolets', 'chevron', 'chevy', 'chevys', 'chew', 'chexpertmimiccxr', 'chezmoi', 'chiang', 'chicago', 'chicano', 'chick', 'chicken', 'chickenpox', 'chief', 'child', 'childhood', 'childless', 'childporn', 'childrenfamilies', 'childrens', 'chill', 'chilton', 'chimamanda', 'chimpanzee', 'china', 'chinai', 'chinarecognizes', 'chinese', 'chineselanguage', 'chinesemade', 'chineseowned', 'chinesestyle', 'chinook', 'chip', 'chipmaker', 'chipotle', 'chisel', 'chlorine', 'chocolate', 'choice', 'choicebased', 'cholesterol', 'chomsky', 'chongqing', 'choose', 'choosing', 'chop', 'chopin', 'choppy', 'chopstick', 'choral', 'chord', 'chordata', 'chose', 'chosen', 'chosenprefix', 'chr2055rnd1', 'chris', 'christchurch', 'christian', 'christie', 'christopher', 'chromaprintacoustid', 'chrome', 'chromebook', 'chromebooks', 'chromecast', 'chromecasts', 'chromeonly', 'chromeos', 'chromitize', 'chromium', 'chromiumbased', 'chromosome', 'chromostereopsis', 'chronas', 'chronic', 'chronically', 'chronicle', 'chrysalisp', 'chrysler', 'chuck', 'chump', 'chun', 'chunk', 'chunkwm', 'church', 'churchill', 'ci', 'cia', 'cicd', 'cidlib', 'cigarette', 'cilium', 'cincinnati', 'cindyjs', 'cipher', 'circa', 'circle', 'circuit', 'circuitlevel', 'circuitry', 'circular', 'circulation', 'circus', 'cirrus', 'cisa', 'cisco', 'citation', 'cite', 'citi', 'citing', 'citizen', 'citrix', 'citrus', 'citus', 'city', 'citybound', 'citywide', 'civ', 'civil', 'civilian', 'civilisation', 'civilization', 'claim', 'claimed', 'claimers', 'claiming', 'clair', 'claire', 'clam', 'clamoring', 'clamp', 'clampdown', 'clan', 'clangbuilt', 'clangjit', 'clangllvm', 'clarifies', 'clarify', 'clarifying', 'clarity', 'clarke', 'clash', 'class', 'classaction', 'classic', 'classical', 'classification', 'classified', 'classifier', 'classifies', 'classify', 'classmate', 'classpath', 'classroom', 'claude', 'clause', 'claw', 'clcppgenerator', 'clean', 'cleaner', 'cleaning', 'cleanroom', 'cleanup', 'clear', 'clearance', 'clearing', 'cleavejs', 'cleaving', 'clever', 'cli', 'clichés', 'click', 'clickbait', 'clicker', 'clickhouse', 'clicking', 'clicktocopy', 'client', 'clientserver', 'clientside', 'clifan', 'cliff', 'climate', 'climatechange', 'climatedestroying', 'climateinduced', 'climatic', 'climb', 'climbed', 'climber', 'climbing', 'clinical', 'clinician', 'clinton', 'clio', 'clip', 'clipboard', 'clippy', 'clique', 'clitool', 'clj', 'cljcljs', 'cloak', 'cloaking', 'clock', 'clocked', 'clockwise', 'clockwork', 'clogged', 'clojure', 'clojurebased', 'clojurescript', 'clojurists', 'clone', 'cloned', 'cloning', 'close', 'closed', 'closeddoor', 'closely', 'closer', 'closest', 'closet', 'closeup', 'closing', 'closure', 'clothes', 'clothing', 'cloud', 'cloudabi', 'cloudbased', 'cloudbleed', 'cloudborn', 'clouded', 'cloudera', 'cloudflare', 'cloudflares', 'cloudflaresupported', 'cloudless', 'cloudmarker', 'cloudnative', 'cloudpowered', 'cloudquery', 'cloudsmith', 'cloudstorage', 'cloudsynced', 'cloudwatch', 'cloudy', 'clould', 'clout', 'cloverly', 'clown', 'clowning', 'club', 'clue', 'cluetrain', 'cluster', 'clusterfuck', 'clusterfuzz', 'clustering', 'clusterscope', 'clutter', 'cm', 'cmake', 'cmakeliststxt', 'cmc', 'cmo', 'cmu', 'cname', 'cnbc', 'cnc', 'cncf', 'cnil', 'cnn', 'cnns', 'co', 'co2', 'coach', 'coachellaification', 'coal', 'coalfired', 'coalfree', 'coast', 'coastline', 'coat', 'coauthor', 'coaxing', 'cobbled', 'cobol', 'cocacola', 'cocaine', 'cocalc', 'cockpit', 'cockroach', 'cockroachdb', 'cockroachdbs', 'cocktail', 'cocnvim', 'cocoa', 'coconet', 'coconut', 'cocoon', 'cocreators', 'coda', 'code', 'code2vec', 'codeacademy', 'codeanywhere', 'codebase', 'codebases', 'codebraid', 'codec', 'codecademy', 'codeflow', 'codefree', 'codegates', 'codegen', 'codeless', 'codeno', 'coder', 'codereloading', 'codermirror', 'codesandbox', 'codesign', 'codespeak', 'codesplit', 'codex', 'codiff', 'coding', 'coerce', 'coercion', 'coexist', 'coffee', 'coffeescript', 'coffin', 'cofound', 'cofounder', 'cog', 'cognition', 'cognitive', 'cohen', 'coherency', 'coi', 'coin', 'coinbase', 'coincidence', 'coinhive', 'coinomi', 'cointelpro', 'colab', 'colbert', 'cold', 'coldfusion', 'coldness', 'colgan', 'colin', 'collaborate', 'collaborating', 'collaboration', 'collaborative', 'collaboratively', 'collaborator', 'collage', 'collapse', 'collapsed', 'collapser', 'collapsing', 'collar', 'collateral', 'colleague', 'collect', 'collected', 'collecting', 'collection', 'collective', 'collector', 'college', 'collegeadmissions', 'collegeentrance', 'collide', 'collider', 'colliding', 'collie', 'collin', 'collision', 'collison', 'collodion', 'colloquium', 'collude', 'colluded', 'colluding', 'collusion', 'colombia', 'colombian', 'colon', 'colonialism', 'colonist', 'colonizing', 'colony', 'color', 'colorado', 'colorblind', 'colorbox', 'colored', 'colorffy', 'colorful', 'colorize', 'colorized', 'colorkitty', 'colormap', 'colossal', 'colossus', 'coloured', 'colourisesg', 'coltrane', 'columba', 'columbus', 'column', 'com', 'coma', 'combat', 'combatting', 'combination', 'combinator', 'combinatorcom', 'combinatorial', 'combinators', 'combine', 'combined', 'combining', 'combo', 'combustion', 'comcast', 'comdyna', 'come', 'comeback', 'comedy', 'comet', 'comevenwell', 'comfort', 'comfortable', 'comfygure', 'comic', 'comical', 'comicgen', 'coming', 'commaai', 'command', 'commandline', 'commandment', 'commemorated', 'comment', 'commentary', 'commenter', 'commenters', 'commenting', 'commento', 'commerce', 'commercial', 'commercially', 'commission', 'commissioner', 'commit', 'commitbranchworkdir', 'commitment', 'commits', 'committed', 'committee', 'committing', 'commoditize', 'commodity', 'commodore', 'common', 'commonly', 'commonsbased', 'commonsense', 'comms', 'communal', 'communicate', 'communication', 'communism', 'communist', 'community', 'communitybased', 'communitydriven', 'commute', 'commuter', 'compact', 'compacting', 'companion', 'company', 'companystartup', 'comparable', 'comparative', 'compare', 'compared', 'comparing', 'comparison', 'compass', 'compassion', 'compassionate', 'compatibility', 'compatible', 'compcert', 'compelling', 'compensating', 'compensation', 'compete', 'competency', 'competent', 'competing', 'competition', 'competitive', 'competitor', 'compilation', 'compile', 'compiled', 'compiler', 'compiles', 'compiletime', 'compiling', 'complain', 'complained', 'complains', 'complaint', 'complement', 'complete', 'completed', 'completely', 'completeness', 'completes', 'completion', 'complex', 'complexexpensivedistracting', 'complexity', 'compliance', 'complicated', 'complication', 'component', 'composable', 'composed', 'composer', 'composes', 'composing', 'composite', 'composition', 'compositor', 'compost', 'composting', 'compound', 'compounding', 'comprehensible', 'comprehensive', 'compress', 'compressed', 'compressedair', 'compressing', 'compression', 'compromise', 'compromised', 'compromising', 'compsci', 'compuserve', 'computation', 'computational', 'computationally', 'compute', 'computed', 'computer', 'computerized', 'computerscience', 'computing', 'computus', 'con', 'conan', 'concatenative', 'concedes', 'concentrate', 'concentrating', 'concentration', 'concept', 'conceptual', 'concern', 'concerned', 'concerning', 'concert', 'concise', 'conclude', 'concludes', 'conclusion', 'concrete', 'concurrency', 'concurrencyrelated', 'concurrent', 'concussion', 'condemn', 'condemned', 'condition', 'conditioner', 'conditioning', 'condo', 'condolence', 'conduct', 'conducting', 'conductor', 'condé', 'cone', 'conf', 'conference', 'conferencing', 'confess', 'confession', 'confidant', 'confidence', 'confident', 'confidential', 'confidentiality', 'confidentially', 'config', 'configless', 'configurable', 'configuration', 'configure', 'configured', 'configuring', 'confinement', 'confirm', 'confirmation', 'confirmationist', 'confirmed', 'confirms', 'confiscate', 'confiscation', 'conflict', 'confluence', 'confluent', 'confounding', 'confront', 'confrontation', 'confronted', 'confronts', 'confused', 'confusing', 'confusion', 'congested', 'congestion', 'congo', 'congratulation', 'congregate', 'congress', 'congressional', 'congressman', 'congresswoman', 'conic', 'conjecture', 'connect', 'connected', 'connecticut', 'connecting', 'connection', 'connectivity', 'connects', 'conquering', 'conscientious', 'conscious', 'consciousness', 'consensus', 'consent', 'consented', 'consequence', 'conservationist', 'conservatism', 'conservative', 'conservatively', 'consider', 'consideration', 'considered', 'considering', 'considers', 'consistency', 'consistent', 'consistently', 'consisting', 'consitutional', 'consolas', 'console', 'consolidating', 'consortium', 'conspiracy', 'conspiratorial', 'conspired', 'conspiring', 'constant', 'constantinople', 'constantly', 'constanttime', 'constellation', 'constexpr', 'constitution', 'constitutional', 'constitutionfree', 'constraint', 'construct', 'constructed', 'construction', 'constructive', 'constructjs', 'consul', 'consultancy', 'consultant', 'consulting', 'consume', 'consumed', 'consumer', 'consuming', 'consumption', 'consumptionactivity', 'contact', 'contacted', 'contacting', 'contagious', 'contain', 'contained', 'container', 'containerization', 'containersservices', 'containing', 'containment', 'contains', 'contaminant', 'contaminated', 'contemporary', 'contempt', 'contender', 'content', 'contentid', 'contention', 'contentsecuritypolicy', 'contest', 'contested', 'context', 'contextcue', 'continental', 'contingency', 'continuation', 'continue', 'continued', 'continues', 'continuing', 'continuity', 'continuous', 'continuoustime', 'contour', 'contouring', 'contraband', 'contract', 'contracted', 'contracting', 'contractor', 'contradict', 'contradiction', 'contrast', 'contravariance', 'contribute', 'contributed', 'contributes', 'contributing', 'contribution', 'contributor', 'control', 'controllable', 'controlled', 'controller', 'controlling', 'controltheory', 'controversial', 'controversy', 'conundrum', 'convenience', 'convenient', 'convent', 'convention', 'conventional', 'converge', 'convergent', 'conversation', 'conversational', 'conversion', 'convert', 'converted', 'converter', 'convertible', 'converting', 'convexity', 'convict', 'convicted', 'conviction', 'convince', 'convinced', 'convincing', 'convolution', 'convolutional', 'conway', 'conways', 'coo', 'cook', 'cookbook', 'cooked', 'cookie', 'cooking', 'cookware', 'cooky', 'cool', 'cooler', 'coolest', 'cooling', 'cooperating', 'cooperation', 'cooperative', 'coopted', 'coordinated', 'coordinating', 'cop', 'cope', 'copenhagen', 'copied', 'coping', 'copper', 'copperheados', 'coprocessor', 'copy', 'copycat', 'copying', 'copyonwrite', 'copyright', 'copyrightclaiming', 'copyrighted', 'coq', 'coral', 'corbusier', 'cord', 'corda', 'core', 'coreboot', 'corepo', 'corn', 'cornea', 'corner', 'coroutines', 'corp', 'corporate', 'corporatedebt', 'corporatetax', 'corporation', 'corpse', 'corpus', 'correct', 'corrected', 'correcting', 'correction', 'correctly', 'correctness', 'correlated', 'correspondence', 'corretto', 'corridor', 'corrosive', 'corrupt', 'corrupted', 'corruption', 'corruptionbusting', 'cortex', 'cosmac1802', 'cosmetic', 'cosmic', 'cosmologist', 'cosmology', 'cosmonaut', 'cosmos', 'cosplay', 'cossack', 'cost', 'costa', 'costbased', 'costco', 'costcos', 'costcutting', 'costing', 'costliest', 'costly', 'costume', 'cotton', 'cough', 'could', 'couldnt', 'coulnt', 'council', 'counsel', 'counseling', 'count', 'counter', 'counteract', 'counterespionage', 'counterfactual', 'counterfeit', 'counterfeiter', 'counterfeiting', 'counterhistories', 'counterintelligence', 'counting', 'countless', 'country', 'countryside', 'countrywide', 'county', 'coup', 'couple', 'coupling', 'courier', 'course', 'coursera', 'court', 'courted', 'covariance', 'covenantforum', 'covenantsql', 'cover', 'coverage', 'covered', 'covering', 'coverity', 'covert', 'covertly', 'coverups', 'cow', 'cowardice', 'cowboy', 'cowen', 'coworker', 'coworkers', 'coworkersfriends', 'coworking', 'cowtoilet', 'cox', 'co₂', 'cpm', 'cpmish', 'cppyy', 'cpu', 'cpubound', 'cpufail', 'cpython', 'cqrs', 'crack', 'crackdown', 'cracked', 'cracker', 'cracking', 'craft', 'crafted', 'crafting', 'craig', 'craigslist', 'crane', 'crank', 'crap', 'crapularity', 'crapware', 'crash', 'crashed', 'crashplan', 'crashtest', 'crater', 'craving', 'crawford', 'crawl', 'crawlera', 'cray', 'crazy', 'crc', 'crdt', 'crdts', 'create', 'created', 'createprocess', 'createreactapp', 'creates', 'creating', 'creation', 'creative', 'creatives', 'creativity', 'creator', 'creature', 'cred', 'credder', 'credential', 'credibility', 'credit', 'creditbased', 'creditcard', 'creditonly', 'creditor', 'creed', 'creep', 'creeping', 'creepy', 'cremieux', 'crev', 'crew', 'crewmember', 'crfs', 'crib', 'crichton', 'cricket', 'crime', 'crimefighter', 'criminal', 'criminalize', 'criminalizes', 'criminally', 'cringely', 'crippled', 'crippling', 'crisis', 'crispr', 'crisprbaby', 'crisprcas9', 'cristiane', 'critic', 'critical', 'criticality', 'criticise', 'criticised', 'criticising', 'criticism', 'criticize', 'criticized', 'criticizing', 'critique', 'crlf', 'crm', 'crnn', 'crochet', 'crocodileinfested', 'croissant', 'cron', 'crone', 'crop', 'crosby', 'cross', 'crossbeam', 'crossborder', 'crossbrowser', 'crosscompilation', 'crossed', 'crossfertilization', 'crossfire', 'crossfit', 'crossfont', 'crosshairs', 'crossing', 'crossisa', 'crossmeta', 'crossnational', 'crossplane', 'crossplatform', 'crossregioncloud', 'crossskill', 'crosstalk', 'crossversion', 'crosswalk', 'crossword', 'crow', 'crowd', 'crowded', 'crowdfund', 'crowdfunded', 'crowdfunding', 'crowdsourced', 'crowdstrike', 'crt', 'crucial', 'crucifying', 'crude', 'cruel', 'crueler', 'cruelty', 'cruise', 'crumple', 'crunch', 'crunching', 'crusader', 'crush', 'crushed', 'crushing', 'crusoe', 'crust', 'crustacean', 'crutch', 'crux', 'cruz', 'cry', 'cryotherapy', 'crypt', 'crypto', 'cryptocurrencies', 'cryptocurrency', 'cryptoeconomic', 'cryptographer', 'cryptographic', 'cryptography', 'cryptojacking', 'cryptominers', 'cryptopals', 'cryptorave', 'cryptotradertax', 'crystal', 'crystalline', 'cs', 'csmath', 'csp', 'cspa', 'cspan', 'css3', 'cssbattle', 'cssfx', 'cssinjs', 'cssonlychat', 'csspowered', 'cssux', 'csv', 'csvdiff', 'csvtk', 'csvtsv', 'ct', 'ctf', 'ctfs', 'cto', 'ctohead', 'ctrl', 'ctwasm', 'cuba', 'cuban', 'cube', 'cubejs', 'cubesat', 'cubesats', 'cubicle', 'cuckoo', 'cuda', 'cudax', 'cue', 'cuffed', 'culdesac', 'culled', 'culprit', 'cult', 'cultivates', 'cultlike', 'cultural', 'culture', 'cumbersome', 'cumulative', 'cuomo', 'cup', 'cupid', 'cupy', 'curated', 'curation', 'curb', 'cure', 'cured', 'curing', 'curiosity', 'curious', 'curl', 'currency', 'current', 'currently', 'curriculum', 'curse', 'cursesbased', 'cursewords', 'cursive', 'curtain', 'curv', 'curve', 'curve25519', 'curveball', 'custard', 'custom', 'customer', 'customisable', 'customising', 'customizable', 'customization', 'customize', 'cut', 'cutler', 'cutlery', 'cutoff', 'cutout', 'cutter', 'cutthroat', 'cutting', 'cuttingedge', 'cv', 'cve20188778', 'cve20190708', 'cve20191543', 'cve20191653', 'cve20195418', 'cve20195736', 'cve20198912', 'cve20199193', 'cwords', 'cyanide', 'cyanobacteria', 'cyber', 'cyberattack', 'cyberattacks', 'cybercommand', 'cybercrime', 'cyberdeck', 'cybermercenary', 'cyberpunk', 'cybersecurity', 'cybersovereignty', 'cyberspies', 'cybersquatter', 'cyberstalking', 'cycle', 'cycling', 'cyclist', 'cyclone', 'cygwin', 'cylc', 'czapski', 'czech', 'czechoslovakia', 'd21', 'd3', 'd3js', 'd4', 'd6tflow', 'da', 'daca', 'dad', 'dada', 'dadamachines', 'daddy', 'dagen', 'daily', 'dailymail', 'dailyweekly', 'daimler', 'dairy', 'dakota', 'dale', 'dali', 'dalio', 'dallas', 'dam', 'damage', 'damaged', 'damaging', 'damascus', 'dame', 'daml', 'damn', 'damned', 'damning', 'damore', 'dan', 'dan64', 'dance', 'dancing', 'dane', 'danger', 'dangerous', 'dangerously', 'daniel', 'danish', 'danke', 'danone', 'dante', 'dapps', 'dara', 'darien', 'dark', 'darken', 'darker', 'darkest', 'darkmatter', 'darkmode', 'darkness', 'darknet', 'darkskinned', 'darkstar', 'darling', 'darpa', 'dart', 'darwin', 'dash', 'dashboard', 'dashboardpackcom', 'dashcams', 'dashdashcom', 'dashed', 'daskeyboard', 'dat', 'data', 'database', 'databaseasaservice', 'databasebacked', 'databricks', 'datacamp', 'datacenter', 'datacenters', 'datacompression', 'datadog', 'datadriven', 'datafix', 'dataflow', 'dataforge', 'dataframe', 'dataframes', 'datafusion', 'datagov', 'datalog', 'datamining', 'dataplane', 'dataset', 'datasets', 'datasette', 'datashader', 'datasource', 'datasources', 'dataspewing', 'datastore', 'datatype', 'date', 'dating', 'datomic', 'datomiclike', 'daughter', 'dav1d', 'dave', 'david', 'davis', 'davos', 'davy', 'dawn', 'day', 'daycare', 'daydreaming', 'dayjob', 'daylight', 'daylightsad', 'dayslong', 'daysweek', 'db', 'dbaas', 'dbdot', 'dbeaver', 'dbless', 'dbms', 'dbus', 'dc', 'dca', 'dcf', 'dconf', 'dday', 'ddd', 'ddgr', 'ddos', 'de', 'dea', 'deactivating', 'dead', 'deaddrops', 'deadliest', 'deadline', 'deadlock', 'deadlocked', 'deadly', 'deadmanhandle', 'deadonarrival', 'deadsimple', 'deaf', 'deal', 'dealarticle', 'dealer', 'dealership', 'dealing', 'dear', 'death', 'deathblow', 'deathwatch', 'deb', 'debacle', 'debate', 'debated', 'debating', 'debauchery', 'debian', 'debiasing', 'debit', 'deborah', 'debpack', 'debris', 'debt', 'debttogdp', 'debug', 'debugfs', 'debugger', 'debugging', 'debuggingfriendly', 'debunked', 'debunking', 'debunks', 'debussy', 'debut', 'dec', 'decade', 'decadelong', 'decadesold', 'decapped', 'decarbonize', 'decay', 'deceased', 'deceive', 'december', 'decent', 'decentralized', 'decentralizing', 'deception', 'deceptive', 'decide', 'decided', 'decidedly', 'decides', 'decidim', 'decimal', 'decimation', 'decipher', 'deciphered', 'deciphering', 'decision', 'decisionmaking', 'deck', 'deckbuild', 'decker', 'declaration', 'declarative', 'declare', 'declared', 'declares', 'declaring', 'declassified', 'declawing', 'decline', 'declined', 'declining', 'decode', 'decoded', 'decoder', 'decodes', 'decoding', 'decoherence', 'decompilations', 'decompiler', 'decomposition', 'decompressing', 'deconstructing', 'deconstruction', 'decorator', 'decoy', 'decrease', 'decreased', 'decreasing', 'decriminalize', 'decriminalizes', 'decriminalizing', 'decrypt', 'decrypted', 'decryption', 'dedicated', 'deduction', 'deductive', 'deemed', 'deems', 'deep', 'deepcamera', 'deepdive', 'deepening', 'deepens', 'deeper', 'deepest', 'deepestever', 'deepfake', 'deepfakes', 'deeplabcut', 'deeplearning', 'deeply', 'deepmind', 'deepnote', 'deepocean', 'deepracer', 'deepsea', 'deepsolar', 'deepstate', 'deepswarm', 'deeptraffic', 'deer', 'deere', 'defacing', 'defamation', 'default', 'defeat', 'defeated', 'defeating', 'defective', 'defector', 'defectsso', 'defence', 'defend', 'defended', 'defender', 'defending', 'defends', 'defense', 'defensible', 'defensive', 'deficiency', 'deficit', 'defied', 'defies', 'define', 'defined', 'definer', 'defines', 'defining', 'definition', 'definitive', 'deflect', 'deflects', 'deforestation', 'defragment', 'defrauded', 'defrauding', 'defuser', 'defy', 'defying', 'degoogled', 'degoogleify', 'degoogling', 'degree', 'degrowth', 'dehumanization', 'dehumanizing', 'deirdre', 'del', 'delage', 'delay', 'delayed', 'delaying', 'deletable', 'delete', 'deleted', 'deletefb', 'deletes', 'deleting', 'deletion', 'delft', 'delhi', 'deliberate', 'delicious', 'delinquency', 'delinquent', 'delist', 'delisted', 'deliver', 'delivered', 'delivering', 'deliveroo', 'delivers', 'delivery', 'dell', 'delphi', 'delphicompatible', 'delta', 'delusion', 'delvey', 'dem', 'demake', 'demand', 'demanded', 'demanding', 'demarco', 'dementia', 'demis', 'demise', 'demo', 'demo1', 'democracy', 'democrat', 'democratic', 'democratize', 'democratizing', 'demographic', 'demolishing', 'demon', 'demonetized', 'demonetizes', 'demonstrate', 'demonstrates', 'demonstrating', 'demonstration', 'demoparties', 'demoparty', 'demoscener', 'demoted', 'demystified', 'demystify', 'demystifying', 'den', 'dengue', 'deniability', 'denial', 'denialofservice', 'denied', 'denier', 'denies', 'denisovan', 'denisovans', 'denmark', 'dennis', 'denoise', 'denoising', 'denouncing', 'dense', 'density', 'dent', 'dental', 'dentist', 'dentistry', 'denver', 'deny', 'denying', 'depart', 'departed', 'department', 'departs', 'departure', 'dependabot', 'dependence', 'dependency', 'depending', 'depends', 'depersonalization', 'depew', 'dephell', 'depicts', 'deplatformed', 'deploy', 'deploying', 'deployment', 'deploys', 'depopulated', 'deportation', 'deported', 'deposit', 'deposition', 'depot', 'deprecate', 'deprecated', 'deprecating', 'deprecation', 'depressed', 'depressing', 'depression', 'depressiongene', 'depressive', 'deprioritizing', 'deprivation', 'dept', 'depth', 'deputy', 'der', 'derailleurs', 'derbycon', 'deregulation', 'derivation', 'derive', 'deriving', 'dermatologist', 'desalination', 'descartes', 'descendant', 'descent', 'descheduled', 'describe', 'describes', 'describing', 'description', 'descriptor', 'desert', 'deserve', 'deserved', 'deserves', 'design', 'designed', 'designer', 'designing', 'designlayout', 'desire', 'desk', 'deskgap', 'deskmini', 'desktop', 'desmos', 'desperate', 'desperately', 'despise', 'despite', 'destination', 'destroy', 'destroyed', 'destroyer', 'destroying', 'destroys', 'destruction', 'destructive', 'destructors', 'desuckafying', 'detail', 'detailed', 'detailing', 'detain', 'detained', 'detaining', 'detains', 'detect', 'detected', 'detecting', 'detection', 'detective', 'detector', 'detects', 'detention', 'determine', 'determined', 'determines', 'determining', 'determinist', 'deterministically', 'deterrence', 'deters', 'detoured', 'detox', 'detoxify', 'detrimental', 'detroit', 'deutsche', 'dev', 'devastated', 'devastates', 'devastating', 'develop', 'developed', 'developer', 'developersengineers', 'developing', 'development', 'developmentwhere', 'develops', 'devflight', 'deviance', 'deviant', 'device', 'devicemapper', 'devil', 'devilbox', 'devoncall', 'devops', 'devote', 'devs', 'devtools', 'devtv', 'devuan', 'dewey', 'dex', 'dexterous', 'dfa', 'dgraph', 'dh', 'dha', 'dhh', 'dhs', 'di', 'dia', 'diabetes', 'diabetic', 'diagnose', 'diagnosed', 'diagnosis', 'diagnostics', 'diagram', 'diagrammer', 'dial', 'dialect', 'dialog', 'dialogical', 'dialogue', 'dialup', 'dialysis', 'diamond', 'diary', 'diaspora', 'dib', 'dick', 'dickens', 'dict', 'dictatorship', 'dictionary', 'dictparser', 'diderot', 'didnt', 'die', 'died', 'diego', 'diesel', 'diet', 'dietary', 'dieter', 'dietmicrobiome', 'diff', 'diffeqfluxjl', 'diffeqjl', 'differ', 'difference', 'different', 'differentiable', 'differential', 'differentiating', 'differentiation', 'differently', 'difficult', 'difficulty', 'diffiehellman', 'diffractive', 'diffusion', 'dig', 'digest', 'digested', 'digg', 'digging', 'digicert', 'digicomp', 'digit', 'digital', 'digitally', 'digitalocean', 'digitaloceans', 'digitals', 'digitised', 'digitization', 'digitize', 'digitized', 'digressive', 'dijkstra', 'dildo', 'dilemma', 'dillers', 'dimagejs', 'dimension', 'diminishes', 'dine', 'diner', 'dingo', 'dining', 'dinosaur', 'dioxide', 'diplomat', 'dirac', 'dire', 'direct', 'direct3d', 'directed', 'direction', 'directive', 'directly', 'director', 'directory', 'dirt', 'dirtbag', 'dirtcheap', 'dirty', 'dis', 'disability', 'disable', 'disabled', 'disables', 'disabling', 'disagree', 'disagreement', 'disappear', 'disappearance', 'disappearing', 'disappointed', 'disappointingly', 'disappointment', 'disappoints', 'disarray', 'disassembler', 'disassembly', 'disaster', 'disastrous', 'disavow', 'discard', 'discarded', 'discharge', 'disciple', 'discipline', 'disciplined', 'disclaimer', 'disclose', 'discloses', 'disclosing', 'disclosure', 'disco', 'disconnect', 'discontinue', 'discontinued', 'discontinues', 'discontinuing', 'discontinuity', 'discord', 'discount', 'discourage', 'discouraged', 'discourse', 'discover', 'discovered', 'discoverer', 'discovering', 'discovers', 'discovery', 'discredit', 'discreet', 'discrete', 'discreteness', 'discretetime', 'discriminate', 'discriminating', 'discrimination', 'discriminatory', 'discus', 'discussed', 'discussing', 'discussion', 'disease', 'disembodied', 'disentangling', 'disgrace', 'disgraced', 'disguised', 'disgusting', 'dish', 'dishonest', 'disinformation', 'disintegrating', 'disk', 'diskee', 'diskstation', 'dislike', 'dismal', 'dismantle', 'dismantles', 'dismantling', 'dismiss', 'dismissal', 'dismissed', 'dismisses', 'disney', 'disorder', 'disorderly', 'disparaged', 'disparity', 'dispatch', 'display', 'displayed', 'displaying', 'disposable', 'disproportionate', 'dispute', 'disputed', 'disqus', 'disregard', 'disrespect', 'disrupt', 'disrupted', 'disruption', 'disruptionspotting', 'disruptive', 'dissatisfaction', 'dissection', 'dissenter', 'dissident', 'dissolved', 'distance', 'distinct', 'distinctive', 'distinguish', 'distinguished', 'distortion', 'distortionfree', 'distracted', 'distracting', 'distraction', 'distress', 'distributed', 'distribution', 'distributism', 'distributor', 'district', 'distro', 'distros', 'distrotest', 'distrotools', 'distroverify', 'distru', 'distrust', 'disturb', 'disturbing', 'disunity', 'ditch', 'ditched', 'ditching', 'dive', 'divebombing', 'diversified', 'diversion', 'diversity', 'diverted', 'divide', 'divided', 'dividend', 'diving', 'divinity', 'division', 'divisionless', 'divisive', 'divisor', 'divorce', 'divorcing', 'divs', 'dixon', 'diy', 'diyhue', 'dizzying', 'django', 'dji', 'djing', 'djis', 'dl', 'dlc', 'dll', 'dlp', 'dm1', 'dmca', 'dmcaed', 'dna', 'dnabased', 'dnaforcash', 'dnalinked', 'dnarepair', 'dnc', 'dnn', 'dnr', 'dns', 'dnscrypt', 'dnsoverhttps', 'dnsovertls', 'dnssec', 'do', 'doc', 'dock', 'dockcross', 'docker', 'dockerbased', 'dockerfile', 'dockerfiles', 'dockerruncom', 'dockup', 'docli', 'docsumo', 'doctor', 'doctored', 'document', 'documentary', 'documentation', 'documentbased', 'documentdb', 'documented', 'documenting', 'docusign', 'dod', 'dodge', 'dodgy', 'doe', 'doesnt', 'dog', 'dogcollared', 'dogfight', 'dogfish', 'dogfooded', 'dogma', 'doh', 'doityourself', 'doj', 'dokku', 'doldrums', 'doll', 'dollar', 'dolly', 'dolphin', 'dom', 'domain', 'domainoriented', 'domainspecific', 'dome', 'domestic', 'dominance', 'dominate', 'dominated', 'dominates', 'dominating', 'domination', 'dominus', 'doms', 'donaghy', 'donald', 'donate', 'donated', 'donates', 'donation', 'done', 'donejs', 'donkeycar', 'donor', 'donottrack', 'dont', 'doodle', 'doodling', 'doom', 'doomed', 'doomsday', 'door', 'doorbell', 'doordash', 'dopamine', 'doppelgängers', 'doppler', 'dopplerfi', 'dord', 'dormant', 'dorsey', 'dose', 'dossier', 'dot', 'dota', 'dotcom', 'dotfile', 'dotfiles', 'dotnetfsharp', 'double', 'doubled', 'doubledecker', 'doubleentry', 'doublelines', 'doublethink', 'doubt', 'doubtful', 'douchebaggery', 'dough', 'douglas', 'douma', 'dow', 'down', 'downed', 'downfall', 'downgrade', 'downgraded', 'downgrading', 'download', 'downloaded', 'downloading', 'downloads', 'downplay', 'downside', 'downsized', 'downtown', 'downward', 'dox', 'doxxed', 'doxygen', 'dozen', 'dr', 'draconian', 'draft', 'drafted', 'drafting', 'drag', 'draganddrop', 'dragging', 'dragnet', 'dragon', 'dragonblood', 'dragonfly', 'dragontake', 'drain', 'drainage', 'drained', 'draining', 'dram', 'drama', 'dramafree', 'dramatic', 'dramatically', 'drastic', 'drastically', 'draw', 'drawer', 'drawing', 'drawn', 'drc', 'dread', 'dreaded', 'dream', 'dreamcastpowered', 'dreamed', 'dreamer', 'dreaming', 'dreamliners', 'dress', 'dresser', 'dried', 'drift', 'drifting', 'drill', 'drink', 'drinker', 'drinking', 'drive', 'drivechain', 'driven', 'driver', 'driverassist', 'driverkit', 'driverless', 'driverlesscar', 'driving', 'drm', 'drogon', 'drone', 'dronecode', 'dronetargeting', 'droneuav', 'drood', 'drop', 'dropbox', 'dropboxes', 'dropboxs', 'dropcopter', 'dropcss', 'dropgangs', 'dropin', 'dropkick', 'droplet', 'dropout', 'dropped', 'dropping', 'drosophila', 'drought', 'drove', 'drowned', 'drowning', 'drudgery', 'drug', 'drugfueled', 'drugged', 'drugmaker', 'drugmakers', 'drugrelated', 'drugresistant', 'drugsalcoholsexexercise', 'drugstore', 'drummer', 'drunk', 'drunkard', 'drunken', 'drunkendriving', 'drupal', 'dry', 'drying', 'dryio', 'drymail', 'ds', 'ds160', 'ds260', 'dsl', 'dslr', 'dstat', 'dtrace', 'dtreeviz', 'dual', 'duane', 'dubious', 'ducati', 'duchamp', 'duck', 'duckduckgo', 'duckrails', 'duct', 'dude', 'due', 'dueling', 'duke', 'dull', 'dumb', 'dumbass', 'dumber', 'dumbest', 'dummy', 'dump', 'dumped', 'dumping', 'dumpster', 'dunford', 'dungeon', 'dungeondelvexl', 'duo', 'duolingo', 'duopoly', 'duped', 'duplicate', 'durable', 'duration', 'durham', 'dust', 'dust3d', 'dutch', 'duterte', 'duty', 'duxtape', 'dvc', 'dvd', 'dvorak', 'dwarf', 'dwave', 'dwelling', 'dwi', 'dy', 'dying', 'dynamic', 'dynamical', 'dynamically', 'dynamodb', 'dyneti', 'dysfunctional', 'dyson', 'dystopia', 'e', 'e3', 'e3dos', 'e4', 'ea', 'eagle', 'ear', 'earl', 'earlier', 'earliest', 'early', 'early1800s', 'earlystage', 'earn', 'earned', 'earnest', 'earnings', 'earns', 'earnshaws', 'eart', 'earth', 'earthers', 'earthquake', 'earthquakegenerating', 'earthworm', 'ease', 'easier', 'easiest', 'easily', 'east', 'easter', 'eastern', 'easy', 'easydns', 'easyjet', 'easytouse', 'eat', 'eaten', 'eating', 'eats', 'eavesdropping', 'ebates', 'ebay', 'ebikes', 'ebola', 'ebook', 'ebpf', 'ebtrees', 'ebuses', 'ec', 'ec2', 'eccentric', 'ecdsa', 'ecg', 'echelon', 'echo', 'echorequest', 'ecigarette', 'ecigarettes', 'ecl', 'eclipse', 'ecofriendly', 'ecological', 'ecology', 'ecommerce', 'economic', 'economics', 'economist', 'economized', 'economy', 'ecosia', 'ecosystem', 'ecuado', 'ecuador', 'ecuadorian', 'ed', 'ed25519', 'eddie', 'edexui', 'edge', 'edgedb', 'edgewrite', 'edging', 'edible', 'edinburgh', 'edison', 'edit', 'editable', 'editing', 'edition', 'editor', 'editorconfig', 'editorial', 'editoride', 'editorinchief', 'editorjs', 'edits', 'edsac', 'educated', 'education', 'educational', 'edward', 'edwin', 'ee', 'eerily', 'eero', 'eff', 'effect', 'effective', 'effectively', 'effectiveness', 'efficiency', 'efficient', 'efficiently', 'efficientnet', 'effort', 'efi', 'efiling', 'eg', 'egg', 'eglstreams', 'ego', 'egocentered', 'egocentric', 'egypt', 'egyptian', 'eiffel', 'eigen', 'eigengraus', 'eigentrust', 'eigenvectors', 'eight', 'eighteenthcentury', 'eightos', 'einstein', 'einsum', 'eirôn', 'eisvogel', 'either', 'eject', 'ejected', 'eks', 'el', 'elaborate', 'elance', 'elastic', 'elasticache', 'elasticsearch', 'elayyan', 'elderly', 'elected', 'election', 'electionguard', 'elective', 'electoral', 'electric', 'electrical', 'electriccar', 'electricity', 'electrify', 'electrochemical', 'electroconvulsive', 'electromagnet', 'electromagnetic', 'electromigration', 'electron', 'electronic', 'electronics', 'electroquasistatic', 'electrostatic', 'elegant', 'elegy', 'element', 'elementary', 'elephant', 'elevate', 'elevated', 'elevates', 'elevating', 'eleven', 'elf', 'eligible', 'eliminate', 'eliminated', 'eliminating', 'elimination', 'eliot', 'elite', 'elixir', 'elixirphoenix', 'eliza', 'elizabeth', 'elizabth', 'elk', 'elliott', 'elliptic', 'elm', 'elmconf', 'elmpowered', 'elon', 'elsa', 'else', 'elsevier', 'elusive', 'elwyn', 'em', 'ema', 'emacs', 'emag', 'email', 'emaildrop', 'emailharvesting', 'emailstexts', 'embargo', 'embarrassing', 'embassy', 'embattled', 'embed', 'embeddable', 'embedded', 'embeddedandroidpi', 'embedder', 'embedding', 'embeddings', 'ember', 'embodied', 'embodies', 'embrace', 'embraced', 'embracing', 'embroidered', 'embryo', 'emc2', 'emdrive', 'emerge', 'emergence', 'emergency', 'emergent', 'emerges', 'emerging', 'emilia', 'eminent', 'emirati', 'emirp', 'emission', 'emit', 'emits', 'emitted', 'emitter', 'emitting', 'emoji', 'emojis', 'emotion', 'emotional', 'empathy', 'emperor', 'empire', 'empirical', 'employability', 'employed', 'employee', 'employer', 'employersponsored', 'employing', 'employment', 'employmentbased', 'empower', 'empress', 'emptied', 'empty', 'emptying', 'emscripten', 'emu', 'emubook', 'emulate', 'emulates', 'emulating', 'emulation', 'emulator', 'enable', 'enabled', 'enables', 'enabling', 'enact', 'encampment', 'enchantment', 'encoded', 'encoder', 'encoders', 'encoding', 'encounter', 'encourage', 'encrypt', 'encrypted', 'encrypting', 'encryption', 'encryptionbusting', 'encrypts', 'encryupted', 'encyclopedia', 'end', 'endanger', 'endangered', 'ended', 'enderby', 'endgame', 'ending', 'endless', 'endlessh', 'endlessly', 'endocannabinoids', 'endoflifedate', 'endofunctors', 'endorsed', 'endorses', 'endpoint', 'endtoend', 'endurance', 'enduring', 'enduser', 'enema', 'enemy', 'energy', 'energybased', 'energyefficient', 'energyefficiently', 'energystorage', 'enforce', 'enforced', 'enforcement', 'engage', 'engaged', 'engaging', 'engi', 'engine', 'engineer', 'engineered', 'engineering', 'engineersarchitects', 'england', 'englanders', 'english', 'englishman', 'enhance', 'enhanced', 'enhancement', 'enhances', 'enhancing', 'eniac', 'enigma', 'enjoy', 'enjoyable', 'enjoyed', 'enjoying', 'enlightenment', 'enlists', 'enlyte', 'enormous', 'enough', 'enquire', 'enquirer', 'enrages', 'enriched', 'enrolled', 'enrolls', 'ensemble', 'ensnares', 'ensnaring', 'enso', 'ensues', 'ensuring', 'entangled', 'entanglement', 'enter', 'entered', 'entering', 'enterprise', 'enterprisegrade', 'enterpriseification', 'enters', 'entertaining', 'entertainment', 'enthusiast', 'entire', 'entirely', 'entitlement', 'entity', 'entrance', 'entrepreneur', 'entrepreneurism', 'entropic', 'entropy', 'entry', 'entrylevel', 'enumerable', 'enums', 'envelope', 'enviro', 'environment', 'environmental', 'environmentalism', 'environmentalist', 'envoy', 'envy', 'enzyme', 'eo', 'eocene', 'eof', 'eol', 'eon', 'eosdis', 'epa', 'eparticipation', 'ephemeral', 'ephemerand', 'ephemerial', 'epic', 'epidemic', 'epigenetic', 'epilepsy', 'epileptic', 'episode', 'episodic', 'epistemic', 'epoll', 'epub', 'epyc', 'epycs', 'equal', 'equality', 'equally', 'equation', 'equifax', 'equifaxstyle', 'equilibrium', 'equipment', 'equity', 'equivalent', 'er', 'era', 'eradicate', 'eradicated', 'erased', 'erasing', 'erasure', 'eratosthenes', 'erdogan', 'erdos', 'ereader', 'erectus', 'ergonomics', 'eric', 'erica', 'erickson', 'erie', 'erik', 'erin', 'erlang', 'ernest', 'erodes', 'eroding', 'erratically', 'errol', 'erroneously', 'error', 'errorcorrecting', 'eruption', 'erwin', 'es6', 'esa', 'escalated', 'escalates', 'escalation', 'escape', 'escaped', 'escaperoom', 'escapetime', 'escaping', 'escapism', 'escobar', 'escooter', 'escooters', 'esgy', 'esketamine', 'eslint', 'esolangvm', 'esoteric', 'esp32', 'esp32s2', 'esp8266', 'especially', 'espionage', 'esports', 'espressif', 'essay', 'essayist', 'essen', 'essence', 'essential', 'essentially', 'est', 'establish', 'established', 'estate', 'esteem', 'estimate', 'estimated', 'estimating', 'estimation', 'estonia', 'estonian', 'estwick', 'esy', 'et', 'et302', 'etc', 'etcresolvconf', 'eternal', 'etf', 'eth', 'ethanol', 'ethercombing', 'ethereum', 'ethereums', 'ethernet', 'ethic', 'ethical', 'ethically', 'ethicist', 'ethiopia', 'ethiopian', 'etiquette', 'etl', 'etrade', 'etron', 'etruscan', 'ets', 'etsy', 'etten', 'eu', 'euboea', 'euclid', 'eudora', 'eufunded', 'eugene', 'euler', 'eulogy', 'euphrates', 'eur', 'euro', 'europa', 'europe', 'european', 'eurozone', 'euthanasia', 'euthanized', 'euwide', 'ev', 'eva', 'evacuation', 'evade', 'evades', 'evaluate', 'evaluated', 'evaluating', 'evaluation', 'evaluator', 'evan', 'evangelist', 'evaporated', 'evaporating', 'eve', 'eveem', 'even', 'event', 'eventdriven', 'eventful', 'eventually', 'ever', 'evercrypt', 'everest', 'evergreen', 'evernote', 'everquest', 'evershrinking', 'every', 'everybody', 'everyday', 'everyone', 'everything', 'everytime', 'everywhere', 'eviction', 'evidence', 'evil', 'evocative', 'evolution', 'evolutionary', 'evolve', 'evolved', 'evolves', 'evolving', 'evoting', 'ew', 'ex', 'exact', 'exactitude', 'exaggerated', 'exam', 'examination', 'examine', 'examines', 'examining', 'example', 'exascale', 'exblackwater', 'excavates', 'exceed', 'exceeded', 'exceeding', 'exceeds', 'excel', 'excelsior', 'except', 'exception', 'exceptionalism', 'exceptionally', 'excercise', 'excerpt', 'excess', 'excessive', 'excessively', 'exchange', 'excia', 'excitation', 'excited', 'exciting', 'exclude', 'excluded', 'exclusive', 'exclusivity', 'excommunicated', 'excons', 'excuse', 'exe', 'exec', 'executable', 'executables', 'execute', 'executed', 'executes', 'executing', 'execution', 'executive', 'exemployer', 'exempt', 'exercise', 'exfacebook', 'exfiltrate', 'exgoogle', 'exgooglers', 'exguardian', 'exhaustion', 'exhaustive', 'exiled', 'exist', 'existed', 'existence', 'existing', 'exists', 'exit', 'exiting', 'exmember', 'exmozilla', 'exnsa', 'exodus', 'exoplanet', 'exoplanets', 'exotic', 'expand', 'expanding', 'expandrive', 'expands', 'expanse', 'expansibility', 'expansion', 'expect', 'expectancy', 'expectation', 'expected', 'expecting', 'expects', 'expedition', 'expel', 'expelled', 'expels', 'expend', 'expendables', 'expends', 'expense', 'expensive', 'experience', 'experienced', 'experiencing', 'experiment', 'experimental', 'experimentation', 'experimenting', 'expert', 'expertise', 'expiration', 'expire', 'expired', 'expiry', 'explain', 'explainability', 'explained', 'explainer', 'explaining', 'explains', 'explanation', 'explanatory', 'explicitly', 'explode', 'exploded', 'exploding', 'exploit', 'exploitation', 'exploited', 'exploiting', 'exploitresistant', 'exploration', 'exploratory', 'explore', 'explored', 'explorer', 'explores', 'exploring', 'explosion', 'explosive', 'explosively', 'expo', 'exponential', 'export', 'exported', 'exporting', 'expose', 'exposed', 'exposing', 'exposure', 'exposé', 'express', 'expressing', 'expression', 'expressjs', 'exsecurity', 'exspectre', 'extend', 'extendable', 'extended', 'extending', 'extends', 'extensible', 'extension', 'extensive', 'extent', 'extentions', 'external', 'extinct', 'extinction', 'extortion', 'extra', 'extract', 'extracting', 'extraction', 'extradition', 'extramaze', 'extraordinary', 'extraterrestrial', 'extraterritoriality', 'extravagant', 'extreme', 'extremely', 'extremenet', 'extremism', 'exuberant', 'exwife', 'exwm', 'exxon', 'exyoutube', 'eye', 'eyecatching', 'eyedisk', 'eyesight', 'eyewear', 'eyewitness', 'f', 'f1', 'f14', 'f16', 'f18', 'f35', 'f35laden', 'f35s', 'f5', 'f64', 'f8', 'f91w', 'faa', 'faang', 'faastjs', 'faber', 'fabled', 'fabric', 'fabricated', 'fabricating', 'fabrication', 'fabrix', 'face', 'facebook', 'facebookexecutive', 'facebookowned', 'facebooks', 'faced', 'facerank', 'facerecognition', 'faceswap', 'facetime', 'facetoface', 'facial', 'facialrecognition', 'facilio', 'facilitate', 'facilitating', 'facing', 'fact', 'factchecked', 'factchecking', 'factor', 'factorio', 'factorization', 'factory', 'faculty', 'fad', 'fade', 'fading', 'faecal', 'faeces', 'fahrenheit', 'fail', 'failed', 'failing', 'failover', 'fails', 'failsafe', 'failure', 'fair', 'faire', 'fairing', 'fairly', 'fairy', 'fairylog', 'faith', 'fake', 'fakeanythings', 'fakebook', 'faked', 'faker', 'faking', 'falafel', 'falcon', 'falkirk', 'fall', 'fallacious', 'fallacy', 'fallback', 'fallen', 'falling', 'fallout', 'false', 'falsehood', 'falsely', 'falsifiable', 'falsificationism', 'falsificationist', 'falsified', 'fambam', 'fame', 'famed', 'familia', 'familiar', 'family', 'familytreedna', 'famous', 'fan', 'fanaticism', 'fancy', 'fandango', 'fandom', 'fanon', 'fantasia', 'fantastic', 'fantasy', 'faq', 'faqtor', 'far', 'fare', 'farewell', 'fargate', 'fargo', 'farm', 'farmed', 'farmer', 'farming', 'farmnet', 'farquhar', 'farrakhan', 'farright', 'fascinating', 'fascination', 'fashion', 'fast', 'fastai', 'fastapi', 'fastdom', 'fastentry', 'faster', 'fastest', 'fastfood', 'fastgrowing', 'fasting', 'fastly', 'fastlys', 'fastmail', 'fastmoving', 'fastqre', 'fastscalable', 'fasttext', 'fasttrack', 'fat', 'fatal', 'fatalism', 'fatberg', 'fatboy', 'fate', 'fatelf', 'father', 'fathom', 'fatigue', 'faucetpipeline', 'fault', 'faultinjection', 'faulty', 'faunadb', 'faux', 'favela', 'favicon', 'faviorte', 'favor', 'favored', 'favoring', 'favorite', 'favour', 'favourite', 'faxing', 'fb', 'fbi', 'fbp', 'fcc', 'fda', 'fdp', 'fear', 'fearbased', 'fearful', 'fearing', 'fearless', 'feast', 'feather', 'feature', 'featured', 'feb', 'february', 'fecal', 'feces', 'fed', 'federal', 'federated', 'federation', 'fedex', 'fedor', 'fedora', 'fedriga', 'fee', 'feeble', 'feed', 'feedback', 'feeding', 'feefree', 'feel', 'feeling', 'feigenbaum', 'feisty', 'fell', 'fellow', 'fellowship', 'felon', 'felony', 'felt', 'female', 'femaleminority', 'fence', 'fend', 'fenix', 'feral', 'ferlinghetti', 'fermat', 'fermentation', 'fermi', 'ferret', 'ferrock', 'ferroelectric', 'ferry', 'fershteyn', 'fertility', 'fertilizer', 'fervor', 'fescar', 'festival', 'fests', 'fetal', 'fetish', 'feud', 'feudal', 'fever', 'fewer', 'fewmaintainer', 'fex', 'feynman', 'ff', 'fff', 'ffi', 'ffmpeg', 'ffsend', 'fh', 'fi', 'fiasco', 'fiat', 'fiber', 'fiberbots', 'fibonacci', 'fibre', 'fibrea', 'fiction', 'fictionalize', 'fidelity', 'fido', 'fiduciary', 'field', 'fieldbus', 'fifteen', 'fifteenyearold', 'fifth', 'fifty', 'fig', 'fight', 'fighter', 'fighting', 'figma', 'figure', 'figured', 'file', 'filecoin', 'filed', 'filedisclose', 'fileless', 'filename', 'filesend', 'fileslocker', 'filesystem', 'filesystems', 'filetypes', 'filing', 'fill', 'filled', 'filling', 'film', 'filmed', 'filming', 'filmmaker', 'fils', 'filsaime', 'filter', 'filtered', 'filtering', 'final', 'finalised', 'finalist', 'finalize', 'finalizing', 'finally', 'finance', 'financed', 'financial', 'financier', 'financing', 'find', 'findchips', 'finder', 'finding', 'findjars', 'fine', 'fined', 'finegrained', 'finetuned', 'finetuning', 'finfisher', 'finger', 'fingerprint', 'fingerprinter', 'fingerprinting', 'fining', 'finish', 'finished', 'finite', 'finland', 'finnish', 'fintech', 'fire', 'fireable', 'firealldevelopers', 'firearm', 'fireball', 'firebase', 'firecracker', 'fired', 'firefighter', 'firefly', 'firefox', 'firefoxnormandypreferencerollout', 'firefoxs', 'firehose', 'firehydrant', 'firestore', 'firewall', 'firing', 'firm', 'firmware', 'first', 'firstclass', 'firstever', 'firstofitskind', 'firstorder', 'firstparty', 'firstperson', 'firstquarter', 'fiscal', 'fish', 'fisher', 'fisherprice', 'fist', 'fit', 'fitness', 'fitting', 'fitzgerald', 'five', 'fivedecadelong', 'fiverr', 'fiveseater', 'fivestar', 'fivethirtyeight', 'fivethirtyeights', 'fiveyear', 'fix', 'fixating', 'fixd', 'fixed', 'fixing', 'fixture', 'fizzbuzz', 'fl', 'fla', 'flag', 'flagged', 'flagging', 'flagship', 'flair', 'flaky', 'flame', 'flamethrower', 'flappy', 'flare', 'flared', 'flash', 'flasher', 'flashing', 'flashrom', 'flask', 'flaskbased', 'flat', 'flatfile', 'flatout', 'flatpak', 'flatten', 'flatter', 'flattery', 'flavor', 'flavoring', 'flaw', 'flawed', 'fled', 'flee', 'fleecing', 'fleeing', 'fleet', 'flesh', 'flew', 'flex', 'flexa', 'flexbox', 'flexgate', 'flexibility', 'flexible', 'flexport', 'flickr', 'flier', 'flight', 'flightcontrol', 'flightplanning', 'flightradar24', 'flink', 'flinks', 'flint', 'flintstone', 'flip', 'flipboard', 'flipbook', 'flipper', 'flipping', 'flipt', 'flirt', 'floating', 'flock', 'flood', 'flooded', 'flooding', 'floor', 'flop', 'floppy', 'florence', 'florian', 'florida', 'floss', 'flow', 'flow9', 'flowbased', 'flowblade', 'flowchart', 'flower', 'flowlingo', 'floyd', 'floydhub', 'fltrdr', 'flu', 'flub', 'fluency', 'fluent', 'fluid', 'fluidkeys', 'flummox', 'flummoxing', 'fluorescence', 'flush', 'flushable', 'flutter', 'flux', 'fluxreadings', 'flvtobiz', 'fly', 'flyer', 'flying', 'flyingv', 'flyover', 'fm', 'fma', 'fnm', 'fo', 'foal', 'foam', 'fob', 'focus', 'focused', 'focusing', 'foe', 'fog', 'fogbank', 'foggy', 'foia', 'foiled', 'fold', 'foldable', 'folder', 'folding', 'folk', 'folktale', 'follow', 'followed', 'follower', 'following', 'follows', 'followup', 'folly', 'fomu', 'font', 'food', 'fool', 'fooled', 'fooling', 'foolish', 'foot', 'footage', 'football', 'footnote', 'footpath', 'footprint', 'footstep', 'forbes', 'forbid', 'forbidden', 'force', 'forced', 'forcibly', 'forcing', 'ford', 'fordlandia', 'fordowned', 'forecast', 'forecaster', 'forecasting', 'foreflight', 'foreign', 'foreigner', 'foreignowned', 'forensic', 'forensics', 'forerunner', 'foreseen', 'forest', 'forever', 'forge', 'forger', 'forgery', 'forget', 'forgets', 'forgettance', 'forgetting', 'forgiveness', 'forgoes', 'forgot', 'forgotten', 'fork', 'forking', 'forklift', 'form', 'formal', 'formally', 'formallyverified', 'format', 'formation', 'formatpatch', 'formatter', 'formatting', 'formed', 'former', 'formerly', 'forming', 'formosan', 'formula', 'formulation', 'forprofit', 'forsen', 'fort', 'forth', 'forthbased', 'fortnite', 'fortran', 'fortress', 'fortune', 'forty', 'forum', 'forward', 'forwardcom', 'forwarding', 'fosdem', 'fossil', 'fossilised', 'fossilized', 'foucault', 'fought', 'foul', 'found', 'foundation', 'foundationdb', 'founded', 'founder', 'founding', 'foundry', 'fountainhead', 'four', 'fourday', 'fourier', 'fournier', 'foursquare', 'fourteen', 'fourth', 'fouryear', 'fouryearold', 'fovea', 'fox', 'foxconn', 'foxconns', 'fp', 'fpga', 'fpgadnn', 'fpgas', 'frackers', 'fractal', 'fractional', 'fractured', 'fragile', 'fragment', 'fragmentation', 'fragmented', 'frame', 'framer', 'framework', 'frameworkindependent', 'franca', 'france', 'franciscan', 'francisco', 'franciscos', 'frank', 'frankenpad', 'frankfurt', 'frans', 'frantic', 'frantz', 'françoise', 'fraud', 'fraudster', 'fraudulent', 'fraudulently', 'fray', 'freak', 'freaking', 'fred', 'frederick', 'free', 'freebsd', 'freecad', 'freecivweb', 'freecodecamp', 'freediscounted', 'freedom', 'freedombox', 'freefall', 'freelance', 'freelancer', 'freelancercom', 'freelancing', 'freeman', 'freepascal', 'freeschool', 'freesoftware', 'freetier', 'freeware', 'freeway', 'freeze', 'freezersurvive', 'freight', 'fremont', 'french', 'freno', 'frequency', 'frequent', 'frequently', 'fresh', 'freshly', 'freshman', 'freund', 'fricas', 'frictionless', 'frida', 'friday', 'fridge', 'frie', 'fried', 'friedrich', 'friend', 'friendliness', 'friendly', 'friendship', 'frieze', 'frightening', 'froebel', 'frog', 'front', 'frontal', 'frontend', 'frontends', 'frontier', 'frontpage', 'frosted', 'froze', 'frozen', 'fruit', 'frustrating', 'fry', 'fscking', 'fseries', 'fsev', 'fsf', 'fsharp', 'fswatch', 'fsync', 'ft', 'ftc', 'ftw', 'fu', 'fuchsia', 'fuck', 'fucked', 'fucking', 'fuckjerry', 'fud', 'fuel', 'fueled', 'fuelling', 'fuing', 'fujifilm', 'fukushima', 'fulcro', 'fulfillment', 'full', 'fullcalendar', 'fuller', 'fullfeatured', 'fullflow', 'fullfullstack', 'fullmemory', 'fullproduction', 'fullscale', 'fullsize', 'fullstack', 'fullsystem', 'fulltext', 'fulltime', 'fully', 'fullymanaged', 'fumed', 'fun', 'function', 'functional', 'functionality', 'fund', 'fundamental', 'fundamentally', 'funded', 'funder', 'funding', 'fundraising', 'funeral', 'fungi', 'fungus', 'funlinkat', 'funnel', 'funniest', 'furious', 'furloughed', 'furniture', 'furor', 'furthest', 'fury', 'fuschia', 'fuse', 'fusion', 'fusuma', 'futarchy', 'futhark', 'futile', 'futility', 'future', 'futurism', 'futuristic', 'futurologist', 'fuzz', 'fuzzbuzz', 'fuzzer', 'fuzzing', 'fuzzy', 'fvoid', 'fxmsp', 'fxtec', 'fy19', 'fyne', 'fyre', 'føcal', 'g', 'g20', 'g5', 'g7', 'ga', 'gab', 'gabbard', 'gabcoms', 'gabe', 'gabon', 'gadget', 'gadgetbahn', 'gadts', 'gag', 'gaia', 'gaiman', 'gain', 'gained', 'gaining', 'gal', 'galactic', 'galapagos', 'galaxy', 'galaxyscale', 'galileo', 'galio', 'gall', 'gallery', 'gallon', 'galperin', 'galveston', 'gambero', 'gamble', 'gambler', 'gambling', 'game', 'gameboy', 'gameboylive', 'gamechanger', 'gameday', 'gameful', 'gamepads', 'gameplay', 'gamer', 'gamestorming', 'gaming', 'gamma', 'gammaray', 'gan', 'ganbreeder', 'gandi', 'gandul', 'gang', 'gangster', 'gans', 'ganvatar', 'ganz', 'gap', 'garage', 'garbage', 'garden', 'gardening', 'gardner', 'garfield', 'garner', 'garriott', 'garuda', 'gary', 'gas', 'gase', 'gaslight', 'gaslighted', 'gaslighting', 'gasoline', 'gaspowered', 'gastrointestinal', 'gate', 'gatekeeper', 'gateway', 'gather', 'gathered', 'gathering', 'gatsbygitbookstarter', 'gatwick', 'gaudí', 'gaugan', 'gauss', 'gaussian', 'gave', 'gavin', 'gay', 'gaydar', 'gazilliondollar', 'gb', 'gbatteries', 'gbh', 'gboard', 'gbppr', 'gbps', 'gc', 'gcc', 'gcd', 'gchq', 'gcn', 'gcp', 'gdb', 'gdc', 'gdocs', 'gdp', 'gdpr', 'ge', 'gear', 'gearset', 'geek', 'geekbench', 'geforce', 'gegl', 'geist', 'gellmann', 'gem', 'gen', 'gen11', 'gen4', 'gen8', 'gender', 'genderblind', 'genderdiscrimination', 'genderless', 'gene', 'genealogy', 'geneedited', 'geneediting', 'genehacked', 'general', 'generalised', 'generalist', 'generalization', 'generalize', 'generalized', 'generally', 'generalpurpose', 'generate', 'generated', 'generates', 'generating', 'generation', 'generational', 'generative', 'generativefm', 'generator', 'generic', 'generous', 'genesis', 'genetic', 'genetically', 'genius', 'geniuscom', 'genocide', 'genode', 'genome', 'genomic', 'genomics', 'genre', 'gentle', 'gentleman', 'gentler', 'gentrification', 'genuine', 'genx', 'geo', 'geoblocking', 'geocode', 'geocoordinates', 'geoengineering', 'geofencing', 'geoff', 'geoffrey', 'geographical', 'geography', 'geohash', 'geoip', 'geolocalized', 'geolocation', 'geologic', 'geological', 'geometria', 'geometric', 'geometry', 'george', 'georgetown', 'georgia', 'geoserver', 'geospatial', 'geothermal', 'gerald', 'gerard', 'germ', 'german', 'germany', 'germkilling', 'gertrude', 'gestalt', 'gestapo', 'gesture', 'get', 'getaround', 'getting', 'getty', 'gfile', 'gfu', 'gfwaas', 'gfx', 'ggplot', 'ggplot2', 'gh', 'ghetto', 'ghidra', 'ghosn', 'ghost', 'ghosted', 'ghostifi', 'ghosting', 'ghostscript', 'ghostwritten', 'ghraib', 'ghz', 'gi', 'giacconi', 'giant', 'gibney', 'giertz', 'gif', 'gif2xlsx', 'gifs', 'gift', 'gifted', 'giftedness', 'gig', 'gigabit', 'gigabyte', 'gigafactory', 'gigantic', 'giistr', 'gil', 'gilbert', 'gilliam', 'gimlet', 'gimli', 'gimmick', 'gimp', 'gingivalis', 'ginsberg', 'ginseng', 'giorgia', 'giraffe', 'girard', 'giridharadas', 'girl', 'girlfriend', 'git', 'git9', 'gita', 'gitea', 'github', 'githubs', 'gitin', 'gitlab', 'gitlabs', 'gitnews', 'gitops', 'gitpod', 'gitprime', 'gitsignatures', 'give', 'givecrypto', 'given', 'givenwhenthen', 'giving', 'gke', 'glacier', 'gladwells', 'glamorous', 'glance', 'glasgow', 'glass', 'glassdoor', 'glauert', 'glaxosmithkline', 'glazman', 'gleam', 'glen', 'glfw', 'glibc', 'gliblike', 'glide', 'gliding', 'glimmer', 'glimpse', 'glitch', 'glitching', 'global', 'globalisation', 'globality', 'globalization', 'globally', 'globalthis', 'globe', 'glorifying', 'glory', 'glossary', 'glove', 'glow', 'glowing', 'glsl', 'gltr', 'glue', 'glut', 'glvalues', 'glyph', 'glyphosate', 'glyphosatebased', 'gm', 'gmachine', 'gmail', 'gmailindependent', 'gmos', 'gnome', 'gnu', 'gnucash', 'gnucobol', 'gnukey', 'gnulinux', 'gnulinuxlibre', 'gnupg', 'gnuplot', 'go', 'goahead', 'goal', 'goat', 'gobbling', 'gobi', 'gobike', 'goblet', 'gocatch', 'god', 'godaddy', 'godaddys', 'goddamn', 'goddess', 'godfather', 'godot', 'godson3', 'goes17', 'gofundme', 'gogh', 'going', 'golan', 'golang', 'gold', 'golden', 'goldilocks', 'goldman', 'golem', 'golf', 'golfing', 'goliath', 'golike', 'golinks', 'golomb', 'golunov', 'gomacro', 'gone', 'gong', 'gonna', 'goo', 'good', 'goodbye', 'goodfellow', 'goodlooking', 'goodly', 'goodness', 'goof', 'goofylooking', 'googl', 'google', 'googlebot', 'googlecom', 'googlefacebook', 'googlefree', 'googlelinked', 'googleoracle', 'googlers', 'googlewalkout', 'googling', 'goose', 'goosebump', 'gop', 'gopenpgp', 'gopher', 'gophercon', 'gopherspace', 'gopls', 'goretex', 'gorey', 'gorging', 'gorilla', 'goro', 'goroutines', 'gossip', 'gossiprio', 'gost', 'gostyle', 'got', 'gothic', 'gothiccyberpunk', 'gotify', 'goto', 'gotta', 'gotten', 'gou', 'gouging', 'gov', 'governance', 'governed', 'government', 'governmentbanned', 'governmentfriendly', 'governmentwide', 'governor', 'govt', 'gp6', 'gpa', 'gpg', 'gpi', 'gpipe', 'gpl', 'gps', 'gpsbased', 'gpsonly', 'gpt', 'gpt2', 'gpu', 'gpubased', 'gpujs', 'gpupowered', 'gpus', 'gpusentry', 'gpuvideodecode', 'graaljs', 'graalvm', 'grab', 'graceful', 'grad', 'grade', 'grader', 'gradient', 'gradientflow', 'grading', 'gradle', 'graduate', 'graduating', 'graduation', 'graf', 'grafana', 'graffiti', 'graft', 'graham', 'grail', 'grain', 'gram', 'grammar', 'grammarly', 'grand', 'grandfather', 'grandmother', 'grandpa', 'grandparent', 'grandson', 'grant', 'granted', 'grantham', 'grape', 'grapesjs', 'grapevine', 'graph', 'graph2vec', 'graphblas', 'graphene', 'graphenebased', 'grapheneos', 'graphenepython', 'graphic', 'graphical', 'graphically', 'graphicsmagick', 'graphique', 'graphite', 'graphiti', 'grapho', 'graphql', 'graphql2chartjs', 'grassland', 'grassroots', 'grateful', 'grave', 'gravel', 'gravely', 'gravestone', 'gravitational', 'gravitationalwave', 'gravity', 'gray', 'graying', 'greasy', 'great', 'greater', 'greatest', 'greatfire', 'greed', 'greedy', 'greek', 'green', 'greener', 'greenery', 'greenhouse', 'greening', 'greenland', 'greenlight', 'greenpeace', 'greenspan', 'greenwich', 'greeter', 'gremlin', 'grenell', 'grep', 'greta', 'grew', 'grid', 'gridscale', 'grievance', 'grilled', 'grim', 'grimoire', 'grin', 'grind', 'grindr', 'grindrs', 'grip', 'griping', 'gripper', 'grisp', 'grit', 'grizzly', 'grocer', 'groceriesfoodpackages', 'grocery', 'groden', 'groomed', 'groped', 'gropius', 'gross', 'grossman', 'grothendieck', 'ground', 'groundbreaking', 'grounded', 'grounding', 'groundwater', 'groundwork', 'group', 'grouping', 'grove', 'grover', 'grow', 'growing', 'grown', 'grownup', 'grows', 'growth', 'grpc', 'grubhub', 'grueling', 'gruesome', 'grumpy', 'grundig', 'gröbner', 'gstreamer', 'gsuite', 'gtc', 'gtx', 'guacamole', 'guaido', 'guantanamo', 'guantánamo', 'guarantee', 'guaranteed', 'guard', 'guardian', 'guardianship', 'guatemala', 'guatemalan', 'guerillaclickgmailcom', 'guerrilla', 'guess', 'guessed', 'guessing', 'guest', 'guestboard', 'gui', 'guics', 'guidance', 'guide', 'guidebook', 'guided', 'guideline', 'guiding', 'guido', 'guidothe', 'guids', 'guild', 'guile', 'guilite', 'guilty', 'guin', 'guinea', 'guise', 'guitar', 'guitarist', 'guix', 'gujarat', 'gulag', 'gum', 'gumroad', 'gun', 'gundlach', 'gunfire', 'gunk', 'gunman', 'gunn', 'gunpoint', 'gunshot', 'gurdjieff', 'guru', 'gustav', 'gut', 'gutenberg', 'gutted', 'gutter', 'gutting', 'guy', 'gw', 'gwern', 'gwerns', 'gwyneth', 'gygax', 'gyllenhaal', 'gym', 'gymnast', 'gynandromorph', 'gödel', 'gödels', 'gömböc', 'götze', 'h', 'h1b', 'h2', 'h264', 'h4', 'haagendazs', 'habakkuk', 'habana', 'habit', 'habitat', 'hack', 'hackable', 'hacked', 'hacker', 'hackerfriendly', 'hackernews', 'hackernoon', 'hackernooncom', 'hackeroco', 'hackerone', 'hackerrank', 'hacking', 'hackintosh', 'hacksc', 'hacktivist', 'hadacol', 'hadoop', 'hagfish', 'haggadot', 'hai', 'haiku', 'hailed', 'hair', 'haiti', 'half', 'halfadder', 'halftruths', 'halfway', 'halibut', 'hall', 'halley', 'hallmark', 'hallucination', 'halo', 'halt', 'halted', 'halting', 'haltingly', 'halving', 'ham', 'hamas', 'hamburg', 'hamburglar', 'hamilton', 'hamming', 'hammond', 'hampering', 'hanabi', 'hand', 'handbook', 'handbrake', 'handbrewing', 'handcuff', 'handful', 'handgun', 'handheld', 'handle', 'handled', 'handling', 'handmade', 'handmaiden', 'handpainted', 'handpicked', 'handsfree', 'handshake', 'handson', 'handsontable', 'handwriting', 'handwritten', 'handy', 'hanford', 'hang', 'hanged', 'hangout', 'hangover', 'hangxiety', 'hanko', 'hannibal', 'hanoi', 'hanselman', 'hansmeier', 'hansson', 'hanzi', 'happen', 'happened', 'happening', 'happens', 'happier', 'happiest', 'happily', 'happiness', 'happy', 'haproxy', 'haptic', 'hara', 'harass', 'harassed', 'harassing', 'harassment', 'harbor', 'hard', 'hardback', 'hardcoded', 'hardcore', 'hardening', 'hardens', 'harder', 'hardest', 'hardly', 'hardship', 'hardtech', 'hardware', 'hardwarebacked', 'hardwaresoftware', 'hardwired', 'hardworking', 'hare', 'harm', 'harmful', 'harmless', 'harmonization', 'harmonizing', 'harmopark', 'harmreduction', 'harness', 'harnessing', 'harold', 'harp', 'harper', 'harpoon', 'harried', 'harris', 'harry', 'harsh', 'harshly', 'hart', 'harvard', 'harvested', 'harvester', 'harvesting', 'hasan', 'hash', 'hashbrown', 'hashcat', 'hashed', 'hashicorp', 'hashing', 'hashtag', 'haskell', 'hasnt', 'hassabis', 'hasslefree', 'hastings', 'hasura', 'hat', 'hatari', 'hate', 'hated', 'hater', 'hathaway', 'hating', 'haul', 'haunt', 'haunted', 'havana', 'have', 'haven', 'havent', 'haversine', 'havilland', 'havoc', 'hawaii', 'hawaiian', 'hawk', 'hawking', 'hay', 'hayabusa2', 'hazard', 'hazardous', 'hb', 'hbo', 'hbos', 'hcl', 'hcl2', 'hd', 'hdl', 'hdmi', 'hdr', 'he', 'head', 'headache', 'headcount', 'headed', 'header', 'headernames', 'heading', 'headless', 'headlight', 'headline', 'headphone', 'headquarters', 'headset', 'headwind', 'healing', 'health', 'healthcare', 'healthier', 'healthiest', 'healthy', 'heap', 'hear', 'heard', 'hearing', 'heart', 'heartbleed', 'heartbreaking', 'heat', 'heated', 'heater', 'heather', 'heathrow', 'heating', 'heatloving', 'heatmap', 'heatwave', 'heaven', 'heaviest', 'heavily', 'heavilycommented', 'heavy', 'heavyhanded', 'hebborn', 'hedge', 'hedgefund', 'hedgehog', 'hedging', 'hedonism', 'heel', 'hefferon', 'hegelian', 'heidisql', 'height', 'heightened', 'heightens', 'heilmeier', 'heinemeier', 'heinlein', 'heir', 'heirloom', 'heist', 'held', 'helenos', 'helicopter', 'helicopterplane', 'helium', 'hell', 'hellish', 'hello', 'hellosign', 'hellworld', 'helm', 'helmet', 'help', 'helped', 'helper', 'helpful', 'helping', 'helplessness', 'helpwanted', 'helsinki', 'helvetica', 'hemingway', 'hemisphere', 'hemorrhaging', 'hemp', 'henri', 'henrik', 'henry', 'henson', 'herakles', 'herbicide', 'herd', 'here', 'heritage', 'hermes', 'hermit', 'hermitux', 'hero', 'herodotus', 'heroic', 'heroin', 'heroku', 'herpes', 'hertz', 'hesitate', 'hestia', 'hevc', 'hewitt', 'hewlett', 'hewlettpackard', 'hex', 'hexadecimal', 'hexagdly', 'hexagon', 'hexagonal', 'hexyl', 'hey', 'heyfromthefuture', 'heying', 'hftlike', 'hg', 'hhvm', 'hiatus', 'hickey', 'hickok', 'hid', 'hidden', 'hiddenwasp', 'hide', 'hiding', 'hierarchical', 'hierarchy', 'hif1', 'hifive1', 'higgs', 'high', 'highassurance', 'highcarb', 'highdeductible', 'highdose', 'highend', 'higher', 'higherorder', 'higherrate', 'highest', 'highflying', 'highfrequency', 'highinterest', 'highlevel', 'highlight', 'highlighter', 'highlighting', 'highload', 'highly', 'highlyavailable', 'highlyconfigurable', 'highperformance', 'highpowered', 'highquality', 'highres', 'highrisk', 'highschool', 'highsecurity', 'highskilled', 'highsmith', 'highspeed', 'hightax', 'hightech', 'highthroughput', 'highway', 'highwayhash', 'hijab', 'hijack', 'hijacked', 'hijacking', 'hike', 'hiked', 'hikikomori', 'hiking', 'hikvision', 'hilarious', 'hilbert', 'hill', 'hillsborough', 'hillshaded', 'hilma', 'himalayan', 'hinders', 'hinman', 'hint', 'hinton', 'hip', 'hiphop', 'hipster', 'hirable', 'hire', 'hired', 'hiring', 'hiroshima', 'hiroyuki', 'hiseq', 'histogram', 'historian', 'historic', 'historical', 'historically', 'history', 'hit', 'hitch', 'hitched', 'hitchhiker', 'hitech', 'hiten', 'hitler', 'hitman', 'hitting', 'hiv', 'hive', 'hk', 'hks', 'hl', 'hledger', 'hn', 'hnacademy', 'hncynic', 'hnhow', 'hnlike', 'hnrecommended', 'hnskillstools', 'hnstyle', 'hoard', 'hoarder', 'hoarding', 'hoare', 'hoax', 'hobbes', 'hobbled', 'hobbling', 'hobby', 'hobbyhorse', 'hobo', 'hockney', 'hode', 'hoffman', 'hofmeier', 'hold', 'holding', 'holdout', 'hole', 'holedark', 'holiday', 'holidify', 'holist', 'holland', 'hollow', 'hollywood', 'holmes', 'holocaust', 'holodeck', 'holographic', 'holography', 'hololens', 'holowaychuk', 'holtwinters', 'holy', 'holzhauer', 'home', 'homebrew', 'homebuilt', 'homebuyers', 'homecoming', 'homegrown', 'homeimprovement', 'homelab', 'homeland', 'homeless', 'homelessness', 'homemade', 'homeokinetics', 'homeostasis', 'homeowner', 'homeownership', 'homepage', 'homer', 'homeschooling', 'homescreen', 'homework', 'homicide', 'hominin', 'homo', 'homogeneity', 'homology', 'homomorphic', 'homophobic', 'homosexual', 'homosexuality', 'honda', 'hone', 'honest', 'honesty', 'honey', 'honeypot', 'honeywell', 'hong', 'hongmeng', 'honor', 'honorable', 'honored', 'honour', 'hood', 'hoofprint', 'hook', 'hooke', 'hooksbased', 'hookup', 'hope', 'hopeful', 'hopeless', 'hopepunk', 'hoping', 'hopkins', 'horgan', 'horizon', 'horologist', 'horowitz', 'horrific', 'horrified', 'horrifies', 'horrifying', 'horrifyingly', 'horror', 'horse', 'horsejs', 'horseman', 'horserace', 'hospital', 'hospitality', 'host', 'hostage', 'hosted', 'hostile', 'hostility', 'hosting', 'hostlanguage', 'hot', 'hotbed', 'hotel', 'hotelling', 'hoteltonight', 'hotly', 'hotmail', 'hotspot', 'hotsprings', 'hotstar', 'hotter', 'hottest', 'hottsql', 'hotz', 'hour', 'hourly', 'hoursweek', 'house', 'housed', 'household', 'househunting', 'houseplant', 'housing', 'hover', 'hovertrains', 'howl', 'howto', 'hp', 'hp01', 'hp35', 'hp7440a', 'hpv', 'hq', 'hq2', 'hr', 'ht', 'htc', 'htdp', 'html', 'html5', 'htmlcss', 'http', 'http1', 'http2', 'http3', 'httphttps', 'httprest', 'httpstat', 'httpvimdev', 'huang', 'huawei', 'huaweis', 'hub', 'hubble', 'hubrif', 'hubris', 'hud', 'hudson', 'hue', 'huffpost', 'hug', 'huge', 'hugely', 'hugepages', 'hughes', 'hugo', 'hugsql', 'huh', 'hulk', 'hulst', 'hulu', 'humaaans', 'human', 'humanbuilt', 'humancaused', 'humancentered', 'humane', 'humanfirst', 'humanity', 'humankind', 'humanlevel', 'humanmade', 'humanmonkey', 'humanrobot', 'humble', 'humiliated', 'humiliation', 'humility', 'humio', 'humming', 'humor', 'hundred', 'hundredtonne', 'hung', 'hungarian', 'hungary', 'hungry', 'hunt', 'hunter', 'hunting', 'huntington', 'hurling', 'hurricane', 'hurt', 'hurting', 'husband', 'hushing', 'hustle', 'hustler', 'hustling', 'hutchins', 'hutter', 'hw', 'hw3', 'hy', 'hybrid', 'hybridogenesis', 'hydra', 'hydraulic', 'hydro', 'hydrocarbondegrading', 'hydrogen', 'hylang', 'hype', 'hyped', 'hyper', 'hyperbola', 'hyperbole', 'hypercalls', 'hypercard', 'hypercasual', 'hypercubebased', 'hyperdeflationary', 'hypergrowth', 'hyperlink', 'hyperlocal', 'hyperloop', 'hyperparameter', 'hypersaline', 'hyperscan', 'hyperscans', 'hypersonic', 'hyperspace', 'hyperspecialist', 'hypertargeting', 'hypertext', 'hyperthreading', 'hypertrophy', 'hyperv', 'hypervisor', 'hyphenation', 'hypocrisy', 'hypocrite', 'hypothesis', 'hypothetical', 'hysteria', 'hyundai', 'hyundais', 'hz', 'hölzle', 'hörst', 'i', 'i3en', 'i9', 'i99900k', 'i99900ks', 'i99990xe', 'ia', 'iab', 'iam', 'ian', 'ibera', 'iberia', 'ibiza', 'ibm', 'ibms', 'ibsen', 'ic', 'icann', 'icanns', 'icd10', 'ice', 'iceberg', 'icecast', 'icecream', 'icefish', 'iceing', 'iceland', 'icepick', 'icet', 'icloud', 'icloudlocked', 'icmp', 'ico', 'icon', 'iconary', 'iconic', 'iconoclast', 'iconsvg', 'icotar', 'icy', 'id', 'id3', 'idaho', 'idbloc', 'ide', 'idea', 'ideal', 'ideally', 'ideasjab', 'ideation', 'idempotence', 'idempotency', 'ident', 'identical', 'identifiable', 'identification', 'identified', 'identifier', 'identifies', 'identify', 'identifying', 'identity', 'ideographic', 'ideology', 'idera', 'ides', 'idiomatic', 'idiot', 'idle', 'ie', 'ie6', 'ied', 'ieee', 'ietf', 'iff', 'ifixit', 'iframes', 'ifttt', 'ignition', 'ignorant', 'ignore', 'ignored', 'ignores', 'ignoring', 'ii', 'iii', 'iina', 'iir', 'ike', 'ikea', 'ikonate', 'il', 'ill', 'illegal', 'illegally', 'illicit', 'illinois', 'illiteracy', 'illiterate', 'illness', 'illumination', 'illusion', 'illustrated', 'illustrating', 'illustration', 'ilya', 'im', 'imac', 'image', 'imagemagick', 'imagenet', 'imagery', 'imaginable', 'imaginary', 'imagination', 'imagine', 'imagined', 'imaging', 'imagining', 'imap', 'imdb', 'imei', 'imessage', 'imf', 'imgbin', 'imgsquash', 'imgui', 'imitate', 'imitation', 'immature', 'immediate', 'immediately', 'immersive', 'immigrant', 'immigration', 'imminent', 'immoral', 'immortal', 'immortaldb', 'immune', 'immunity', 'immunityaware', 'immunization', 'immunooncology', 'immutability', 'immutable', 'impact', 'impacted', 'impactful', 'impair', 'impaired', 'impairs', 'impartial', 'impassable', 'impeccable', 'impedes', 'impediment', 'impenetrable', 'imperative', 'imperial', 'imperialism', 'imperils', 'impersonated', 'impersonating', 'impersonation', 'implant', 'implanted', 'implausible', 'implement', 'implementation', 'implemented', 'implementing', 'implementor', 'implicated', 'implication', 'implicit', 'implies', 'implores', 'import', 'importance', 'important', 'imported', 'importer', 'importing', 'imposes', 'impossibility', 'impossible', 'impostor', 'impotent', 'impress', 'impression', 'imprisonment', 'improbable', 'improbables', 'improperly', 'improv', 'improve', 'improved', 'improvement', 'improves', 'improving', 'improvised', 'impulse', 'imputing', 'imsi', 'imx8m', 'inability', 'inaccessible', 'inaccurate', 'inaction', 'inactivate', 'inactivity', 'inaddrarpa', 'inadequate', 'inapp', 'inappropriate', 'inauthentic', 'inbox', 'inbrowser', 'inc', 'incarcerated', 'incarnate', 'incaseofemergency', 'incentive', 'incentivizes', 'incentivizing', 'inception', 'inch', 'incidence', 'incident', 'incinerate', 'include', 'included', 'includes', 'including', 'inclusive', 'incognita', 'incognito', 'income', 'incomesharing', 'incoming', 'incompetence', 'incompetent', 'incompleteness', 'incomprehensible', 'inconsistent', 'incorporate', 'incorrect', 'incorrectly', 'increase', 'increased', 'increasing', 'increasingly', 'incredible', 'incredibly', 'incremental', 'incrementally', 'incurable', 'indash', 'indeed', 'indemand', 'independence', 'independent', 'independentremoteparttime', 'indepth', 'index', 'indexing', 'india', 'indian', 'indicate', 'indicates', 'indicator', 'indico', 'indicted', 'indictment', 'indie', 'indiehacker', 'indigenous', 'indigo', 'individual', 'individualism', 'individualist', 'indonesia', 'induce', 'inducted', 'induction', 'inductive', 'industrial', 'industry', 'industryfunded', 'indy', 'inedible', 'ineffective', 'inefficiency', 'inefficient', 'inequality', 'inequitable', 'inertiajs', 'inertial', 'inescapable', 'inevitability', 'inevitable', 'inevitably', 'inexorably', 'inexpensive', 'inexplicably', 'inf', 'infamous', 'infant', 'infantry', 'infastructure', 'infect', 'infected', 'infecting', 'infection', 'infects', 'inference', 'inferencing', 'inferential', 'inferring', 'infile', 'infiltrate', 'infiltrated', 'infiltrating', 'infinite', 'infinitely', 'infinity', 'infirmity', 'inflammation', 'inflammatory', 'inflatable', 'inflate', 'inflated', 'inflating', 'inflation', 'inflict', 'influence', 'influencer', 'influencers', 'influencing', 'influential', 'influenza', 'influxdb', 'info', 'infocom', 'inform', 'information', 'informative', 'informed', 'infosec', 'infosucking', 'infotainment', 'infowars', 'infrared', 'infrastructural', 'infrastructure', 'infringed', 'infringement', 'infringer', 'ing', 'ingalls', 'ingame', 'ingest', 'ingesting', 'ingestion', 'ingmar', 'ingredient', 'ingres', 'inherently', 'inherit', 'inheritance', 'inherited', 'inheriting', 'inhibitor', 'inhouse', 'inhumane', 'inhumanely', 'initial', 'initialization', 'initializing', 'initially', 'initiate', 'initiative', 'inject', 'injectable', 'injected', 'injecting', 'injection', 'injury', 'ink', 'inkernel', 'inkjet', 'inkscape', 'inlet', 'inline', 'inlined', 'inmate', 'inmemory', 'inn', 'innative', 'inner', 'innocence', 'innocent', 'innolith', 'innovation', 'innovative', 'inperson', 'inproduct', 'input', 'inquiry', 'insane', 'insanity', 'inscription', 'insect', 'insecure', 'insecurity', 'inserted', 'insertion', 'inside', 'insider', 'insidertrading', 'insidiousness', 'insight', 'insolvency', 'insomnia', 'insomniapostman', 'inspecting', 'inspection', 'inspector', 'inspex', 'inspiration', 'inspired', 'inspires', 'instacart', 'instagram', 'instagramhusband', 'instagrammers', 'install', 'installable', 'installation', 'installed', 'installer', 'installing', 'installs', 'instance', 'instant', 'instantaneous', 'instantbox', 'instantly', 'instapoetry', 'instead', 'institute', 'institution', 'institutional', 'instruction', 'instrument', 'instrumentation', 'instrumenting', 'insulator', 'insulin', 'insurance', 'insurer', 'insurgent', 'intake', 'integer', 'integral', 'integrate', 'integrated', 'integrating', 'integration', 'integrative', 'integrity', 'intel', 'intellectual', 'intellicode', 'intelligence', 'intelligent', 'intelligible', 'intellij', 'intellisense', 'intels', 'intelsat', 'intended', 'intense', 'intensify', 'intensity', 'intensive', 'intentionally', 'intento', 'inter', 'interact', 'interaction', 'interactive', 'interactively', 'interactives', 'interactivity', 'interbreeding', 'intercept', 'interception', 'interchange', 'intercom', 'interconnection', 'interdisciplinary', 'interest', 'interested', 'interesting', 'interestrate', 'interface', 'interfacing', 'interference', 'interior', 'interleaved', 'intermediate', 'intern', 'internal', 'internally', 'internals', 'international', 'internationalize', 'internet', 'internetbeaming', 'internetcensorship', 'internetconnected', 'internetfree', 'internetofbody', 'internetoftr069things', 'internship', 'interoperability', 'interpol', 'interpolated', 'interpretable', 'interpretation', 'interpreter', 'interpreting', 'interpretml', 'interprets', 'interrogation', 'interrogator', 'interrupt', 'interrupted', 'interruption', 'intersect', 'intersectionobserver', 'interstellar', 'intertwined', 'interval', 'intervention', 'interview', 'interviewed', 'interviewee', 'interviewer', 'interviewing', 'interviewoffer', 'intimacy', 'intimate', 'intimidate', 'intimidating', 'intolerance', 'intoto', 'intracardiac', 'intranasal', 'intricate', 'intrinsic', 'intrinsically', 'intro', 'introduce', 'introduced', 'introduces', 'introducing', 'introduction', 'introductory', 'introspection', 'introvert', 'intruder', 'intrusive', 'intuit', 'intuition', 'intuitive', 'inuit', 'inulinrich', 'invader', 'invades', 'invading', 'invalidating', 'invariant', 'invasion', 'invasive', 'invective', 'invent', 'invented', 'inventing', 'invention', 'inventor', 'inventory', 'inverse', 'inversely', 'inversion', 'inverted', 'inverting', 'inverts', 'inverview', 'invest', 'invested', 'investigate', 'investigated', 'investigates', 'investigating', 'investigation', 'investigative', 'investigator', 'investing', 'investment', 'investor', 'invests', 'invigorating', 'invisibility', 'invisible', 'invision', 'invited', 'invoice', 'invokes', 'involuntary', 'involved', 'involvement', 'involving', 'io', 'io19', 'ioannidis', 'iocaine', 'iodide', 'iodine', 'iolatency', 'iommu', 'ion', 'ionic', 'iooptimized', 'iosandroid', 'iosubmit', 'iot', 'iotashaming', 'iouring', 'iowa', 'ip', 'ipad', 'ipados', 'ipads', 'ipapiio', 'ipfs', 'ipfsdeploy', 'iphone', 'iphones', 'iplayer', 'ipmi', 'ipo', 'ipod', 'iprompted', 'ipsec', 'ipsum', 'iptables', 'ipv4', 'ipv6', 'ipv6only', 'ipython', 'iq', 'ir', 'ira', 'iran', 'irancontra', 'iranian', 'iraq', 'iraqi', 'irc', 'ireland', 'iridium', 'iris', 'irish', 'irkutsk', 'irmin', 'irobot', 'iron', 'ironclad', 'ironically', 'ironman', 'irony', 'irregular', 'irrelevancy', 'irrelevant', 'irreproducibility', 'irrigated', 'irritable', 'irs', 'irssi', 'isa', 'isaac', 'isaiah', 'isbns', 'isc', 'isi', 'isk', 'islam', 'islamist', 'islamophobia', 'island', 'islisp', 'isnt', 'iso', 'isoiec', 'isolated', 'isolates', 'isolating', 'isolation', 'isometric', 'isometricsass', 'isomorphic', 'isomorphism', 'isos', 'isp', 'isps', 'israel', 'israelbased', 'israeli', 'isrg', 'issue', 'issued', 'issuing', 'istio', 'iswas', 'italian', 'italu', 'italy', 'itanium', 'itaniums', 'itchio', 'item', 'iterate', 'iterating', 'iterative', 'iterator', 'iterm', 'iterm2', 'itinerant', 'itll', 'itunes', 'ivan', 'ive', 'ivory', 'ivy', 'iwerks', 'ix', 'iyer', 'izat', 'j', 'j2cl', 'ja3', 'jab', 'jabber', 'jabra', 'jacaranda', 'jacinto', 'jacintos', 'jack', 'jackfruit', 'jackie', 'jackpot', 'jackson', 'jacob', 'jacobin', 'jaffa', 'jahres', 'jail', 'jailable', 'jailbreaking', 'jailed', 'jailing', 'jakarta', 'jal', 'jam', 'james', 'jammed', 'jammer', 'jamstack', 'jan', 'jane', 'janeiro', 'janet', 'janetsh', 'janissary', 'jankest', 'january', 'janus', 'japan', 'japanbuilt', 'japanese', 'japanology', 'jared', 'jargon', 'jarvis', 'jason', 'jasper', 'java', 'javabased', 'javapowered', 'javascript', 'javascriptbased', 'javascriptfree', 'javascripts', 'javelin', 'jayapal', 'jaynes', 'jazeera', 'jazz', 'jd', 'jdk', 'jdk8', 'jeanpaul', 'jeff', 'jello', 'jellyfish', 'jem', 'jena', 'jenkins', 'jeopardy', 'jepsen', 'jeremy', 'jerk', 'jerry', 'jersey', 'jest', 'jet', 'jetblue', 'jetbrains', 'jetpack', 'jetson', 'jetstream', 'jettisoned', 'jewel', 'jewelry', 'jewish', 'jexcel', 'jextract', 'jez', 'jfk', 'ji32k7au4a83', 'jiahao', 'jianwei', 'jibo', 'jiggle', 'jihad', 'jillette', 'jim', 'jime', 'jinping', 'jinpings', 'jinx', 'jit', 'jitk', 'jitless', 'jk', 'jlua', 'jmap', 'job', 'jobless', 'jockey', 'joe', 'johan', 'john', 'johnson', 'join', 'joined', 'joiner', 'joining', 'joint', 'joke', 'joker', 'jolly', 'jolt', 'jon', 'jones', 'jordan', 'jose', 'joseph', 'joshua', 'josiah', 'journal', 'journalbook', 'journalism', 'journalist', 'journey', 'journeyman', 'journo', 'joy', 'joyent', 'joystick', 'jp', 'jpeg', 'jpegs', 'jpl', 'jpm', 'jpmorgan', 'jquery', 'jrpgs', 'jsfiddle', 'jsmpeg', 'json', 'json2graphql', 'jsonld', 'jsonnet', 'jsonpath', 'jsonrpc', 'jsontojson', 'jsweet', 'jsx', 'jtag', 'jtools', 'judeochristian', 'judge', 'judging', 'judgment', 'judicial', 'juggernaut', 'juggle', 'juice', 'juicero', 'julia', 'juliaacademy', 'julian', 'julie', 'july', 'jumbo', 'jumia', 'jumio', 'jump', 'jumping', 'junction', 'june', 'jungle', 'junglesec', 'junior', 'junk', 'junkie', 'juno', 'jupiter', 'jupyter', 'jupyterhub', 'jupyterlab', 'jurisdiction', 'jury', 'justaddcss', 'justice', 'justification', 'justify', 'justinian', 'justintime', 'juul', 'juvenile', 'jv', 'jvm', 'jwts', 'józef', 'jürgen', 'k', 'k3d', 'k3s', 'k7', 'k8s', 'kaas', 'kaboom', 'kafka', 'kafkaesque', 'kaggle', 'kaggledays', 'kahlo', 'kahneman', 'kaios', 'kaiser', 'kaist', 'kakapo', 'kakoune', 'kaku', 'kalamsat', 'kalanick', 'kalashnikov', 'kaldi', 'kalman', 'kamikaze', 'kanban', 'kandinsky', 'kangaroo', 'kansa', 'kanye', 'kanyerest', 'kaonashi', 'kaplan', 'kara', 'karaoke', 'karatsubas', 'kardach', 'kareem', 'karen', 'karma', 'karmic', 'karpeles', 'kashmir', 'kaspersky', 'katex', 'katherine', 'katie', 'kató', 'kay', 'kazakh', 'kb', 'kclean', 'kde', 'kdenlive', 'keating', 'keaton', 'kedro', 'keep', 'keepalive', 'keepasscom', 'keepassxc', 'keeper', 'keeping', 'keg', 'keith', 'kelly', 'kempowski', 'ken', 'kenneth', 'kenya', 'kenyan', 'kep', 'kept', 'kera', 'kerash', 'kerfuffle', 'kernal', 'kernel', 'kernelbypass', 'kernighan', 'kernza', 'kerosene', 'kerr', 'ketamine', 'keto', 'ketosis', 'kettlepizza', 'kew', 'key', 'keybase', 'keybaseio', 'keybases', 'keyboard', 'keychain', 'keycloak', 'keydb', 'keyhole', 'keylogger', 'keyloggers', 'keymaps', 'keynote', 'keyserver', 'keyservers', 'keysniffer', 'keysopenpgporg', 'keystores', 'keytar', 'keyup', 'keyvalue', 'keyword', 'keywords', 'kgb', 'kgcns', 'khashoggi', 'khirret', 'khosla', 'khosrowshahi', 'kicad', 'kick', 'kickback', 'kicked', 'kicking', 'kickstart', 'kickstarted', 'kickstarter', 'kid', 'kiddie', 'kidfluencers', 'kidnapped', 'kidnapping', 'kidney', 'kidswitch', 'kik', 'kikuno', 'kill', 'killed', 'killer', 'killing', 'killswitched', 'kilo', 'kilobyte', 'kilogram', 'kilometer', 'kilometre', 'kim', 'kind', 'kinder', 'kindness', 'kinect', 'kinematics', 'kinetic', 'king', 'kingdom', 'kingpin', 'kirby', 'kirkland', 'kit', 'kitchen', 'kitchenaid', 'kite', 'kittson', 'kiwix', 'kixistats', 'klatu', 'klaviyo', 'klee', 'kleiner', 'kleptocracy', 'klimt', 'klingemann', 'klint', 'klotho', 'km', 'kmeans', 'knew', 'knife', 'knight', 'knightmare', 'knit', 'knitted', 'knitting', 'knock', 'knocked', 'knocking', 'knockoff', 'knoll', 'knoppix', 'knot', 'know', 'knowing', 'knowingly', 'knowitalls', 'knowledge', 'known', 'knuth', 'koan', 'koarouter', 'kodaks', 'kofola', 'kohl', 'kojima', 'kolmogorov', 'komarov', 'kombat', 'komiser', 'komodo', 'kona', 'kondo', 'kondos', 'kong', 'kono', 'konstellate', 'kontiki', 'koonchi', 'korea', 'korean', 'kotlin', 'kotlincoroutines', 'kph', 'kpis', 'kraken', 'kranzberg', 'krautflare', 'kremlin', 'krisp', 'krispnet', 'kristina', 'krita', 'kroger', 'kroki', 'kroll', 'krueger', 'krugman', 'kryofluxing', 'ksh', 'ksl', 'ksql', 'kubeadm', 'kubectl', 'kubernetes', 'kuhn', 'kuiper', 'kuleshov', 'kurt', 'kurzweil', 'kushner', 'kustomize', 'kuznyechik', 'kv', 'kvm', 'kwin', 'kyboad', 'kyle', 'kyoto', 'l', 'l3', 'l4', 'l4linux', 'l7', 'la', 'lab', 'label', 'labeled', 'labeler', 'labeling', 'labelled', 'labellers', 'labgrown', 'labor', 'laboratory', 'laborforce', 'labour', 'labourisation', 'labrador', 'labyrinth', 'lack', 'lacked', 'lacroix', 'lactose', 'ladakh', 'ladder', 'lady', 'ladybug', 'lafayette', 'lag', 'laguna', 'laid', 'laidoff', 'lake', 'lakiesha', 'lambda', 'lamp', 'lampert', 'lampmean', 'lance', 'land', 'landed', 'lander', 'landfill', 'landing', 'landlord', 'landmark', 'landon', 'landscape', 'lane', 'lanechanging', 'lang', 'langauge', 'langtons', 'language', 'language2sql', 'languageagnostic', 'languageoriented', 'languageparadigm', 'lanka', 'lannister', 'lantern', 'lapd', 'lapis', 'lapse', 'laptop', 'laraone', 'lard', 'large', 'largely', 'larger', 'largescale', 'largest', 'larian', 'larissa', 'larped', 'larry', 'larval', 'laser', 'lashon', 'last', 'lasted', 'lasting', 'lastpass', 'lat', 'latchel', 'late', 'lately', 'latency', 'latenight', 'later', 'latest', 'latex', 'latexbased', 'lathe', 'latin', 'latte', 'lattice', 'latticebased', 'lattner', 'latvia', 'lauda', 'laugh', 'laughingstock', 'launch', 'launched', 'launcher', 'launching', 'laundered', 'laundering', 'laundromat', 'laundry', 'laundryfolding', 'lavabit', 'lavish', 'law', 'lawmaker', 'lawn', 'lawnmower', 'lawrence', 'lawsuit', 'lawyer', 'lax', 'lay', 'layer', 'laying', 'layoff', 'layout', 'layover', 'lazarus', 'lazuli', 'lazy', 'lazygrounding', 'lazyloading', 'lazyworm', 'lb', 'lbr', 'lc0', 'lcd', 'ldap', 'ldpreload', 'le', 'lead', 'leadcrime', 'leader', 'leaderless', 'leadership', 'leading', 'leaf', 'leaflet', 'leafletjs', 'league', 'leak', 'leakage', 'leaked', 'leaker', 'leaking', 'leaky', 'lean', 'leap', 'leapfrog', 'leapmotion', 'learn', 'learnability', 'learned', 'learner', 'learning', 'learningdeep', 'learningusing', 'learns', 'learnt', 'lease', 'leasebased', 'leash', 'least', 'leastvisited', 'leather', 'leave', 'leaving', 'lebron', 'lecture', 'lecun', 'led', 'ledger', 'lee', 'leech', 'leela', 'leetcode', 'left', 'lefthandedness', 'leftwing', 'lefty', 'leg', 'legacy', 'legal', 'legalise', 'legality', 'legalization', 'legalize', 'legalized', 'legalizes', 'legend', 'legendary', 'legging', 'legibility', 'legible', 'legion', 'legislation', 'legislator', 'legit', 'legitimacy', 'lego', 'legolike', 'lehman', 'leibowitz', 'leica', 'leiden', 'leisure', 'lem', 'lemaître', 'lemma', 'lemmatization', 'lemmy', 'lemon', 'lemonade', 'lena', 'lender', 'lending', 'length', 'lenin', 'lenny', 'lenovo', 'lens', 'lenscrafters', 'lent', 'leon', 'leonard', 'leonardo', 'leonhard', 'leopard', 'lesion', 'lesserknown', 'lesson', 'lessonslearned', 'lester', 'let', 'lethal', 'letitia', 'letsencrypt', 'letter', 'letterboxing', 'letting', 'leukemia', 'levee', 'level', 'leveller', 'levelsfyi', 'leverage', 'leveraged', 'leveraging', 'levi', 'levitate', 'levitating', 'lewis', 'lexer', 'lexical', 'lexiconomy', 'lfortran', 'lgbt', 'lgbtq', 'lhc', 'lhcb', 'li', 'liability', 'liable', 'liar', 'lib', 'libc', 'libdivide', 'libel', 'liberal', 'liberapay', 'liberate', 'liberated', 'liberating', 'liberty', 'libgen', 'libmill', 'libopcodes', 'librarian', 'library', 'libre', 'librefox', 'librem', 'libreoffice', 'libreplanet', 'librewsdl4j', 'libsodium', 'libssh2', 'licence', 'license', 'licensed', 'licenseplate', 'licensing', 'licensors', 'lichess', 'licking', 'lidar', 'lidl', 'lie', 'lieber', 'lied', 'life', 'lifechanging', 'lifecycle', 'lifehack', 'lifehash', 'lifelike', 'lifelong', 'lifesaving', 'lifestyle', 'lifesupport', 'lifetime', 'lift', 'lifting', 'liftoff', 'lifx', 'ligature', 'light', 'lightbulb', 'lightcycle', 'lightening', 'lighter', 'lightfields', 'lighthouse', 'lighting', 'lightness', 'lightning', 'lightningfast', 'lightsail', 'lighttpd', 'lightweight', 'ligo', 'like', 'liked', 'likelihood', 'likely', 'likeminded', 'likeuse', 'lilium', 'lilly', 'lily', 'limb', 'limbic', 'lime', 'limit', 'limited', 'limiter', 'limiting', 'limitless', 'limor', 'lin', 'line', 'lineage', 'lineageos', 'linear', 'linearfeedback', 'linearfit', 'linearity', 'linen', 'lineofcode', 'lineup', 'linger', 'lingua', 'linguist', 'linguistic', 'linjat', 'link', 'linkable', 'linked', 'linkedin', 'linker', 'linkerd', 'linking', 'linksys', 'linode', 'linter', 'linus', 'linux', 'linuxbased', 'lion', 'lioneating', 'lionsgate', 'liquid', 'lirik', 'lisa', 'lish', 'liskov', 'lisp', 'lispos', 'list', 'listed', 'listen', 'listened', 'listener', 'listening', 'listing', 'lite', 'litecli', 'litelement', 'literal', 'literally', 'literary', 'literature', 'lithium', 'lithiumion', 'lithophilic', 'lithtml', 'lithuania', 'litigation', 'litter', 'littered', 'little', 'littleknown', 'littlenoticed', 'littlevgl', 'live', 'livecoding', 'lived', 'livefeed', 'livejournal', 'lively', 'liveness', 'liverpool', 'livestream', 'livestreamed', 'livestreaming', 'livestreams', 'liveview', 'living', 'livox', 'liza', 'lkh', 'llc', 'llcbank', 'lloyd', 'llvm', 'llvmmca', 'load', 'loadbearing', 'loaded', 'loading', 'loadtime', 'loan', 'lobbied', 'lobby', 'lobbying', 'lobbyist', 'lobster', 'loc', 'local', 'localfirst', 'localhost', 'locality', 'localitysensitive', 'localization', 'locally', 'locallystored', 'locast', 'locate', 'located', 'locating', 'location', 'locationdata', 'locationtracking', 'lock', 'lockbox', 'lockdown', 'locked', 'lockergoga', 'lockfree', 'lockheed', 'lockin', 'locking', 'lockwise', 'locomotive', 'locust', 'lofi', 'log', 'logbased', 'logevent', 'logflare', 'logged', 'loggedin', 'logger', 'logging', 'logic', 'logical', 'login', 'logins', 'logipedia', 'logistic', 'logistical', 'logistics', 'logisticsvideo', 'loglisp', 'logo', 'logrange', 'logspherical', 'loire', 'lokomotive', 'lolight', 'lomb', 'lombok', 'london', 'londonbased', 'londoner', 'lone', 'loneliness', 'lonely', 'long', 'longawaited', 'longdistance', 'longer', 'longest', 'longevity', 'longfeared', 'longfi', 'longlost', 'longrange', 'longrun', 'longstanding', 'longtailed', 'longterm', 'look', 'looked', 'looker', 'looking', 'lookout', 'lookup', 'looming', 'loop', 'loophole', 'loopy', 'loosely', 'loot', 'lopdf', 'lora', 'lorawan', 'lord', 'lordz', 'lorem', 'loresome', 'los', 'lose', 'loser', 'loses', 'losing', 'loss', 'lossless', 'lost', 'lot', 'lottery', 'lottocracy', 'lotus', 'loud', 'louder', 'loudspeaker', 'louis', 'louisa', 'louisville', 'loulou', 'lousy', 'love', 'loved', 'lovelorn', 'lover', 'loving', 'low', 'lowbudget', 'lowcode', 'lowcost', 'lowdose', 'lowdown', 'lowearth', 'lowemissions', 'lower', 'lowercase', 'lowered', 'lowerend', 'lowering', 'lowest', 'lowestpaid', 'lowgrowth', 'lowincome', 'lowinflation', 'lowkey', 'lowlatency', 'lowlevel', 'lowlight', 'lowpaid', 'lowquality', 'lowrate', 'lowrated', 'lowskill', 'lowstakes', 'lowtax', 'lowtech', 'lowyield', 'lox', 'loyal', 'loyalist', 'loyalty', 'lp', 'lpcnet', 'lru', 'lsd', 'lsm', 'lstms', 'ltclippygt', 'lte', 'lto8', 'lts', 'lua', 'luajit', 'luakit', 'luarocksorg', 'lucas', 'lucet', 'luck', 'luckey', 'luckin', 'lucky', 'lucrative', 'lucretius', 'lucy', 'luda', 'ludekens', 'ludwig', 'lufthansa', 'luggage', 'lularoe', 'lulas', 'lulu', 'lumen', 'luminous', 'lumotive', 'lumpy', 'luna', 'lunar', 'lunch', 'luneos', 'lung', 'lupi', 'lupin', 'lure', 'luring', 'lurk', 'lurking', 'luster', 'luxembourg', 'luxury', 'lvalues', 'lvc', 'lx7', 'lyapunovbased', 'lyft', 'lyfts', 'lying', 'lyme', 'lymphoma', 'lynch', 'lyndon', 'lynx', 'lyric', 'lys', 'lz', 'm', 'm1', 'm16', 'm3', 'm4btool', 'mac', 'macau', 'macbeth', 'macbook', 'macbooks', 'macehead', 'macfarquhar', 'macgyver', 'mach', 'machina', 'machine', 'machinecode', 'machinefriendly', 'machinelearn', 'machinelearning', 'machinery', 'machinima', 'macintosh', 'mackenzie', 'macos', 'macro', 'macroeconomics', 'macron', 'macrostrat', 'mad', 'maddening', 'maddow', 'made', 'madeineurope', 'madeup', 'madness', 'madrid', 'madsad', 'maduro', 'maemo', 'maersk', 'mafia', 'mag', 'magazine', 'magdalin', 'magellanic', 'maggot', 'magic', 'magical', 'magician', 'magicthe', 'magit', 'maglev', 'magma', 'magnesium', 'magnet', 'magnetic', 'magnetism', 'magnificent', 'magnitude', 'magnonic', 'magyar', 'maher', 'maiden', 'maier', 'mail', 'mailchimp', 'maildown', 'mailed', 'mailgun', 'mailing', 'mailman', 'mailorder', 'main', 'maine', 'mainframe', 'mainland', 'mainly', 'mainstream', 'maintain', 'maintainability', 'maintainable', 'maintainer', 'maintaining', 'maintenance', 'maintenanceworkmem', 'major', 'majority', 'make', 'makecode', 'makefiles', 'makepad', 'maker', 'makerfriendly', 'makerlisp', 'makeshift', 'making', 'malaria', 'malaysia', 'malaysian', 'malcolm', 'maldives', 'male', 'mali', 'malicious', 'malign', 'mall', 'malloc', 'mallocfree', 'malt', 'maltese', 'malthusian', 'malware', 'malwaretech', 'mama', 'mamepsgs', 'mames', 'mammal', 'mammalian', 'mammoth', 'man', 'manage', 'managed', 'management', 'manager', 'managing', 'manchun', 'mancomputer', 'mandarin', 'mandate', 'mandatory', 'mandelbaum', 'mandelbrot', 'mandrill', 'mandya', 'maneuvering', 'manfred', 'manga', 'mangle', 'manhattan', 'manhole', 'mania', 'manifest', 'manifesto', 'manifold', 'manim', 'manipulate', 'manipulated', 'manipulates', 'manipulating', 'manipulation', 'mankind', 'manley', 'manmade', 'manned', 'manning', 'mannings', 'manoeuvring', 'mansa', 'mansion', 'mantain', 'manual', 'manuallycurated', 'manufacturable', 'manufactured', 'manufacturing', 'manure', 'manuscript', 'many', 'manybody', 'manyvalued', 'manyworlds', 'map', 'mapbox', 'mapipedia', 'maple', 'mapmakers', 'mapmerge', 'mappa', 'mapped', 'mapping', 'mapr', 'mapzen', 'mar', 'maralago', 'marathon', 'marble', 'marc', 'marcel', 'march', 'marcher', 'marching', 'marcus', 'margaret', 'margarine', 'margin', 'marginal', 'maria', 'mariadb', 'mariana', 'marie', 'marijuana', 'marine', 'mario', 'marion', 'marissa', 'maritime', 'mark', 'markbook', 'markdeck', 'markdown', 'markdownbased', 'marker', 'markerless', 'market', 'marketer', 'marketing', 'marketplace', 'marketshare', 'marking', 'markov', 'markovkeyboard', 'markup', 'marlborough', 'marp', 'marquis', 'marred', 'marriage', 'married', 'marriott', 'marsh', 'marshall', 'martian', 'martin', 'marvel', 'marvell', 'marvin', 'mary', 'maryland', 'marzipan', 'masahiro', 'masayoshi', 'masculinity', 'mask', 'masker', 'masking', 'masquerade', 'mass', 'massachusettes', 'massachusetts', 'massacre', 'massimiliano', 'massive', 'massively', 'master', 'mastercard', 'masterclass', 'mastering', 'mastermind', 'masterpiece', 'mastodon', 'mastodonsocial', 'mat', 'match', 'matcher', 'matching', 'matchmaker', 'mate', 'mateo', 'material', 'maternity', 'math', 'mathematica', 'mathematical', 'mathematician', 'mathematics', 'mathexpm1', 'mathics', 'mathigon', 'mathilde', 'mathml', 'mathoverflow', 'matilda', 'mating', 'matisse', 'matlab', 'matlabs', 'matlock', 'matminer', 'matplotlib', 'matrix', 'matrixorg', 'matrixprofilets', 'matrox', 'matt', 'matter', 'matterantimatter', 'mattermost', 'matthew', 'mattress', 'mature', 'maturing', 'maturity', 'matz', 'maui', 'mauling', 'mautic', 'maven', 'max', 'maximally', 'maximize', 'maximum', 'maxmind', 'maxwell', 'may', 'maya', 'maybe', 'mayer', 'mayor', 'maze', 'mazesolving', 'mb', 'mba', 'mbox', 'mcafee', 'mcas', 'mccarthy', 'mcclatchy', 'mcconnell', 'mccullin', 'mcdonald', 'mcdonalds', 'mckinsey', 'mcnamee', 'mcnugget', 'mcpp', 'mcsema', 'mcu', 'mcwayface', 'md', 'mdbookgitbook', 'mdio', 'mdls', 'mdm', 'mdma', 'mdt9100', 'mdx', 'meal', 'mean', 'meaning', 'meaningful', 'meaningless', 'meant', 'measles', 'measure', 'measured', 'measurement', 'measuring', 'meat', 'meateating', 'meatfree', 'meatless', 'mechanic', 'mechanical', 'mechanised', 'mechanism', 'med', 'medal', 'medalwinning', 'medcrypt', 'meddling', 'medellin', 'medellín', 'median', 'mediated', 'medical', 'medicare', 'medication', 'medicine', 'medieval', 'mediocrity', 'meditation', 'mediterranean', 'medium', 'meduza', 'meeker', 'meet', 'meeting', 'meetup', 'meetups', 'mefo', 'megabreach', 'megacity', 'megaleak', 'megalodon', 'megamergers', 'meganode', 'megaphone', 'megapixel', 'megapode', 'megaprocessor', 'megasurvey', 'megatokyo', 'megaton', 'meghan', 'meillassoux', 'meiyu', 'melanoma', 'melatonin', 'melinda', 'mellanox', 'mellon', 'melody', 'melt', 'meltdown', 'melted', 'melting', 'member', 'membership', 'memcached', 'meme', 'memeworthy', 'memo', 'memoir', 'memoization', 'memorandum', 'memorial', 'memory', 'memoryefficient', 'memorymanagement', 'memorymapped', 'memorystorage', 'memristor', 'memristorbased', 'memsetting', 'men', 'mend', 'mendeley', 'menderio', 'mendocino', 'menger', 'menlo', 'menn', 'menstrual', 'menstruation', 'mental', 'mentalist', 'mentally', 'mention', 'mentioned', 'mentioning', 'mentor', 'mentoring', 'mentorship', 'menu', 'meps', 'mercenary', 'merchant', 'mercifully', 'merck', 'mercurial', 'mercury', 'mere', 'merge', 'merged', 'merger', 'merges', 'merging', 'mergio', 'meridian', 'meritbased', 'meritocracy', 'merlin', 'mermaid', 'merritt', 'merryman', 'merwin', 'mesa', 'mescaline', 'mesh', 'meshroom', 'mesmerized', 'mesoamerica', 'mesopotamian', 'mess', 'message', 'messageoriented', 'messagepassing', 'messaging', 'messed', 'messenger', 'messiah', 'messing', 'messy', 'met', 'meta', 'metaanalysis', 'metabase', 'metabolic', 'metabolism', 'metacat', 'metacircular', 'metadata', 'metadataprivate', 'metadataresistant', 'metadataset', 'metal', 'metalearners', 'metalhead', 'metallic', 'metallurgy', 'metamaterial', 'metamath', 'metamorphic', 'metaphor', 'metaphysics', 'metaprogrammable', 'metaprogramming', 'metareinforcement', 'metasploit', 'metasurface', 'metatron', 'metaverse', 'metcalf', 'meteor', 'meteorite', 'meteorologist', 'meter', 'metformin', 'meth', 'methane', 'methanol', 'method', 'methodological', 'methodology', 'methodshackstips', 'metoo', 'metric', 'metroboy', 'metropolis', 'metrotube', 'meundies', 'mexican', 'mexico', 'mfsk', 'mh370', 'mhz', 'mi5', 'miami', 'mic', 'michael', 'michelin', 'michigan', 'michio', 'mick', 'mickey', 'micro', 'microamp', 'microarchitectural', 'microarchitecture', 'microbatching', 'microbe', 'microbial', 'microbiome', 'microbiota', 'microbit', 'microbots', 'microchip', 'microcode', 'microcomputer', 'microcontroller', 'microcontrollers', 'microcosm', 'microcredit', 'microdosing', 'microengine', 'microframework', 'microg', 'microgrant', 'microgrid', 'microhydro', 'microkernel', 'micromechanical', 'micromouse', 'micropayments', 'microphone', 'microplastics', 'microprocessor', 'micropromotions', 'micropython', 'microscope', 'microsd', 'microservice', 'microservices', 'microsimulation', 'microsoft', 'microsoftbuilt', 'microsofts', 'microsystems', 'microtonal', 'microtransactions', 'microwasm', 'microwave', 'microworkers', 'mid', 'mid40', 'midcentury', 'middesk', 'middle', 'middlebury', 'middleclass', 'middleman', 'midi', 'midlevel', 'midnight', 'midpoint', 'midrange', 'midst', 'midway', 'midwest', 'midwife', 'miegakure', 'mig', 'might', 'mightve', 'mighty', 'migraine', 'migrant', 'migrate', 'migrates', 'migrating', 'migration', 'migrator', 'mike', 'mikhail', 'mild', 'mile', 'milestone', 'militant', 'military', 'militarystyle', 'milk', 'milkman', 'milkshake', 'milky', 'mill', 'millennial', 'millennialbashing', 'millennials', 'millennium', 'miller', 'millimeter', 'milling', 'million', 'millionaire', 'milliwatt', 'milo', 'milton', 'mimblewimble', 'mimetic', 'mimic', 'mimicking', 'min', 'minard', 'mind', 'mindaltering', 'mindblowing', 'mindcontrolled', 'mindfulness', 'mindscom', 'mindset', 'mindwandering', 'mine', 'minecraft', 'minefield', 'miner', 'mineral', 'minetimeai', 'minhaj', 'mini', 'miniature', 'minidumps', 'minigrids', 'miniintroduction', 'minimainframe', 'minimal', 'minimalism', 'minimalist', 'minimalistic', 'minimallatency', 'minimally', 'minimalt', 'minimization', 'minimize', 'minimum', 'minimumwage', 'mining', 'minipc', 'miniprograms', 'minisearch', 'minister', 'ministry', 'ministx', 'minix', 'minnesota', 'minnow', 'minor', 'minority', 'minr', 'mint', 'mintable', 'minus', 'minute', 'minya', 'mips', 'miracle', 'miri', 'mirror', 'mirrorless', 'mirrorworld', 'misadventure', 'miscarriage', 'misconception', 'misconduct', 'miserable', 'miserably', 'misfired', 'misfortune', 'misguided', 'mishandling', 'mishap', 'misinformation', 'misinformed', 'misissuance', 'misissue', 'misjudged', 'misjudging', 'misjudgment', 'mislay', 'mislead', 'misleading', 'misled', 'mismatch', 'misperceive', 'miss', 'missed', 'missile', 'missing', 'mission', 'missouri', 'mistake', 'mistaken', 'mistakenly', 'mistress', 'misunderstand', 'misunderstanding', 'misunderstood', 'misuse', 'misuseresistant', 'misusing', 'mit', 'mitchell', 'mite', 'mithriljs', 'mitigate', 'mitigating', 'mitigation', 'mitm', 'mitming', 'mitochondrial', 'mitochondrion', 'mitski', 'mix', 'mixandmatch', 'mixed', 'mixedreality', 'mixer', 'mixing', 'mixpanel', 'mixtape', 'mixtapes', 'mixtureofexperts', 'miyu', 'mizar', 'mjøsa', 'mkcert', 'ml', 'mla', 'mldl', 'mlir', 'mljar', 'mlm', 'mmap', 'mmd', 'mmo', 'mmorpg', 'mmt', 'mnesia', 'mnt', 'moa', 'moat', 'mob', 'mobile', 'mobilehome', 'mobster', 'mobx', 'mochi', 'mock', 'mocked', 'mocking', 'mockingbird', 'mockingboard', 'mockit', 'mod', 'modal', 'modchips', 'modding', 'mode', 'model', 'model3', 'modelbased', 'modeler', 'modelines', 'modeling', 'modelingtoolkitjl', 'modelling', 'modeloriented', 'modem', 'moderate', 'moderating', 'moderator', 'modern', 'modernday', 'modernity', 'modest', 'modi', 'modification', 'modified', 'modify', 'modular', 'modularize', 'module', 'modulized', 'modulus', 'modus', 'mogul', 'mojave', 'molasses', 'mold', 'molding', 'mole', 'molecular', 'molecule', 'moleculesized', 'molerats', 'moloch', 'molotovribbentrop', 'molten', 'mom', 'moment', 'momentum', 'mommy', 'momo3', 'mona', 'monad', 'monarch', 'monday', 'monetary', 'monetize', 'monetized', 'monetizing', 'money', 'moneyback', 'moneyball', 'moneylaundering', 'moneymaking', 'mongodb', 'mongoku', 'moniac', 'monism', 'monitor', 'monitored', 'monitoring', 'monk', 'monkey', 'monoculture', 'monogamous', 'monoid', 'monoidal', 'monoids', 'monolith', 'monolithic', 'monopolist', 'monopoly', 'monorepo', 'monorepos', 'monospace', 'monotonicity', 'monotony', 'monotype', 'monsanto', 'monsantos', 'monster', 'monstrous', 'monte', 'month', 'monthly', 'monty', 'monument', 'monzo', 'mooc', 'moocs', 'mood', 'moody', 'moon', 'moonscript', 'moonshot', 'moonshots', 'moore', 'moot', 'moral', 'moralizing', 'morally', 'morehouse', 'moreno', 'morgan', 'moritz', 'mormon', 'morning', 'moron', 'morphin', 'morphogenio', 'morrell', 'morris', 'morrowind', 'morse', 'mortal', 'mortality', 'mortem', 'mortgage', 'morton', 'mosaic', 'moscow', 'mosp', 'mosque', 'mosquito', 'mossad', 'mostconsumed', 'mostly', 'mostshared', 'mosuo', 'motel', 'mothball', 'mother', 'motherboard', 'motherboards', 'mothership', 'motherson', 'motif', 'motion', 'motionplus', 'motionrugs', 'motivate', 'motivates', 'motor', 'motorcar', 'motorcycle', 'motoring', 'motorola', 'motorway', 'mount', 'mountain', 'mourns', 'mouse', 'mouth', 'move', 'moved', 'movement', 'mover', 'movfuscator', 'movie', 'moviegoer', 'moving', 'mozart', 'mozartjs', 'mozi', 'mozilla', 'mp', 'mp3', 'mp3mp4', 'mpaa', 'mpeg', 'mph', 'mpl', 'mprofile', 'mpu', 'mr', 'mr2js', 'mram', 'mrdocs', 'mri', 'msdn', 'msdos', 'msft', 'msg', 'msk', 'msx', 'msx2', 'mt', 'mta', 'mtasts', 'mtcp', 'mtdnn', 'much', 'muchhated', 'mud', 'mudrex', 'mueller', 'mui', 'muilenburg', 'mujica', 'mule', 'mull', 'multi', 'multiagent', 'multiarmed', 'multicellularity', 'multicloud', 'multicore', 'multicurrency', 'multidimensional', 'multigenerational', 'multihour', 'multilanguage', 'multilevel', 'multimedia', 'multimilliondollar', 'multimodal', 'multimodel', 'multiparty', 'multipattern', 'multiperson', 'multiplatform', 'multiplayer', 'multiple', 'multiplication', 'multiplicity', 'multiply', 'multiprocessing', 'multiprocessingsharedmemory', 'multistage', 'multitalented', 'multitasking', 'multitenant', 'multithousanddollar', 'multithreaded', 'multithreading', 'multiversion', 'multiyear', 'mulvaney', 'mum', 'mumble', 'mummy', 'mumps', 'munchery', 'mundane', 'mundi', 'munger', 'munging', 'municipal', 'muon', 'murder', 'murderer', 'murdering', 'murderous', 'murdoch', 'murray', 'musa', 'muscaria', 'muscle', 'muscleactuated', 'muscular', 'muse', 'musenet', 'museum', 'mushroom', 'music', 'musical', 'musician', 'musicmap', 'musicstreaming', 'musicvfx', 'musish', 'musk', 'muslbased', 'muslim', 'muslimtracking', 'mussel', 'mussolini', 'must', 'muster', 'musthave', 'mustknow', 'musée', 'mutable', 'mutate', 'mutated', 'mutation', 'mutationbased', 'mute', 'mutiny', 'mutt', 'mutter', 'mutual', 'mutually', 'muxtape', 'mvp', 'mwc', 'mxnet', 'mybrandnewlogo', 'mycpu', 'myequifaxcom', 'myriad', 'mysigmail', 'mysore', 'myspace', 'myspaces', 'mysql', 'mysqlmariadb', 'mysterious', 'mystery', 'myth', 'mythbusters', 'mythical', 'mythology', 'möbius', 'mяo', 'n', 'n64', 'n9', 'na', 'nabis', 'nabokov', 'nacirema', 'nacl', 'nadella', 'nadellaissance', 'nader', 'nafta', 'nail', 'nakamoto', 'naked', 'nala', 'name', 'namecheap', 'named', 'namedrop', 'nameof', 'nameserver', 'namespacing', 'nami', 'naming', 'nana', 'nanaimo', 'nancy', 'nand', 'nanke', 'nannou', 'nano', 'nanoantennae', 'nanobox', 'nanodegrees', 'nanolaw', 'nanoparticles', 'nanoscale', 'nanosecond', 'nanotube', 'nao', 'naomi', 'napalm', 'napkin', 'napster', 'narcissist', 'narcolepsy', 'narendra', 'narrating', 'narrative', 'narrow', 'narrowboat', 'narrowly', 'nasa', 'nasal', 'nasastyle', 'nasdaq', 'nashville', 'nasm', 'nassim', 'nast', 'nasty', 'nat', 'nate', 'nation', 'national', 'nationalised', 'nationalism', 'nationalist', 'nationstate', 'nationstates', 'nationwide', 'native', 'nativecrashreporting', 'natively', 'nato', 'natuive', 'natural', 'naturally', 'naturalsounding', 'nature', 'nauru', 'naval', 'navi', 'navigant', 'navigate', 'navigates', 'navigating', 'navigation', 'navigator', 'navy', 'nazi', 'naïve', 'nba', 'nbas', 'nbc', 'nc1', 'nd4j', 'ne', 'ne1', 'neal', 'neandertal', 'neanderthal', 'near', 'nearby', 'neardisaster', 'neardoomed', 'nearduplicate', 'nearest', 'neareye', 'nearfinal', 'nearfuture', 'nearing', 'nearir', 'nearly', 'nearoptimal', 'nears', 'nearsilent', 'neat', 'nebula', 'necessarily', 'necessary', 'necessity', 'necunos', 'need', 'needed', 'needle', 'nefertiti', 'negative', 'negatively', 'negativelyreceived', 'neglect', 'negligence', 'negotiability', 'negotiate', 'negotiated', 'negotiates', 'negotiating', 'negotiation', 'neighbor', 'neighborhood', 'neighboring', 'neil', 'neill', 'neither', 'neko', 'nelson', 'nemu', 'neo', 'neoliberal', 'neoliberalism', 'neolithic', 'neon', 'neonazi', 'neosvr', 'neovim', 'nepal', 'neptune', 'neptunian', 'nerd', 'nerve', 'nervous', 'nescss', 'nest', 'nested', 'nestle', 'net', 'netbsd', 'netcode', 'netflix', 'netflixlike', 'netflixs', 'nethack', 'netheads', 'netherlands', 'netlify', 'netscape', 'netwars', 'network', 'networked', 'networking', 'neumann', 'neural', 'neurips', 'neuro', 'neuroactive', 'neurogenesis', 'neurogensis', 'neuron', 'neuronal', 'neuronblocks', 'neuroscience', 'neuroscientist', 'neurosexism', 'neutral', 'neutrality', 'neutralize', 'neutrino', 'neutron', 'never', 'neverblink', 'neverslow', 'nevod', 'new', 'newage', 'newark', 'newbie', 'newest', 'newfound', 'newfoundland', 'newline', 'newly', 'newlygenerated', 'newmail', 'newport', 'news', 'newsapi', 'newsapp', 'newscast', 'newsdominated', 'newsfeed', 'newsletter', 'newsom', 'newspack', 'newspaper', 'newsql', 'newsreel', 'newsroom', 'newsy', 'newtab', 'newton', 'newtonian', 'next', 'nextcloud', 'nextday', 'nextdnsio', 'nextdoor', 'nextgen', 'nextgeneration', 'nextjournal', 'nextjs', 'nextparadigm', 'nextstep', 'nexus', 'neymanpearson', 'nfc', 'nfhttp', 'nfl', 'ng', 'nginx', 'ngozi', 'ngrok', 'nh', 'nhst', 'nhtsa', 'nic', 'nice', 'nicedoc', 'nicely', 'nicer', 'nicest', 'niche', 'nicholas', 'nicotine', 'nietzsche', 'nigeria', 'nigerian', 'night', 'nightingale', 'nightlight', 'nightly', 'nightmare', 'nih', 'nike', 'niki', 'niklaus', 'nikoli', 'nil', 'nile', 'nilsson', 'nim', 'nimby', 'nimoy', 'nine', 'ninemonth', 'nineninesix', 'ninety', 'nintendo', 'nipah', 'nirsoft', 'nishimura', 'nissan', 'nist', 'nitric', 'nitro', 'nitrogenfixing', 'nix', 'nixon', 'nixos', 'nke', 'nlgraphs', 'nlp', 'nncp', 'nnn', 'no4', 'noaa', 'noam', 'nobel', 'nobelwinning', 'noble', 'nobleman', 'noblesse', 'nobody', 'nocebo', 'noclip', 'nocode', 'nocost', 'nocturnal', 'node', 'nodeal', 'nodejs', 'nodered', 'nodomain', 'noether', 'noflo', 'nofly', 'nohassle', 'noir', 'noise', 'noisy', 'nokia', 'nomad', 'nomic', 'nomination', 'nomocle', 'non', 'nonacademics', 'nonbeliever', 'nonbinary', 'nonblocking', 'nonce', 'noncebased', 'noncoding', 'noncommercial', 'noncompete', 'noncompetes', 'noncorporate', 'noncycling', 'nondesigners', 'nondeterministic', 'none', 'noneuclidean', 'nonexistent', 'nonexpert', 'nonfiction', 'nonhodgkin', 'nonhosting', 'nonhuman', 'nonlinear', 'nonnegative', 'nonphotorealistic', 'nonprofit', 'nonprogrammers', 'nonproprietary', 'nonrealtime', 'nonsecure', 'nonsense', 'nonsensical', 'nonsouth', 'nonstick', 'nonstop', 'nonsurgical', 'nontechnical', 'nontoxic', 'nonusers', 'nonvc', 'nonviolent', 'nonvolatile', 'nonwesterner', 'noodle', 'nopec', 'noprotocol', 'nord', 'norden', 'nordic', 'nordine', 'nordvpn', 'norm', 'normail', 'normal', 'normalisation', 'normality', 'normalization', 'normalize', 'normalized', 'normally', 'norman', 'normandy', 'norsk', 'north', 'northbluish', 'northeastern', 'northern', 'northwest', 'norton', 'norvegian', 'norvig', 'norway', 'norwegian', 'noscript', 'nose', 'nosedive', 'nosql', 'nostalgia', 'notable', 'notarization', 'notarizing', 'notation', 'notational', 'note', 'notebook', 'notepad', 'notepin', 'notetaking', 'nothing', 'notice', 'noticeably', 'noticed', 'noticing', 'notification', 'notify', 'notifying', 'notion', 'notorious', 'notpetya', 'notre', 'notredame', 'notredames', 'nots', 'nouveau', 'novartis', 'novel', 'novelist', 'novelty', 'november', 'novice', 'novo', 'novogratz', 'nowhere', 'nowrust', 'nowruz', 'np', 'npm', 'npmjs', 'npmlayoffs', 'npms', 'npr', 'nprs', 'nrays', 'nreal', 'nrepl', 'ns1', 'nsa', 'nsakey', 'nsastyle', 'nsec', 'nsf', 'nsfw', 'nso', 'nspawn', 'nt', 'nthu', 'ntlm', 'ntsb', 'ntsc', 'nuc', 'nuclear', 'nuclearweapon', 'nucleus', 'nucv', 'nude', 'nudge', 'nudging', 'nugget', 'nuisance', 'nuking', 'null', 'nullboard', 'nullpointerexception', 'number', 'numbering', 'numberphile', 'numeral', 'numeric', 'numerical', 'numerous', 'numpy', 'numpycompatible', 'nun', 'nunchi', 'nuro', 'nurse', 'nursing', 'nurtured', 'nut', 'nutrient', 'nutrition', 'nutshell', 'nuttx', 'nvidia', 'nvidias', 'nvme', 'nvmefirst', 'nvmm', 'nwheeled', 'ny', 'nyc', 'nycs', 'nycsv', 'nypd', 'nyt', 'nytimes', 'nyts', 'nz', 'népszabadság', 'o', 'o11y', 'o2', 'oak', 'oakland', 'oat', 'oath', 'oauth', 'obama', 'oberlin', 'obese', 'obesity', 'obfuscated', 'obfuscating', 'obituary', 'object', 'objectbased', 'objected', 'objection', 'objective', 'objectivec', 'objectivesmalltalk', 'objector', 'objectoriented', 'obligation', 'oblige', 'obscene', 'obscura', 'obscure', 'obser', 'observability', 'observable', 'observables', 'observation', 'observerindependence', 'observes', 'obsessed', 'obsessing', 'obsession', 'obsessive', 'obsessively', 'obsidian', 'obsolescence', 'obsolete', 'obstacle', 'obtained', 'obvious', 'ocados', 'ocaml', 'ocapic', 'ocasiocortez', 'occult', 'occupational', 'ocean', 'oceananigansjl', 'oceanplastics', 'oci', 'ociv2', 'ocr', 'octacore', 'octave', 'october', 'octolinker', 'octopus', 'oculus', 'ocw', 'odd', 'oddly', 'odds', 'ode', 'odin', 'odoos', 'odor', 'odour', 'odyssey', 'oecd', 'oem', 'oesophageal', 'oeuvre', 'offchain', 'offence', 'offender', 'offense', 'offensive', 'offer', 'offered', 'offering', 'office', 'officer', 'official', 'officially', 'offline', 'offlinefirst', 'offlinenotepad', 'offlineready', 'offloading', 'offroad', 'offs', 'offscreencanvas', 'offset', 'offshore', 'offshored', 'offsites', 'offst', 'offthemenu', 'oflead', 'often', 'oftquoted', 'og', 'ogallala', 'ogusers', 'oh', 'ohanian', 'ohio', 'ohmm', 'oil', 'oimojs', 'oip', 'ok', 'okay', 'okinawans', 'oklahoma', 'okrs', 'okular', 'ol', 'ola', 'old', 'older', 'oldest', 'oldschool', 'oldy', 'oled', 'oligarch', 'oligarchy', 'olive', 'oliver', 'olivia', 'olof', 'oltp', 'olympic', 'olympics', 'omen', 'omg', 'ominous', 'omitting', 'omnimetric', 'omscs', 'on2', 'onavo', 'onboarding', 'onboards', 'oncall', 'oncampus', 'onceinahundred', 'oncevenerable', 'oncolytic', 'oncoming', 'ondemand', 'ondieoscillators', 'ondioline', 'onduty', 'one', 'oneaday', 'onebedroom', 'onechild', 'oneclick', 'oneday', 'onedev', 'onefourth', 'onegraph', 'onemetrelong', 'oneminute', 'oneoff', 'oneonone', 'oneperson', 'oneplus', 'onequarter', 'onesalary', 'oneshot', 'onethird', 'onetime', 'oneyear', 'ongoing', 'onion', 'onionrouted', 'onionshare', 'online', 'onlines', 'onoff', 'onprem', 'onpremselfmanaged', 'onsen', 'onslaught', 'onsso', 'ontario', 'onto', 'ontology', 'onward', 'oo', 'oo01llii', 'oodi', 'oodles', 'oop', 'oormipass', 'op', 'opal', 'opas', 'opc', 'oped', 'open', 'openaccess', 'openai', 'openais', 'openbsd', 'opencensus', 'openchird', 'opencl', 'opencv', 'opencvpython', 'opendronemap', 'openebs', 'opened', 'openedge', 'openembedded', 'openflixr', 'opengl', 'opengo', 'opengraph', 'openid', 'opening', 'openjdk', 'openjs', 'openlisp', 'openly', 'openmandriva', 'openness', 'openpgp', 'openph', 'openpilot', 'openplan', 'openregistry', 'openrex', 'openring', 'openroad', 'openrpc', 'openrsync', 'opensaas', 'openscad', 'openshift', 'openshot', 'opensmptd', 'opensource', 'opensourced', 'opensources', 'opensourcing', 'openspec', 'openssd', 'openssh', 'openssl', 'openstack', 'openstreetmap', 'opensuse', 'opentable', 'opentelemetry', 'opentracing', 'openwrt', 'opera', 'operable', 'operate', 'operating', 'operation', 'operationalerrors', 'operationalizing', 'operative', 'operator', 'opinion', 'opinionated', 'opioid', 'opioids', 'opp', 'oppenheimer', 'opponent', 'opportunistic', 'opportunity', 'oppose', 'opposed', 'opposing', 'opposite', 'opposition', 'oppressing', 'oppression', 'ops', 'opsec', 'opt', 'optic', 'optical', 'optimal', 'optimising', 'optimism', 'optimistic', 'optimization', 'optimize', 'optimized', 'optimizer', 'optimizing', 'optin', 'opting', 'option', 'optional', 'optometrist', 'optout', 'opts', 'opus', 'opz', 'oracle', 'oral', 'orange', 'orangeslice', 'orbit', 'orbital', 'orbitals', 'orbiting', 'orca', 'orchard', 'orchestra', 'orchestrates', 'orchestrating', 'orchestration', 'order', 'ordered', 'ordering', 'orderly', 'ordinary', 'ordnance', 'oregon', 'oreilly', 'org', 'organ', 'organelle', 'organic', 'organisation', 'organisational', 'organise', 'organism', 'organization', 'organizational', 'organize', 'organized', 'organizer', 'organizing', 'orgmode', 'orgs', 'orientalism', 'orientation', 'oriented', 'origami', 'origamiinspired', 'origin', 'original', 'originally', 'originalteil', 'orlando', 'orleans', 'orm', 'ornithopter', 'orourkes', 'oroville', 'orphan', 'orson', 'orwell', 'orwellian', 'os', 'os2', 'osakars', 'osborne', 'osborning', 'oscar', 'oscillation', 'oscilloscope', 'osgi', 'osi', 'osint', 'osirisrex', 'oslo', 'osmo', 'osnews', 'ota', 'others', 'otherwise', 'otonomo', 'otp', 'otpcl', 'ottawa', 'otter', 'otto', 'ottoman', 'ottomanera', 'ought', 'oulanka', 'oumuamua', 'ourworldindata', 'oust', 'ouster', 'ousts', 'out', 'outage', 'outbreak', 'outcome', 'outcry', 'outdated', 'outdoors', 'outed', 'outer', 'outgroup', 'outgrown', 'outlast', 'outlaw', 'outlawed', 'outlawing', 'outlet', 'outlier', 'outlining', 'outlook', 'outlookcom', 'outnumber', 'outofoffice', 'outoforder', 'outofthisworld', 'outpace', 'outperform', 'outperformed', 'outperforming', 'outperforms', 'output', 'outputting', 'outrage', 'outraged', 'outrageous', 'outrageously', 'outran', 'outrun', 'outschooling', 'outsell', 'outside', 'outsize', 'outsmarts', 'outsourcer', 'outsourcing', 'oven', 'overall', 'overcharged', 'overcome', 'overcrowded', 'overdose', 'overengaged', 'overengineering', 'overestimated', 'overflow', 'overflowing', 'overhaul', 'overhead', 'overhyped', 'overlaid', 'overlap', 'overloaded', 'overloading', 'overlook', 'overlooked', 'overlord', 'overnight', 'overoptimize', 'overpaid', 'overpriced', 'overpromised', 'overrated', 'override', 'overrule', 'overrun', 'oversaw', 'overseas', 'oversee', 'overseeing', 'overselling', 'oversight', 'overstate', 'overstrike', 'overtake', 'overtaken', 'overtakes', 'overthrowing', 'overtime', 'overton', 'overtrust', 'overturn', 'overview', 'overwatch', 'overweight', 'overwhelmed', 'overwhelming', 'overwhelmingly', 'overwork', 'overzealous', 'owen', 'owl', 'owned', 'owner', 'ownership', 'owning', 'owns', 'oxfam', 'oxford', 'oxide', 'oxy', 'oxycontin', 'oxygen', 'oxymoron', 'oya', 'oyster', 'ozone', 'ozonedepleting', 'p', 'p2p', 'p3', 'p30', 'pa', 'paas', 'pac', 'pace', 'pacemaker', 'pacific', 'pack', 'package', 'packaging', 'packard', 'packed', 'packet', 'packing', 'pacman', 'pact', 'pad', 'padding', 'paedophile', 'page', 'pagedraw', 'pagerank', 'pagerbeauty', 'pagerduty', 'pageviews', 'paging', 'paglia', 'pai', 'paid', 'paidup', 'pain', 'painful', 'painless', 'painnever', 'paint', 'paintbox', 'paintbynumbers', 'painted', 'painter', 'painterly', 'painting', 'pair', 'pairing', 'pairsh', 'pakistan', 'pakistani', 'pal', 'palaeogenomic', 'palantir', 'pale', 'palette', 'pall', 'palme', 'palmer', 'palmos', 'palsy', 'paltrow', 'pamir', 'pamper', 'pan', 'panacea', 'panama', 'panasonic', 'pancake', 'pancreatic', 'panda', 'pandemic', 'pandoc', 'pane', 'panegyric', 'panel', 'panel2008', 'panera', 'panic', 'panini', 'pant', 'panther', 'paper', 'paperclip', 'paperwork', 'par', 'parable', 'parachute', 'paradigm', 'paradise', 'paradox', 'parallel', 'parallelisation', 'parallelism', 'paralysis', 'paralyzed', 'parameter', 'paranoia', 'paraphrasing', 'parapsychology', 'parasail', 'parasaila', 'parasite', 'parasitic', 'paravirtualized', 'parc', 'parchment', 'pardon', 'parent', 'parental', 'parentalcontrol', 'parenthesis', 'parenting', 'parentsgrandparents', 'paris', 'parity', 'park', 'parker', 'parkes', 'parking', 'parkinson', 'parliament', 'parliamentary', 'parmigianoreggiano', 'parrallel', 'parrot', 'parse', 'parsed', 'parser', 'parserdirected', 'parsing', 'part', 'parthenon', 'partial', 'partially', 'partiallyavailable', 'participation', 'participatory', 'particle', 'particular', 'particulate', 'partition', 'partitioned', 'partitioning', 'partly', 'partner', 'partnership', 'parton', 'partowned', 'parttime', 'party', 'pas', 'pascal', 'pass', 'passage', 'passageway', 'passed', 'passenger', 'passing', 'passion', 'passionate', 'passive', 'passively', 'passover', 'passport', 'password', 'passwordfree', 'passwordless', 'passwordstorage', 'past', 'paste', 'pastor', 'patagonia', 'patch', 'patcher', 'patching', 'patent', 'patented', 'patenting', 'paternity', 'path', 'pathfinder', 'pathfinding', 'pathfindingjs', 'pathogen', 'pathological', 'pathologist', 'pathology', 'pathstyle', 'pathtraced', 'pathway', 'patient', 'patio11', 'patreon', 'patreonsimilar', 'patricia', 'patrick', 'patriot', 'patrol', 'patrolling', 'patron', 'pattern', 'patterson', 'pattersons', 'patty', 'paul', 'pauli', 'pauline', 'pave', 'pavement', 'pavoq', 'pay', 'payboo', 'paycheck', 'paychecktopaycheck', 'payday', 'paying', 'payless', 'payload', 'payment', 'paymentsd', 'payouts', 'paypal', 'paypals', 'payperarticle', 'paytowin', 'paywall', 'paywalled', 'paywalls', 'pb', 'pbit', 'pbj', 'pc', 'pcb', 'pccompatibles', 'pci', 'pcie', 'pcisig', 'pcjs', 'pd', 'pdes', 'pdf', 'pdfs', 'pdk', 'pdp1', 'pdp1135', 'pdp1140', 'pdp7', 'pea', 'peace', 'peach', 'peak', 'peaking', 'peano', 'peanut', 'pear', 'pearl', 'pearlman', 'pearphpnet', 'peazip', 'pecker', 'peculiar', 'pedagogy', 'pedal', 'peddled', 'peddler', 'peddling', 'pedestrian', 'pedo', 'pedophile', 'pee', 'peek', 'peel', 'peeled', 'peer', 'peered', 'peergos', 'peerjs', 'peermaps', 'peerreviewing', 'peertopeer', 'peertube', 'peeve', 'pei', 'pelagic', 'pell', 'pellet', 'pelosi', 'peloton', 'peltier', 'pen', 'penalising', 'penalize', 'penalizes', 'penalty', 'pencil', 'pending', 'penetration', 'penetrator', 'penguin', 'pengwin', 'penicillin', 'penn', 'pennsylvania', 'penrose', 'pension', 'pensioner', 'pentagon', 'pentaquark', 'pentested', 'pentesters', 'pentesting', 'people', 'pep', 'pepper', 'pepsi', 'pepsico', 'per', 'perceive', 'perceived', 'percent', 'percentage', 'percentile', 'perception', 'perceptron', 'perchance', 'percona', 'perennial', 'perf', 'perfect', 'perfected', 'perfectionismoverthinking', 'perfectly', 'perfectpixel', 'perform', 'performance', 'performancetuning', 'performing', 'peril', 'perilous', 'perimeter', 'period', 'periodic', 'periodtracking', 'peripheral', 'periscope', 'perk', 'perkins', 'perl', 'perl6', 'perlin', 'permafrost', 'permanent', 'permanente', 'permian', 'permission', 'permit', 'permitted', 'permutation', 'perpetual', 'perpetuates', 'perplex', 'perry', 'persecution', 'persession', 'persia', 'persian', 'persist', 'persistence', 'persistency', 'persistent', 'person', 'personal', 'personalise', 'personalised', 'personalising', 'personality', 'personalization', 'personalize', 'personalized', 'personally', 'personalworkstation', 'perspective', 'persuade', 'persuaded', 'persuasive', 'perturbed', 'peru', 'peruvian', 'pervasive', 'pervasivelyparallel', 'perversion', 'pessimism', 'pessimistic', 'pest', 'pester', 'pesticide', 'pesto', 'pet', 'petascale', 'pete', 'peter', 'peterson', 'petit', 'petition', 'petrarch', 'petri', 'petty', 'peuto', 'pewdiepie', 'pfas', 'pfizer', 'pfournines', 'pg', 'pgautofailover', 'pge', 'pghoard', 'pgp', 'pgpermission', 'pgstatstatements', 'phage', 'phalanstery', 'phantom', 'pharma', 'pharmaceutical', 'pharmacology', 'pharo', 'phase', 'phd', 'phenomenon', 'phenylephrine', 'phil', 'philadelphia', 'philanderer', 'philanthrocapitalism', 'philanthropy', 'philip', 'philippe', 'philippine', 'philly', 'philosopher', 'philosophical', 'philosophy', 'philosophyquoting', 'phish', 'phished', 'phishing', 'phoenician', 'phoenix', 'phoenixliveview', 'phone', 'phonemakers', 'phonesurveillance', 'phoneusing', 'phony', 'phospholipid', 'phosphorus', 'photo', 'photocopy', 'photodynamic', 'photoessay', 'photograph', 'photographed', 'photographer', 'photographically', 'photographing', 'photography', 'photorealism', 'photorealistic', 'photoresist', 'photosheadshots', 'photoshop', 'photoshopped', 'photosketching', 'photosynthesis', 'photosynthetic', 'php', 'phrase', 'phreaker', 'physic', 'physical', 'physician', 'physicist', 'physiological', 'pi', 'pia', 'pianist', 'piano', 'pic', 'picasa', 'picasso', 'pichai', 'pichi', 'pick', 'picked', 'picker', 'picking', 'pickleverse', 'pickup', 'pico', 'pico8', 'picotorrent', 'picsum', 'picture', 'pid1', 'pie', 'piece', 'pieter', 'pig', 'pigeon', 'pigeontransits', 'pihole', 'pii', 'pijul', 'pika', 'pikapack', 'pikaweb', 'piketty', 'pikus', 'pile', 'piling', 'pill', 'pilosa', 'pilot', 'pilotcom', 'piloted', 'piloting', 'pilotwings', 'pimping', 'pin', 'pinball', 'pinboard', 'pine', 'pine64', 'pinebook', 'pinephone', 'ping', 'pingcap', 'pingdom', 'pingdomuptimerobotstatuscake', 'pingstackio', 'pink', 'pinker', 'pinkers', 'pinkertons', 'pino', 'pinpoint', 'pinterest', 'pinwheel', 'pioneer', 'pioneered', 'pioneering', 'pip', 'pip3', 'pipdig', 'pipe', 'pipeline', 'pipelinedb', 'pipelining', 'piping', 'pipinstallable', 'pipkin', 'pipowered', 'pippin', 'piracy', 'pirate', 'pirated', 'pishot', 'piss', 'pisspoor', 'pit', 'pitch', 'pitched', 'pitcher', 'pitfall', 'pivot', 'pivotal', 'pivothelper', 'pixar', 'pixel', 'pixelart', 'pixelbook', 'pixelfed', 'pixelperfect', 'pizza', 'pj', 'pki', 'pla', 'place', 'placebo', 'placed', 'placement', 'placing', 'plagiarised', 'plagiarism', 'plagiarist', 'plague', 'plagued', 'plaguing', 'plaid', 'plain', 'plaintext', 'plan', 'plan9', 'planar', 'plane', 'planespotting', 'planet', 'planet2016', 'planetary', 'planetscale', 'planetwide', 'planisphere', 'plankalkül', 'plankton', 'planned', 'planner', 'planning', 'plant', 'plantbased', 'planted', 'planter', 'planting', 'plantuml', 'plaque', 'plasma', 'plastic', 'plate', 'plateau', 'platelet', 'platform', 'platfrom', 'plath', 'platinum', 'plato', 'platypus', 'plausible', 'play', 'playable', 'playback', 'playbook', 'playboy', 'playdate', 'played', 'player', 'playground', 'playing', 'playjs', 'playlist', 'playroom', 'playstation', 'playstore', 'playtime', 'playwithdocker', 'plea', 'plead', 'pleads', 'pleasant', 'please', 'pleasure', 'plectics', 'pledge', 'pleistocene', 'plight', 'pliocene', 'plot', 'plotjuggler', 'plotneuralnet', 'plotted', 'plotter', 'plotting', 'plotty', 'plpgsql', 'plprofiler', 'plucked', 'plug', 'pluggable', 'plugin', 'plugins', 'plumber', 'plummet', 'plummeted', 'plummeting', 'plunge', 'plural', 'pluralsight', 'plus', 'ply', 'plázida', 'pm', 'pmarca', 'pneumatic', 'png', 'pnp', 'poached', 'poacher', 'poaches', 'poaching', 'poc', 'pocket', 'pod', 'podcast', 'podcaster', 'podcasting', 'podcasts', 'podemos', 'podman', 'poem', 'poet', 'poetry', 'pogo', 'point', 'pointed', 'pointer', 'pointerfree', 'pointing', 'pointy', 'poised', 'poison', 'poisoned', 'poisonfree', 'poisoning', 'poke', 'poker', 'poketto', 'pokrovsk', 'pokémon', 'poland', 'polar', 'polari', 'polarized', 'polarpod', 'polarrs', 'pole', 'polemic', 'polestar', 'poli', 'police', 'policing', 'policy', 'polish', 'political', 'politically', 'politicans', 'politician', 'politics', 'poll', 'pollen', 'pollenbased', 'pollinate', 'polling', 'pollute', 'polluted', 'polluter', 'polluting', 'pollution', 'poly1305', 'polyai', 'polybius', 'polyfill', 'polyglot', 'polygon', 'polymorphic', 'polymorphism', 'polynesia', 'polynesian', 'polynomial', 'polytopes', 'pompeo', 'pond', 'ponens', 'pong', 'pongmechanik', 'pony', 'poo', 'pool', 'poole', 'pooping', 'poopmail', 'poor', 'poorer', 'poorest', 'poorly', 'poorquality', 'pop', 'popcorn', 'popecon', 'popsockets', 'popular', 'popularity', 'population', 'populationbased', 'populism', 'populist', 'populous', 'popup', 'porcupine', 'porn', 'pornhub', 'porno', 'pornography', 'porsche', 'porsches', 'port', 'portable', 'portal', 'portfolio', 'porting', 'portland', 'portmanteau', 'portrait', 'portrayal', 'portugal', 'pose', 'posing', 'position', 'positionalonly', 'positioning', 'positive', 'positivism', 'positivity', 'positron', 'posix', 'posixcompliant', 'posse', 'possession', 'possibility', 'possible', 'possibly', 'post', 'postage', 'postal', 'postantibiotic', 'postasyncawait', 'postcard', 'postclimatechange', 'postcrisis', 'posted', 'poster', 'posteriori', 'postgis', 'postgres', 'postgresbacked', 'postgresql', 'postgresqlcompatible', 'postgresqls', 'posting', 'postlawn', 'postlhc', 'postmake', 'postman', 'postmarketos', 'postmates', 'postmeltdown', 'postmodern', 'postmoney', 'postmoore', 'postmortem', 'postpone', 'postponement', 'postquantum', 'postsurgical', 'postterror', 'posture', 'pot', 'potassium', 'potato', 'potent', 'potential', 'potentially', 'pothole', 'pound', 'pouring', 'poverty', 'powder', 'power', 'power1', 'power9', 'powered', 'powerful', 'powerfull', 'powerhouse', 'powering', 'powerless', 'powerpc', 'powerpoint', 'powerport', 'powertoys', 'powertrains', 'ppm', 'pprint', 'pr', 'practical', 'practically', 'practice', 'practicejs', 'practicing', 'practise', 'prado', 'pragmatic', 'pragmatist', 'prague', 'praise', 'praised', 'prandtl', 'prank', 'pratchett', 'pratt', 'prc', 'pre', 'pre1400', 'preacher', 'preaches', 'preact', 'preakness', 'precarious', 'precede', 'preceded', 'precedent', 'precious', 'precis', 'precise', 'precision', 'preclinical', 'precolumbian', 'predate', 'predates', 'predation', 'predator', 'predatory', 'predicament', 'predict', 'predictable', 'predictably', 'predicted', 'predicting', 'prediction', 'predictive', 'predictor', 'predicts', 'preemption', 'preemptive', 'prefect', 'prefer', 'preference', 'preferred', 'prefers', 'prefetch', 'prefix', 'pregnancy', 'pregnant', 'pregoogle', 'prehistoric', 'preinstalled', 'preliminary', 'preload', 'premature', 'premiere', 'premise', 'premisys', 'premium', 'prenatal', 'prenda', 'preorder', 'preorders', 'prep', 'preparation', 'prepare', 'prepared', 'prepares', 'preparing', 'prepend', 'prepl', 'preprint', 'preprints', 'preprocessing', 'preprocessor', 'preprohibition', 'prepublication', 'preraphaelites', 'prerequisite', 'pres', 'prescient', 'prescribed', 'prescription', 'presence', 'present', 'presentation', 'preservation', 'preserve', 'preserved', 'preserving', 'president', 'presidential', 'press', 'pressure', 'pressured', 'pressuring', 'prestige', 'presto', 'presumed', 'presumption', 'pretending', 'pretty', 'prevalence', 'prevent', 'preventable', 'prevented', 'preventing', 'prevention', 'preview', 'previous', 'previously', 'prevue', 'prewar', 'prey', 'price', 'priced', 'pricefixing', 'pricey', 'pricing', 'prierarchy', 'priest', 'primary', 'primatologist', 'prime', 'primer', 'priming', 'primitive', 'primus', 'prince', 'princeton', 'principal', 'principle', 'principled', 'print', 'printable', 'printed', 'printer', 'printing', 'printk', 'printout', 'prion', 'prior', 'prioritise', 'prioritization', 'prioritizing', 'prisma', 'prison', 'prisoner', 'prisonlike', 'pristine', 'privacy', 'privacyasaservice', 'privacyconscious', 'privacyenabled', 'privacyfocused', 'privacypreserving', 'privacytoolsio', 'private', 'privately', 'privatestorageio', 'privay', 'privilege', 'privilegeboundary', 'privilegeseparated', 'prize', 'prized', 'pro', 'pro1', 'proamazon', 'probabilistic', 'probability', 'probable', 'probably', 'probe', 'probing', 'probioticbased', 'problem', 'problematic', 'problemsolving', 'problm', 'procedural', 'procedure', 'proceed', 'proceeding', 'process', 'processed', 'processing', 'processor', 'processplan', 'procjam', 'procrastinating', 'procrastination', 'prod', 'prodigy', 'produce', 'produced', 'producer', 'producing', 'product', 'productbuilding', 'producthunt', 'production', 'productionready', 'productive', 'productively', 'productivity', 'productmarket', 'productservices', 'prof', 'profanity', 'profession', 'professional', 'professionally', 'professionallypackaged', 'professor', 'proficient', 'profile', 'profileguided', 'profiler', 'profiling', 'profit', 'profitability', 'profitable', 'profiting', 'profive', 'progamers', 'prograde', 'program', 'programatically', 'programmable', 'programmatically', 'programme', 'programmed', 'programmer', 'programming', 'progress', 'progressing', 'progression', 'progressive', 'prohibition', 'project', 'projected', 'projecting', 'projection', 'projective', 'projector', 'proliferate', 'proliferation', 'prolific', 'prolog', 'prolonged', 'prometheus', 'prominent', 'promise', 'promisebased', 'promised', 'promising', 'promo', 'promote', 'promoted', 'promotes', 'promoting', 'promotion', 'prompt', 'prompting', 'pronounce', 'pronounceable', 'proof', 'propaganda', 'propagated', 'propagation', 'propelled', 'proper', 'properly', 'property', 'propertybased', 'prophet', 'propionate', 'propofolinduced', 'proportionalita', 'proportioni', 'proposal', 'propose', 'proposed', 'proposes', 'propowered', 'propping', 'propranolol', 'proprietary', 'propulsion', 'proquints', 'proscons', 'prosecutor', 'proseful', 'prosemirror', 'prospect', 'prospecting', 'prosperity', 'prospiracy', 'prostate', 'prosthesis', 'prosthetic', 'protect', 'protected', 'protectimus', 'protecting', 'protection', 'protects', 'protein', 'protest', 'protester', 'protestors', 'protobuf', 'protocol', 'protoelamite', 'protointernet', 'proton', 'protonmail', 'protoplanetary', 'protothreads', 'prototool', 'prototype', 'prototyping', 'protrump', 'proust', 'provably', 'prove', 'proven', 'provenanceaware', 'prover', 'provide', 'provided', 'provider', 'provides', 'providing', 'province', 'proving', 'provision', 'provocateur', 'provoking', 'prowl', 'proxy', 'pruitt', 'prvalues', 'pryson', 'ps1', 'ps3', 'ps4', 'psa', 'pseudo3d', 'pseudopolynomial', 'pseudoscience', 'pseudoscientific', 'psi', 'psilocybin', 'psk', 'psptool', 'pst', 'psu', 'psychec', 'psychedelic', 'psychedelics', 'psychiatric', 'psychiatrist', 'psychiatry', 'psychic', 'psychological', 'psychology', 'psychopath', 'psychosis', 'psychotic', 'psychotropic', 'psyonix', 'pterosaur', 'pto', 'ptsd', 'puberty', 'pubg', 'public', 'publication', 'publicfacing', 'publichealth', 'publickey', 'publicly', 'publicprivate', 'publish', 'published', 'publisher', 'publishes', 'publishing', 'pubsub', 'puerto', 'puffer', 'pufferfish', 'puffin', 'pugsql', 'pulitzer', 'pull', 'pulled', 'pulling', 'pulp', 'pulse', 'pulseaudio', 'pummeling', 'pump', 'pun', 'punch', 'punched', 'punchtop', 'punctureproof', 'punish', 'punished', 'punishing', 'punishment', 'punk', 'puppet', 'puppeteer', 'puppy', 'puquios', 'purchase', 'purchased', 'purchasing', 'purdue', 'pure', 'pureboot', 'purego', 'purely', 'purenim', 'pureos', 'purescript', 'pureview', 'purge', 'purged', 'purging', 'purifying', 'purism', 'purple', 'purpose', 'pursue', 'pursuing', 'pursuit', 'purveyor', 'purview', 'push', 'pushdown', 'pushed', 'pushing', 'pushnag', 'pushnotifications', 'pushup', 'put', 'putin', 'putsack', 'putting', 'putty', 'puzzle', 'puzzlesolving', 'puzzlingly', 'pv', 'pvalues', 'pvsstudio', 'pwa', 'pwa2apk', 'pwas', 'pwn', 'pwn2own', 'pwned', 'px9', 'pycharm', 'pycon', 'pydis', 'pygamer', 'pyjama', 'pylon', 'pyodide', 'pypi', 'pypy', 'pyramid', 'pyre', 'pyrenees', 'pyrex', 'pyright', 'pysnooper', 'pyspark', 'pysyft', 'pythagorean', 'pythia', 'python', 'python3', 'pythonawesome', 'pythonc', 'pythonforandroid', 'pythonic', 'pythononly', 'pythonorg', 'pythontutor', 'pytorch', 'pytorchbiggraph', 'pytype', 'père', 'pāṇini', 'q', 'q1', 'q2', 'q2vkpt', 'q3', 'q4', 'qa', 'qanon', 'qantas', 'qaseio', 'qatester', 'qbal', 'qbits', 'qemu', 'qf72', 'qgrep', 'qnx', 'qqqr', 'qr', 'qri', 'qsort', 'qt', 'qt5', 'qtc', 'qtnotepad', 'quack', 'quad', 'quadcopters', 'quadcore', 'quadriga', 'quadrinitarianism', 'quadruple', 'quaint', 'quake', 'quakeworld', 'qualcomm', 'qualifies', 'quality', 'quant', 'quantel', 'quantifies', 'quantify', 'quantile', 'quantitative', 'quantized', 'quants', 'quantum', 'quarantine', 'quark', 'quarkus', 'quarter', 'quartercentury', 'quarterly', 'quartz', 'quasar', 'quasimemorysafety', 'quaternet', 'quaternionbased', 'qubism', 'qubits', 'que', 'quebec', 'quedlinburg', 'queen', 'queensland', 'quell', 'query', 'querying', 'querytime', 'quest', 'question', 'questionable', 'questioned', 'questioning', 'queue', 'queueing', 'quic', 'quiche', 'quick', 'quicken', 'quickly', 'quicksand', 'quid', 'quiet', 'quietly', 'quilc', 'quill', 'quillbot', 'quine', 'quinesnake', 'quinn', 'quintillion', 'quintuple', 'quire', 'quirk', 'quit', 'quite', 'quits', 'quitting', 'quixote', 'quiz', 'quizmaker', 'quo', 'quora', 'quote', 'qutebrowser', 'qwerty', 'r', 'r1000', 'r2d2', 'rabbit', 'race', 'racefree', 'rachel', 'racial', 'racially', 'racing', 'racism', 'racist', 'rack', 'racket', 'racketonchez', 'rackspace', 'radar', 'radarbased', 'radeon', 'radiation', 'radiationhardened', 'radical', 'radicalization', 'radicle', 'radio', 'radioactive', 'radiohead', 'radioinstigator', 'radiologist', 'radiology', 'radiotracer', 'radius', 'radix', 'rage', 'ragstoriches', 'raid', 'raided', 'raider', 'raiding', 'rail', 'railroad', 'railsconf', 'railway', 'rain', 'rainbow', 'rainfall', 'rainforest', 'raining', 'raise', 'raised', 'raising', 'raleigh', 'rally', 'ralph', 'ralston', 'ram', 'rambleed', 'ramblings', 'ramen', 'ramp', 'rampant', 'ramses', 'ramsey', 'ran', 'ranch', 'rancher', 'rand', 'random', 'randominion', 'randomised', 'randomized', 'randomjson', 'randomly', 'randomness', 'randomorg', 'range', 'ranging', 'rank', 'ranked', 'ranking', 'rankwave', 'ransack', 'ransacked', 'ransom', 'ransomware', 'rant', 'ranting', 'rap', 'rape', 'raped', 'rapid', 'rapidly', 'rapidlygrowing', 'rapper', 'rapperproducer', 'rappler', 'raptor', 'raptorq', 'rare', 'rareearth', 'rareearths', 'rarely', 'rarest', 'rarity', 'rasa', 'rash', 'raspberry', 'raspberrypi', 'raspberrypicking', 'raspbian', 'raster', 'rat', 'rate', 'rated', 'ratfree', 'rather', 'ratify', 'rating', 'ratio', 'rational', 'rationalization', 'ratliff', 'rattled', 'rattlesnake', 'raunchy', 'rautakorpi', 'rav1e', 'raven', 'ravenmaster', 'raw', 'ray', 'raycaster', 'raylib', 'raymarching', 'rayshader', 'raystrips', 'raytheon', 'raytraced', 'raytracing', 'raze', 'razing', 'razorpay', 'razr', 'rbx', 'rc', 'rc1', 'rc3', 'rce', 'rchangemyview', 'rclone', 'rdbms', 'rdevops', 'rdp', 'rdrand', 'rds', 're2c', 'reach', 'reachable', 'reached', 'reaching', 'react', 'reactbased', 'reacting', 'reaction', 'reactivation', 'reactive', 'reactivity', 'reactlazy', 'reactor', 'reactos', 'reactschemaorg', 'reactthreefiber', 'read', 'readability', 'readable', 'reader', 'readerreader', 'readerschatter', 'readerwriter', 'readerwriteremulator', 'readiness', 'reading', 'readline', 'readme', 'readmes', 'readonly', 'readout', 'readwise', 'ready', 'readytoembed', 'readytoinstall', 'reahl', 'reakit', 'real', 'realestate', 'realised', 'realises', 'realism', 'realist', 'realistic', 'reality', 'realitykit', 'realize', 'realizes', 'realizing', 'reallife', 'really', 'realm', 'realnetworks', 'realsense', 'realtalk', 'realtime', 'realtimeapp', 'realworld', 'reap', 'reaper', 'reappearing', 'reappraise', 'reapproaching', 'reason', 'reasonable', 'reasoning', 'reasonml', 'reasonmlocaml', 'reassemble', 'reassesses', 'rebase', 'rebate', 'rebecca', 'rebel', 'rebellion', 'rebirth', 'rebl', 'reboot', 'rebooted', 'rebooting', 'reborn', 'rebound', 'rebrands', 'rebuild', 'rebuilding', 'rebuked', 'rebuttal', 'recall', 'recap', 'recappedio', 'recaptcha', 'recarve', 'receipt', 'receive', 'received', 'receives', 'receiving', 'recency', 'recent', 'recently', 'receptor', 'recession', 'recidivism', 'recipe', 'recipient', 'reckless', 'reckoning', 'reclaim', 'reclaiming', 'recluse', 'reclusive', 'recognise', 'recognition', 'recognize', 'recognized', 'recognizer', 'recognizes', 'recommend', 'recommendation', 'recommended', 'recommending', 'recommends', 'reconcile', 'reconciles', 'reconciling', 'reconfigurable', 'reconfiguration', 'reconsider', 'reconsideration', 'reconsidering', 'reconsiders', 'reconsolidation', 'reconstructing', 'reconstruction', 'record', 'recordbreaking', 'recorded', 'recorder', 'recording', 'recordsmonth', 'recourse', 'recover', 'recovered', 'recovering', 'recovery', 'recreate', 'recreated', 'recreating', 'recruit', 'recruited', 'recruiter', 'recruiting', 'rectangle', 'rectifier', 'recurrent', 'recurse', 'recursion', 'recursive', 'recyclables', 'recycle', 'recycled', 'recycles', 'recycling', 'red', 'reda', 'redacted', 'redaction', 'redasm', 'reddigram', 'reddit', 'redditor', 'redditors', 'reddits', 'redditstweets', 'redecentralize', 'redecentralized', 'redecentralizing', 'redeem', 'redefining', 'redemption', 'redesign', 'redesigned', 'redesigning', 'redesigns', 'redex', 'redhat', 'redirect', 'redirected', 'redirects', 'redis', 'redisbloom', 'rediscover', 'rediscovered', 'redisearch', 'redistimeseries', 'redistributes', 'redlight', 'redom', 'redoshi', 'redox', 'redrawing', 'redrawn', 'redshift', 'reduce', 'reduced', 'reducer', 'reduces', 'reducing', 'reduction', 'redundancy', 'redundant', 'redux', 'redwood', 'reed', 'reeducation', 'reef', 'reelection', 'reeling', 'reengineering', 'reestablishes', 'reevolving', 'reexamine', 'ref', 'refactor', 'refactoring', 'reference', 'referential', 'referer', 'referred', 'referring', 'refine', 'refined', 'refinement', 'refiner', 'refinery', 'reflect', 'reflecting', 'reflection', 'reflects', 'reform', 'reformed', 'reframing', 'refresh', 'refrigeration', 'refuge', 'refugee', 'refund', 'refunded', 'refunding', 'refurb', 'refurbished', 'refurbishing', 'refuse', 'refused', 'refusing', 'refutes', 'regain', 'regained', 'regarding', 'regency', 'regex', 'regexp', 'reggie', 'regime', 'region', 'regional', 'register', 'registered', 'registering', 'registrar', 'registration', 'registry', 'regolith', 'regression', 'regret', 'regretted', 'regrow', 'regs', 'regular', 'regularly', 'regulate', 'regulated', 'regulating', 'regulation', 'regulator', 'regulatory', 'rehab', 'rehabilitation', 'reich', 'reid', 'reign', 'reilly', 'reimagined', 'reimplementation', 'reimplemented', 'reimplementing', 'rein', 'reinforcement', 'reinstall', 'reinstate', 'reinvent', 'reinvented', 'reinventing', 'reinvention', 'reitz', 'reiwa', 'reject', 'rejected', 'rejecting', 'rejection', 'rejectsone', 'rekognition', 'related', 'relation', 'relational', 'relationship', 'relative', 'relatively', 'relativity', 'relaunch', 'relaunches', 'relax', 'relay', 'relearn', 'relearning', 'release', 'released', 'releasing', 'relentless', 'relentlessly', 'relentlessness', 'relents', 'relevance', 'relevant', 'reliability', 'reliable', 'reliance', 'relicensing', 'relief', 'relies', 'relieve', 'religion', 'religious', 'reload', 'relocates', 'reltron', 'reluctant', 'rely', 'relying', 'remain', 'remainder', 'remains', 'remake', 'remarkable', 'remastered', 'remastering', 'rembrandt', 'remediated', 'remediation', 'remedybg', 'remember', 'remembering', 'remembrance', 'remind', 'reminder', 'reminiscence', 'remme', 'remorse', 'remote', 'remotecontrolled', 'remotefirst', 'remotely', 'remoteonly', 'remotepowered', 'removable', 'removal', 'remove', 'removebg', 'removed', 'removing', 'renaissance', 'rename', 'renaming', 'renault', 'render', 'rendered', 'renderer', 'rendering', 'renderless', 'rendition', 'renegade', 'renewable', 'renewablebased', 'renewables', 'renewed', 'renews', 'renoir', 'renormalization', 'renouncing', 'renovation', 'rent', 'rental', 'rentasister', 'rentcontrolled', 'rentech', 'rented', 'renter', 'rentfree', 'renting', 'rentstabilized', 'rené', 'reopened', 'reopens', 'reordering', 'reorganization', 'reorganize', 'rep', 'repackaged', 'repair', 'repairing', 'repairman', 'repalm', 'repay', 'repayment', 'repeal', 'repealed', 'repeat', 'repeatably', 'repeated', 'repeatedly', 'repeating', 'repercussion', 'repetition', 'repetitive', 'repl', 'replace', 'replaced', 'replacement', 'replaces', 'replacing', 'replay', 'replete', 'replica', 'replicated', 'replication', 'replicator', 'replit', 'reply', 'repo', 'report', 'reported', 'reportedly', 'reporter', 'reporting', 'repos', 'repository', 'reprehensible', 'represent', 'representation', 'representative', 'reprieve', 'reproduce', 'reproduced', 'reproducibility', 'reproducible', 'reprogrammable', 'reprogrammed', 'republic', 'republican', 'repulsive', 'repurposing', 'reputable', 'reputation', 'request', 'requested', 'requiem', 'require', 'required', 'requirement', 'requires', 'requiring', 'reregistering', 'rerouted', 'rescheduling', 'rescue', 'rescued', 'research', 'researcher', 'reselling', 'reseq', 'reservable', 'reservation', 'reserve', 'reserved', 'reservoir', 'reset', 'reshapes', 'reshuffle', 'residence', 'residency', 'resident', 'residue', 'resign', 'resignation', 'resigning', 'resigns', 'resilience', 'resilient', 'resin', 'resist', 'resistance', 'resisted', 'resisting', 'resists', 'resold', 'resolution', 'resolved', 'resolver', 'resolvers', 'resonance', 'resonates', 'resort', 'resounding', 'resource', 'resourcessteps', 'respect', 'respiratory', 'respond', 'respondent', 'responds', 'response', 'responsibility', 'responsible', 'responsibly', 'responsive', 'ressa', 'rest', 'restart', 'restaurant', 'restful', 'restic', 'restocked', 'restoration', 'restore', 'restored', 'restores', 'restoring', 'restraint', 'restrict', 'restricted', 'restricting', 'restriction', 'restricts', 'restructuredtext', 'restructures', 'result', 'resulted', 'resumable', 'resume', 'resurfaces', 'resurgence', 'resurrecting', 'resurrection', 'resurrects', 'retail', 'retailer', 'retains', 'retaliates', 'retaliation', 'retargetable', 'retdec', 'rethink', 'rethinking', 'retinal', 'retinopathy', 'retire', 'retired', 'retiree', 'retirement', 'retires', 'retract', 'retracted', 'retraction', 'retreat', 'retreating', 'retrieve', 'retro', 'retrofitting', 'retrofuturism', 'retrograde', 'retroinspired', 'retrospective', 'retrotinged', 'return', 'returned', 'returning', 'retweeting', 'reunited', 'reusable', 'reuse', 'reuters', 'rev', 'reveal', 'revealed', 'revealing', 'reveals', 'revenge', 'revenue', 'reverence', 'revers', 'reversal', 'reverse', 'reversed', 'reverseengineer', 'reverseengineered', 'reverseengineering', 'reversible', 'reversing', 'revert', 'revery', 'review', 'reviewable', 'reviewed', 'reviewer', 'reviewing', 'revised', 'revision', 'revisit', 'revisited', 'revisiting', 'revisting', 'revival', 'revive', 'revived', 'revives', 'reviving', 'revoke', 'revoked', 'revoking', 'revolt', 'revolut', 'revolutapp', 'revolution', 'revolutionary', 'revolutionise', 'revolutionized', 'revolutionizing', 'reward', 'rewarded', 'rewarding', 'rewind', 'rework', 'rewrite', 'rewriter', 'rewriting', 'rewrote', 'reycling', 'rf', 'rfactor', 'rfc', 'rfc1149', 'rfc8482', 'rfcs', 'rfid', 'rfidler', 'rga', 'rhel', 'rhetorical', 'rhine', 'rhodes', 'rhonda', 'rhubarb', 'rhythm', 'rhythmic', 'riaa', 'riak', 'ribbit', 'riccardo', 'rice', 'rich', 'richard', 'richer', 'richest', 'richter', 'richtext', 'rick', 'rico', 'ricochetim', 'rid', 'riddle', 'ride', 'ridehailing', 'rider', 'rideshare', 'ridesharing', 'ridiculous', 'riding', 'riemann', 'rife', 'rifle', 'rift', 'rig', 'rigetti', 'rigged', 'rigging', 'right', 'righttorepair', 'rightwing', 'rigorous', 'rigorously', 'rindfleischetikettierungsüberwachungsaufgabenübertragungsgesetz', 'ring', 'rio', 'riot', 'riotim', 'riotjs', 'rip', 'ripcord', 'ripeness', 'ripgrep', 'ripped', 'ripple', 'rippling', 'risc', 'risch', 'riscv', 'rise', 'rising', 'risk', 'risking', 'risky', 'risp', 'ritalin', 'ritchie', 'ritual', 'ritzcarlton', 'rival', 'rivalry', 'river', 'rivian', 'rl', 'rlgraph', 'rlwrap', 'rm', 'rms', 'rnn', 'rnnbased', 'rnns', 'ro', 'road', 'roadgoat', 'roadkill', 'roadmap', 'roadshow', 'roadster', 'roaming', 'roaring', 'roast', 'robber', 'robbery', 'robbins', 'robert', 'robinhood', 'robinson', 'roboadvisers', 'robocall', 'robocalled', 'robocaller', 'robocallers', 'robocalling', 'robocalls', 'robocar', 'robocrop', 'roboflow', 'robomaster', 'roboreporter', 'robot', 'robotic', 'robotics', 'robs', 'robust', 'robustperspective', 'roc', 'rock', 'rock64', 'rocked', 'rocker', 'rocket', 'rocketjourney', 'rockland', 'rockpro64', 'rocksdb', 'rockset', 'rockstar', 'rocm', 'rod', 'rode', 'rogan', 'roger', 'rogers', 'rognan', 'rogue', 'roi', 'roiled', 'roku', 'role', 'roll', 'rolled', 'roller', 'rolling', 'rollins', 'rollover', 'rollyourown', 'rom', 'roma', 'roman', 'romance', 'romania', 'romanian', 'romantic', 'romanticize', 'rome', 'romero', 'roof', 'rook', 'room', 'roomba', 'roomful', 'roommate', 'roomsh', 'roomtemperature', 'roosendaal', 'root', 'rooted', 'rooter', 'rootkit', 'rootless', 'rope', 'roquette', 'rose', 'roshambo', 'roshi', 'ross', 'rosshow', 'rossum', 'rot', 'rot13', 'rotary', 'rotate', 'rotating', 'rotation', 'rotor', 'rotten', 'rotting', 'rough', 'round', 'roundtheworld', 'roundtrip', 'roundup', 'rourke', 'route', 'router', 'routine', 'routinely', 'routing', 'roux', 'rover', 'row', 'rowhammer', 'royal', 'royale', 'royalty', 'royaltyfree', 'royce', 'rpcs', 'rpcs3', 'rpg', 'rpi', 'rpiracy', 'rpki', 'rpm', 'rpn', 'rps', 'rredux', 'rsa', 'rssbridge', 'rstudio', 'rsync', 'rt', 'rtechnology', 'rtfm', 'rthedonald', 'rtlsdr', 'rtos', 'rtx', 'rtxpowered', 'rubber', 'rubberstamped', 'rubbish', 'rubik', 'rubin', 'ruby', 'rudder', 'rude', 'rue', 'rueful', 'rugged', 'ruin', 'ruined', 'ruining', 'rule', 'ruled', 'rulesofthumb', 'ruling', 'rumor', 'rumored', 'run', 'runaround', 'runaway', 'runc', 'runet', 'rung', 'runing', 'runjs', 'runner', 'running', 'runoff', 'runtime', 'runtimes', 'runup', 'runway', 'rupee', 'rural', 'rus', 'rush', 'ruskin', 'russell', 'russia', 'russiagate', 'russian', 'russianstyle', 'rust', 'rustic', 'rusty', 'rut', 'rv', 'rv320rv325', 'rvalues', 'rvr', 'rwanda', 'rxjava', 'rxvtunicode', 'ryan', 'ryeboard', 'ryzen', 'rückzugsorte', 's', 's08', 's1', 's10', 's11', 's15', 's17', 's18', 's19', 's3', 's360', 's420', 'saait', 'saarinen', 'saas', 'sabbatical', 'sabotage', 'sabotaged', 'sabotaging', 'sabre', 'sachs', 'sack', 'sacked', 'sackler', 'sacklers', 'sacred', 'sacricide', 'sacrifice', 'sacrificed', 'sad', 'sadder', 'saddest', 'saddle', 'sadness', 'sadr', 'safari', 'safe', 'safely', 'safer', 'safest', 'safety', 'safetytampering', 'saga', 'sagan', 'sagedb', 'sagelib', 'sagemath', 'sagrada', 'said', 'sail', 'sailed', 'sailfish', 'sailing', 'sailor', 'saint', 'sake', 'salaried', 'salary', 'sale', 'salesfarce', 'salesforce', 'salesforcecom', 'salesman', 'salient', 'salieri', 'salinger', 'salish', 'salmon', 'salome', 'salsa', 'salt', 'saltiest', 'saltshakercrypto', 'saltwater', 'salvage', 'salvator', 'sam', 'sameness', 'samesex', 'samoa', 'samoan', 'samos', 'sample', 'sampled', 'sampling', 'samsung', 'samsungs', 'samurai', 'san', 'sanction', 'sanctuary', 'sand', 'sandberg', 'sandbox', 'sandboxed', 'sandboxing', 'sander', 'sandia', 'sandisk', 'sandra', 'sandspiel', 'sandwich', 'sandy', 'sane', 'sanitation', 'sanitizers', 'sanity', 'sank', 'sanos', 'sans', 'sanskrit', 'santa', 'sap', 'sapiens', 'sarah', 'saratoga', 'sardinia', 'sarin', 'sark', 'sartre', 'sas', 'sasha', 'saskatchewan', 'sat', 'satan', 'satellit', 'satellite', 'satellitetrain', 'sathack', 'satire', 'satnet', 'satoshi', 'satoshis', 'satsmt', 'satsolver', 'saturated', 'saturating', 'saturday', 'saturn', 'satya', 'sauce', 'saudi', 'sauron', 'sausage', 'saussure', 'savage', 'savaged', 'save', 'saved', 'saving', 'savior', 'saw', 'say', 'saying', 'sb', 'sbc', 'sbi', 'sbox', 'sboxes', 'scaffold', 'scaffolding', 'scala', 'scalability', 'scalable', 'scalajs', 'scale', 'scaled', 'scaleway', 'scaling', 'scam', 'scammed', 'scammer', 'scammy', 'scan', 'scandal', 'scandinavia', 'scannability', 'scannable', 'scanned', 'scanner', 'scanning', 'scar', 'scarce', 'scare', 'scared', 'scarf', 'scarily', 'scarlett', 'scary', 'scatter', 'scattering', 'scenario', 'scene', 'scenic', 'schacht', 'schedule', 'scheduled', 'scheduledcron', 'scheduler', 'scheduling', 'scheherazade', 'schellenberg', 'schema', 'schemadts', 'schemaless', 'schemaorg', 'schematic', 'scheme', 'schick', 'schiit', 'schiller', 'schizophrenia', 'schmidhuber', 'schmidt', 'schmoe', 'schmooze', 'schneier', 'scholar', 'school', 'schoolboy', 'schoolgirl', 'schoolstrike4climatecom', 'schrödinger', 'schumann', 'schumer', 'schumpeter', 'science', 'scienceanalytics', 'scientific', 'scientist', 'scifi', 'scihub', 'scissors', 'scolded', 'scons', 'scooget', 'scoop', 'scoot', 'scooter', 'scope', 'score', 'scorecard', 'scoresheets', 'scoring', 'scot', 'scotch', 'scotland', 'scott', 'scottish', 'scotus', 'scour', 'scout', 'scouting', 'scp', 'scrabble', 'scramble', 'scrambler', 'scrambling', 'scrap', 'scrape', 'scraped', 'scraping', 'scrapinghub', 'scrapy', 'scrapyard', 'scratch', 'scratching', 'screaming', 'screed', 'screen', 'screencontrol', 'screener', 'screening', 'screenshot', 'screenshots', 'screentime', 'screw', 'screwed', 'screwup', 'scribble', 'scribd', 'scribe', 'script', 'script8', 'scriptable', 'scripting', 'scripto', 'scripture', 'scroll', 'scrollytelling', 'scrub', 'scruggs', 'scrum', 'scrutinize', 'scrutiny', 'scsi', 'sculpt', 'scum', 'scutoid', 'scuttled', 'scylla', 'scylladb', 'sd', 'sdes', 'sdf', 'sdk', 'sdks', 'sdn', 'se', 'se30', 'sea', 'seabed', 'seaboard', 'seafood', 'seaking', 'seal', 'sealed', 'sealevel', 'seamless', 'search', 'searchable', 'searched', 'searching', 'searchlight', 'searle', 'sears', 'season', 'seasonality', 'seastar', 'seastead', 'seasteading', 'seat', 'seatgeek', 'seattle', 'seawater', 'seaweed', 'sec', 'secbsd', 'second', 'secondgeneration', 'secondorder', 'secondscreen', 'secrecy', 'secret', 'secretary', 'secretive', 'secretly', 'secretspilling', 'section', 'sector', 'secure', 'secured', 'securedroporg', 'securely', 'secures', 'securing', 'security', 'securityfocused', 'securitytxt', 'sed', 'sedation', 'sedentary', 'sediment', 'sednit', 'seducing', 'see', 'seed', 'seeding', 'seedstage', 'seedy', 'seeing', 'seek', 'seeker', 'seeking', 'seem', 'seemed', 'seemingly', 'seems', 'seen', 'seethrough', 'sega', 'segment', 'segmentation', 'segregated', 'segregation', 'segwit', 'seibel', 'seiko', 'seize', 'seized', 'seizes', 'seizure', 'select', 'selected', 'selection', 'selective', 'selectively', 'selenium', 'seleniumlike', 'self', 'selfaware', 'selfcheckout', 'selfcompassion', 'selfcontained', 'selfcontrol', 'selfdefence', 'selfdefense', 'selfdescribed', 'selfdestruct', 'selfdirected', 'selfdistancing', 'selfdriving', 'selfemployed', 'selfenumerating', 'selfesteem', 'selfforgiveness', 'selfgrading', 'selfguided', 'selfhosted', 'selfie', 'selfies', 'selfinflicted', 'selfish', 'selflearning', 'selfmade', 'selfmutating', 'selfpowered', 'selfprioritizing', 'selfpromoters', 'selfpublished', 'selfpublishing', 'selfregulating', 'selfreported', 'selfreproducing', 'selfresizing', 'selfselection', 'selfservice', 'selfsimilar', 'selfstudy', 'selfsupervised', 'selftaught', 'sell', 'seller', 'selling', 'semantic', 'semantics', 'semaphore', 'semenya', 'semiautomatic', 'semiconductor', 'semifinal', 'semiidentical', 'seminal', 'semireview', 'semirings', 'seml', 'semver', 'sen', 'senate', 'senator', 'send', 'sending', 'sends', 'seneca', 'senile', 'senior', 'sensation', 'sense', 'senseis', 'sensible', 'sensing', 'sensingactuation', 'sensitive', 'sensor', 'sensorimotor', 'sensorvault', 'sensory', 'sent', 'sentence', 'sentenced', 'sentient', 'sentiment', 'sentinel', 'sentry', 'seo', 'separate', 'separately', 'separating', 'separation', 'separator', 'september', 'sequel', 'sequence', 'sequencer', 'sequoia', 'serenity', 'serenityos', 'serf', 'sergiu', 'serial', 'serializability', 'serialkiller', 'series', 'serious', 'seriously', 'serotonin', 'serruya', 'servant', 'serve', 'served', 'server', 'serverdriven', 'serverless', 'serverside', 'servfromzone', 'service', 'serving', 'servitude', 'servo', 'session', 'set', 'seth', 'setinterval', 'setl', 'setting', 'settle', 'settlement', 'settling', 'setup', 'seuss', 'seven', 'sevendimensional', 'seventeenth', 'seventy', 'seventytwo', 'several', 'severe', 'severity', 'sewing', 'sex', 'sexism', 'sexist', 'sexpression', 'sexual', 'sexually', 'sexy', 'seychelles', 'sf', 'sfs', 'sftola', 'sfw', 'sgx', 'sh', 'sha1', 'shackle', 'shackletons', 'shadama', 'shader', 'shaderlab', 'shaders', 'shadier', 'shading', 'shadow', 'shady', 'shake', 'shakespeare', 'shakeup', 'shakier', 'shaking', 'shakti', 'shaky', 'shame', 'shamed', 'shaming', 'shamir', 'shampoo', 'shanghai', 'shannon', 'shaohua', 'shape', 'shaped', 'shaping', 'shard', 'sharding', 'shardy', 'share', 'sharechat', 'shared', 'shareholder', 'sharing', 'shark', 'sharon', 'sharp', 'sharpen', 'sharpest', 'sharply', 'shatter', 'shattered', 'shattering', 'shatters', 'shazam', 'shazamlike', 'shed', 'sheelanagigs', 'sheep', 'sheerans', 'sheet', 'shelby', 'shelf', 'shell', 'shellcode', 'shellvault', 'shelter', 'shen', 'shenandoah', 'shenanigan', 'shenmues', 'shepherd', 'sheriff', 'sherpa', 'sheryl', 'shield', 'shift', 'shifted', 'shim', 'shimura', 'shine', 'shing', 'shingle', 'shining', 'shiny', 'shinyjs', 'ship', 'shipment', 'shipped', 'shipping', 'shipwreck', 'shirt', 'shit', 'shittiest', 'shiviz', 'shkreli', 'shlayer', 'shock', 'shocking', 'shockwave', 'shockwaves', 'shoddy', 'shoe', 'shoesource', 'shoestring', 'sholokhov', 'shonberg', 'shook', 'shoot', 'shooter', 'shooting', 'shootout', 'shop', 'shop3', 'shopify', 'shoplifter', 'shopper', 'shopping', 'shoppy', 'shorewall', 'short', 'shortage', 'shortcoming', 'shortcut', 'shorted', 'shortened', 'shortener', 'shortens', 'shorter', 'shortest', 'shortfall', 'shortlived', 'shortterm', 'shot', 'shoulder', 'shouldimakeitcom', 'shouldnt', 'shout', 'shouted', 'shouting', 'shovel', 'show', 'showcase', 'showcasing', 'showdown', 'showed', 'shower', 'showing', 'shown', 'showreel', 'showroom', 'shrank', 'shrdlu', 'shred', 'shrimp', 'shrink', 'shrinking', 'shrug', 'shrugged', 'shuffle', 'shun', 'shunning', 'shuntingyard', 'shut', 'shutdown', 'shutendôji', 'shuts', 'shuttered', 'shutterfly', 'shutting', 'shuttle', 'shuttleworth', 'shy', 'si6il', 'siberia', 'siberian', 'sibling', 'sicilian', 'sick', 'sickeningly', 'sicp', 'side', 'sidebottoms', 'sidechannel', 'sidechannels', 'sideeffects', 'sidepact', 'sideproject', 'sideprojects', 'sidewalk', 'sideways', 'sidewinder', 'siding', 'siege', 'siem', 'siemens', 'sienna', 'sieve', 'sieving', 'sight', 'sighting', 'sigma', 'sigmoids', 'sign', 'signal', 'signaling', 'signalman', 'signature', 'signed', 'significance', 'significant', 'significantly', 'signin', 'signing', 'signon', 'signup', 'signups', 'sigsaly', 'sikorsky', 'silence', 'silenced', 'silencing', 'silent', 'silently', 'silhouette', 'silicon', 'silk', 'silly', 'silo', 'silver', 'sim', 'simcity', 'simd', 'simdjson', 'simfix', 'similar', 'similarity', 'simon', 'simon3264', 'simone', 'simple', 'simplequoter', 'simpler', 'simplest', 'simplicity', 'simplified', 'simplifies', 'simplify', 'simplistic', 'simply', 'simpson', 'simulate', 'simulated', 'simulates', 'simulating', 'simulation', 'simulator', 'simultaneously', 'sin', 'since', 'sincere', 'sinclair', 'sing', 'singapore', 'singer', 'singh', 'single', 'singlecard', 'singlecolumn', 'singledose', 'singlefamily', 'singlefile', 'singlefilez', 'singlepage', 'singlespot', 'singleuse', 'singlewire', 'singular', 'singularity', 'sinitic', 'sink', 'sinking', 'siphoning', 'sir', 'siren', 'sirixdb', 'sisense', 'sister', 'sit', 'site', 'sitin', 'sitting', 'situation', 'situational', 'six', 'sixel', 'sixfold', 'sixth', 'sixty', 'sixtyfour', 'sixtyone', 'sixyear', 'size', 'sized', 'sizzling', 'sk', 'skafos', 'skate', 'skeletal', 'skeleton', 'skeptic', 'skeptical', 'skepticism', 'sketch', 'skewed', 'skews', 'skia', 'skias', 'skill', 'skillbuilding', 'skilled', 'skimfeed', 'skimmed', 'skimmer', 'skin', 'skincare', 'skinny', 'skip', 'skipped', 'skipper', 'skipping', 'skiptracing', 'skirting', 'skit', 'skittle', 'skull', 'sky', 'skymind', 'skype', 'skyrocket', 'skyrocketing', 'skyscraper', 'skywriting', 'slack', 'slacker', 'slain', 'slam', 'slammed', 'slander', 'slandering', 'slang', 'slash', 'slated', 'slaughter', 'slaughterhousefive', 'slave', 'slavery', 'slavoj', 'slay', 'slayer', 'sleep', 'sleeper', 'sleeping', 'sleepless', 'sleepyhead', 'sleuth', 'slew', 'slice', 'slick', 'slid', 'slide', 'slideout', 'slider', 'slidesai', 'slidespresentations', 'slidevideo', 'slightly', 'slightlyfast', 'slim', 'slime', 'slip', 'slipped', 'slippery', 'slope', 'slot', 'sloth', 'slovakia', 'slow', 'slowe', 'slowed', 'slower', 'slowing', 'slowly', 'slowmotion', 'slows', 'slowwave', 'sluggish', 'slum', 'slump', 'sm', 'small', 'smaller', 'smallest', 'smallmolecule', 'smallscale', 'smalltalk', 'smalltown', 'smart', 'smartcard', 'smarter', 'smartest', 'smartlock', 'smartphone', 'smartphones', 'smartthings', 'smartwatch', 'smartwatches', 'smartwatching', 'smashing', 'smeared', 'smell', 'smelling', 'smi', 'smile', 'smiling', 'smime', 'smith', 'smithskroger', 'smoke', 'smoker', 'smoking', 'smolder', 'smooth', 'smoothsort', 'smotherspectre', 'smt', 'smuggled', 'smuggling', 'snack', 'snafu', 'snag', 'snail', 'snake', 'snakebite', 'snap', 'snapchat', 'snapchats', 'snapdragon', 'snapfish', 'snapshot', 'snared', 'snaring', 'snark', 'snarxiv', 'sneak', 'sneaker', 'sneaky', 'sneeze', 'snes', 'sni', 'sniff', 'sniffy', 'snigl', 'snip', 'sniper', 'snippet', 'snobbery', 'snoop', 'snooping', 'snoopy', 'snopes', 'snow', 'snowball', 'snowboarder', 'snowcovered', 'snowden', 'snowfall', 'snowflake', 'snowpack', 'snowplow', 'snowshoe', 'snub', 'snubbing', 'soa', 'soak', 'soap', 'soar', 'soaring', 'sober', 'sobering', 'sobriety', 'soc', 'socalled', 'soccer', 'sociability', 'sociable', 'social', 'socialamnesia', 'socialcredit', 'socialism', 'socialist', 'socially', 'socialmedia', 'socialscan', 'societal', 'society', 'sociological', 'sociopath', 'sock', 'socket', 'sockmap', 'socrates', 'soda', 'sodium', 'sodiumion', 'sofa', 'sofloo', 'soft', 'softagram', 'softbank', 'softbankbacked', 'softbanks', 'soften', 'softer', 'software', 'softwarecontrolled', 'softwaredefined', 'softwareengineering', 'sohn', 'soho', 'soil', 'sokal', 'sokoban', 'solar', 'solarbattery', 'solarflare', 'solarpowered', 'sold', 'solder', 'soldering', 'soldier', 'sole', 'solemn', 'soliciting', 'solid', 'solidarity', 'solidstate', 'solitaire', 'solitary', 'solitude', 'solo', 'solodeveloper', 'solomon', 'solorace', 'solotshi', 'solution', 'solve', 'solved', 'solver', 'solves', 'solving', 'somali', 'someday', 'somehow', 'someone', 'somerton', 'something', 'sometimes', 'son', 'song', 'songcraft', 'songwriting', 'sonic', 'sony', 'sonys', 'soon', 'sooner', 'sop', 'sorbet', 'sorcery', 'soros', 'sorrow', 'sorry', 'sort', 'sorted', 'sorting', 'sortofcpm', 'sortraits', 'sortsupport', 'sought', 'soul', 'soulcrushing', 'sound', 'soundcard', 'soundfont', 'sounding', 'soundness', 'soundtrack', 'soundzoom', 'soup', 'soupedup', 'sour', 'source', 'sourceavailable', 'sourcebook', 'sourcebusterjs', 'sourced', 'sourcegraph', 'sourcehut', 'sourcehuts', 'sourcetosource', 'sourcetrail', 'sourcing', 'souring', 'south', 'southeast', 'southendonsea', 'southern', 'southkorean', 'southwest', 'sovereign', 'soviet', 'sovietera', 'soy', 'soylent', 'sp', 'sp500', 'spa', 'space', 'spacecraft', 'spaced', 'spaceflight', 'spaceils', 'spaceship', 'spacetime', 'spacetimes', 'spacevim', 'spacex', 'spacy', 'spacys', 'spaghetti', 'spain', 'spam', 'spamfilters', 'spamming', 'span', 'spanish', 'spanning', 'sparcbook', 'sparck', 'spare', 'spark', 'sparked', 'sparking', 'sparkle', 'sparse', 'sparselygated', 'sparser', 'sparta', 'spartan', 'spaseio', 'spatial', 'spatialos', 'spawned', 'speak', 'speaker', 'speaking', 'speaks', 'spear', 'spec', 'specexec', 'special', 'specialist', 'specialize', 'specialized', 'specially', 'specialpurpose', 'specie', 'specific', 'specifically', 'specification', 'specifying', 'spectacle', 'spectator', 'spectre', 'spectrelike', 'spectremeltdownl1tfmds', 'spectretype', 'spectrum', 'speculative', 'sped', 'speech', 'speech2face', 'speech2text', 'speechtocode', 'speechtospeech', 'speed', 'speedgate', 'speeding', 'speedoptimized', 'speedrun', 'speedrunning', 'speedup', 'speedy', 'spektral', 'spell', 'spellable', 'spelled', 'spelling', 'spelunking', 'spend', 'spender', 'spending', 'spends', 'spent', 'sperm', 'sphero', 'sphinx', 'spice', 'spider', 'spidermon', 'spiderverse', 'spied', 'spiegel', 'spiekermann', 'spiel', 'spielberg', 'spike', 'spiked', 'spikey', 'spill', 'spilled', 'spillway', 'spin', 'spina', 'spinach', 'spindler', 'spine', 'spinning', 'spinout', 'spiritual', 'spit', 'spite', 'splash', 'splashdown', 'splatter', 'spleen', 'spliced', 'splicing', 'spline', 'split', 'splitting', 'splunk', 'spock', 'spoiler', 'spoiling', 'spokane', 'spoke', 'spoken', 'spokenword', 'sponge', 'spongebob', 'sponsor', 'sponsored', 'sponsoring', 'sponsorship', 'spontaneous', 'spoof', 'spoofed', 'spoofing', 'spookily', 'spoon', 'sport', 'spot', 'spotdj', 'spotify', 'spotifyapp', 'spotifynowplaying', 'spotlight', 'spotted', 'spotting', 'spouse', 'sprawling', 'spray', 'spraying', 'sprayprinter', 'spread', 'spreading', 'spreadsheet', 'spreadsheetlike', 'spree', 'spring', 'springer', 'sprint', 'sprinter', 'sprite', 'spritestack', 'sprout', 'spur', 'spurious', 'spurning', 'spurred', 'sputnik', 'spy', 'spycraft', 'spying', 'spyware', 'sql', 'sqlalchemy', 'sqler', 'sqlite', 'sqs', 'squad', 'squandering', 'square', 'squared', 'squarepants', 'squaretrade', 'squashing', 'squeak', 'squeal', 'squeeze', 'squeezed', 'squeezing', 'squid', 'squirrel', 'sr71', 'sr71s', 'sr72', 'sre', 'srht', 'sri', 'sriracha', 'ssa', 'ssaform', 'ssai', 'ssd', 'ssds', 'sse', 'ssh', 'sshdocker', 'ssl', 'sslcerts', 'ssllabs', 'sso', 'sspl', 'ssr', 'ssri', 'st', 'stab', 'stabilising', 'stability', 'stabilizer', 'stabilizes', 'stable', 'stablecoin', 'stablest', 'stack', 'stackdriver', 'stackexchange', 'stacking', 'stackless', 'stackoverflow', 'stadium', 'staff', 'staffed', 'staffer', 'staffing', 'stage', 'staged', 'staging', 'stagnant', 'stagnation', 'stain', 'stained', 'stainless', 'stainlesssteel', 'stake', 'stalin', 'stalkerware', 'stall', 'stalled', 'stallman', 'stallmans', 'stamos', 'stamp', 'stan', 'stand', 'standalone', 'standard', 'standardize', 'standardized', 'standardizing', 'standardsrest', 'standby', 'standing', 'standoff', 'standup', 'stanford', 'stanislaw', 'stanley', 'staph', 'staple', 'stapleton', 'star', 'starbucks', 'starcraft', 'stardew', 'stargazing', 'staring', 'starinov', 'stark', 'starkey', 'starkly', 'starlight', 'starlink', 'starlite', 'starry', 'starshade', 'starship', 'starsky', 'start', 'started', 'startengine', 'starter', 'starting', 'startle', 'startup', 'starving', 'starz', 'stash', 'stasi', 'stasis', 'stat', 'state', 'statebacked', 'statebased', 'stateless', 'statement', 'stateoftheart', 'stateowned', 'statewide', 'static', 'statically', 'staticallydriven', 'station', 'stationary', 'statistic', 'statistical', 'statistically', 'statistique', 'stats', 'statue', 'status', 'stay', 'stayed', 'staying', 'stb', 'std', 'stdinstdout', 'stdlib', 'stdmove', 'steady', 'steak', 'steal', 'stealing', 'stealth', 'stealthy', 'steam', 'steamrolls', 'steel', 'steep', 'steepest', 'steer', 'steganographic', 'steganography', 'steiger', 'stein', 'steinway', 'stellar', 'stellarium', 'stem', 'stemcell', 'stemming', 'stenographer', 'stensal', 'step', 'stepbystep', 'stephen', 'stephenson', 'stepmother', 'stepping', 'stepwise', 'stereo', 'stereogram', 'stereophile', 'stereotypical', 'steril', 'steroid', 'steve', 'steven', 'stevenson', 'steves', 'steward', 'stewardship', 'stick', 'sticker', 'sticking', 'sticky', 'stifle', 'stifling', 'stigma', 'still', 'stillness', 'stimulant', 'stimulation', 'sting', 'stink', 'stinking', 'stipend', 'stir', 'stirling', 'stirring', 'stirrup', 'stirshaken', 'stitch', 'stitchfix', 'stitching', 'stm32', 'stmicro', 'stochastic', 'stock', 'stockfish', 'stockholm', 'stockpiling', 'stocksmaybe', 'stoic', 'stoicism', 'stokes', 'stole', 'stolen', 'stomach', 'stone', 'stoned', 'stonehenge', 'stoner', 'stonewall', 'stood', 'stool', 'stop', 'stopher', 'stoppage', 'stopped', 'stopping', 'storage', 'store', 'stored', 'storex', 'storing', 'storm', 'story', 'storybook', 'storytelling', 'stowbots', 'strache', 'stradivarius', 'straight', 'straighten', 'straightening', 'strails', 'strain', 'strait', 'strandbeest', 'stranded', 'strang', 'strange', 'strangelooking', 'strangeness', 'stranger', 'strangest', 'strangler', 'strangs', 'strans', 'strapi', 'strapped', 'strategic', 'strategy', 'stratolaunch', 'strava', 'straw', 'strawberry', 'streak', 'stream', 'streamed', 'streamer', 'streaming', 'streamlined', 'streebog', 'streebogrussian', 'street', 'streetcar', 'streetlight', 'streisand', 'strength', 'stress', 'stressed', 'stressfree', 'stressful', 'stretch', 'strict', 'strictest', 'strike', 'string', 'strip', 'stripe', 'striped', 'stripmining', 'stripped', 'strippeddown', 'stroads', 'strobe', 'stroke', 'stroller', 'strong', 'strongarm', 'strongdm', 'stronger', 'strongest', 'strongly', 'stronglytyped', 'stroustrup', 'struck', 'struct', 'structural', 'structuralism', 'structure', 'structured', 'structuring', 'struensee', 'struggle', 'struggled', 'struggling', 'strumia', 'ststettfalcon', 'stub', 'stubborn', 'stuck', 'student', 'studentdebt', 'studentloan', 'studentmade', 'studied', 'studio', 'study', 'studying', 'stuff', 'stuffed', 'stumble', 'stump', 'stung', 'stunning', 'stunningly', 'stuns', 'stupid', 'stupidest', 'stupidity', 'style', 'styleable', 'styled', 'stylegan', 'stylelint', 'styling', 'stylish', 'stéphane', 'su', 'sub', 'subacute', 'subagents', 'subarray', 'subaru', 'subculture', 'subdomain', 'subdomains', 'subdue', 'subfield', 'subgrid', 'subinterpreters', 'subject', 'subjected', 'subjective', 'sublime', 'submarine', 'submission', 'submit', 'submits', 'submitted', 'subnetworks', 'subpoena', 'subprime', 'subprocess', 'subreddits', 'subroutine', 'subsaharan', 'subscriber', 'subscribing', 'subscription', 'subscriptionpocalypse', 'subset', 'subsidise', 'subsidize', 'subsidized', 'subsidizing', 'subsidy', 'subspace', 'substance', 'substantially', 'substitute', 'substituting', 'subsystem', 'subtitle', 'subtle', 'subtlety', 'subtraction', 'subtractive', 'suburb', 'suburban', 'subway', 'succeed', 'succeeded', 'success', 'successful', 'successfully', 'succession', 'successor', 'succulent', 'suck', 'sucker', 'sudan', 'suddenly', 'sudoku', 'sue', 'sued', 'suffer', 'suffered', 'suffering', 'suffers', 'sufficiency', 'suffocating', 'suffolk', 'sugar', 'sugary', 'suggest', 'suggesting', 'suggestion', 'suggests', 'suicidal', 'suicide', 'suing', 'suit', 'suitable', 'suitcase', 'suite', 'sullenberger', 'sullivan', 'sum', 'summa', 'summarization', 'summarized', 'summarizer', 'summary', 'summation', 'summer', 'summit', 'summons', 'sumofthreecubes', 'sun', 'sundar', 'sunday', 'sundial', 'sunfish', 'sung', 'sunglass', 'sunk', 'sunlight', 'sunscreen', 'sunset', 'sunsetting', 'supdate', 'super', 'superadobe', 'superb', 'superblock', 'superblocks', 'superbowl', 'superbug', 'supercars', 'supercharger', 'supercharging', 'supercomputer', 'supercomputing', 'superconducting', 'superconductivity', 'superconductor', 'superconductors', 'superdraco', 'supergrid', 'superhero', 'superhighway', 'superhuman', 'superintelligence', 'superionic', 'superior', 'superjumbos', 'supermajority', 'superman', 'supermarket', 'supermassive', 'supermicro', 'supernatural', 'supernova', 'superposition', 'superpower', 'superrich', 'superscalar', 'supersecure', 'supersonic', 'supersponge', 'superstimulate', 'supertallsuperskinnysuperexpensive', 'supertuxkart', 'supervised', 'supervision', 'supervisor', 'supper', 'supplement', 'supplier', 'supply', 'supplychain', 'supplying', 'support', 'supported', 'supporter', 'supporting', 'supposed', 'suppress', 'suppressing', 'suppression', 'supra', 'supremacist', 'supremacy', 'supreme', 'suprising', 'sure', 'surely', 'surf', 'surface', 'surfing', 'surge', 'surged', 'surgeon', 'surgery', 'surgical', 'surgically', 'surging', 'surpass', 'surpassed', 'surplus', 'surprise', 'surprised', 'surprising', 'surprisingly', 'surrealist', 'surrender', 'surrendered', 'surrounded', 'surroundings', 'surveillance', 'survey', 'survival', 'survive', 'survived', 'survives', 'surviving', 'survivor', 'susceptible', 'suse', 'sushi', 'suspect', 'suspected', 'suspend', 'suspended', 'suspendresume', 'suspends', 'suspense', 'suspension', 'suspicious', 'suspiciously', 'sussman', 'sustainability', 'sustainable', 'sustained', 'suto', 'suv', 'sv', 'svalbard', 'svelte', 'svelterust', 'svg', 'svgbob', 'sviatoslav', 'svnyother', 'sw', 'swag', 'swagginzzz', 'swallowing', 'swamp', 'swansea', 'swap', 'swapping', 'swarm', 'swatch', 'swatter', 'swatting', 'sway', 'swc', 'swdeveloper', 'swe', 'swear', 'swearing', 'swears', 'sweat', 'sweatshop', 'sweden', 'swedish', 'sweeping', 'sweet', 'sweetened', 'swerv', 'swift', 'swifter', 'swiftsh', 'swiftui', 'swiftwasm', 'swimmer', 'swimming', 'swindle', 'swindled', 'swine', 'swing', 'swipe', 'swisher', 'swiss', 'swisspost', 'swissvote', 'switch', 'switched', 'switching', 'switchingsocial', 'switzerland', 'swizzle', 'sword', 'sx', 'sxsw', 'sydney', 'sylvia', 'symbiont', 'symbiosis', 'symbiotic', 'symbol', 'symbolic', 'symbolics', 'symbolism', 'symlinkrace', 'symlinks', 'symptom', 'syn', 'synapsis', 'synbioide', 'sync', 'synched', 'synchronisation', 'synchronization', 'synchronize', 'synchronizing', 'synchronous', 'synchrony', 'syncing', 'syncthing', 'syndrome', 'synesthesia', 'synology', 'synologysa1864', 'synonymous', 'syntax', 'synth', 'synthesis', 'synthesizer', 'synthetic', 'synths', 'syphon', 'syria', 'sys', 'sysadmin', 'syscalls', 'system', 'system360', 'system360370', 'system76', 'systematic', 'systematically', 'systemd', 'systemdjournald', 'systemds', 'systemic', 'systemmillions', 'systemslowlevel', 'syswall', 'syzkaller', 'szegedy', 't', 't1', 't2', 't25', 't265', 'tab', 'tabbed', 'table', 'tableau', 'tableplus', 'tablesaw', 'tablet', 'tabletop', 'tabnabbing', 'tabular', 'tackle', 'tackling', 'taco', 'tactic', 'tactical', 'tactile', 'tag', 'tagboard', 'tagged', 'taichi', 'tail', 'tailored', 'tailwind', 'taint', 'taipei', 'taiwan', 'taiwandeveloped', 'taiwanese', 'takahashi', 'takaoka', 'take', 'takeaway', 'takedown', 'takehome', 'taken', 'takeoff', 'takeover', 'taking', 'tale', 'taleb', 'talebs', 'talent', 'talented', 'taliban', 'talk', 'talkin', 'talking', 'talkinghead', 'talkshow', 'talkspace', 'taller', 'tallest', 'talos', 'tame', 'tamed', 'taming', 'tangent', 'tangible', 'tank', 'tanker', 'tantalizing', 'tantalum', 'tao', 'taoist', 'tap', 'tape', 'taped', 'tapering', 'tapping', 'tar', 'tara', 'tarantino', 'tardigrade', 'target', 'targeted', 'targeting', 'targz', 'tariff', 'tarifffree', 'taro', 'tarpit', 'tarpé', 'tarrare', 'tart', 'task', 'tasmanian', 'taste', 'tastier', 'tatsuya', 'tattoo', 'taught', 'taunting', 'tax', 'taxed', 'taxevasion', 'taxfree', 'taxi', 'taxiing', 'taxing', 'taxjar', 'taxman', 'taxonomy', 'taxpayer', 'taycan', 'taylor', 'tbhq', 'tbox', 'tc', 'tclflavored', 'tcp', 'tcpcrypt', 'tcpdump', 'tcpip', 'tcsh', 'tdd', 'tdp', 'tea', 'teach', 'teacher', 'teaching', 'team', 'teamviewer', 'teapot', 'tear', 'teardown', 'tearing', 'tease', 'teaser', 'tech', 'techcrunch', 'techdirt', 'techheavy', 'techlash', 'technica', 'technical', 'technically', 'technique', 'techno', 'technofears', 'technological', 'technologist', 'technology', 'technopoly', 'technosignature', 'technothriller', 'technoutopians', 'techoriented', 'techsavvy', 'techspot', 'tectonic', 'tectonically', 'ted', 'ted2019', 'tedium', 'teen', 'teenage', 'teenager', 'teenytiny', 'teeth', 'tel', 'telco', 'telecom', 'telecommunication', 'telegram', 'telegraph', 'telekom', 'telelearning', 'telemetry', 'telephone', 'telephony', 'telescope', 'teletype', 'television', 'tell', 'teller', 'telling', 'telltale', 'telnet', 'temp', 'temperature', 'template', 'templating', 'templeos', 'temporal', 'temporarily', 'temporary', 'temporarypw', 'temptation', 'tems', 'ten', 'tenant', 'tencent', 'tend', 'tennessee', 'tennisball', 'tense', 'tension', 'tensor', 'tensorflow', 'tensorflowapache', 'tensorflowbased', 'tensorflowjs', 'tensornetwork', 'tent', 'tentacle', 'tentative', 'tenth', 'tenure', 'tenurebased', 'tepco', 'teping', 'terabyte', 'term', 'terminal', 'terminalbased', 'terminate', 'terminated', 'terminates', 'termination', 'terminus', 'termius', 'termshark', 'ternary', 'terra', 'terracotta', 'terraform', 'terraforming', 'terrain', 'terrapattern', 'terrestrial', 'terrible', 'terrified', 'terrifying', 'territory', 'terror', 'terrorism', 'terrorist', 'terrority', 'terrorrelated', 'terry', 'terse', 'tertill', 'tesla', 'teslasemitrailer', 'teslonda', 'test', 'testable', 'tested', 'tester', 'testifies', 'testify', 'testimony', 'testing', 'testosterone', 'tetanus', 'tether', 'tethered', 'tetrabrik', 'tetrahydrocannabinol', 'tetri', 'tetsie', 'tex', 'texas', 'text', 'textbook', 'textedit', 'textile', 'texting', 'textmode', 'textonly', 'textract', 'textreme', 'texture', 'textvideo', 'textworld', 'tfidf', 'tfs', 'thai', 'thailand', 'thank', 'thanks', 'thanosjs', 'thatll', 'thats', 'thawing', 'thc', 'theater', 'theatre', 'thee', 'theft', 'theia', 'theinfosec', 'thelio', 'theme', 'themeforest', 'theologian', 'theology', 'theophrastus', 'theorem', 'theoretical', 'theorist', 'theory', 'theranos', 'therapeutic', 'therapist', 'therapy', 'there', 'thereof', 'theresa', 'thermal', 'thermodynamic', 'thermodynamics', 'thermoelectric', 'thermometer', 'thermometry', 'thermostat', 'thesaurus', 'theseus', 'theyre', 'theyve', 'thick', 'thief', 'thiel', 'thiels', 'thin', 'thing', 'think', 'thinker', 'thinking', 'thinkpad', 'thinkspot', 'thinktank', 'third', 'thirdbiggest', 'thirdparty', 'thirst', 'thirty', 'thirtyhour', 'thoma', 'thomas', 'thompson', 'thomson', 'thorium', 'thorn', 'thorough', 'thoroughbred', 'thou', 'thought', 'thoughtcrime', 'thoughter', 'thousand', 'thrangrycat', 'thread', 'threadbase', 'threaded', 'threadripper', 'threat', 'threaten', 'threatened', 'threatening', 'threatens', 'thredis', 'three', 'threeday', 'threedecade', 'threejs', 'threema', 'threepage', 'threepoint', 'threestep', 'threewheeler', 'thriceflown', 'thrift', 'thriftstore', 'thrill', 'thriller', 'thrilling', 'thrillseekers', 'thrive', 'thrived', 'thrives', 'thriving', 'throat', 'throne', 'throttle', 'throttler', 'throttling', 'throughout', 'throughput', 'throw', 'throwback', 'throwing', 'thrown', 'thrust', 'thruster', 'thucydides', 'thule', 'thumb', 'thumbnail', 'thunberg', 'thunderbird', 'thunderbolt', 'thundering', 'thursday', 'thwart', 'thyratron', 'ti', 'ti84', 'tiananmen', 'tibet', 'tibetan', 'tick', 'ticket', 'ticketholder', 'ticketing', 'ticking', 'tickling', 'tictactoe', 'tictoctrack', 'tidal', 'tidb', 'tide', 'tie', 'tied', 'tier', 'tiergarten', 'tierney', 'tiger', 'tighten', 'tightens', 'tijuana', 'tik', 'tiktok', 'tile', 'tile38', 'tiling', 'tilling', 'tilliscoons', 'tilt', 'tim', 'timber', 'time', 'timebased', 'timeblocking', 'timelapse', 'timeless', 'timeline', 'timeops', 'timeout', 'timer', 'timescaledb', 'timeseries', 'timesnapper', 'timespicayune', 'timestamped', 'timestamps', 'timetable', 'timex', 'timezone', 'timing', 'tin', 'tinder', 'tinderstyle', 'tinfoil', 'tinkersynth', 'tiny', 'tinyalloc', 'tinycurl', 'tinyexpr', 'tinyseed', 'tinytetris', 'tiobe', 'tip', 'tipoff', 'tipping', 'tippinme', 'tiptoeing', 'tire', 'tirechalking', 'tired', 'tissue', 'titan', 'titanium', 'title', 'tj', 'tl', 'tla', 'tld', 'tldr', 'tlds', 'tlshttps', 'tlssni01', 'tm', 'tmi', 'tmobile', 'tmobilesprint', 'toast', 'toaster', 'tobacco', 'tobler', 'tocqueville', 'todate', 'today', 'todd', 'toddler', 'todo', 'todobefore', 'todoer', 'todolist', 'todos', 'toe', 'toffeeshare', 'tofu', 'together', 'toil', 'toilet', 'tok', 'tokamak', 'token', 'tokenbased', 'tokenization', 'tokyo', 'told', 'tolerable', 'tolerance', 'tolerate', 'tolkien', 'toll', 'tolstoy', 'tom', 'tomato', 'tomb', 'tomcrypt', 'tomography', 'tomorrow', 'ton', 'tone', 'tonedeaf', 'tonejs', 'tonga', 'tongue', 'tonight', 'tonkin', 'tonne', 'tony', 'took', 'tool', 'toolbox', 'toolchain', 'toolchains', 'tooling', 'toolkit', 'toolkits', 'toolsmethods', 'tooltrick', 'toolusing', 'tootdon', 'tooth', 'toothbrush', 'top', 'topdown', 'topheavy', 'topic', 'topography', 'topological', 'topology', 'topperforming', 'topping', 'toppled', 'topranked', 'topsecret', 'topup', 'tor', 'tore', 'torguard', 'tornado', 'toronto', 'torpedoed', 'torrent', 'torrentfreak', 'torsshsh', 'tortoise', 'torture', 'tortured', 'torturing', 'torturously', 'torus', 'torvalds', 'tory', 'tos', 'toshi', 'toshibas', 'tossing', 'total', 'totaled', 'totalitarian', 'totalizing', 'toto', 'totp', 'touch', 'touchdown', 'toucher', 'touching', 'touchpad', 'touchscreen', 'touchstone', 'touchtech', 'touchtyping', 'tough', 'toughest', 'toulouselautrec', 'tour', 'tourette', 'tourism', 'tourist', 'tout', 'toward', 'towards', 'towed', 'towel', 'tower', 'town', 'tox', 'toxic', 'toy', 'toyjvm', 'toyota', 'tplink', 'tpm', 'tps', 'tpu', 'tpuv2', 'traccar', 'trace', 'tracebacks', 'traced', 'tracer', 'tracing', 'track', 'tracked', 'tracker', 'tracking', 'trackingjs', 'trackpoint', 'tract', 'traction', 'tractor', 'trade', 'tradeins', 'trademark', 'trademarked', 'tradeoff', 'trader', 'tradesman', 'trading', 'tradition', 'traditional', 'traditionally', 'traduora', 'traffic', 'trafficbusting', 'trafficker', 'trafic', 'tragedy', 'tragically', 'trail', 'trailblazing', 'trailer', 'trailing', 'traillift', 'train', 'trained', 'training', 'trainingdata', 'trainwreck', 'trait', 'trajectory', 'trak', 'trans', 'transaction', 'transactional', 'transactionid', 'transatomic', 'transcatheter', 'transcendent', 'transcendental', 'transcoding', 'transcribe', 'transcribed', 'transcript', 'transcription', 'transfer', 'transferred', 'transferwise', 'transform', 'transformation', 'transformative', 'transformed', 'transformer', 'transformerxl', 'transforming', 'transforms', 'transfusion', 'transgender', 'transhumanism', 'transient', 'transinclusive', 'transistor', 'transit', 'transition', 'transitioned', 'translate', 'translated', 'translates', 'translating', 'translation', 'translatotron', 'translocation', 'transmissible', 'transmission', 'transmit', 'transmitter', 'transparency', 'transparent', 'transpile', 'transpiler', 'transplant', 'transplanting', 'transport', 'transportation', 'transported', 'transportyal1', 'transsiberian', 'trap', 'trapdoor', 'trapped', 'trash', 'trashing', 'trauma', 'travel', 'travelchime', 'traveled', 'traveler', 'traveling', 'traveller', 'traversal', 'travis', 'travisci', 'treadmill', 'treasure', 'treasury', 'treat', 'treated', 'treatment', 'treaty', 'trebek', 'tree', 'treelist', 'treestructured', 'trek', 'trello', 'trellolike', 'tremor', 'trench', 'trend', 'trending', 'trendy', 'trexo', 'tri', 'triad', 'triage', 'trial', 'trialexploratory', 'triangle', 'triangulum', 'tribe', 'tribeca', 'trick', 'tricked', 'tricky', 'tridactyl', 'tried', 'trigger', 'triggering', 'trigonometry', 'trilemma', 'trilium', 'trillion', 'trilliondollar', 'trilogy', 'trim', 'trinity', 'trip', 'triple', 'tripping', 'trippy', 'tristan', 'triton', 'tritonai', 'triumph', 'trivia', 'troika', 'trojan', 'troll', 'trolled', 'trollfavored', 'trolling', 'trombone', 'troop', 'tropical', 'trotsky', 'trouble', 'troubled', 'troubleshooting', 'trouser', 'trove', 'truce', 'truck', 'trucker', 'trucking', 'true', 'truecrypt', 'truelayer', 'truffaut', 'truffle', 'truly', 'truman', 'trump', 'trumpeted', 'trumprussia', 'trust', 'trustbusting', 'trusted', 'trustfund', 'trusting', 'trustless', 'trustworthy', 'truth', 'truthers', 'try', 'trying', 'tsa', 'tsastyle', 'tsetlin', 'tshark', 'tshirts', 'tsinghua', 'tslint', 'tsmc', 'tsmcs', 'tsp', 'tsunami', 'tt', 'ttd', 'tube', 'tudder', 'tuf', 'tuffle', 'tuft', 'tufte', 'tui', 'tuition', 'tularosa', 'tulip', 'tulsa', 'tumble', 'tumblr', 'tumor', 'tumour', 'tun', 'tundra', 'tune', 'tuned', 'tungsten', 'tuning', 'tunisia', 'tunnel', 'tunnelling', 'turbine', 'turboboosted', 'turbocharge', 'turbotax', 'turbulence', 'turing', 'turk', 'turkers', 'turkey', 'turkish', 'turmoil', 'turn', 'turnaround', 'turned', 'turning', 'turnover', 'turntable', 'turo', 'turtle', 'tusk', 'tutor', 'tutorial', 'tutorialsvideos', 'tv', 'tview', 'tvm', 'tvshows', 'twa', 'twain', 'tweak', 'tweet', 'tweeting', 'twelve', 'twelvefactor', 'twemproxy', 'twenty', 'twh', 'twice', 'twigg', 'twilight', 'twilio', 'twin', 'twist', 'twisted', 'twitch', 'twitter', 'twitterization', 'two', 'twoacre', 'twocolumn', 'twofactor', 'twosided', 'twospace', 'twothirds', 'twotiered', 'twoway', 'twoweek', 'txqr', 'txr', 'txti', 'tycoon', 'tyk', 'tyler', 'tyndall', 'type', 'type2', 'typec', 'typechecker', 'typed', 'typedriven', 'typeface', 'typeful', 'typelevel', 'typesafe', 'typescript', 'typesetting', 'typesyou', 'typewriter', 'typex', 'typical', 'typically', 'typing', 'typographic', 'typography', 'tyranny', 'tyrant', 'tyre', 'tyrian', 'tyson', 'tyx', 'téo', 'u', 'u2', 'u2f', 'ua', 'uae', 'ual', 'uav', 'ub', 'uber', 'ubereats', 'uberlyft', 'ubers', 'ubi', 'ubiome', 'ublock', 'ubs', 'ubuntu', 'uc', 'ucla', 'udacity', 'udfs', 'uefi', 'ufo', 'uganda', 'ugly', 'uhd', 'uhlenbeck', 'ui', 'ui5', 'uis', 'uiux', 'uix', 'uk', 'ukeu', 'ukrainian', 'ulbricht', 'ulf', 'ulids', 'ulisp', 'ultima', 'ultimate', 'ultimatum', 'ultra', 'ultrafast', 'ultrahaptics', 'ultrahd', 'ultrahigh', 'ultralight', 'ultralisp', 'ultraprocessed', 'ultrarare', 'ultrarealistic', 'ultrarich', 'ultrasound', 'ultratimeefficient', 'ultraviolent', 'ultraviolet', 'ultrawealthy', 'ultrawide', 'umap', 'umbrella', 'umich', 'umkcsce', 'umple', 'un', 'una', 'unable', 'unaffordable', 'unauthorized', 'unavailable', 'unaware', 'unbalanced', 'unbearable', 'unbelievable', 'unbelievably', 'unborn', 'unboxing', 'unbridled', 'unbroke', 'unbundling', 'uncanny', 'uncap', 'uncaptcha2', 'uncertain', 'uncertainty', 'uncharted', 'unchecked', 'unclean', 'uncleftish', 'unclosable', 'uncomfortable', 'uncompromising', 'unconscious', 'unconstitutional', 'unconstitutionally', 'uncontrollably', 'unconventional', 'uncorrelated', 'uncover', 'uncovered', 'uncovers', 'uncrewed', 'uncropped', 'undecidable', 'undefined', 'under18s', 'underactuated', 'underappreciated', 'underclocking', 'undercover', 'underdelivered', 'underdog', 'underestimated', 'underestimating', 'undergrad', 'underground', 'undermine', 'undermined', 'undermining', 'underpaid', 'underpaying', 'underperforming', 'underrated', 'underrepresented', 'underscored', 'underscreen', 'undersea', 'underspecified', 'understand', 'understandable', 'understanding', 'understood', 'underused', 'undervalued', 'undervaluing', 'underwater', 'underway', 'underworld', 'underwriter', 'undetected', 'undisclosed', 'undiscovered', 'undocumented', 'unearthed', 'unemployed', 'unemployment', 'unencrypted', 'unencumbered', 'unequal', 'unethical', 'unexpected', 'unexpectedly', 'unexplained', 'unfair', 'unfairly', 'unfancy', 'unfinished', 'unfired', 'unfortunate', 'ungoogled', 'unhackable', 'unhappiness', 'unhappy', 'unhashed', 'unheard', 'uni', 'unicef', 'unicode', 'unicorn', 'unification', 'unified', 'unifont', 'uniform', 'unifying', 'unikernel', 'unikernels', 'uninitialized', 'unintended', 'unintentionally', 'union', 'unionbusting', 'unionization', 'unionize', 'unionizing', 'uniqlike', 'unique', 'uniqueness', 'unirotor', 'unistellar', 'unit', 'unite', 'united', 'uniter', 'unittest', 'unity', 'univalent', 'universal', 'universalservice', 'universe', 'university', 'unix', 'unixfriendly', 'unixhaters', 'unixlike', 'unixlinux', 'unixlinuxposix', 'unixstyle', 'unknowable', 'unknowingly', 'unknown', 'unlabeled', 'unlawful', 'unlearned', 'unlearning', 'unleash', 'unleashed', 'unleashing', 'unless', 'unlike', 'unlikely', 'unlimited', 'unlivable', 'unlock', 'unlocked', 'unlocks', 'unmanaged', 'unmask', 'unmasked', 'unmasking', 'unmetered', 'unmutual', 'unnecessary', 'unneeded', 'unnerving', 'unofficial', 'unomaly', 'unorthodox', 'unpacking', 'unpaid', 'unpaywall', 'unplanned', 'unplanted', 'unpleasant', 'unplug', 'unplugging', 'unpopular', 'unprecedented', 'unprepared', 'unpressurized', 'unprivileged', 'unprofitable', 'unprovability', 'unravel', 'unraveling', 'unreal', 'unrealistic', 'unreality', 'unreasonable', 'unrecognized', 'unregistered', 'unregulated', 'unreliable', 'unreported', 'unrest', 'unruly', 'unsafe', 'unsanitary', 'unsatisfying', 'unschooled', 'unschooling', 'unscientific', 'unseal', 'unsealed', 'unseals', 'unsecured', 'unsee', 'unseen', 'unsettle', 'unsettling', 'unsexy', 'unsold', 'unsolvable', 'unsolved', 'unsorted', 'unstable', 'unstoppable', 'unstructured', 'unsubscribed', 'unsubscription', 'unsuccessful', 'unsung', 'unsupervised', 'unsupported', 'untapped', 'unthinkable', 'untimely', 'untold', 'untouched', 'untrusted', 'untrustworthy', 'untyped', 'unusable', 'unusably', 'unused', 'unusedcss', 'unusual', 'unvaccinated', 'unveil', 'unveiled', 'unveiling', 'unveils', 'unwalledgarden', 'unwelcome', 'unwind', 'unwind8', 'unwittingly', 'unwritten', 'uommibatto', 'uov', 'upcoming', 'update', 'updated', 'updating', 'upend', 'upended', 'upending', 'upends', 'upfront', 'upgrade', 'upgraded', 'upgrading', 'upheaval', 'uplift', 'upload', 'uploaddownload', 'uploaded', 'uploader', 'uploading', 'uploads', 'upnp', 'upon', 'uppy', 'uprising', 'ups', 'upscale', 'upside', 'upsolve', 'uptime', 'upton', 'upvote', 'upvoted', 'upvotes', 'upward', 'upwork', 'upzoning', 'ur', 'uranium', 'uranus', 'urban', 'urbanism', 'urbano', 'urbanrural', 'urbit', 'urge', 'urged', 'urgent', 'urging', 'uri', 'urinal', 'urine', 'uris', 'url', 'urlist', 'urllib', 'uroboros', 'urql', 'ursula', 'uruguay', 'us', 'us10144532b2', 'us2018', 'us9646028b2', 'usa', 'usability', 'usable', 'usaf', 'usage', 'usain', 'usb', 'usb4', 'usbacked', 'usbased', 'usbc', 'usborne', 'usc', 'usda', 'usdbacked', 'usdmonth', 'use', 'used', 'useeffect', 'useful', 'useless', 'useportal', 'user', 'useragent', 'userbase', 'usercentered', 'usercentric', 'userdefined', 'userfriendly', 'userlevel', 'usermode', 'username', 'usernetes', 'userspace', 'usher', 'ushered', 'using', 'usmexico', 'usnationwide', 'usps', 'uspto', 'usthai', 'usual', 'usually', 'utah', 'utc', 'utf8', 'utilisation', 'utilitarian', 'utility', 'utilityscale', 'utopia', 'utopian', 'utter', 'utterance', 'uucp', 'uuid', 'uuids', 'uw', 'uwp', 'ux', 'uxy', 'uyghur', 'uyghurs', 'v', 'v0190', 'v050', 'v10', 'v100', 'v1000', 'v11', 'v110', 'v114', 'v12', 'v1394', 'v140', 'v170', 'v18', 'v180', 'v2', 'v20190606', 'v21', 'v292', 'v3', 'v316', 'v37', 'v3vee', 'v400', 'v42', 'v5', 'v50', 'v62', 'v64', 'v700', 'v71', 'v72', 'v8', 'v80', 'va', 'vacantland', 'vacated', 'vacation', 'vaccinate', 'vaccinated', 'vaccination', 'vaccine', 'vacuum', 'vacuumchannel', 'vacuumed', 'vaex', 'valedictorian', 'valence', 'valentine', 'valet', 'valetparking', 'valgrind', 'valid', 'validate', 'validated', 'validation', 'valitor', 'valley', 'valleybig', 'valor', 'valuable', 'valuation', 'value', 'valuebased', 'valued', 'valve', 'vampire', 'van', 'vance', 'vancil', 'vancouver', 'vandwellers', 'vanguard', 'vanilla', 'vanillajs', 'vanish', 'vanished', 'vanishing', 'vanlife', 'vantablack', 'vapes', 'vaping', 'vapor', 'varda', 'variable', 'variance', 'variant', 'variation', 'variational', 'variety', 'various', 'varroa', 'vary', 'vase', 'vasily', 'vast', 'vastly', 'vault', 'vba', 'vbmi', 'vc', 'vc6', 'vcbacked', 'vchan', 'vdu', 'vec', 'vector', 'vectorization', 'vectorized', 'vectrex', 'vega', 'vegan', 'veganism', 'vegetable', 'vegetarian', 'vehicle', 'veil', 'vein', 'velocity', 'vending', 'vendor', 'venezuela', 'venezuelan', 'venice', 'venmo', 'venn', 'vent', 'ventilation', 'ventricle', 'venture', 'venus', 'verbally', 'verdaccio', 'verdi', 'verdict', 'verge', 'veridian', 'verifiable', 'verification', 'verificationfriendly', 'verificationsio', 'verified', 'verify', 'verifying', 'verilator', 'verilog', 'verizon', 'verlet', 'vermeer', 'vermont', 'vernacular', 'verse', 'version', 'versioning', 'versus', 'vertical', 'vertically', 'vertx', 'vespa', 'vessel', 'vest', 'vestager', 'vet', 'veteran', 'veterinarian', 'vetting', 'vewy', 'vexing', 'vfemail', 'vfx', 'vg', 'vga', 'vgamousekeyboardvt100', 'vhs', 'vi', 'via', 'viable', 'viaduct', 'viagra', 'viasat', 'vibe', 'vic20', 'vice', 'vicechancellor', 'victim', 'victoriametrics', 'victorian', 'victory', 'video', 'videocommon', 'videoflow', 'videogame', 'videojs', 'videotrack', 'vienna', 'vietnam', 'view', 'viewer', 'viewing', 'viewport', 'vigilante', 'vignette', 'vii', 'viking', 'vikingage', 'vikram', 'village', 'villain', 'villainy', 'vim', 'vim8', 'vimdev', 'vimemacs', 'vimneovim', 'vimperator', 'vimwasm', 'vimwiki', 'vincent', 'vinci', 'vindicates', 'vindication', 'vine', 'vinegar', 'vinod', 'vintage', 'vinyl', 'violate', 'violated', 'violates', 'violating', 'violation', 'violence', 'violent', 'violet', 'vip', 'viral', 'virgin', 'virginia', 'virtio', 'virtiofs', 'virtual', 'virtualenv', 'virtualization', 'virtually', 'virtue', 'virtuoso', 'virus', 'visa', 'visibility', 'visible', 'visigothic', 'vision', 'visionary', 'visit', 'visited', 'visiting', 'visitor', 'visma', 'vista', 'visual', 'visualisation', 'visualised', 'visualising', 'visualization', 'visualize', 'visualized', 'visualizer', 'visualizes', 'visualizing', 'visually', 'visuals', 'vita', 'vital', 'vitamin', 'vivaldi', 'vive', 'vivian', 'vivid', 'vivox', 'vixie', 'viz', 'vlad', 'vladimir', 'vlc', 'vm', 'vmalloc', 'vms', 'vmware', 'vn', 'vocab', 'vocabulary', 'vocal', 'vocoder', 'vodafone', 'vogue', 'voice', 'voicemail', 'voilà', 'voip', 'vol', 'volatile', 'volcanic', 'volcano', 'volk', 'volkswagen', 'volley', 'volleyball', 'volt', 'voltage', 'voltaire', 'voltmeter', 'volume', 'volument', 'voluntarily', 'volunteer', 'volvo', 'von', 'vonnegut', 'voodoo', 'voodoo1', 'voronoidelaunay', 'vortex', 'vote', 'voted', 'voter', 'voting', 'voucherswap', 'vow', 'voyage', 'voyaging', 'voynich', 'vp', 'vp8', 'vp9', 'vpn', 'vpns', 'vpnsecure', 'vps', 'vr', 'vrscript', 'vscode', 'vscodium', 'vue', 'vuejs', 'vuerouterprefetch', 'vugu', 'vulcanizer', 'vulgar', 'vulkan', 'vuln', 'vulnerability', 'vulnerable', 'vultr', 'vuvuzela', 'vw', 'vxworks', 'vérité', 'w', 'w11', 'w14', 'w16', 'w17', 'w19', 'w3175x', 'w3c', 'w3schoolsdev', 'w4', 'w5lfl', 'wa', 'waal', 'wac', 'waf', 'waffle', 'wag', 'wage', 'waging', 'waif', 'waifu', 'waisttohip', 'wait', 'waited', 'waiter', 'waiting', 'waive', 'wake', 'wakeup', 'waking', 'wal', 'walg', 'walgreens', 'walk', 'walkability', 'walked', 'walker', 'walking', 'walkout', 'walkthrough', 'walkway', 'wall', 'walled', 'wallet', 'walletfail', 'wallpaper', 'walltowall', 'walmart', 'walter', 'wander', 'wanderer', 'wanderlust', 'wanders', 'wannabe', 'wannacry', 'want', 'wanted', 'wapm', 'war', 'warby', 'warcraft', 'warden', 'wardley', 'warehouse', 'warehousescale', 'warfare', 'wargames', 'warhol', 'warm', 'warmer', 'warmest', 'warming', 'warn', 'warned', 'warner', 'warning', 'warnock', 'warns', 'warp', 'warplane', 'warrant', 'warrantless', 'warren', 'warrior', 'warship', 'wary', 'wasabi', 'wash', 'washed', 'washing', 'washington', 'washpost', 'wasi', 'wasm', 'wasmer', 'wasmwinforms', 'wasnt', 'wasp', 'waste', 'wasted', 'wasting', 'watch', 'watchdog', 'watched', 'watcher', 'watching', 'watchkeeper', 'watchlist', 'watchmaker', 'watchme', 'watchtower', 'water', 'watercss', 'watered', 'waterfall', 'waterfox', 'watering', 'waterloo', 'watermark', 'watermarking', 'wateronly', 'waterway', 'watson', 'watterson', 'waukegan', 'wave', 'wavefront', 'wavefunctions', 'wavelet', 'way', 'wayback', 'wayland', 'waymo', 'wayward', 'waze', 'wbtc', 'wdio', 'weak', 'weaken', 'weakening', 'weakness', 'wealth', 'wealthcreation', 'wealthfront', 'wealthy', 'weapon', 'weaponize', 'weaponized', 'wear', 'wearable', 'wearer', 'weariephelan', 'wearing', 'weasel', 'weather', 'weave', 'weaver', 'web', 'webapp', 'webapps', 'webassembly', 'webauthn', 'webb', 'webbased', 'webcam', 'webcodesk', 'webcomponent', 'webdev', 'webdriverio', 'webextensions', 'webfaction', 'webfirst', 'webframe', 'webgl', 'webgl1', 'webglthreejs', 'webhook', 'webhose', 'webinar', 'webiny', 'webkit', 'webp', 'webpack', 'webpage', 'webrender', 'webrings', 'webrtc', 'webscale', 'webseries', 'webserverapp', 'webshell', 'website', 'websiteblog', 'websitesapps', 'websocket', 'websocketd', 'websockets', 'webstorm', 'webthings', 'webtoons', 'webtor', 'webview', 'wechat', 'weddell', 'wedding', 'wedgwood', 'wednesday', 'weebly', 'weed', 'weeding', 'week', 'weekend', 'weekly', 'wegener', 'wehrmacht', 'weighed', 'weighs', 'weight', 'weightagnostic', 'weightlifting', 'weil', 'weimar', 'weinberg', 'weinstein', 'weird', 'weirdening', 'weirdness', 'weirdo', 'weissman', 'welch', 'welcome', 'welder', 'welding', 'welfare', 'well', 'wellbalanced', 'wellbeing', 'wellcome', 'welldesigned', 'welles', 'wellmeaning', 'wellness', 'weltschmerz', 'went', 'wepay', 'werent', 'west', 'western', 'westerner', 'westjet', 'wet', 'weve', 'wework', 'weworking', 'wfirst', 'wgpu', 'whale', 'whaling', 'whanganui', 'whappirc', 'what3words', 'whatever', 'whats', 'whatsapp', 'whatwg', 'wheat', 'wheel', 'wheelchair', 'wheeler', 'wheelseyeview', 'whenufree', 'wheres', 'wherever', 'whether', 'while1', 'whimsical', 'whine', 'whirlwind', 'whiskey', 'whisky', 'whistle', 'whistleblower', 'whistleblowing', 'whistled', 'white', 'whiteboard', 'whitecollar', 'whitelist', 'whitelisting', 'whitelists', 'whitepaper', 'whitespace', 'whitewash', 'whither', 'whitman', 'whitney', 'whkg', 'who', 'whodunnit', 'whole', 'wholebody', 'wholesale', 'wholesome', 'whopper', 'whopping', 'whore', 'whose', 'why', 'wide', 'wideangle', 'wideband', 'widely', 'widelyused', 'widening', 'widens', 'wider', 'widespread', 'widevine', 'widget', 'widlar', 'wielded', 'wife', 'wifi', 'wiger', 'wiggle', 'wigle', 'wiki', 'wikibookbot', 'wikileaks', 'wikimedia', 'wikipedia', 'wikipedian', 'wikipedias', 'wikis', 'wild', 'wildduck', 'wilderness', 'wildest', 'wildfire', 'wildlife', 'wildly', 'wilfred', 'wilkinson', 'william', 'williams', 'williamson', 'willing', 'willpower', 'wilson', 'wilted', 'win', 'win32', 'wind', 'windfall', 'winding', 'windmill', 'window', 'windowalert', 'windowsknowhow', 'windowsos', 'wine', 'winforms', 'wing', 'wingnotes', 'wingtip', 'winklevoss', 'winner', 'winning', 'winrar', 'winspd', 'winston', 'winter', 'wintun', 'wio', 'wipe', 'wiped', 'wiphone', 'wiping', 'wipro', 'wire', 'wirecard', 'wired', 'wireframes', 'wireguard', 'wireguarddocs', 'wireless', 'wireshark', 'wirth', 'wisconsin', 'wisdom', 'wiseer', 'wish', 'wished', 'wisper', 'witch', 'witchhunt', 'withdraw', 'withdrawal', 'withdrawing', 'withfriends', 'within', 'without', 'withstand', 'witness', 'witnessed', 'wittgenstein', 'wizard', 'wizardry', 'wlrootsrs', 'woe', 'wojcicki', 'wolf', 'wolfe', 'wolfenstein', 'wolfram', 'woman', 'womanmonitoring', 'womb', 'wombat', 'womenonly', 'wonder', 'wonderful', 'wondering', 'wonderland', 'wong', 'wont', 'woo', 'wood', 'wooden', 'woodpecker', 'woody', 'woolf', 'woolly', 'woos', 'word', 'word2vec', 'wordclocks', 'wordforword', 'wordlist', 'wordpress', 'wordpresscom', 'work', 'workaround', 'workbook', 'workday', 'worked', 'worker', 'workersdev', 'workflow', 'workflowprocess', 'workflowy', 'workforce', 'working', 'workingforfree', 'workinprogress', 'workism', 'worklife', 'workout', 'workplace', 'workshop', 'workspace', 'workstation', 'workswithnest', 'workweek', 'world', 'worldview', 'worldwide', 'worldwideweb', 'worldwind', 'worm', 'wormable', 'wormhole', 'worried', 'worrier', 'worry', 'worrying', 'worryingly', 'worse', 'worsen', 'worsens', 'worst', 'worstcase', 'worstsort', 'worth', 'worthless', 'worthwhile', 'would', 'wouldnt', 'wounding', 'woven', 'wow', 'wp', 'wpa', 'wpa3', 'wpa3s', 'wpf', 'wrangham', 'wrapped', 'wrapper', 'wrapping', 'wrath', 'wreaks', 'wreck', 'wrecked', 'wrench', 'wrestling', 'wrf', 'wright', 'wrist', 'write', 'writeas', 'writedown', 'writer', 'writes', 'writeup', 'writewhatwhere', 'writing', 'written', 'wrong', 'wrongful', 'wrongly', 'wrongteardown', 'wrote', 'wsj', 'wsl', 'wsl2', 'wtf', 'wunderman', 'ww2', 'wwdc', 'wwf', 'wwi', 'wwii', 'wwv', 'wwwcloudflarecom', 'wwwgutenbergorg', 'wyden', 'wyhash', 'wysiwyg', 'wyze', 'x', 'x1', 'x210', 'x230', 'x265', 'x33', 'x360', 'x395', 'x509', 'x64', 'x68000', 'x86', 'x8664', 'xanadu', 'xapiand', 'xavier', 'xb1', 'xbox', 'xcel', 'xcode', 'xcrash', 'xdai', 'xdp', 'xdpcap', 'xdr', 'xe124', 'xed', 'xen', 'xendbg', 'xenix', 'xenophon', 'xenserver', 'xeon', 'xerox', 'xerrors', 'xfce', 'xfiles', 'xfs', 'xg2xg', 'xhci', 'xi', 'xiaomi', 'xieditor', 'xilinx', 'xinjian', 'xinjiang', 'xiphorg', 'xkcd', 'xkcdcom1987', 'xkcdstyle', 'xl', 'xmake', 'xmpp', 'xnu', 'xp', 'xpath', 'xplane', 'xpress', 'xprize', 'xps', 'xr', 'xray', 'xrays', 'xrp', 'xs4all', 'xspreadsheet', 'xsxr', 'xtensa', 'xtrctio', 'xubuntu', 'xul', 'xvalues', 'xxh3', 'xy', 'xz', 'y2k', 'y2k38', 'y2klike', 'y8664', 'ya', 'yaap', 'yacht', 'yahoo', 'yakondi', 'yakutia', 'yakuza', 'yale', 'yaml', 'yang', 'yann', 'yard', 'yarn', 'yc', 'yc120', 'ycbacked', 'ycs', 'year', 'year2038', 'yearlong', 'yearly', 'yearround', 'yearrs', 'yearslong', 'yeast', 'yelling', 'yellow', 'yelp', 'yeltsin', 'yemen', 'yes', 'yesterday', 'yet', 'yggdrasil', 'yiannopolous', 'yiannopoulos', 'yiddish', 'yield', 'yielding', 'yo', 'yodeler', 'yoga', 'yogi', 'yogurt', 'yolo', 'yoneda', 'yorimitsu', 'york', 'yorker', 'yorkers', 'yoshua', 'youd', 'youll', 'young', 'youngblood', 'younger', 'youngster', 'youporn', 'youre', 'youth', 'youthful', 'youtube', 'youtubedl', 'youtuber', 'youtubes', 'youve', 'youwould', 'yoy', 'yr', 'ytmnd', 'yuan', 'yubikey', 'yucca', 'yudkin', 'yugabyte', 'yugoslavia', 'yukaghir', 'yuml', 'yun', 'yuri', 'z', 'z3', 'z80', 'z8000', 'zabbix', 'zagreb', 'zambia', 'zanzibar', 'zaporozhian', 'zapping', 'zarf', 'zcash', 'zdog', 'zealand', 'zealotry', 'zebra', 'zeit', 'zeland', 'zelda', 'zen', 'zenefits', 'zenhub', 'zeppelin', 'zero', 'zerobudget', 'zerocarbon', 'zeroclick', 'zeroconfig', 'zeroday', 'zerodays', 'zerohttpd', 'zeroing', 'zeroknowledge', 'zerolatency', 'zeronet', 'zeroprestige', 'zeroshot', 'zerosize', 'zerospeech', 'zerotouch', 'zerotrust', 'zerowaste', 'zetapush', 'zetasql', 'zfs', 'zig', 'ziglang', 'zil', 'zillow', 'zilog', 'zimbabwe', 'zinder', 'zine', 'zip', 'zipline', 'zipper', 'zircon', 'zkeme80', 'zksnark', 'zlua', 'zmachine', 'zoe', 'zombie', 'zombieload', 'zone', 'zoo', 'zoom', 'zoomus', 'zork', 'zorp', 'zotero', 'zowe', 'zsh', 'zstandard', 'zstd', 'zte', 'zuckerberg', 'zuckerbergs', 'zulip', 'zx', 'zx81', 'étude', 'žižek', 'λcalculuschurch', 'π']\n"
     ]
    }
   ],
   "source": [
    "# Vectorize Data: Bag-Of-Words (1-gram)\n",
    "from sklearn.feature_extraction.text import CountVectorizer\n",
    "count_vect = CountVectorizer(analyzer = clean_text) \n",
    "word_count = count_vect.fit_transform(df_cleaned['title'])\n",
    "print(word_count.shape)\n",
    "print(count_vect.get_feature_names())"
   ]
  },
  {
   "cell_type": "code",
   "execution_count": 45,
   "metadata": {},
   "outputs": [],
   "source": [
    "word_count_df = pd.DataFrame(word_count.toarray(), columns=count_vect.get_feature_names())"
   ]
  },
  {
   "cell_type": "code",
   "execution_count": 46,
   "metadata": {},
   "outputs": [
    {
     "data": {
      "text/html": [
       "<div>\n",
       "<style scoped>\n",
       "    .dataframe tbody tr th:only-of-type {\n",
       "        vertical-align: middle;\n",
       "    }\n",
       "\n",
       "    .dataframe tbody tr th {\n",
       "        vertical-align: top;\n",
       "    }\n",
       "\n",
       "    .dataframe thead th {\n",
       "        text-align: right;\n",
       "    }\n",
       "</style>\n",
       "<table border=\"1\" class=\"dataframe\">\n",
       "  <thead>\n",
       "    <tr style=\"text-align: right;\">\n",
       "      <th></th>\n",
       "      <th></th>\n",
       "      <th>0</th>\n",
       "      <th>00</th>\n",
       "      <th>0006</th>\n",
       "      <th>00s</th>\n",
       "      <th>01</th>\n",
       "      <th>010</th>\n",
       "      <th>012</th>\n",
       "      <th>012340</th>\n",
       "      <th>013</th>\n",
       "      <th>...</th>\n",
       "      <th>zte</th>\n",
       "      <th>zuckerberg</th>\n",
       "      <th>zuckerbergs</th>\n",
       "      <th>zulip</th>\n",
       "      <th>zx</th>\n",
       "      <th>zx81</th>\n",
       "      <th>étude</th>\n",
       "      <th>žižek</th>\n",
       "      <th>λcalculuschurch</th>\n",
       "      <th>π</th>\n",
       "    </tr>\n",
       "  </thead>\n",
       "  <tbody>\n",
       "    <tr>\n",
       "      <th>0</th>\n",
       "      <td>0</td>\n",
       "      <td>0</td>\n",
       "      <td>0</td>\n",
       "      <td>0</td>\n",
       "      <td>0</td>\n",
       "      <td>0</td>\n",
       "      <td>0</td>\n",
       "      <td>0</td>\n",
       "      <td>0</td>\n",
       "      <td>0</td>\n",
       "      <td>...</td>\n",
       "      <td>0</td>\n",
       "      <td>0</td>\n",
       "      <td>0</td>\n",
       "      <td>0</td>\n",
       "      <td>0</td>\n",
       "      <td>0</td>\n",
       "      <td>0</td>\n",
       "      <td>0</td>\n",
       "      <td>0</td>\n",
       "      <td>0</td>\n",
       "    </tr>\n",
       "    <tr>\n",
       "      <th>1</th>\n",
       "      <td>0</td>\n",
       "      <td>0</td>\n",
       "      <td>0</td>\n",
       "      <td>0</td>\n",
       "      <td>0</td>\n",
       "      <td>0</td>\n",
       "      <td>0</td>\n",
       "      <td>0</td>\n",
       "      <td>0</td>\n",
       "      <td>0</td>\n",
       "      <td>...</td>\n",
       "      <td>0</td>\n",
       "      <td>0</td>\n",
       "      <td>0</td>\n",
       "      <td>0</td>\n",
       "      <td>0</td>\n",
       "      <td>0</td>\n",
       "      <td>0</td>\n",
       "      <td>0</td>\n",
       "      <td>0</td>\n",
       "      <td>0</td>\n",
       "    </tr>\n",
       "    <tr>\n",
       "      <th>2</th>\n",
       "      <td>0</td>\n",
       "      <td>0</td>\n",
       "      <td>0</td>\n",
       "      <td>0</td>\n",
       "      <td>0</td>\n",
       "      <td>0</td>\n",
       "      <td>0</td>\n",
       "      <td>0</td>\n",
       "      <td>0</td>\n",
       "      <td>0</td>\n",
       "      <td>...</td>\n",
       "      <td>0</td>\n",
       "      <td>0</td>\n",
       "      <td>0</td>\n",
       "      <td>0</td>\n",
       "      <td>0</td>\n",
       "      <td>0</td>\n",
       "      <td>0</td>\n",
       "      <td>0</td>\n",
       "      <td>0</td>\n",
       "      <td>0</td>\n",
       "    </tr>\n",
       "    <tr>\n",
       "      <th>3</th>\n",
       "      <td>0</td>\n",
       "      <td>0</td>\n",
       "      <td>0</td>\n",
       "      <td>0</td>\n",
       "      <td>0</td>\n",
       "      <td>0</td>\n",
       "      <td>0</td>\n",
       "      <td>0</td>\n",
       "      <td>0</td>\n",
       "      <td>0</td>\n",
       "      <td>...</td>\n",
       "      <td>0</td>\n",
       "      <td>0</td>\n",
       "      <td>0</td>\n",
       "      <td>0</td>\n",
       "      <td>0</td>\n",
       "      <td>0</td>\n",
       "      <td>0</td>\n",
       "      <td>0</td>\n",
       "      <td>0</td>\n",
       "      <td>0</td>\n",
       "    </tr>\n",
       "    <tr>\n",
       "      <th>4</th>\n",
       "      <td>0</td>\n",
       "      <td>0</td>\n",
       "      <td>0</td>\n",
       "      <td>0</td>\n",
       "      <td>0</td>\n",
       "      <td>0</td>\n",
       "      <td>0</td>\n",
       "      <td>0</td>\n",
       "      <td>0</td>\n",
       "      <td>0</td>\n",
       "      <td>...</td>\n",
       "      <td>0</td>\n",
       "      <td>0</td>\n",
       "      <td>0</td>\n",
       "      <td>0</td>\n",
       "      <td>0</td>\n",
       "      <td>0</td>\n",
       "      <td>0</td>\n",
       "      <td>0</td>\n",
       "      <td>0</td>\n",
       "      <td>0</td>\n",
       "    </tr>\n",
       "  </tbody>\n",
       "</table>\n",
       "<p>5 rows × 20389 columns</p>\n",
       "</div>"
      ],
      "text/plain": [
       "      0  00  0006  00s  01  010  012  012340  013 ...  zte  zuckerberg  \\\n",
       "0  0  0   0     0    0   0    0    0       0    0 ...    0           0   \n",
       "1  0  0   0     0    0   0    0    0       0    0 ...    0           0   \n",
       "2  0  0   0     0    0   0    0    0       0    0 ...    0           0   \n",
       "3  0  0   0     0    0   0    0    0       0    0 ...    0           0   \n",
       "4  0  0   0     0    0   0    0    0       0    0 ...    0           0   \n",
       "\n",
       "   zuckerbergs  zulip  zx  zx81  étude  žižek  λcalculuschurch  π  \n",
       "0            0      0   0     0      0      0                0  0  \n",
       "1            0      0   0     0      0      0                0  0  \n",
       "2            0      0   0     0      0      0                0  0  \n",
       "3            0      0   0     0      0      0                0  0  \n",
       "4            0      0   0     0      0      0                0  0  \n",
       "\n",
       "[5 rows x 20389 columns]"
      ]
     },
     "execution_count": 46,
     "metadata": {},
     "output_type": "execute_result"
    }
   ],
   "source": [
    "word_count_df.head()"
   ]
  },
  {
   "cell_type": "markdown",
   "metadata": {},
   "source": [
    "## 8. Build ML classifiers: random forest with GridSearchCV to exploring model parameters"
   ]
  },
  {
   "cell_type": "code",
   "execution_count": 47,
   "metadata": {
    "scrolled": true
   },
   "outputs": [
    {
     "name": "stderr",
     "output_type": "stream",
     "text": [
      "C:\\Users\\li_au\\Anaconda3\\lib\\site-packages\\sklearn\\utils\\deprecation.py:125: FutureWarning: You are accessing a training score ('split0_train_score'), which will not be available by default any more in 0.21. If you need training scores, please set return_train_score=True\n",
      "  warnings.warn(*warn_args, **warn_kwargs)\n",
      "C:\\Users\\li_au\\Anaconda3\\lib\\site-packages\\sklearn\\utils\\deprecation.py:125: FutureWarning: You are accessing a training score ('split1_train_score'), which will not be available by default any more in 0.21. If you need training scores, please set return_train_score=True\n",
      "  warnings.warn(*warn_args, **warn_kwargs)\n",
      "C:\\Users\\li_au\\Anaconda3\\lib\\site-packages\\sklearn\\utils\\deprecation.py:125: FutureWarning: You are accessing a training score ('split2_train_score'), which will not be available by default any more in 0.21. If you need training scores, please set return_train_score=True\n",
      "  warnings.warn(*warn_args, **warn_kwargs)\n",
      "C:\\Users\\li_au\\Anaconda3\\lib\\site-packages\\sklearn\\utils\\deprecation.py:125: FutureWarning: You are accessing a training score ('mean_train_score'), which will not be available by default any more in 0.21. If you need training scores, please set return_train_score=True\n",
      "  warnings.warn(*warn_args, **warn_kwargs)\n",
      "C:\\Users\\li_au\\Anaconda3\\lib\\site-packages\\sklearn\\utils\\deprecation.py:125: FutureWarning: You are accessing a training score ('std_train_score'), which will not be available by default any more in 0.21. If you need training scores, please set return_train_score=True\n",
      "  warnings.warn(*warn_args, **warn_kwargs)\n"
     ]
    },
    {
     "data": {
      "text/html": [
       "<div>\n",
       "<style scoped>\n",
       "    .dataframe tbody tr th:only-of-type {\n",
       "        vertical-align: middle;\n",
       "    }\n",
       "\n",
       "    .dataframe tbody tr th {\n",
       "        vertical-align: top;\n",
       "    }\n",
       "\n",
       "    .dataframe thead th {\n",
       "        text-align: right;\n",
       "    }\n",
       "</style>\n",
       "<table border=\"1\" class=\"dataframe\">\n",
       "  <thead>\n",
       "    <tr style=\"text-align: right;\">\n",
       "      <th></th>\n",
       "      <th>mean_fit_time</th>\n",
       "      <th>std_fit_time</th>\n",
       "      <th>mean_score_time</th>\n",
       "      <th>std_score_time</th>\n",
       "      <th>param_max_depth</th>\n",
       "      <th>param_n_estimators</th>\n",
       "      <th>params</th>\n",
       "      <th>split0_test_score</th>\n",
       "      <th>split1_test_score</th>\n",
       "      <th>split2_test_score</th>\n",
       "      <th>mean_test_score</th>\n",
       "      <th>std_test_score</th>\n",
       "      <th>rank_test_score</th>\n",
       "      <th>split0_train_score</th>\n",
       "      <th>split1_train_score</th>\n",
       "      <th>split2_train_score</th>\n",
       "      <th>mean_train_score</th>\n",
       "      <th>std_train_score</th>\n",
       "    </tr>\n",
       "  </thead>\n",
       "  <tbody>\n",
       "    <tr>\n",
       "      <th>8</th>\n",
       "      <td>53.731283</td>\n",
       "      <td>2.888986</td>\n",
       "      <td>0.843549</td>\n",
       "      <td>0.094402</td>\n",
       "      <td>30</td>\n",
       "      <td>30</td>\n",
       "      <td>{'max_depth': 30, 'n_estimators': 30}</td>\n",
       "      <td>0.668435</td>\n",
       "      <td>0.668435</td>\n",
       "      <td>0.668681</td>\n",
       "      <td>0.668517</td>\n",
       "      <td>0.000116</td>\n",
       "      <td>1</td>\n",
       "      <td>0.668558</td>\n",
       "      <td>0.669000</td>\n",
       "      <td>0.669172</td>\n",
       "      <td>0.668910</td>\n",
       "      <td>0.000259</td>\n",
       "    </tr>\n",
       "    <tr>\n",
       "      <th>0</th>\n",
       "      <td>19.790458</td>\n",
       "      <td>0.826138</td>\n",
       "      <td>0.705806</td>\n",
       "      <td>0.068914</td>\n",
       "      <td>10</td>\n",
       "      <td>10</td>\n",
       "      <td>{'max_depth': 10, 'n_estimators': 10}</td>\n",
       "      <td>0.668582</td>\n",
       "      <td>0.668435</td>\n",
       "      <td>0.668386</td>\n",
       "      <td>0.668468</td>\n",
       "      <td>0.000083</td>\n",
       "      <td>2</td>\n",
       "      <td>0.668926</td>\n",
       "      <td>0.668632</td>\n",
       "      <td>0.668435</td>\n",
       "      <td>0.668664</td>\n",
       "      <td>0.000202</td>\n",
       "    </tr>\n",
       "    <tr>\n",
       "      <th>1</th>\n",
       "      <td>15.976723</td>\n",
       "      <td>0.405290</td>\n",
       "      <td>0.623075</td>\n",
       "      <td>0.010919</td>\n",
       "      <td>10</td>\n",
       "      <td>20</td>\n",
       "      <td>{'max_depth': 10, 'n_estimators': 20}</td>\n",
       "      <td>0.668435</td>\n",
       "      <td>0.668435</td>\n",
       "      <td>0.668386</td>\n",
       "      <td>0.668419</td>\n",
       "      <td>0.000023</td>\n",
       "      <td>3</td>\n",
       "      <td>0.668411</td>\n",
       "      <td>0.668411</td>\n",
       "      <td>0.668435</td>\n",
       "      <td>0.668419</td>\n",
       "      <td>0.000012</td>\n",
       "    </tr>\n",
       "    <tr>\n",
       "      <th>2</th>\n",
       "      <td>21.679624</td>\n",
       "      <td>1.972212</td>\n",
       "      <td>0.715871</td>\n",
       "      <td>0.037202</td>\n",
       "      <td>10</td>\n",
       "      <td>30</td>\n",
       "      <td>{'max_depth': 10, 'n_estimators': 30}</td>\n",
       "      <td>0.668435</td>\n",
       "      <td>0.668435</td>\n",
       "      <td>0.668386</td>\n",
       "      <td>0.668419</td>\n",
       "      <td>0.000023</td>\n",
       "      <td>3</td>\n",
       "      <td>0.668411</td>\n",
       "      <td>0.668411</td>\n",
       "      <td>0.668435</td>\n",
       "      <td>0.668419</td>\n",
       "      <td>0.000012</td>\n",
       "    </tr>\n",
       "    <tr>\n",
       "      <th>3</th>\n",
       "      <td>17.254419</td>\n",
       "      <td>0.501606</td>\n",
       "      <td>0.628727</td>\n",
       "      <td>0.006138</td>\n",
       "      <td>20</td>\n",
       "      <td>10</td>\n",
       "      <td>{'max_depth': 20, 'n_estimators': 10}</td>\n",
       "      <td>0.668435</td>\n",
       "      <td>0.668582</td>\n",
       "      <td>0.668239</td>\n",
       "      <td>0.668419</td>\n",
       "      <td>0.000141</td>\n",
       "      <td>3</td>\n",
       "      <td>0.669147</td>\n",
       "      <td>0.669958</td>\n",
       "      <td>0.668730</td>\n",
       "      <td>0.669278</td>\n",
       "      <td>0.000510</td>\n",
       "    </tr>\n",
       "  </tbody>\n",
       "</table>\n",
       "</div>"
      ],
      "text/plain": [
       "   mean_fit_time  std_fit_time  mean_score_time  std_score_time  \\\n",
       "8      53.731283      2.888986         0.843549        0.094402   \n",
       "0      19.790458      0.826138         0.705806        0.068914   \n",
       "1      15.976723      0.405290         0.623075        0.010919   \n",
       "2      21.679624      1.972212         0.715871        0.037202   \n",
       "3      17.254419      0.501606         0.628727        0.006138   \n",
       "\n",
       "  param_max_depth param_n_estimators                                 params  \\\n",
       "8              30                 30  {'max_depth': 30, 'n_estimators': 30}   \n",
       "0              10                 10  {'max_depth': 10, 'n_estimators': 10}   \n",
       "1              10                 20  {'max_depth': 10, 'n_estimators': 20}   \n",
       "2              10                 30  {'max_depth': 10, 'n_estimators': 30}   \n",
       "3              20                 10  {'max_depth': 20, 'n_estimators': 10}   \n",
       "\n",
       "   split0_test_score  split1_test_score  split2_test_score  mean_test_score  \\\n",
       "8           0.668435           0.668435           0.668681         0.668517   \n",
       "0           0.668582           0.668435           0.668386         0.668468   \n",
       "1           0.668435           0.668435           0.668386         0.668419   \n",
       "2           0.668435           0.668435           0.668386         0.668419   \n",
       "3           0.668435           0.668582           0.668239         0.668419   \n",
       "\n",
       "   std_test_score  rank_test_score  split0_train_score  split1_train_score  \\\n",
       "8        0.000116                1            0.668558            0.669000   \n",
       "0        0.000083                2            0.668926            0.668632   \n",
       "1        0.000023                3            0.668411            0.668411   \n",
       "2        0.000023                3            0.668411            0.668411   \n",
       "3        0.000141                3            0.669147            0.669958   \n",
       "\n",
       "   split2_train_score  mean_train_score  std_train_score  \n",
       "8            0.669172          0.668910         0.000259  \n",
       "0            0.668435          0.668664         0.000202  \n",
       "1            0.668435          0.668419         0.000012  \n",
       "2            0.668435          0.668419         0.000012  \n",
       "3            0.668730          0.669278         0.000510  "
      ]
     },
     "execution_count": 47,
     "metadata": {},
     "output_type": "execute_result"
    }
   ],
   "source": [
    "from sklearn.ensemble import RandomForestClassifier\n",
    "from sklearn.model_selection import GridSearchCV\n",
    "\n",
    "rf = RandomForestClassifier()\n",
    "param = {'n_estimators': [10, 20, 30],\n",
    "        'max_depth': [10, 20, 30]}\n",
    "\n",
    "gs = GridSearchCV(rf, param, cv = 3)\n",
    "gs_fit = gs.fit(word_count_df, df_cleaned['tag'])\n",
    "pd.DataFrame(gs_fit.cv_results_).sort_values('mean_test_score', ascending=False).head()"
   ]
  },
  {
   "cell_type": "markdown",
   "metadata": {},
   "source": [
    "### The mean_test_score for n_estimators = 30 and max_depth = 30 gives the best result. \n",
    "Where n_estimators is the number of trees in the forest.(group of decision trees) and max_depth is the max number of levels in each decision tree. Parameter values are selected due to the computer performance.\n",
    "\n",
    "### Improvements: \n",
    "1. n_estimators and max_depth could be further inceased.\n",
    "2. Data used for training the model should also be increased\n",
    "3. Feature enginner the data to get better fitting.\n",
    "4. Vectorize Data used TF-IDF (Term Frequency — Inverse Data Frequency). "
   ]
  },
  {
   "cell_type": "markdown",
   "metadata": {},
   "source": [
    "## 9. Validate the model accuracy and visualize the result with confusion matrix"
   ]
  },
  {
   "cell_type": "code",
   "execution_count": 48,
   "metadata": {},
   "outputs": [],
   "source": [
    "#using model to make a High/low_viewed predictor\n",
    "from sklearn.model_selection import train_test_split\n",
    "x = word_count_df\n",
    "y = df_cleaned['tag']\n",
    "x_train, x_test, y_train, y_test = train_test_split(x,y, test_size=0.2)"
   ]
  },
  {
   "cell_type": "code",
   "execution_count": 49,
   "metadata": {},
   "outputs": [],
   "source": [
    "from sklearn.metrics import precision_recall_fscore_support as score\n",
    "from sklearn.metrics import accuracy_score as acs"
   ]
  },
  {
   "cell_type": "code",
   "execution_count": 50,
   "metadata": {},
   "outputs": [],
   "source": [
    "rf = RandomForestClassifier(n_estimators=10, max_depth=20)\n",
    "rf_model = rf.fit(x_train, y_train)\n",
    "y_pred = rf_model.predict(x_test)"
   ]
  },
  {
   "cell_type": "code",
   "execution_count": 51,
   "metadata": {},
   "outputs": [
    {
     "name": "stdout",
     "output_type": "stream",
     "text": [
      "Accuracy: 0.66\n"
     ]
    }
   ],
   "source": [
    "precision, recall, fscore, train_support = score(y_test, y_pred,pos_label= False, average='binary')\n",
    "print('Accuracy: {}'.format(round(acs(y_test,y_pred), 3))) #validation the model accuracy"
   ]
  },
  {
   "cell_type": "code",
   "execution_count": 52,
   "metadata": {
    "scrolled": true
   },
   "outputs": [
    {
     "data": {
      "image/png": "[encoded data removed]",
      "text/plain": [
       "<Figure size 432x288 with 2 Axes>"
      ]
     },
     "metadata": {
      "needs_background": "light"
     },
     "output_type": "display_data"
    }
   ],
   "source": [
    "import seaborn as sns\n",
    "from sklearn.metrics import confusion_matrix\n",
    "cm = confusion_matrix(y_test, y_pred)\n",
    "class_label = [\"Low_view\", \"High_view\"]\n",
    "df_cm = pd.DataFrame(cm, index=class_label,columns=class_label)\n",
    "sns.heatmap(df_cm, annot=True, fmt='d')\n",
    "plt.title(\"Confusion Matrix\")\n",
    "plt.xlabel(\"Predicted Label\")\n",
    "plt.ylabel(\"True Label\")\n",
    "plt.show()"
   ]
  },
  {
   "cell_type": "markdown",
   "metadata": {},
   "source": [
    "### Model gives an accuracy of 66.0%. \n",
    "Confusion Matrix tells us that we correctly predicted 2689 low_view."
   ]
  },
  {
   "cell_type": "markdown",
   "metadata": {},
   "source": [
    "## 10. Cluster posts by BoWs and title length using K-means clustering"
   ]
  },
  {
   "cell_type": "markdown",
   "metadata": {},
   "source": [
    "### Vectorize Data used TF-IDF\n",
    "The scores have the effect of highlighting words that are distinct (contain useful information) in a given document."
   ]
  },
  {
   "cell_type": "code",
   "execution_count": 53,
   "metadata": {},
   "outputs": [
    {
     "name": "stdout",
     "output_type": "stream",
     "text": [
      "<class 'pandas.core.frame.DataFrame'>\n",
      "RangeIndex: 10748 entries, 0 to 10747\n",
      "Data columns (total 11 columns):\n",
      "title                   10748 non-null object\n",
      "genre                   10748 non-null object\n",
      "view                    10748 non-null int64\n",
      "comment                 10748 non-null object\n",
      "datetime                10748 non-null datetime64[ns]\n",
      "tag                     10748 non-null bool\n",
      "title_nonpunct          10748 non-null object\n",
      "body_text_tokenized     10748 non-null object\n",
      "body_text_nonstop       10748 non-null object\n",
      "body_text_stemmed       10748 non-null object\n",
      "body_text_lemmatized    10748 non-null object\n",
      "dtypes: bool(1), datetime64[ns](1), int64(1), object(8)\n",
      "memory usage: 850.3+ KB\n",
      "(10748, 14206)\n",
      "['', '0', '00', '00s', '01', '012', '013', '020', '0200', '0257', '0280', '029', '031', '040', '0411', '050', '0590rc0', '06', '060', '071', '0713', '08', '080', '081', '091', '0924', '0patch', '0x', '0x300', '0x4015', '1', '10', '100', '1000', '100000', '100b', '100game', '100k', '100lb', '100m', '100mile', '100pct', '101', '102', '102kb', '1031', '103m', '1060hour', '107', '108', '10b', '10er', '10gbe', '10k', '10m', '10nm', '10x', '10year', '10yearold', '11', '1100', '11000', '1108', '111', '1110', '1111', '1115', '112', '112m', '112mph', '113', '114', '115', '1159', '115b', '115kmonth', '115m', '116', '117', '118', '118kfollower', '119', '119word', '11b', '11m', '11th', '12', '120', '120m', '121', '1213', '121t', '122', '1225w', '122m', '124acre', '127k', '128', '128160', '12b', '12bn', '12hour', '12m', '12step', '12t', '12yearold', '13', '130', '1300', '130m', '131', '132', '1330', '1340', '1342', '134yearold', '1350', '136', '137', '137b', '137m', '138162007e', '139m', '13b', '13m', '13th', '13yearold', '14', '14000', '1400employee', '1403', '1427', '143k', '144mb', '149', '1492', '14b', '14digit', '14k', '14th', '14year', '15', '150', '1500', '15000', '1500fps', '150m', '1541', '1568', '156inch', '157', '157b', '1587', '15b', '15m', '15year', '16', '160', '1600', '1600s', '165hr', '1660', '166b', '166m', '168', '1686', '16inch', '17', '1700', '170m', '1711', '172k', '1748', '175', '1750mhz', '1757', '1776', '1790', '17m', '17mb', '17th', '17thcentury', '18', '180', '18042', '18062', '18081809', '181', '18336721001', '1839', '1844b', '1859', '1870', '1872', '188', '1880', '1882', '1884', '1887', '1898', '1899', '18k', '19', '190', '1902', '1903', '1904', '1905', '1906', '1908', '190k', '190m', '1910', '1918', '1923', '1928', '1929', '1930', '1935', '1936', '1939', '193b', '194', '1940s', '1944', '1945', '1946', '1947', '1948', '1952', '1956', '1957', '1959', '1960', '1960s', '1960s90s', '1963', '1964', '1966', '1967', '1968', '1969', '1970', '1970s', '1971', '1973', '1975', '1976', '1978', '1979', '1980', '1980s', '1981', '1982', '1983', '1984', '1985', '1987', '1988', '1989', '1990', '1990s', '1991', '1992', '1993', '1994', '1995', '1996', '1997', '1998', '1999', '19b', '19th', '19yearold', '1b', '1h', '1k', '1kb', '1m', '1mb', '1password', '1star', '1t', '1tb', '1terabyte', '1way', '2', '20', '200', '2000', '2000q', '2001', '2002', '2003', '2004', '20042019', '2005', '2006', '2007', '2008', '20082010', '20089', '2009', '200alpha0', '200k', '2010', '2011', '2012', '2013', '2014', '2015', '2016', '2017', '2018', '2019', '201903', '20190312', '20190321', '2020', '2021', '2024', '2028', '2030', '2038', '2040', '2048', '2048bit', '2059', '2060', '208m', '20b', '20k', '20m', '20th', '20x', '20year', '20yearold', '21', '21010', '21012', '213', '215', '217', '21m', '21st', '21t', '22', '220', '22000', '221', '225', '22m', '23', '2300x', '230k', '230m', '232', '23andme', '23b', '23k', '23m', '23tb', '24', '240', '2400', '24192', '243', '247', '249', '249mph', '24m', '25', '250', '2500x', '250k', '250m', '254', '255bit', '256', '25b', '25inch', '25k', '25m', '25ton', '26', '26000year', '262', '263b', '264gb', '265', '265b', '26m', '27', '270', '275', '27k', '27m', '28', '2800', '28000yearold', '29', '29e', '2b', '2channel', '2d', '2doom', '2fa', '2inch', '2k', '2kb', '2kmonth', '2m', '2ms', '2nd', '2p', '3', '30', '300', '3000', '3000st', '3001', '300k', '300m', '302', '307', '30b', '30k', '30plus', '30something', '30th', '30year', '31', '311', '314t', '316inch', '31b', '32', '320', '3264', '32m', '33', '333', '339', '33k', '34', '340', '34yearold', '35', '3500', '35000', '3500x', '350b', '350k', '35yearold', '36', '360', '360degree', '362', '365', '3690', '36alpha', '37', '38', '38000', '380a1', '380k', '386', '390', '3950x', '3a', '3b', '3blue1browns', '3colors', '3d', '3decade', '3dfx', '3dprinted', '3g', '3m', '3month', '3nm', '3rd', '3step', '3x', '4', '40', '400', '400k', '400m', '400month', '400yearold', '4040', '408', '40hour', '40m', '40x', '41', '415ppm', '41m', '42', '420', '42010', '42b', '43m', '44', '440m', '445000', '446k', '44b', '45', '450m', '451', '45b', '46', '468', '47', '475', '47b', '47k', '48', '49', '4chan', '4d', '4g', '4ghz', '4k', '4kyearold', '4m', '4th', '4x', '5', '50', '500', '5000', '500k', '500l', '500m', '500myearold', '500yearlong', '500yearold', '50k', '50m', '50p', '50rc1', '50yearold', '51', '510', '512', '51camera', '52', '53', '5300', '54', '540m', '55', '550', '550m', '55m', '575m', '58', '584', '59', '594', '5b', '5g', '5ghz', '5httlpr', '5k', '5km', '5m', '5meodmt', '5nm', '5t', '5th', '5x', '6', '60', '600', '60000', '600page', '60k', '60m', '60year', '61', '610', '63yearold', '64', '64bit', '65', '650', '6502', '650k', '65k', '65m', '66', '660', '6604', '66m', '67', '670', '68', '683m', '69', '69b', '6gb', '6k', '6tb', '7', '70', '7000', '700k', '700m', '703', '70k', '72', '72yearold', '73', '735k', '737', '737s', '74', '74181', '75', '75000', '75hour', '75k', '75km', '76', '763b', '767', '768k', '773m', '77b', '787', '787s', '79', '7k', '7m', '7nm', '7zip', '8', '80', '800', '800m', '801', '80386', '808', '8086', '80k', '80m', '80x25', '81', '82', '83', '837', '85', '850', '8500', '85yearold', '86', '87', '8888', '8bit', '8chan', '8core', '8k', '8th', '8year', '8yearold', '9', '90', '9000', '900b', '900gb', '900k', '90b', '91', '911', '92', '929m', '93', '94', '940m', '941', '945x', '95', '96', '97', '9700', '97m', '98', '99', '996', '996icu', '996icus', '999', '99999999999999980', '99999999999999990', '9am', '9b', '9m', '9pm', 'a12', 'a12x', 'a16z', 'a300', 'a321', 'a380', 'aa', 'aaa', 'aaronson', 'ab', 'abandon', 'abandoned', 'abandoning', 'abc', 'abdication', 'abe', 'abel', 'ability', 'able', 'abolishes', 'abomb', 'abomination', 'abrams', 'abroad', 'absence', 'absent', 'absenteeism', 'absentia', 'absher', 'absinthe', 'absolute', 'absolutely', 'absorb', 'absorbed', 'abstract', 'abstraction', 'absurd', 'abu', 'abundance', 'abuse', 'abused', 'abuser', 'abusing', 'ac', 'academe', 'academic', 'academy', 'accelerate', 'accelerated', 'accelerates', 'accelerating', 'acceleration', 'accelerator', 'accenture', 'accept', 'acceptable', 'accepted', 'accepting', 'accepts', 'access', 'accessibility', 'accessible', 'accessing', 'accessory', 'accident', 'accidental', 'accidentally', 'accomplished', 'accord', 'according', 'account', 'accountable', 'accounting', 'accuracy', 'accurate', 'accurately', 'accusation', 'accuse', 'accused', 'accuses', 'accusing', 'ace', 'ach', 'achieve', 'achieved', 'achievement', 'achieves', 'achieving', 'achilles', 'acid', 'acid3', 'acidrain', 'ackermann', 'acknowledge', 'acknowledges', 'aclu', 'acm', 'acoustic', 'acquihires', 'acquire', 'acquired', 'acquires', 'acquiring', 'acquisition', 'acre', 'across', 'act', 'acted', 'acting', 'action', 'actionable', 'activated', 'activates', 'activation', 'active', 'activision', 'activisionblizzard', 'activist', 'activity', 'actixweb', 'actress', 'actually', 'acute', 'ad', 'ada', 'adachi', 'adacore', 'adafruit', 'adam', 'adapting', 'adaptive', 'adb', 'adblock', 'adblocker', 'adblockers', 'adblocking', 'add', 'added', 'addict', 'addicted', 'addiction', 'addictive', 'adding', 'addition', 'additive', 'additively', 'addon', 'addons', 'address', 'addressing', 'adequately', 'adfree', 'adhd', 'adhdadd', 'adheres', 'adi', 'adiantum', 'adichie', 'adjunct', 'adjustment', 'admin', 'administration', 'administrator', 'admins', 'admired', 'admission', 'admit', 'admits', 'admitted', 'admitting', 'adnauseam', 'adobe', 'adopt', 'adopted', 'adopting', 'adoption', 'adopts', 'adsb', 'adsfree', 'adtech', 'adtrader', 'adult', 'adulthood', 'advance', 'advanced', 'advancing', 'advantage', 'advent', 'adventure', 'adversarial', 'adversary', 'adverse', 'adversity', 'advertisement', 'advertiser', 'advertising', 'advice', 'advised', 'adviser', 'advisor', 'advisory', 'advocacy', 'advocate', 'adware', 'adwords', 'aecl', 'aerc', 'aerial', 'aerobic', 'aerodynamicist', 'aeroflot', 'aerospace', 'aesgcmsiv', 'aesthetic', 'aether', 'affair', 'affect', 'affected', 'affidavit', 'affiliate', 'afflicted', 'affluent', 'afford', 'affordability', 'affordable', 'afraid', 'africa', 'african', 'afterlife', 'aftermath', 'afterparty', 'age', 'aged', 'ageing', 'agency', 'agenda', 'agent', 'agerelated', 'ageresilient', 'aggregate', 'aggregation', 'aggregator', 'aggression', 'aggressive', 'agile', 'agilecraft', 'aging', 'ago', 'agony', 'agpllicensed', 'agree', 'agreement', 'agrees', 'agricultural', 'agriculture', 'agx', 'ahead', 'ai', 'aiart', 'aid', 'aide', 'aigenerated', 'aim', 'aimed', 'aimer', 'aiming', 'aint', 'ainu', 'aio', 'aipowered', 'air', 'airbnb', 'airborne', 'airbreathing', 'airbus', 'aircraft', 'airdrop', 'airframe', 'airlander', 'airlaunched', 'airless', 'airline', 'airliner', 'airplane', 'airpods', 'airport', 'airpower', 'airship', 'airspace', 'airtable', 'aisle', 'ajit', 'aka', 'akhenaten', 'akihito', 'akin', 'al', 'alabama', 'alan', 'alarm', 'alarmed', 'alarming', 'alaska', 'alaskan', 'alasqljs', 'alberta', 'album', 'alchemist', 'alchemy', 'alcohol', 'alcoholism', 'aldi', 'alert', 'alessandro', 'alex', 'alexa', 'alexander', 'alexandra', 'alexandria', 'alexis', 'alfred', 'algebra', 'algebraic', 'algol', 'algorithm', 'algorithmic', 'algotrading', 'alias', 'alibaba', 'alienated', 'aligned', 'alive', 'allcause', 'allegation', 'allege', 'alleged', 'allegedly', 'alleges', 'alleging', 'allelectric', 'allen', 'allergy', 'alleviated', 'alley', 'alliance', 'allinone', 'allmeat', 'allnew', 'allocator', 'allow', 'allowed', 'allowing', 'allows', 'alloy', 'allpurpose', 'ally', 'almanac', 'almost', 'almostghz', 'almostsecret', 'alone', 'along', 'alp', 'alpha', 'alphabet', 'alphabeta', 'alphastar', 'alpine', 'already', 'alsa', 'also', 'alsoran', 'alsup', 'altair', 'altavista', 'alter', 'altered', 'alternate', 'alternative', 'altimir', 'altitude', 'altman', 'altmans', 'alto', 'altright', 'alu', 'aluminum', 'alumnus', 'always', 'alwayson', 'alzheimer', 'alzheimers', 'ama', 'amadine', 'amarna', 'amateur', 'amazing', 'amazon', 'amazoncom', 'amber', 'ambient', 'ambiguous', 'ambitious', 'amd', 'amendment', 'america', 'american', 'americium', 'amethyst', 'ami', 'amid', 'amiga', 'amnesty', 'among', 'amount', 'amp', 'amphibian', 'ampligraph', 'amsterdam', 'amundsen', 'amygdalatohippocampus', 'anachronism', 'analog', 'analogue', 'analyse', 'analysis', 'analyst', 'analytica', 'analytics', 'analyze', 'analyzer', 'analyzes', 'analyzing', 'anand', 'anarchist', 'anarchitect', 'anatomy', 'ancestor', 'ancestry', 'anchoring', 'ancient', 'anders', 'andon', 'andreessen', 'andrew', 'android', 'andy', 'angel', 'angeles', 'anger', 'angle', 'angler', 'anglosaxon', 'angrier', 'angry', 'angryjoeshow', 'angular', 'angwin', 'anhei', 'animal', 'animate', 'animated', 'animating', 'animation', 'anker', 'anki', 'anna', 'anne', 'anniversary', 'annotated', 'annotation', 'announce', 'announced', 'announces', 'announcing', 'annoyance', 'annoyingly', 'annual', 'anomalous', 'anomaly', 'anonymity', 'anonymized', 'anonymous', 'another', 'ansi', 'answer', 'answered', 'answering', 'ant', 'antarctic', 'antarctica', 'antedating', 'antenna', 'antergos', 'anthony', 'anthos', 'anthrax', 'anthropic', 'anthropocene', 'anthropologist', 'anti', 'antiadblocker', 'antiaging', 'antiapplication', 'antibiotic', 'antibioticresistant', 'anticensorship', 'anticollege', 'anticorruption', 'antidemocratic', 'antidepressant', 'antiencryption', 'antiextremism', 'antifacebook', 'antifingerprinting', 'antifraud', 'antifreeze', 'antigay', 'antiinkling', 'antipattern', 'antipatterns', 'antirobocalling', 'antisatellite', 'antischool', 'antisocial', 'antispam', 'antitrust', 'antiunification', 'antiunion', 'antivaccination', 'antivax', 'antivaxxers', 'antivenin', 'antivenom', 'antivirus', 'antonine', 'antonio', 'anvil', 'anxiety', 'anxious', 'anymore', 'anyone', 'anything', 'anyway', 'anywhere', 'aoa', 'aortic', 'aout', 'apa', 'apache', 'apart', 'apartment', 'aphantasia', 'aphex', 'api', 'apifirst', 'apilevel', 'apis', 'apk', 'apl', 'apliv', 'apocalypse', 'apocalyptica', 'apollo', 'apologizes', 'app', 'appalachia', 'apparent', 'apparently', 'appeal', 'appear', 'appearance', 'appearing', 'appears', 'appendonly', 'appimage', 'appl', 'apple', 'appleandroid', 'appleidapplecom', 'applicant', 'application', 'applicationlevel', 'applied', 'applies', 'apply', 'applying', 'appointed', 'appointment', 'appraisal', 'apprentice', 'apprise', 'approach', 'approaching', 'approval', 'approve', 'approveapi', 'approved', 'approves', 'approximate', 'approximating', 'apps', 'appwebsite', 'april', 'apt', 'aptaptget', 'aquifer', 'ar', 'ara', 'arabia', 'arabsat6a', 'aramco', 'arangodb', 'arbitrage', 'arbitrary', 'arbitration', 'arborist', 'arcade', 'arcane', 'archaea', 'archaeological', 'archaeologist', 'archaeology', 'archeologist', 'archetypal', 'architect', 'architecting', 'architecture', 'archival', 'archive', 'archivebox', 'archiveis', 'archiveiss', 'archiveorg', 'archiver', 'archiving', 'arcio', 'arctic', 'arduino', 'area', 'arent', 'aresdb', 'argentina', 'argo', 'argon16', 'argues', 'arguing', 'argument', 'arithmetic', 'arizona', 'arm', 'armbased', 'armenia', 'armstrong', 'army', 'aroma', 'around', 'arp', 'arpa', 'array', 'arrayconcat', 'arraypush', 'arrest', 'arrested', 'arresting', 'arrhythmia', 'arrival', 'arrive', 'arrives', 'arrow', 'arsenic', 'arstechnica', 'art', 'artery', 'arthur', 'article', 'artifact', 'artificial', 'artificially', 'artisan', 'artist', 'artistic', 'artwork', 'artyping', 'artzybasheff', 'arugula', 'arxiv', 'arxivorg', 'as400', 'asa', 'asami', 'ascii', 'asciidoctor', 'ashamed', 'asia', 'asian', 'asiapacific', 'asics', 'aside', 'asifahollywood', 'asimov', 'ask', 'askdata', 'asked', 'asking', 'asks', 'asleep', 'asml', 'asmr', 'aspect', 'asperger', 'aspirin', 'aspnet', 'asrock', 'assange', 'assaulted', 'assaultstyle', 'assc', 'assemble', 'assembled', 'assembler', 'assembly', 'assert', 'asserting', 'assertion', 'assessing', 'assessment', 'asset', 'asshole', 'assignment', 'assistance', 'assistant', 'associated', 'association', 'assume', 'assumed', 'assumes', 'assumption', 'asterius', 'asteroid', 'astonishing', 'astrology', 'astronaut', 'astronomer', 'astronomical', 'astronomy', 'astrophysicist', 'astrophysics', 'asus', 'aswan', 'asylum', 'asymmetric', 'asymmetry', 'asymptotics', 'async', 'asyncawait', 'asynchronous', 'at', 'atari', 'athome', 'atiyah', 'atlantic', 'atlanticus', 'atlas', 'atlassian', 'atmega1284', 'atmosphere', 'atmospheric', 'atoll', 'atom', 'atomic', 'atrazine', 'att', 'atta', 'attached', 'attack', 'attacker', 'attacking', 'attempt', 'attempted', 'attend', 'attendant', 'attention', 'attestation', 'attitude', 'attorney', 'attracted', 'attributed', 'attribution', 'attrition', 'au', 'auction', 'audacity', 'audible', 'audience', 'audio', 'audiobooks', 'audit', 'auditing', 'audition', 'auditory', 'augmentation', 'augmented', 'august', 'aura', 'auris', 'aurora', 'aussie', 'austerityfueled', 'austin', 'australia', 'australian', 'austria', 'austrian', 'auth', 'authenticated', 'authenticates', 'authentication', 'authenticity', 'author', 'authoritarian', 'authority', 'authorization', 'autism', 'autistic', 'auto', 'autobahn', 'autobiography', 'autocomplete', 'autoencoders', 'autoerases', 'autograms', 'autolaced', 'automagica', 'automaker', 'automate', 'automated', 'automatic', 'automatically', 'automating', 'automation', 'automaton', 'automl', 'automotive', 'autonomous', 'autonomy', 'autopilot', 'autoplaying', 'autoscale', 'autosteer', 'autoworker', 'av1', 'availability', 'available', 'avastar', 'average', 'aversive', 'avian', 'aviation', 'avo', 'avocado', 'avoid', 'avoidable', 'avoidance', 'avoiding', 'avoids', 'avr', 'avx512', 'await', 'awakening', 'award', 'awarded', 'awash', 'away', 'awesome', 'awful', 'awk', 'aws', 'ax', 'axdraft', 'axe', 'axios', 'axon', 'ayrshire', 'aztec', 'azure', 'b', 'b1', 'b2', 'b25', 'b2b', 'b612', 'ba', 'baba', 'baboon', 'baby', 'babylon', 'back', 'backblaze', 'backbone', 'backcountry', 'backdoor', 'backed', 'backend', 'backends', 'backer', 'backfire', 'background', 'backlash', 'backpack', 'backpropagation', 'backpropogation', 'backslash', 'backtotheland', 'backtracked', 'backtracks', 'backup', 'backwards', 'backyard', 'bacon', 'bacteria', 'bad', 'badge', 'badger', 'badly', 'baffle', 'baffled', 'baffling', 'bag', 'baghdad', 'bagoflocalfeatures', 'baidu', 'bail', 'bait', 'baked', 'bakery', 'balance', 'balanced', 'balancer', 'balancing', 'bald', 'baldwin', 'ball', 'balloon', 'ballpark', 'balsillie', 'baltimore', 'bamboo', 'ban', 'band', 'bandersnatch', 'bandit', 'bandwidth', 'bang', 'bangka', 'banish', 'bank', 'bankbacked', 'banker', 'banking', 'bankrupt', 'bankruptcy', 'banksy', 'banned', 'banning', 'banninglimiting', 'banquet', 'baofengs', 'bar', 'barbara', 'barber', 'barberton', 'barcelona', 'bare', 'barely', 'baremetal', 'barista', 'barker', 'barking', 'barkley', 'barnes', 'barred', 'barrel', 'barrier', 'barring', 'bartending', 'barton', 'base', 'base64', 'basecamp', 'based', 'basetofilling', 'bash', 'bashprofilealiases', 'basic', 'basically', 'basis', 'basque', 'bastion', 'bat', 'batch', 'batching', 'batman', 'battery', 'battle', 'battlebots', 'battlefield', 'battleground', 'battlesnake', 'battling', 'bauhaus', 'baw', 'baxx', 'bay', 'bayer', 'bayes', 'bayesian', 'bazooka', 'bb', 'bbc', 'bc', 'be7', 'beach', 'beacon', 'beaglebone', 'beam', 'bean', 'bearing', 'beat', 'beaten', 'beating', 'beatnik', 'beautiful', 'beauty', 'became', 'become', 'becomes', 'becoming', 'bed', 'bedroom', 'bee', 'beef', 'beekeeper', 'beep', 'beer', 'began', 'begin', 'beginner', 'beginning', 'begoneads', 'begun', 'behalf', 'behaved', 'behavior', 'behavioral', 'behaviour', 'beheads', 'behind', 'beholding', 'beijing', 'beijingbacked', 'bekant', 'belgian', 'belgium', 'belief', 'believe', 'believed', 'believing', 'bell', 'bellheads', 'bellyio', 'beloved', 'belowthefold', 'belt', 'benchmark', 'benchmarking', 'benchtop', 'bendell', 'bending', 'beneath', 'benefit', 'bengio', 'bennu', 'bent', 'bentley', 'bento', 'beowulf', 'beppo', 'bepuphysics', 'beresheet', 'berkeley', 'berkshire', 'berlekamp', 'berlin', 'berlinbased', 'bermuda', 'bernardino', 'bernerslee', 'bert', 'best', 'bestbefore', 'bestknown', 'bestselling', 'bet', 'beta', 'beto', 'betrayed', 'better', 'betting', 'bevelacqua', 'beverage', 'bevy', 'beware', 'beyond', 'bezos', 'bgp', 'bhutan', 'bias', 'bible', 'bicycle', 'bid', 'bideniable', 'bifida', 'big', 'bigfoot', 'bigger', 'biggest', 'biggestever', 'bigint', 'bigquery', 'bigtable', 'bike', 'bilibili', 'bill', 'billing', 'billion', 'billionaire', 'billionare', 'billiondollar', 'billionpound', 'bim', 'binance', 'binary', 'binarycompatible', 'binder', 'binding', 'bing', 'bingbing', 'bingereading', 'binglike', 'bini', 'binomial', 'binutils', 'bio', 'biodegradable', 'biography', 'bioinstruments', 'biological', 'biology', 'biomarker', 'biomass', 'biometrics', 'biorender', 'bios', 'bioseficorebootfirmwareoptionrom', 'biosphere', 'biotech', 'bipartisan', 'bird', 'birding', 'birmingham', 'birth', 'birthday', 'birthed', 'bison', 'bit', 'bitbasher', 'bitbucket', 'bitcode', 'bitcoin', 'bitcoins', 'bite', 'bitemporality', 'bitfinex', 'biting', 'bitlocker', 'bitmanip', 'bitnami', 'bitpatron', 'bitset', 'bitter', 'bittorrent', 'bitwig', 'biy', 'biz', 'black', 'blackberry', 'blackbird', 'blackboard', 'blacked', 'blackfoot', 'blackhat', 'blackhole', 'blacklist', 'blackmail', 'blackmailer', 'blackout', 'blame', 'blamed', 'blaming', 'blamscript', 'blaze', 'blazingsql', 'ble', 'bleak', 'bled', 'blend', 'blend2d', 'blended', 'blender', 'blendle', 'blessing', 'bleve', 'blew', 'blind', 'blinder', 'blindness', 'blindsided', 'bling', 'blink', 'blizzard', 'bln', 'bloat', 'bloated', 'bloatware', 'blob', 'block', 'blockade', 'blockbuster', 'blockchain', 'blockchaincloud', 'blockchainflavored', 'blockchains', 'blocked', 'blocker', 'blocking', 'blockspring', 'blockstream', 'blockstreams', 'blog', 'blogcast', 'blogger', 'blogging', 'blogsportfolios', 'blood', 'bloodsucking', 'bloom', 'bloomberg', 'blossom', 'blow', 'blower', 'blowing', 'blown', 'blue', 'bluecollar', 'blueprint', 'bluetooth', 'bluetooths', 'blunder', 'blurry', 'bmc', 'bmw', 'board', 'boarding', 'boast', 'boat', 'bob', 'boden', 'body', 'bodybuilding', 'bodycam', 'bodypainting', 'boeing', 'bogle', 'boing', 'boisjoly', 'bolo', 'bolt', 'bolze', 'boléro', 'bomb', 'bombay', 'bombe', 'bomber', 'bomberman', 'bombing', 'bon', 'bond', 'bonding', 'boninis', 'bonkers', 'bonus', 'booing', 'book', 'booker', 'bookingcom', 'booklet', 'bookmark', 'bookmarked', 'bookscomics', 'bookseller', 'bookstore', 'bookworm', 'boole', 'boolean', 'boom', 'boombox', 'booming', 'boon', 'boost', 'booster', 'boot', 'bootable', 'bootcamps', 'bootloader', 'bootstrap', 'bootstrapped', 'bootstrapping', 'bootstrapsass', 'border', 'bored', 'boring', 'boringtun', 'boris', 'born', 'borneo', 'borrowed', 'borrower', 'borrowing', 'bos', 'bosch', 'bose', 'bosque', 'boss', 'boston', 'bot', 'botanical', 'botanist', 'botched', 'bother', 'bothies', 'botorch', 'bottle', 'bottleneck', 'bottom', 'bottomless', 'bought', 'boulder', 'bouman', 'boundary', 'bounty', 'bowl', 'bowling', 'box', 'boxing', 'boy', 'boycott', 'boycotted', 'bpf', 'bpftrace', 'bracing', 'bradley', 'braille', 'brain', 'brainer', 'braingut', 'brainmachine', 'brainwash', 'brake', 'branch', 'brancher', 'brand', 'branding', 'brave', 'brazil', 'brazilian', 'breach', 'breached', 'bread', 'breadboard', 'break', 'breakdown', 'breaker', 'breakfast', 'breaking', 'breakout', 'breakthrough', 'breakup', 'breathe', 'breathing', 'bred', 'breed', 'breeding', 'breitbart', 'brescia', 'brew', 'brexit', 'brian', 'bribe', 'bribed', 'bribery', 'bribing', 'brick', 'bridge', 'bridging', 'brief', 'briefly', 'brien', 'bright', 'brighter', 'brightest', 'brilliant', 'brine', 'bring', 'bringing', 'brings', 'brink', 'brisbane', 'brisk', 'bristol', 'brit', 'britain', 'british', 'britishirish', 'broad', 'broadband', 'broadcast', 'broadcaster', 'broadcasting', 'broadcom', 'broader', 'broke', 'broken', 'broker', 'brokerage', 'bronner', 'bronx', 'bronze', 'bros', 'brother', 'brought', 'brown', 'browse', 'browser', 'browserbased', 'browserify', 'browsing', 'bruce', 'brunners', 'bruno', 'brunt', 'brush', 'brussels', 'brutal', 'brutalist', 'brutally', 'bsd', 'bsed', 'bsides', 'btc', 'btree', 'btrfs', 'bubble', 'buca', 'buchberger', 'buck', 'buckaroo', 'bucket', 'buckminster', 'buddhist', 'budget', 'budgeting', 'buefy', 'buffer', 'buffered', 'buffersbased', 'buffett', 'bug', 'bugo', 'bugsfeedback', 'build', 'buildah', 'builder', 'building', 'built', 'builtin', 'builtins', 'bukowski', 'bulb', 'bulgarian', 'bull', 'bullet', 'bullied', 'bullshit', 'bullshitters', 'bully', 'bullying', 'bulma', 'bumblebee', 'bumpallocated', 'bunch', 'bund', 'bundle', 'bundler', 'bungie', 'bunker', 'burden', 'bureau', 'bureaucracy', 'bureaucrat', 'bureaucratic', 'burger', 'burgess', 'burglar', 'burglary', 'burial', 'buried', 'burn', 'burned', 'burnedout', 'burning', 'burnout', 'burnoutdepressionlazinesswrong', 'burroughs', 'burrow', 'burst', 'bursting', 'bus', 'business', 'bust', 'buster', 'busy', 'butt', 'butterflow', 'butterfly', 'buttigieg', 'button', 'buy', 'buyback', 'buyer', 'buying', 'buzan', 'buzz', 'buzzfeed', 'byd', 'bye', 'byju', 'byod', 'bypass', 'byproduct', 'bystander', 'byte', 'byteaccessibility', 'bytecode', 'byzantine', 'bézier', 'c', 'c11', 'c128', 'c14', 'c1417', 'c17', 'c2', 'c20', 'c2x', 'c3', 'c64', 'c88', 'ca', 'cable', 'cac', 'cache', 'cachefriendly', 'caching', 'cactus', 'cad', 'caddy', 'cadence', 'cadr', 'cafe', 'caffeine', 'cage', 'cahill', 'cake', 'cal', 'calculate', 'calculated', 'calculating', 'calculator', 'calculus', 'calendar', 'california', 'californian', 'call', 'called', 'calling', 'calljoy', 'calm', 'calorie', 'calvin', 'cam', 'cambridge', 'came', 'camelcamelcamel', 'camera', 'cameraman', 'camouflage', 'camp', 'campaign', 'campaigner', 'campaigning', 'camper', 'campus', 'can', 'canada', 'canadian', 'canary', 'canaveral', 'canberra', 'cancel', 'canceled', 'cancellation', 'cancelled', 'cancelling', 'cancer', 'candida', 'candidate', 'candlelight', 'candor', 'cannabinoids', 'cannabis', 'cannot', 'cant', 'canteen', 'canticle', 'cantor', 'canva', 'canvas', 'canvassketch', 'canyon', 'cap', 'capability', 'capable', 'capacitor', 'cape', 'capital', 'capitalism', 'capitalist', 'capsule', 'captain', 'captcha', 'captchas', 'captivity', 'capture', 'captured', 'capturing', 'car', 'carbanak', 'carbon', 'carcass', 'card', 'cardashboard', 'cardinal', 'carding', 'cardiologist', 'cardiologistlevel', 'care', 'careem', 'career', 'careful', 'carfree', 'cargo', 'carl', 'carlo', 'carlos', 'carmack', 'carmaggedon', 'carmel', 'carnegie', 'carnitine', 'carnival', 'caro', 'carousel', 'carried', 'carrier', 'carrington', 'carroll', 'carry', 'carrying', 'cartel', 'cartogram', 'cartography', 'cartoon', 'cartridge', 'carved', 'cascading', 'case', 'cash', 'cashless', 'casio', 'casper', 'cassowary', 'cast', 'caster', 'casual', 'cat', 'catalina', 'catalog', 'catalogue', 'catalyst', 'catastrophe', 'catastrophic', 'catch', 'catcher', 'catching', 'catchup', 'categorization', 'category', 'catfished', 'cathay', 'cathedral', 'cattle', 'caught', 'cause', 'caused', 'causing', 'cautionary', 'cave', 'caveat', 'caviar', 'cavity', 'cbased', 'cbp', 'cbs', 'cc', 'cclicensed', 'ccpa', 'cctvcaptured', 'cd', 'cdc', 'cdecl', 'cdn', 'ce', 'cedreo', 'celebrity', 'celera', 'celibidache', 'cell', 'cellebrite', 'cellphone', 'cellular', 'celsius', 'censor', 'censored', 'censoring', 'censorship', 'censorshipfree', 'census', 'cent', 'centaur', 'center', 'centos', 'central', 'centralized', 'centre', 'centric', 'centsmile', 'century', 'ceo', 'cereal', 'cerebellum', 'cerebral', 'cern', 'cert', 'certain', 'certificate', 'certified', 'certify', 'cessna', 'cfo', 'chacha20poly1305', 'chagos', 'chain', 'chairman', 'chalk', 'challenge', 'challenger', 'challenging', 'chamber', 'champion', 'championship', 'chan', 'chance', 'change', 'change4', 'changeaviewcom', 'changed', 'changelog', 'changing', 'channel', 'channelwise', 'chaos', 'chaoslist', 'chaosnet', 'chapo', 'chapos', 'character', 'characteristic', 'characterizing', 'charge', 'chargeback', 'charged', 'charger', 'charging', 'chariot', 'charity', 'charles', 'charlie', 'charm', 'chart', 'charter', 'chartjs', 'chase', 'chat', 'chatbot', 'chathelpdesk', 'chatroom', 'cheap', 'cheaper', 'cheapest', 'cheat', 'cheated', 'cheating', 'cheatsheet', 'check', 'checked', 'checker', 'checking', 'checklist', 'checkout', 'checkup', 'cheese', 'cheeselike', 'chef', 'chelsea', 'chemical', 'chemist', 'chen', 'chequer', 'chernobyl', 'cherokee', 'cherry', 'chess', 'chesskelet', 'chessplaying', 'chessvisionai', 'chevrolets', 'chevron', 'chevy', 'chevys', 'chezmoi', 'chiang', 'chicago', 'chick', 'chicken', 'chief', 'child', 'childhood', 'childless', 'chill', 'chimamanda', 'chimpanzee', 'china', 'chinai', 'chinese', 'chinesemade', 'chineseowned', 'chinesestyle', 'chinook', 'chip', 'chipmaker', 'chipotle', 'chlorine', 'choice', 'cholesterol', 'chomsky', 'chongqing', 'choose', 'choosing', 'chopstick', 'chord', 'chose', 'chosen', 'chosenprefix', 'chr2055rnd1', 'chris', 'christchurch', 'christopher', 'chrome', 'chromebook', 'chromebooks', 'chromecast', 'chromeonly', 'chromium', 'chromiumbased', 'chromosome', 'chronic', 'chronically', 'chrysalisp', 'chrysler', 'chuck', 'chump', 'chunk', 'chunkwm', 'churchill', 'ci', 'cia', 'cidlib', 'cigarette', 'cilium', 'cincinnati', 'circle', 'circuit', 'circular', 'circus', 'cirrus', 'cisa', 'cisco', 'citation', 'citing', 'citizen', 'citrix', 'citrus', 'citus', 'city', 'citybound', 'citywide', 'civil', 'civilian', 'civilisation', 'civilization', 'claim', 'claimed', 'claimers', 'clair', 'claire', 'clamoring', 'clampdown', 'clangbuilt', 'clarify', 'clarifying', 'clash', 'class', 'classaction', 'classic', 'classical', 'classification', 'classified', 'classify', 'classroom', 'claude', 'clause', 'claw', 'clean', 'cleaner', 'cleaning', 'clear', 'clearance', 'cleavejs', 'clever', 'cli', 'clichés', 'click', 'clickbait', 'clicker', 'clickhouse', 'clicking', 'clicktocopy', 'client', 'clientserver', 'clientside', 'cliff', 'climate', 'climatechange', 'climb', 'climbed', 'clinical', 'clip', 'clippy', 'cljcljs', 'clock', 'clockwork', 'clogged', 'clojure', 'clojurebased', 'clojurescript', 'clojurists', 'clone', 'cloned', 'cloning', 'close', 'closed', 'closeddoor', 'closer', 'closet', 'closeup', 'closing', 'closure', 'clothes', 'clothing', 'cloud', 'cloudbased', 'cloudborn', 'clouded', 'cloudflare', 'cloudflares', 'cloudless', 'cloudmarker', 'cloudnative', 'cloudquery', 'cloudwatch', 'clout', 'clowning', 'club', 'clue', 'cluetrain', 'cluster', 'clusterfuzz', 'clustering', 'clusterscope', 'clutter', 'cm', 'cmake', 'cmu', 'cnbc', 'cnc', 'cnil', 'cnn', 'cnns', 'co', 'co2', 'coach', 'coal', 'coalfired', 'coast', 'coaxing', 'cobbled', 'cobol', 'cocacola', 'cocaine', 'cocalc', 'cockpit', 'cockroachdb', 'cockroachdbs', 'cocktail', 'cocnvim', 'cocoa', 'coconut', 'cocreators', 'code', 'codebase', 'codec', 'codecademy', 'codeflow', 'codefree', 'codegen', 'codeless', 'coder', 'codereloading', 'codesign', 'codespeak', 'codex', 'coding', 'coerce', 'coercion', 'coexist', 'coffee', 'cofounder', 'cog', 'cognition', 'cognitive', 'coherency', 'coi', 'coin', 'coinbase', 'coincidence', 'coinomi', 'cointelpro', 'colab', 'cold', 'coldfusion', 'coldness', 'colgan', 'colin', 'collaborate', 'collaborating', 'collaboration', 'collaborative', 'collaboratively', 'collapse', 'collapsed', 'collapser', 'collapsing', 'collateral', 'colleague', 'collect', 'collected', 'collecting', 'collection', 'collective', 'collector', 'college', 'collegeentrance', 'collide', 'collider', 'collin', 'collision', 'collison', 'collodion', 'colloquium', 'colluding', 'collusion', 'colombia', 'colon', 'colony', 'color', 'colorado', 'colorblind', 'colored', 'colorffy', 'colorful', 'colorkitty', 'colormap', 'colossal', 'colossus', 'coloured', 'colourisesg', 'column', 'com', 'combatting', 'combination', 'combinator', 'combinatorial', 'combinators', 'combine', 'combined', 'combining', 'combo', 'combustion', 'comcast', 'comdyna', 'come', 'comeback', 'comedy', 'comet', 'comevenwell', 'comfort', 'comfygure', 'comic', 'comical', 'comicgen', 'coming', 'command', 'commandline', 'commandment', 'commemorated', 'comment', 'commento', 'commerce', 'commercial', 'commission', 'commissioner', 'commit', 'commitbranchworkdir', 'commits', 'committed', 'committee', 'committing', 'commoditize', 'commodity', 'commodore', 'common', 'commonly', 'commonsense', 'comms', 'communal', 'communicate', 'communication', 'communist', 'community', 'communitydriven', 'commute', 'commuter', 'compact', 'compacting', 'companion', 'company', 'comparative', 'compare', 'compared', 'comparing', 'comparison', 'compass', 'compassion', 'compatibility', 'compatible', 'compcert', 'compensating', 'compete', 'competency', 'competing', 'competition', 'competitive', 'competitor', 'compilation', 'compile', 'compiled', 'compiler', 'compiling', 'complain', 'complained', 'complaint', 'complement', 'complete', 'completed', 'completely', 'completeness', 'completes', 'completion', 'complex', 'complexexpensivedistracting', 'complexity', 'compliance', 'complicated', 'complication', 'component', 'composable', 'composed', 'composer', 'composing', 'composition', 'compost', 'composting', 'compound', 'compounding', 'comprehensive', 'compress', 'compressed', 'compressedair', 'compressing', 'compression', 'compromise', 'compromised', 'compuserve', 'computation', 'computational', 'compute', 'computer', 'computerized', 'computing', 'con', 'concatenative', 'concedes', 'concentrating', 'concentration', 'concept', 'conceptual', 'concern', 'concerned', 'concerning', 'conclude', 'concludes', 'conclusion', 'concrete', 'concurrency', 'concurrencyrelated', 'concurrent', 'concussion', 'condemned', 'condition', 'conditioner', 'condo', 'conducting', 'conductor', 'cone', 'conf', 'conference', 'conferencing', 'confess', 'confession', 'confidence', 'confidential', 'confidentially', 'config', 'configurable', 'configuration', 'configure', 'configuring', 'confinement', 'confirm', 'confirmed', 'confirms', 'conflict', 'confluent', 'confounding', 'confronted', 'confusing', 'confusion', 'congested', 'congestion', 'congo', 'congress', 'congressional', 'conic', 'connect', 'connected', 'connecticut', 'connection', 'connectivity', 'connects', 'conscientious', 'conscious', 'consciousness', 'consensus', 'consent', 'consented', 'consequence', 'conservatism', 'consider', 'consideration', 'considered', 'considering', 'considers', 'consistency', 'consistent', 'consolas', 'console', 'consolidating', 'consortium', 'conspiracy', 'conspired', 'constant', 'constantinople', 'constantly', 'constanttime', 'constellation', 'constexpr', 'constitution', 'constitutional', 'constraint', 'construct', 'constructed', 'construction', 'constructjs', 'consul', 'consultancy', 'consultant', 'consulting', 'consumed', 'consumer', 'consuming', 'consumption', 'contact', 'contacting', 'contain', 'contained', 'container', 'containerization', 'containing', 'containment', 'contains', 'contaminated', 'contemporary', 'contempt', 'contender', 'content', 'contentid', 'contest', 'contested', 'context', 'contextcue', 'continuation', 'continue', 'continued', 'continues', 'continuing', 'continuous', 'continuoustime', 'contour', 'contouring', 'contraband', 'contract', 'contractor', 'contrast', 'contravariance', 'contribute', 'contributed', 'contributes', 'contribution', 'control', 'controlled', 'controller', 'controlling', 'controversial', 'controversy', 'conundrum', 'convenience', 'convenient', 'conventional', 'convergent', 'conversation', 'conversion', 'convert', 'converted', 'converter', 'convertible', 'convict', 'convicted', 'conviction', 'convince', 'convinced', 'convolution', 'convolutional', 'conways', 'coo', 'cook', 'cookbook', 'cookie', 'cooking', 'cookware', 'cooky', 'cool', 'cooler', 'coolest', 'cooling', 'cooperation', 'cooperative', 'coordinated', 'cop', 'cope', 'copenhagen', 'coping', 'copperheados', 'coprocessor', 'copy', 'copycat', 'copying', 'copyright', 'copyrightclaiming', 'copyrighted', 'coq', 'coral', 'cord', 'corda', 'core', 'coreboot', 'cornea', 'coroutines', 'corp', 'corporate', 'corporatetax', 'corporation', 'corpse', 'corpus', 'correct', 'correcting', 'correction', 'correctly', 'correctness', 'correlated', 'corrupted', 'corruption', 'corruptionbusting', 'cortex', 'cosmetic', 'cosmic', 'cosmologist', 'cosmology', 'cosmonaut', 'cosmos', 'cossack', 'cost', 'costa', 'costco', 'costcos', 'costcutting', 'costing', 'costly', 'could', 'council', 'counsel', 'count', 'counter', 'counteract', 'counterfactual', 'counterfeit', 'counterfeiter', 'counting', 'countless', 'country', 'countryside', 'countrywide', 'county', 'couple', 'coupling', 'courier', 'course', 'court', 'covariance', 'covenantforum', 'covenantsql', 'cover', 'coverage', 'covered', 'covering', 'covertly', 'coverups', 'cow', 'cowboy', 'coworking', 'cowtoilet', 'cox', 'co₂', 'cpm', 'cpmish', 'cppyy', 'cpu', 'cpubound', 'cpufail', 'cpython', 'cqrs', 'crack', 'crackdown', 'cracked', 'cracker', 'cracking', 'craft', 'crafted', 'crafting', 'craig', 'craigslist', 'crank', 'crap', 'crash', 'crashed', 'crashtest', 'cray', 'crazy', 'crdt', 'crdts', 'create', 'created', 'createprocess', 'createreactapp', 'creates', 'creating', 'creation', 'creative', 'creatives', 'creativity', 'creator', 'creature', 'credder', 'credential', 'credit', 'creed', 'creeping', 'creepy', 'cremieux', 'crev', 'crew', 'crewmember', 'crfs', 'cricket', 'crime', 'criminal', 'criminalizes', 'criminally', 'crippled', 'crisis', 'crispr', 'crisprbaby', 'critic', 'critical', 'criticised', 'criticism', 'criticize', 'criticized', 'critique', 'crlf', 'crochet', 'crocodileinfested', 'croissant', 'crone', 'crop', 'cross', 'crossbeam', 'crossborder', 'crossbrowser', 'crossed', 'crossfire', 'crossfit', 'crossfont', 'crosshairs', 'crossing', 'crossnational', 'crossplatform', 'crossskill', 'crosstalk', 'crossversion', 'crossword', 'crow', 'crowd', 'crowded', 'crowdfunded', 'crowdfunding', 'crowdsourced', 'crowdstrike', 'crt', 'crude', 'cruel', 'cruise', 'crunch', 'crunching', 'crust', 'crustacean', 'crutch', 'crux', 'cry', 'crypt', 'crypto', 'cryptocurrency', 'cryptoeconomic', 'cryptographer', 'cryptographic', 'cryptography', 'cryptominers', 'cryptotradertax', 'crystal', 'crystalline', 'cs', 'csp', 'cspa', 'cssfx', 'cssonlychat', 'csspowered', 'csv', 'ctf', 'ctfs', 'cto', 'ctohead', 'ctrl', 'cuba', 'cube', 'cubesat', 'cubesats', 'cubicle', 'cuda', 'cuffed', 'culled', 'culprit', 'cult', 'cultivates', 'cultlike', 'cultural', 'culture', 'cuomo', 'cup', 'cupid', 'cupy', 'curated', 'curation', 'curb', 'cure', 'cured', 'curiosity', 'curious', 'curl', 'currency', 'current', 'currently', 'curriculum', 'curse', 'cursesbased', 'cursewords', 'curv', 'curve', 'curve25519', 'custard', 'custom', 'customer', 'customisable', 'customizable', 'customize', 'cut', 'cutler', 'cutlery', 'cutoff', 'cutter', 'cutthroat', 'cutting', 'cuttingedge', 'cv', 'cve20191543', 'cve20195418', 'cve20195736', 'cve20198912', 'cve20199193', 'cyanobacteria', 'cyber', 'cyberattack', 'cyberattacks', 'cybercommand', 'cybercrime', 'cyberpunk', 'cybersecurity', 'cybersovereignty', 'cyberstalking', 'cycle', 'cycling', 'cyclist', 'cyclone', 'cygwin', 'czech', 'czechoslovakia', 'd21', 'd3', 'd3js', 'd6tflow', 'da', 'daca', 'dad', 'dada', 'dadamachines', 'dagen', 'daily', 'dailymail', 'daimler', 'dairy', 'dali', 'dalio', 'dallas', 'dam', 'damage', 'damaged', 'damaging', 'damascus', 'dame', 'daml', 'damn', 'damned', 'damning', 'dan', 'dan64', 'dance', 'dane', 'danger', 'dangerous', 'daniel', 'danish', 'danone', 'dapps', 'dark', 'darken', 'darkest', 'darkmatter', 'darkmode', 'darkness', 'darknet', 'darkstar', 'darling', 'darpa', 'dart', 'darwin', 'dash', 'dashboard', 'dashed', 'daskeyboard', 'dat', 'data', 'database', 'databaseasaservice', 'databasebacked', 'databricks', 'datacamp', 'datacenter', 'datacompression', 'datadriven', 'dataflow', 'dataforge', 'datagov', 'datalog', 'dataset', 'datasets', 'datashader', 'datasource', 'dataspewing', 'datatype', 'date', 'dating', 'datomic', 'datomiclike', 'daughter', 'dave', 'davis', 'davos', 'day', 'daydreaming', 'daylight', 'daysweek', 'db', 'dbaas', 'dbdot', 'dbeaver', 'dbus', 'dc', 'dca', 'dcf', 'dconf', 'dday', 'ddgr', 'ddos', 'de', 'dea', 'deactivating', 'dead', 'deadliest', 'deadline', 'deadlock', 'deadlocked', 'deadly', 'deadmanhandle', 'deadonarrival', 'deadsimple', 'deaf', 'deal', 'dealarticle', 'dealer', 'dealing', 'dear', 'death', 'deathblow', 'debacle', 'debate', 'debating', 'debauchery', 'debian', 'debit', 'deborah', 'debris', 'debt', 'debug', 'debugger', 'debugging', 'debuggingfriendly', 'debunked', 'debunking', 'debussy', 'debut', 'dec', 'decade', 'decadelong', 'decadesold', 'decapped', 'decarbonize', 'decay', 'deceive', 'december', 'decentralized', 'deceptive', 'decide', 'decided', 'decides', 'decidim', 'decipher', 'deciphered', 'deciphering', 'decision', 'decisionmaking', 'deck', 'deckbuild', 'decker', 'declaration', 'declarative', 'declare', 'declared', 'declares', 'declassified', 'declawing', 'decline', 'decode', 'decoded', 'decoder', 'decoding', 'decompilations', 'decompiler', 'decompressing', 'decoy', 'decrease', 'decreasing', 'decriminalize', 'decriminalizes', 'decriminalizing', 'decrypted', 'decryption', 'dedicated', 'deduction', 'deems', 'deep', 'deepens', 'deepest', 'deepestever', 'deepfake', 'deepfakes', 'deeply', 'deepmind', 'deepracer', 'deepsea', 'deepstate', 'deepswarm', 'deer', 'defacing', 'default', 'defeat', 'defeated', 'defeating', 'defence', 'defend', 'defender', 'defends', 'defense', 'defensible', 'defensive', 'deficiency', 'defied', 'defies', 'define', 'defined', 'definer', 'defines', 'defining', 'definition', 'definitive', 'deflect', 'deforestation', 'defrauded', 'defrauding', 'defy', 'degoogled', 'degoogleify', 'degoogling', 'degree', 'degrowth', 'deirdre', 'delay', 'delayed', 'delaying', 'deletable', 'delete', 'deleted', 'deletefb', 'deletes', 'deleting', 'deletion', 'delft', 'delhi', 'delinquency', 'delinquent', 'delisted', 'deliver', 'delivered', 'delivering', 'deliveroo', 'delivers', 'delivery', 'dell', 'delphi', 'delphicompatible', 'delta', 'delusion', 'delvey', 'demake', 'demand', 'demanded', 'demanding', 'demarco', 'dementia', 'demise', 'demo', 'demo1', 'democracy', 'democrat', 'democratic', 'democratize', 'demographic', 'demolishing', 'demonetized', 'demonetizes', 'demonstrate', 'demonstration', 'demoparties', 'demoscener', 'demystified', 'demystifying', 'dengue', 'deniability', 'denial', 'denied', 'denies', 'denisovan', 'dennis', 'denoise', 'denoising', 'density', 'dent', 'dentistry', 'denver', 'deny', 'denying', 'depart', 'departed', 'department', 'departs', 'departure', 'dependabot', 'dependence', 'dependency', 'depending', 'depends', 'depersonalization', 'depicts', 'deploy', 'deploying', 'deployment', 'depopulated', 'deportation', 'deposit', 'deposition', 'depot', 'deprecate', 'deprecated', 'deprecating', 'deprecation', 'depressed', 'depressing', 'depression', 'depressiongene', 'deprioritizing', 'deprivation', 'dept', 'depth', 'derivation', 'derive', 'deriving', 'dermatologist', 'desalination', 'descent', 'descheduled', 'describes', 'describing', 'description', 'desert', 'deserve', 'deserves', 'design', 'designed', 'designer', 'designing', 'desire', 'desk', 'deskgap', 'deskmini', 'desktop', 'desmos', 'desperate', 'desperately', 'despite', 'destroy', 'destroyed', 'destroyer', 'destroying', 'destroys', 'destruction', 'destructive', 'desuckafying', 'detail', 'detailed', 'detain', 'detained', 'detains', 'detect', 'detected', 'detecting', 'detection', 'detective', 'detector', 'detects', 'detention', 'determine', 'determined', 'determines', 'deterrence', 'detoured', 'detoxify', 'detroit', 'deutsche', 'dev', 'devastated', 'devastating', 'develop', 'developed', 'developer', 'developersengineers', 'developing', 'development', 'devflight', 'deviance', 'device', 'devil', 'devops', 'devote', 'devs', 'devtools', 'devuan', 'dewey', 'dex', 'dexterous', 'dha', 'dhs', 'di', 'diabetes', 'diabetic', 'diagnose', 'diagnosed', 'diagnosis', 'diagnostics', 'diagram', 'diagrammer', 'dial', 'dialect', 'dialog', 'dialogical', 'dialup', 'dialysis', 'diamond', 'diaspora', 'dib', 'dict', 'dictionary', 'didnt', 'die', 'died', 'diego', 'diesel', 'diet', 'dietary', 'dieter', 'dietmicrobiome', 'diff', 'diffeqfluxjl', 'diffeqjl', 'differ', 'difference', 'different', 'differentiable', 'differential', 'differentiating', 'differentiation', 'differently', 'difficult', 'difficulty', 'diffractive', 'dig', 'digging', 'digicert', 'digit', 'digital', 'digitally', 'digitalocean', 'digitaloceans', 'digitals', 'digitized', 'dijkstra', 'dilemma', 'dimagejs', 'dimension', 'diminishes', 'dine', 'diner', 'dinosaur', 'dioxide', 'diplomat', 'dire', 'direct', 'direct3d', 'directed', 'direction', 'directive', 'directly', 'director', 'directory', 'dirt', 'dirtcheap', 'dirty', 'disability', 'disable', 'disabled', 'disabling', 'disagree', 'disagreement', 'disappear', 'disappearance', 'disappointment', 'disappoints', 'disarray', 'disassembler', 'disaster', 'disastrous', 'discard', 'discarded', 'discharge', 'discipline', 'disciplined', 'disclose', 'discloses', 'disclosing', 'disclosure', 'disconnect', 'discontinue', 'discontinued', 'discontinuing', 'discord', 'discount', 'discourage', 'discourse', 'discover', 'discovered', 'discovering', 'discovers', 'discovery', 'discreet', 'discrete', 'discretetime', 'discriminate', 'discrimination', 'discriminatory', 'discus', 'discussed', 'discussing', 'discussion', 'disease', 'disembodied', 'disguised', 'disgusting', 'dish', 'dishonest', 'disinformation', 'disk', 'diskee', 'dismal', 'dismantling', 'dismisses', 'disney', 'disorder', 'disorderly', 'disparaged', 'disparity', 'dispatch', 'display', 'displaying', 'disproportionate', 'disputed', 'disqus', 'disregard', 'disrespect', 'disrupt', 'disrupted', 'disruption', 'disruptive', 'dissatisfaction', 'dissenter', 'dissident', 'dissolved', 'distance', 'distinguish', 'distinguished', 'distortionfree', 'distracted', 'distracting', 'distraction', 'distress', 'distributed', 'distribution', 'distributism', 'district', 'distro', 'distros', 'distrust', 'disturbing', 'ditch', 'ditched', 'ditching', 'dive', 'divebombing', 'diversion', 'diversity', 'diverted', 'divide', 'dividend', 'diving', 'division', 'divisionless', 'divisive', 'divisor', 'divorce', 'divs', 'dixon', 'diy', 'django', 'dji', 'djing', 'djis', 'dl', 'dll', 'dm1', 'dmca', 'dmcaed', 'dna', 'dnabased', 'dnaforcash', 'dnalinked', 'dnc', 'dns', 'dnscrypt', 'dnsoverhttps', 'dnsovertls', 'dnssec', 'do', 'doc', 'dock', 'dockcross', 'docker', 'dockerbased', 'dockerfile', 'dockerfiles', 'dockup', 'docli', 'doctor', 'document', 'documentary', 'documentation', 'documentdb', 'documenting', 'docusign', 'dod', 'dodge', 'dodgy', 'doe', 'doesnt', 'dog', 'dogma', 'doj', 'dokku', 'doldrums', 'dollar', 'dolly', 'dolphin', 'dom', 'domain', 'domainoriented', 'dome', 'dominance', 'dominate', 'domination', 'doms', 'donaghy', 'donald', 'donate', 'donates', 'donation', 'done', 'donor', 'donottrack', 'dont', 'doodle', 'doodling', 'doom', 'doomed', 'door', 'doordash', 'dopamine', 'doppelgängers', 'doppler', 'dopplerfi', 'dormant', 'dorsey', 'dose', 'dot', 'dotfile', 'dotfiles', 'dotnetfsharp', 'double', 'doubled', 'doubledecker', 'doubleentry', 'dough', 'douglas', 'dow', 'down', 'downfall', 'downgrade', 'downgraded', 'downgrading', 'downloaded', 'downloading', 'downloads', 'downplay', 'downside', 'downsized', 'downtown', 'downward', 'dox', 'doxygen', 'dozen', 'dr', 'draft', 'drafted', 'drafting', 'draganddrop', 'dragnet', 'dragon', 'dragonfly', 'dragontake', 'drain', 'drainage', 'drained', 'dram', 'dramatic', 'dramatically', 'drastic', 'drastically', 'draw', 'drawer', 'drawing', 'drawn', 'dread', 'dreaded', 'dream', 'dreamcastpowered', 'dreamed', 'dreamer', 'dreaming', 'dress', 'dried', 'drifting', 'drill', 'drink', 'drinker', 'drinking', 'drive', 'driven', 'driver', 'driverassist', 'driverkit', 'driverless', 'driving', 'drm', 'drogon', 'drone', 'droneuav', 'drop', 'dropbox', 'dropboxes', 'dropcss', 'dropgangs', 'dropin', 'droplet', 'dropout', 'dropped', 'dropping', 'drought', 'drowning', 'drug', 'drugmakers', 'drugresistant', 'drugstore', 'drunk', 'drying', 'dryio', 'ds160', 'ds260', 'dsl', 'dstat', 'dtrace', 'dual', 'dubious', 'duchamp', 'duck', 'duckduckgo', 'due', 'duke', 'dull', 'dumb', 'dumbass', 'dumber', 'dumbest', 'dump', 'dumping', 'dumpster', 'dunford', 'dungeon', 'dungeondelvexl', 'duo', 'duolingo', 'duopoly', 'duped', 'duplicate', 'durable', 'duration', 'dust', 'dust3d', 'dutch', 'dvc', 'dvd', 'dvorak', 'dwarf', 'dwave', 'dwelling', 'dy', 'dying', 'dynamic', 'dynamical', 'dynamically', 'dynamodb', 'dyneti', 'dysfunctional', 'dyson', 'dystopia', 'e', 'e3', 'e3dos', 'ea', 'eagle', 'ear', 'earlier', 'earliest', 'early', 'earlystage', 'earn', 'earned', 'earnest', 'earnings', 'earth', 'earthers', 'earthquake', 'earthquakegenerating', 'earthworm', 'ease', 'easier', 'easily', 'east', 'eastern', 'easy', 'easydns', 'easytouse', 'eat', 'eaten', 'eating', 'eats', 'eavesdropping', 'ebay', 'ebikes', 'ebola', 'ebook', 'ebpf', 'ebtrees', 'ebuses', 'ec', 'ec2', 'ecg', 'echo', 'eclipse', 'ecological', 'ecommerce', 'economic', 'economics', 'economist', 'economy', 'ecosia', 'ecosystem', 'ecuado', 'ecuador', 'ed', 'ed25519', 'edexui', 'edge', 'edgedb', 'edging', 'edinburgh', 'edison', 'edit', 'editable', 'editing', 'edition', 'editor', 'editorconfig', 'editorial', 'editoride', 'editorjs', 'edits', 'education', 'ee', 'eerily', 'eero', 'eff', 'effect', 'effective', 'effectiveness', 'efficiency', 'efficient', 'efficiently', 'efficientnet', 'effort', 'efi', 'efiling', 'egg', 'eglstreams', 'ego', 'egypt', 'egyptian', 'eiffel', 'eigengraus', 'eigenvectors', 'eight', 'eighteenthcentury', 'einstein', 'einsum', 'eisvogel', 'either', 'ejected', 'el', 'elaborate', 'elastic', 'elasticsearch', 'elayyan', 'elderly', 'elected', 'election', 'electionguard', 'electric', 'electrical', 'electriccar', 'electricity', 'electrify', 'electroconvulsive', 'electromagnetic', 'electromigration', 'electron', 'electronic', 'electronics', 'electrostatic', 'elegant', 'elegy', 'element', 'elementary', 'elephant', 'elevates', 'eleven', 'elf', 'eligible', 'eliminate', 'eliminating', 'elimination', 'elite', 'elixir', 'elizabeth', 'elliott', 'elliptic', 'elm', 'elmpowered', 'elon', 'elsa', 'else', 'elsevier', 'elusive', 'elwyn', 'em', 'emacs', 'email', 'emailharvesting', 'embargo', 'embassy', 'embeddable', 'embedded', 'embedder', 'embedding', 'embeddings', 'ember', 'embodied', 'embodies', 'embrace', 'embraced', 'embracing', 'embroidered', 'embryo', 'emerge', 'emergence', 'emergency', 'emergent', 'emerges', 'emerging', 'emission', 'emit', 'emits', 'emitted', 'emitting', 'emoji', 'emojis', 'emotion', 'emotional', 'empathy', 'emperor', 'empire', 'empirical', 'employed', 'employee', 'employer', 'employersponsored', 'employing', 'employmentbased', 'emptied', 'empty', 'emptying', 'emscripten', 'emu', 'emulate', 'emulation', 'emulator', 'enable', 'enabled', 'enables', 'enabling', 'encoded', 'encoder', 'encoding', 'encounter', 'encrypt', 'encrypted', 'encrypting', 'encryption', 'encrypts', 'encyclopedia', 'end', 'endanger', 'endangered', 'ended', 'endgame', 'ending', 'endless', 'endlessh', 'endlessly', 'endoflifedate', 'endofunctors', 'endorsed', 'endorses', 'endpoint', 'endtoend', 'endurance', 'enduring', 'enduser', 'enemy', 'energy', 'energyefficient', 'energyefficiently', 'energystorage', 'enforcement', 'engaged', 'engaging', 'engine', 'engineer', 'engineered', 'engineering', 'england', 'english', 'enhance', 'enhanced', 'enhancement', 'eniac', 'enigma', 'enjoy', 'enjoying', 'enlightenment', 'enlists', 'enormous', 'enough', 'enquire', 'enquirer', 'enrolled', 'enrolls', 'ensues', 'ensuring', 'enter', 'entered', 'entering', 'enterprise', 'enters', 'enthusiast', 'entire', 'entirely', 'entity', 'entrepreneur', 'entrepreneurism', 'entropic', 'entropy', 'entry', 'entrylevel', 'enviro', 'environment', 'environmental', 'environmentalist', 'envoy', 'enzyme', 'eo', 'eocene', 'eol', 'epa', 'eparticipation', 'ephemerand', 'epic', 'epidemic', 'epigenetic', 'epileptic', 'episode', 'episodic', 'epistemic', 'epoll', 'epyc', 'equal', 'equality', 'equation', 'equifax', 'equifaxstyle', 'equilibrium', 'equipment', 'equity', 'equivalent', 'er', 'era', 'eradicated', 'erased', 'erasing', 'erasure', 'erdos', 'ergonomics', 'eric', 'erica', 'erickson', 'erie', 'erlang', 'erodes', 'eroding', 'erroneously', 'error', 'errorcorrecting', 'eruption', 'erwin', 'escalates', 'escalation', 'escape', 'escaperoom', 'escapetime', 'escaping', 'escooters', 'esketamine', 'eslint', 'esoteric', 'esp32', 'esp8266', 'especially', 'espionage', 'esports', 'essay', 'essayist', 'essen', 'essence', 'essential', 'essentially', 'establish', 'estate', 'esteem', 'estimate', 'estimated', 'estimating', 'estimation', 'estonia', 'estonian', 'esy', 'etc', 'etcresolvconf', 'eternal', 'etf', 'ethereum', 'ethernet', 'ethic', 'ethical', 'ethically', 'ethicist', 'ethiopia', 'ethiopian', 'etiquette', 'etl', 'etrade', 'etruscan', 'ets', 'etsy', 'eu', 'euclid', 'eudora', 'euler', 'euphrates', 'euro', 'europa', 'europe', 'european', 'eurozone', 'euthanasia', 'euthanized', 'euwide', 'ev', 'evacuation', 'evade', 'evaluate', 'evaluated', 'evaluation', 'evaluator', 'evan', 'evangelist', 'evaporating', 'eve', 'even', 'event', 'eventdriven', 'eventful', 'eventually', 'ever', 'evercrypt', 'everest', 'evernote', 'evershrinking', 'every', 'everybody', 'everyone', 'everything', 'everytime', 'everywhere', 'eviction', 'evidence', 'evil', 'evolution', 'evolutionary', 'evolve', 'evolved', 'evolving', 'evoting', 'ew', 'ex', 'exact', 'exactitude', 'exaggerated', 'exam', 'examination', 'examine', 'examines', 'examining', 'example', 'exascale', 'exblackwater', 'exceeded', 'exceeding', 'exceeds', 'excel', 'except', 'exception', 'exceptionally', 'excerpt', 'excess', 'excessive', 'excessively', 'exchange', 'excia', 'excited', 'excluded', 'exclusive', 'exclusivity', 'excuse', 'exec', 'executable', 'executables', 'execute', 'executed', 'executes', 'executing', 'execution', 'executive', 'exempt', 'exercise', 'exfacebook', 'exfiltrate', 'exgooglers', 'exhaustion', 'exhaustive', 'exist', 'existence', 'existing', 'exists', 'exit', 'exiting', 'exmember', 'exmozilla', 'exodus', 'exoplanet', 'exoplanets', 'exotic', 'expanding', 'expands', 'expansibility', 'expansion', 'expect', 'expectancy', 'expectation', 'expected', 'expects', 'expedition', 'expel', 'expelled', 'expend', 'expendables', 'expends', 'expense', 'expensive', 'experience', 'experienced', 'experiencing', 'experiment', 'experimental', 'experimentation', 'experimenting', 'expert', 'expertise', 'expiration', 'expire', 'expired', 'explain', 'explainability', 'explained', 'explainer', 'explaining', 'explains', 'explanation', 'explanatory', 'explicitly', 'exploded', 'exploding', 'exploit', 'exploitation', 'exploited', 'exploiting', 'exploitresistant', 'exploration', 'explore', 'explorer', 'explores', 'exploring', 'explosion', 'explosive', 'expo', 'exponential', 'exported', 'exporting', 'expose', 'exposed', 'exposing', 'exposure', 'express', 'expressing', 'expression', 'exsecurity', 'extend', 'extendable', 'extended', 'extends', 'extensible', 'extension', 'extensive', 'extentions', 'external', 'extinct', 'extinction', 'extra', 'extracting', 'extraction', 'extradition', 'extramaze', 'extraordinary', 'extraterrestrial', 'extraterritoriality', 'extreme', 'extremely', 'extremism', 'exwm', 'exxon', 'exyoutube', 'eye', 'eyedisk', 'eyesight', 'eyewear', 'eyewitness', 'f', 'f1', 'f14', 'f18', 'f35', 'f35s', 'f5', 'f64', 'f91w', 'faa', 'faastjs', 'fabricated', 'face', 'facebook', 'facebooks', 'facerecognition', 'faceswap', 'facetime', 'facetoface', 'facial', 'facialrecognition', 'facilio', 'facilitate', 'facing', 'fact', 'factchecking', 'factor', 'factorization', 'factory', 'faculty', 'fad', 'fading', 'faeces', 'fahrenheit', 'fail', 'failed', 'failing', 'fails', 'failsafe', 'failure', 'fair', 'faire', 'fairing', 'fairly', 'fairy', 'fairylog', 'faith', 'fake', 'fakebook', 'faked', 'faking', 'falcon', 'fall', 'fallacy', 'fallen', 'falling', 'fallout', 'false', 'falsehood', 'falsely', 'falsifiable', 'falsificationism', 'fame', 'famed', 'familia', 'family', 'familytreedna', 'famous', 'fan', 'fancy', 'fandango', 'fantasia', 'fantastic', 'fantasy', 'faq', 'far', 'fare', 'farewell', 'fargate', 'fargo', 'farm', 'farmer', 'farming', 'farmnet', 'farrakhan', 'fascination', 'fashion', 'fast', 'fastai', 'fastapi', 'faster', 'fastest', 'fasting', 'fastly', 'fastmail', 'fastmoving', 'fat', 'fatal', 'fatalism', 'fatberg', 'fatboy', 'fate', 'fatelf', 'father', 'fathom', 'fatigue', 'fault', 'faulty', 'faunadb', 'faux', 'favela', 'favicon', 'favor', 'favored', 'favoring', 'favorite', 'favour', 'faxing', 'fb', 'fbi', 'fcc', 'fda', 'fear', 'fearbased', 'fearing', 'fearless', 'feast', 'feather', 'feature', 'featured', 'feb', 'february', 'fecal', 'feces', 'fed', 'federal', 'federated', 'fedex', 'fedora', 'fee', 'feed', 'feedback', 'feeding', 'feel', 'feeling', 'fell', 'fellow', 'felony', 'felt', 'female', 'fence', 'fend', 'fermat', 'fermentation', 'fermi', 'ferret', 'ferrock', 'ferry', 'fertility', 'fertilizer', 'festival', 'fests', 'fetal', 'fetish', 'feudal', 'fever', 'fewer', 'fewmaintainer', 'fex', 'feynman', 'ff', 'fff', 'ffi', 'ffmpeg', 'fh', 'fi', 'fiasco', 'fiat', 'fiber', 'fibonacci', 'fibre', 'fibrea', 'fiction', 'fictionalize', 'fido', 'fiduciary', 'field', 'fifteenyearold', 'fifth', 'fifty', 'fig', 'fight', 'fighting', 'figure', 'figured', 'file', 'filecoin', 'filed', 'filedisclose', 'fileless', 'filename', 'filesystem', 'filesystems', 'filing', 'fill', 'filled', 'filling', 'film', 'filmed', 'filter', 'filtering', 'final', 'finalised', 'finalist', 'finalizing', 'finally', 'finance', 'financed', 'financial', 'find', 'findchips', 'finder', 'finding', 'fine', 'fined', 'finetuned', 'finger', 'fingerprinting', 'fining', 'finished', 'finite', 'finland', 'finnish', 'fintech', 'fire', 'fireable', 'fireball', 'firebase', 'firecracker', 'fired', 'firefighter', 'firefox', 'firefoxnormandypreferencerollout', 'firefoxs', 'firehose', 'firestore', 'firewall', 'firing', 'firm', 'firmware', 'first', 'firstclass', 'firstever', 'firstorder', 'firstperson', 'firstquarter', 'fiscal', 'fish', 'fisher', 'fisherprice', 'fit', 'fitness', 'fitzgerald', 'five', 'fivedecadelong', 'fiverr', 'fiveseater', 'fivestar', 'fiveyear', 'fix', 'fixd', 'fixed', 'fixing', 'fixture', 'flag', 'flagged', 'flagship', 'flair', 'flaky', 'flappy', 'flare', 'flared', 'flash', 'flashing', 'flashrom', 'flaskbased', 'flat', 'flatfile', 'flatpak', 'flavor', 'flaw', 'flawed', 'fled', 'flee', 'fleecing', 'fleeing', 'fleet', 'flex', 'flexbox', 'flexgate', 'flexible', 'flickr', 'flight', 'flightcontrol', 'flightplanning', 'flightradar24', 'flink', 'flint', 'flip', 'flipbook', 'flipping', 'flipt', 'flirt', 'floating', 'flock', 'flood', 'flooded', 'flooding', 'floor', 'floppy', 'florence', 'florida', 'flow', 'flow9', 'flowbased', 'flowblade', 'flowchart', 'flower', 'flowlingo', 'floyd', 'fltrdr', 'flu', 'fluency', 'fluent', 'fluid', 'flummoxing', 'flush', 'flushable', 'flutter', 'flvtobiz', 'fly', 'flyer', 'flying', 'flyingv', 'flyover', 'fm', 'fma', 'fnm', 'fo', 'fob', 'focus', 'focused', 'focusing', 'foe', 'foia', 'foiled', 'fold', 'foldable', 'folder', 'folding', 'folk', 'folktale', 'follow', 'followed', 'follower', 'following', 'follows', 'followup', 'folly', 'font', 'food', 'fool', 'fooled', 'fooling', 'foolish', 'foot', 'footage', 'football', 'footnote', 'footpath', 'footprint', 'forbid', 'forbidden', 'force', 'forced', 'forcibly', 'forcing', 'ford', 'fordlandia', 'forecast', 'forecaster', 'forecasting', 'foreflight', 'foreign', 'foreigner', 'foreignowned', 'foreseen', 'forest', 'forever', 'forge', 'forget', 'forgets', 'forgettance', 'forgetting', 'forgiveness', 'forgot', 'forgotten', 'fork', 'forking', 'forklift', 'form', 'formal', 'formally', 'formallyverified', 'format', 'formation', 'formatpatch', 'formatter', 'formatting', 'formed', 'former', 'formerly', 'forming', 'formosan', 'formula', 'formulation', 'forprofit', 'forsen', 'fort', 'forth', 'forthbased', 'fortnite', 'fortran', 'fortress', 'fortune', 'forum', 'forward', 'forwardcom', 'fosdem', 'fossil', 'fossilized', 'foucault', 'fought', 'foul', 'found', 'foundation', 'foundationdb', 'founded', 'founder', 'founding', 'four', 'fourday', 'fourier', 'foursquare', 'fourteen', 'fourth', 'fouryear', 'fovea', 'fox', 'foxconn', 'foxconns', 'fp', 'fpga', 'fpgadnn', 'fpgas', 'frackers', 'fractal', 'fragile', 'fragment', 'fragmented', 'frame', 'framework', 'franca', 'france', 'francisco', 'franciscos', 'frank', 'frankenpad', 'frankfurt', 'frantic', 'fraud', 'fraudster', 'fraudulent', 'fraudulently', 'freaking', 'frederick', 'free', 'freebsd', 'freecad', 'freecivweb', 'freecodecamp', 'freediscounted', 'freedom', 'freedombox', 'freefall', 'freelance', 'freelancer', 'freelancercom', 'freelancing', 'freeman', 'freepascal', 'freesoftware', 'freeware', 'freeze', 'freight', 'french', 'frequency', 'frequent', 'frequently', 'fresh', 'freshly', 'fricas', 'friday', 'fried', 'friedrich', 'friend', 'friendly', 'friendship', 'frog', 'front', 'frontend', 'frontends', 'frontier', 'frosted', 'froze', 'frozen', 'fruit', 'frustrating', 'fseries', 'fswatch', 'fsync', 'ft', 'ftc', 'fuchsia', 'fuck', 'fucking', 'fuckjerry', 'fud', 'fuel', 'fueled', 'fuelling', 'fujifilm', 'fukushima', 'fulcro', 'fulfillment', 'full', 'fullcalendar', 'fuller', 'fullfeatured', 'fullflow', 'fullfullstack', 'fullmemory', 'fullproduction', 'fullscale', 'fullstack', 'fullsystem', 'fulltext', 'fulltime', 'fully', 'fun', 'function', 'functional', 'fund', 'fundamental', 'funded', 'funder', 'funding', 'fundraising', 'fungi', 'fungus', 'funnel', 'furor', 'furthest', 'fusion', 'fusuma', 'futhark', 'future', 'futurism', 'futuristic', 'fuzzbuzz', 'fuzzing', 'fuzzy', 'fvoid', 'fxmsp', 'fyne', 'fyre', 'g20', 'g5', 'ga', 'gab', 'gabe', 'gadget', 'gadgetbahn', 'gaia', 'gain', 'gained', 'gaining', 'galapagos', 'galaxy', 'galileo', 'gall', 'gallery', 'gallon', 'gamble', 'gambling', 'game', 'gameboy', 'gameboylive', 'gameday', 'gamepads', 'gamer', 'gamestorming', 'gaming', 'gamma', 'gan', 'gandul', 'gang', 'gans', 'gap', 'garbage', 'garden', 'garfield', 'garriott', 'gas', 'gaslighting', 'gasoline', 'gaspowered', 'gate', 'gatekeeper', 'gateway', 'gather', 'gathering', 'gatwick', 'gaudí', 'gaugan', 'gauss', 'gaussian', 'gave', 'gavin', 'gay', 'gazilliondollar', 'gb', 'gbatteries', 'gboard', 'gbps', 'gc', 'gcc', 'gcd', 'gchq', 'gcn', 'gcp', 'gdb', 'gdc', 'gdp', 'gdpr', 'ge', 'gear', 'geek', 'geekbench', 'geforce', 'gegl', 'geist', 'gellmann', 'gem', 'gen', 'gen11', 'gen4', 'gen8', 'gender', 'genderless', 'gene', 'genealogy', 'geneedited', 'geneediting', 'general', 'generalised', 'generalist', 'generalized', 'generally', 'generalpurpose', 'generate', 'generated', 'generates', 'generating', 'generation', 'generative', 'generativefm', 'generator', 'generic', 'genetic', 'genetically', 'genius', 'geniuscom', 'genocide', 'genode', 'genome', 'genomics', 'genre', 'gentle', 'gentrification', 'genx', 'geo', 'geoblocking', 'geocoordinates', 'geofencing', 'geoff', 'geoffrey', 'geographical', 'geography', 'geohash', 'geologic', 'geological', 'geometric', 'geometry', 'george', 'georgia', 'geospatial', 'geothermal', 'gerard', 'german', 'germany', 'gestalt', 'gestapo', 'gesture', 'get', 'getaround', 'getting', 'getty', 'gfile', 'gfu', 'gfwaas', 'gfx', 'ggplot', 'ghidra', 'ghosn', 'ghost', 'ghosted', 'ghostifi', 'ghosting', 'ghostscript', 'ghraib', 'ghz', 'gi', 'giant', 'gibney', 'gif2xlsx', 'gifs', 'gifted', 'giftedness', 'gig', 'gigabyte', 'gigafactory', 'gigantic', 'giistr', 'gil', 'gilbert', 'gilliam', 'gimlet', 'gimli', 'gimmick', 'gimp', 'gingivalis', 'ginsberg', 'ginseng', 'giraffe', 'girard', 'giridharadas', 'girl', 'girlfriend', 'git', 'git9', 'gita', 'github', 'githubs', 'gitin', 'gitlab', 'gitlabs', 'gitnews', 'gitprime', 'gitsignatures', 'give', 'given', 'givenwhenthen', 'giving', 'gke', 'glacier', 'gladwells', 'glamorous', 'glasgow', 'glass', 'glassdoor', 'glaxosmithkline', 'glfw', 'glibc', 'gliblike', 'glide', 'glimpse', 'glitch', 'glitching', 'global', 'globalization', 'globally', 'globalthis', 'globe', 'glossary', 'glove', 'glowing', 'glue', 'glut', 'glvalues', 'glyph', 'glyphosate', 'glyphosatebased', 'gm', 'gmail', 'gmos', 'gnome', 'gnu', 'gnucash', 'gnulinux', 'gnuplot', 'go', 'goahead', 'goal', 'goat', 'gobbling', 'gobi', 'gobike', 'god', 'godaddy', 'godaddys', 'goddamn', 'goddess', 'godfather', 'godot', 'godson3', 'goes17', 'gofundme', 'going', 'golang', 'gold', 'golden', 'goldman', 'goliath', 'golike', 'golinks', 'golunov', 'gomacro', 'gone', 'goo', 'good', 'goodbye', 'goodfellow', 'goof', 'google', 'googlefacebook', 'googlefree', 'googleoracle', 'googling', 'goosebump', 'gopenpgp', 'gopher', 'gopherspace', 'gopls', 'goretex', 'gorilla', 'goro', 'gossip', 'gost', 'gostyle', 'got', 'gothiccyberpunk', 'gotify', 'goto', 'gotten', 'gou', 'gouging', 'gov', 'governance', 'governed', 'government', 'governmentfriendly', 'governmentwide', 'governor', 'govt', 'gp6', 'gpipe', 'gpl', 'gps', 'gpsbased', 'gpt2', 'gpu', 'gpujs', 'gpupowered', 'gpus', 'gpusentry', 'gpuvideodecode', 'graaljs', 'graalvm', 'grab', 'grad', 'grade', 'grader', 'gradient', 'gradientflow', 'graduate', 'graduating', 'graduation', 'grafana', 'graffiti', 'graft', 'graham', 'grail', 'grain', 'grammar', 'grammarly', 'grand', 'grandfather', 'grandmother', 'grandpa', 'grandparent', 'grant', 'grantham', 'grape', 'grapesjs', 'graph', 'graph2vec', 'graphblas', 'graphene', 'graphenebased', 'grapheneos', 'graphic', 'graphical', 'graphicsmagick', 'graphique', 'graphite', 'graphiti', 'grapho', 'graphql', 'graphql2chartjs', 'grassland', 'grateful', 'grave', 'gravel', 'gravely', 'gravestone', 'gravitational', 'gravity', 'gray', 'graying', 'great', 'greater', 'greatest', 'greatfire', 'greed', 'greedy', 'green', 'greener', 'greenhouse', 'greenland', 'greenwich', 'gremlin', 'grep', 'grew', 'grid', 'gridscale', 'grilled', 'grim', 'grimoire', 'grin', 'grind', 'grindr', 'grindrs', 'grip', 'griping', 'gripper', 'grisp', 'grocer', 'grocery', 'groden', 'gropius', 'ground', 'grounded', 'grounding', 'groundwater', 'groundwork', 'group', 'grove', 'grover', 'grow', 'growing', 'grown', 'grownup', 'grows', 'growth', 'grpc', 'grumpy', 'grundig', 'gröbner', 'gtx', 'guantánamo', 'guarantee', 'guaranteed', 'guard', 'guardian', 'guatemalan', 'guerillaclickgmailcom', 'guerrilla', 'guess', 'guessed', 'guessing', 'guest', 'gui', 'guics', 'guidance', 'guide', 'guideline', 'guiding', 'guido', 'guids', 'guild', 'guilite', 'guilty', 'guin', 'guitar', 'guitarist', 'guix', 'gujarat', 'gum', 'gumroad', 'gun', 'gunfire', 'gunk', 'gunshot', 'gurdjieff', 'gut', 'gutenberg', 'gutted', 'guy', 'gwern', 'gwerns', 'gwyneth', 'gyllenhaal', 'gym', 'gynandromorph', 'gödel', 'gödels', 'gömböc', 'h', 'h1b', 'h2', 'h264', 'h4', 'habit', 'habitat', 'hack', 'hackable', 'hacked', 'hacker', 'hackernews', 'hackernoon', 'hackerone', 'hacking', 'hadoop', 'haiku', 'hailed', 'hair', 'haiti', 'half', 'halibut', 'hall', 'halley', 'hallmark', 'hallucination', 'halo', 'halt', 'halted', 'halting', 'halving', 'ham', 'hamilton', 'hamming', 'hanabi', 'hand', 'handbook', 'handbrake', 'handbrewing', 'handcuff', 'handful', 'handheld', 'handle', 'handling', 'handpainted', 'handpicked', 'handshake', 'handson', 'handsontable', 'handwriting', 'handy', 'hang', 'hanko', 'hannibal', 'hanoi', 'hanzi', 'happen', 'happened', 'happening', 'happens', 'happier', 'happiest', 'happily', 'happiness', 'happy', 'haproxy', 'harassed', 'harassing', 'harassment', 'harbor', 'hard', 'hardback', 'hardening', 'hardens', 'harder', 'hardest', 'hardly', 'hardship', 'hardware', 'hardwarebacked', 'hare', 'harm', 'harmful', 'harmless', 'harmonization', 'harmopark', 'harness', 'harold', 'harp', 'harry', 'harsh', 'hart', 'harvard', 'harvested', 'harvesting', 'hasan', 'hash', 'hashbrown', 'hashing', 'haskell', 'hasnt', 'hastings', 'hat', 'hatari', 'hate', 'hater', 'hathaway', 'haul', 'haunt', 'haunted', 'havent', 'haversine', 'havilland', 'havoc', 'hawaii', 'hawaiian', 'hawking', 'hayabusa2', 'hazardous', 'hbo', 'hbos', 'hcl', 'hdl', 'hdr', 'he', 'head', 'headache', 'headed', 'header', 'heading', 'headless', 'headlight', 'headline', 'headphone', 'headquarters', 'headset', 'healing', 'health', 'healthcare', 'healthier', 'healthiest', 'healthy', 'heap', 'hear', 'heard', 'hearing', 'heart', 'heat', 'heated', 'heater', 'heathrow', 'heatloving', 'heatmap', 'heatwave', 'heaven', 'heavily', 'heavilycommented', 'heavy', 'hedge', 'hedgefund', 'hedgehog', 'hedging', 'hefferon', 'heidisql', 'heightened', 'heir', 'heirloom', 'heist', 'held', 'helenos', 'helicopter', 'helicopterplane', 'helium', 'hell', 'hellish', 'hello', 'hellosign', 'helm', 'helmet', 'help', 'helped', 'helpful', 'helping', 'helplessness', 'helsinki', 'helvetica', 'hemingway', 'hemorrhaging', 'henry', 'henson', 'herbicide', 'herd', 'here', 'heritage', 'hermes', 'hermit', 'hermitux', 'hero', 'herodotus', 'heroin', 'heroku', 'herpes', 'hertz', 'hesitate', 'hewitt', 'hewlett', 'hex', 'hexagon', 'hexagonal', 'hexyl', 'hey', 'heyfromthefuture', 'hiatus', 'hid', 'hidden', 'hiddenwasp', 'hide', 'hiding', 'hierarchical', 'hierarchy', 'high', 'highdeductible', 'highend', 'higher', 'higherorder', 'higherrate', 'highest', 'highflying', 'highfrequency', 'highlevel', 'highlight', 'highlighter', 'highly', 'highperformance', 'highpowered', 'highquality', 'highrisk', 'highskilled', 'highspeed', 'hightax', 'hightech', 'highthroughput', 'highway', 'highwayhash', 'hijack', 'hijacked', 'hijacking', 'hike', 'hiked', 'hikikomori', 'hilarious', 'hilbert', 'hillshaded', 'hint', 'hinton', 'hip', 'hiphop', 'hipster', 'hirable', 'hire', 'hired', 'hiring', 'hiroyuki', 'hiseq', 'historian', 'historic', 'historical', 'history', 'hit', 'hitch', 'hitched', 'hitchhiker', 'hiten', 'hitman', 'hiv', 'hive', 'hk', 'hks', 'hledger', 'hn', 'hnacademy', 'hncynic', 'hnlike', 'hoard', 'hoarder', 'hoarding', 'hoare', 'hoax', 'hobbes', 'hobbling', 'hobby', 'hobbyhorse', 'hoffman', 'hold', 'holding', 'holdout', 'hole', 'holedark', 'holiday', 'hollywood', 'holmes', 'holocaust', 'holographic', 'hololens', 'holy', 'home', 'homebrew', 'homebuilt', 'homegrown', 'homeimprovement', 'homelab', 'homeland', 'homeless', 'homelessness', 'homepage', 'homework', 'homicide', 'hominin', 'homo', 'homogeneity', 'homomorphic', 'homosexuality', 'honda', 'honest', 'honesty', 'honey', 'honeypot', 'hong', 'honor', 'honorable', 'hood', 'hoofprint', 'hook', 'hooksbased', 'hookup', 'hope', 'hopkins', 'horgan', 'horizon', 'horowitz', 'horrified', 'horrifying', 'horror', 'horse', 'horsejs', 'horserace', 'hospital', 'host', 'hostage', 'hosting', 'hot', 'hotel', 'hotelling', 'hoteltonight', 'hotly', 'hotmail', 'hotspot', 'hotter', 'hottest', 'hour', 'hourly', 'house', 'household', 'houseplant', 'housing', 'howl', 'hp', 'hp7440a', 'hpv', 'hq', 'hr', 'ht', 'htc', 'htdp', 'html', 'html5', 'htmlcss', 'http', 'http2', 'http3', 'httphttps', 'httprest', 'huawei', 'huaweis', 'hub', 'hubble', 'hubrif', 'hubris', 'hud', 'hudson', 'huge', 'hugely', 'hughes', 'hugo', 'hugsql', 'huh', 'hulk', 'hulst', 'hulu', 'humaaans', 'human', 'humane', 'humanity', 'humanlevel', 'humanmade', 'humble', 'humiliation', 'humility', 'hundred', 'hundredtonne', 'hung', 'hungary', 'hungry', 'hunt', 'hunter', 'hunting', 'hurling', 'hurricane', 'hurt', 'hurting', 'husband', 'hushing', 'hustle', 'hustling', 'hutchins', 'hw3', 'hybrid', 'hydra', 'hydraulic', 'hydro', 'hydrocarbondegrading', 'hydrogen', 'hype', 'hyper', 'hyperbole', 'hypercalls', 'hypercard', 'hypercasual', 'hypercubebased', 'hyperlink', 'hyperparameter', 'hyperscan', 'hyperscans', 'hypersonic', 'hyperspace', 'hyperspecialist', 'hypertargeting', 'hypertext', 'hyperthreading', 'hypertrophy', 'hyperv', 'hypervisor', 'hyphenation', 'hypothesis', 'hysteria', 'hyundai', 'hörst', 'i', 'i3en', 'i99900k', 'i99900ks', 'i99990xe', 'ia', 'iab', 'iam', 'ian', 'iberia', 'ibiza', 'ibm', 'ibms', 'icann', 'icanns', 'icd10', 'ice', 'iceberg', 'icecast', 'icecream', 'iceland', 'icloud', 'icloudlocked', 'ico', 'icon', 'iconic', 'iconoclast', 'iconsvg', 'icy', 'id', 'id3', 'idaho', 'ide', 'idea', 'ideal', 'ideation', 'idempotence', 'identical', 'identifiable', 'identification', 'identified', 'identifier', 'identifies', 'identify', 'identifying', 'identity', 'ideology', 'idera', 'ides', 'idiomatic', 'idiot', 'idle', 'ie', 'ie6', 'ied', 'ieee', 'ifixit', 'iframes', 'ifttt', 'ignition', 'ignore', 'ignored', 'ignores', 'ignoring', 'ii', 'iii', 'iir', 'ike', 'ikea', 'ikonate', 'ill', 'illegal', 'illegally', 'illinois', 'illiterate', 'illness', 'illumination', 'illusion', 'illustrated', 'illustrating', 'illustration', 'ilya', 'im', 'imac', 'image', 'imagemagick', 'imagenet', 'imagery', 'imaginary', 'imagined', 'imagining', 'imap', 'imdb', 'imei', 'imgsquash', 'imgui', 'imitation', 'immediate', 'immersive', 'immigrant', 'immigration', 'immortaldb', 'immune', 'immunooncology', 'immutability', 'immutable', 'impact', 'impacted', 'impactful', 'impaired', 'impairs', 'impassable', 'imperative', 'imperial', 'imperils', 'impersonating', 'implanted', 'implausible', 'implement', 'implementation', 'implemented', 'implementing', 'implementor', 'implicated', 'implication', 'implicit', 'implies', 'import', 'importance', 'important', 'imported', 'importer', 'importing', 'imposes', 'impossibility', 'impossible', 'impotent', 'impress', 'impression', 'improbable', 'improperly', 'improve', 'improved', 'improvement', 'improves', 'improving', 'imsi', 'inaccessible', 'inaccurate', 'inactivate', 'inadequate', 'inapp', 'inauthentic', 'inbox', 'inc', 'incarcerated', 'incentivizes', 'inception', 'incident', 'include', 'included', 'including', 'inclusive', 'incognita', 'incognito', 'income', 'incomesharing', 'incoming', 'incompleteness', 'incomprehensible', 'incorrect', 'incorrectly', 'increase', 'increased', 'increasing', 'increasingly', 'incredible', 'incremental', 'incrementally', 'incurable', 'indash', 'indeed', 'indemand', 'independence', 'independent', 'index', 'indexing', 'india', 'indian', 'indicate', 'indicator', 'indico', 'indicted', 'indictment', 'indie', 'indigenous', 'indigo', 'individual', 'individualism', 'indonesia', 'inducted', 'industrial', 'industry', 'industryfunded', 'indy', 'inedible', 'ineffective', 'inefficient', 'inequality', 'inequitable', 'inertial', 'inescapable', 'inevitability', 'inevitable', 'inevitably', 'inexpensive', 'inf', 'infant', 'infantry', 'infastructure', 'infect', 'infected', 'infection', 'infects', 'inference', 'inferential', 'inferring', 'infinite', 'infinitely', 'infirmity', 'inflammation', 'inflate', 'inflated', 'inflating', 'influence', 'influencer', 'influencers', 'influencing', 'influential', 'influxdb', 'info', 'infocom', 'inform', 'information', 'informed', 'infosec', 'infosucking', 'infotainment', 'infowars', 'infrared', 'infrastructural', 'infrastructure', 'infringement', 'ing', 'ingalls', 'ingame', 'ingest', 'ingesting', 'ingestion', 'ingres', 'inheritance', 'inherited', 'inheriting', 'inhouse', 'inhumanely', 'initial', 'initialization', 'initializing', 'initiate', 'initiative', 'inject', 'injectable', 'injected', 'injecting', 'injection', 'injury', 'inkernel', 'inkjet', 'inkscape', 'inlet', 'inline', 'inlined', 'inmate', 'inmemory', 'inn', 'innative', 'inner', 'innocence', 'innovation', 'innovative', 'inperson', 'inproduct', 'input', 'insane', 'insect', 'insecure', 'insecurity', 'insertion', 'inside', 'insider', 'insidertrading', 'insight', 'insolvency', 'insomnia', 'inspection', 'inspector', 'inspiration', 'inspired', 'inspires', 'instacart', 'instagram', 'install', 'installation', 'installer', 'installing', 'installs', 'instance', 'instant', 'instantaneous', 'instantbox', 'instantly', 'instead', 'institution', 'institutional', 'instruction', 'instrument', 'insulator', 'insulin', 'insurance', 'insurer', 'insurgent', 'intake', 'integer', 'integrate', 'integrated', 'integration', 'integrative', 'integrity', 'intel', 'intellectual', 'intellicode', 'intelligence', 'intelligent', 'intelligible', 'intellij', 'intellisense', 'intels', 'intelsat', 'intended', 'intense', 'intensity', 'intentionally', 'inter', 'interact', 'interaction', 'interactive', 'interactively', 'interactives', 'intercept', 'interception', 'intercom', 'interdisciplinary', 'interest', 'interested', 'interesting', 'interface', 'interfacing', 'interference', 'interior', 'interleaved', 'intermediate', 'intern', 'internal', 'internally', 'internals', 'international', 'internet', 'internetconnected', 'internetfree', 'internship', 'interoperability', 'interpolated', 'interpretation', 'interpreter', 'interpreting', 'interrogator', 'interrupt', 'interrupted', 'interruption', 'interstellar', 'interval', 'intervention', 'interview', 'interviewed', 'interviewer', 'interviewing', 'interviewoffer', 'intimacy', 'intimate', 'intimidating', 'intranasal', 'intrinsic', 'intrinsically', 'intro', 'introduce', 'introduced', 'introduces', 'introducing', 'introduction', 'introvert', 'intruder', 'intuit', 'intuitive', 'inuit', 'invader', 'invades', 'invading', 'invariant', 'invasion', 'invasive', 'invent', 'invented', 'invention', 'inventor', 'inventory', 'inverse', 'inversion', 'inverted', 'inverts', 'inverview', 'invest', 'invested', 'investigate', 'investigating', 'investigation', 'investigative', 'investigator', 'investing', 'investment', 'investor', 'invests', 'invigorating', 'invisible', 'invokes', 'involuntary', 'involved', 'involvement', 'involving', 'io', 'ioannidis', 'iocaine', 'iodide', 'iommu', 'ionic', 'iooptimized', 'iosubmit', 'iot', 'iouring', 'iowa', 'ip', 'ipad', 'ipados', 'ipfs', 'ipfsdeploy', 'iphone', 'iphones', 'ipo', 'ipod', 'ipsum', 'iptables', 'ipv4', 'ipv6', 'ipython', 'iq', 'ir', 'ira', 'iran', 'irancontra', 'iranian', 'iraqi', 'irc', 'ireland', 'iridium', 'iris', 'irish', 'irobot', 'iron', 'ironman', 'irony', 'irregular', 'irrelevant', 'irritable', 'irs', 'irssi', 'isa', 'isaac', 'isbns', 'isk', 'islam', 'island', 'islisp', 'isnt', 'iso', 'isoiec', 'isolated', 'isolates', 'isolating', 'isolation', 'isometric', 'isometricsass', 'isomorphic', 'isomorphism', 'isp', 'isps', 'israel', 'israeli', 'isrg', 'issue', 'issued', 'issuing', 'istio', 'italy', 'itanium', 'itaniums', 'itchio', 'iterative', 'iterator', 'iterm2', 'itinerant', 'itunes', 'ivan', 'ive', 'iwerks', 'ix', 'j', 'j2cl', 'jab', 'jabber', 'jabra', 'jack', 'jackie', 'jackpot', 'jackson', 'jacobin', 'jaffa', 'jahres', 'jail', 'jailbreaking', 'jailed', 'jakarta', 'jam', 'james', 'jammed', 'jamstack', 'jan', 'jane', 'janeiro', 'janet', 'janetsh', 'janissary', 'jankest', 'january', 'japan', 'japanbuilt', 'japanese', 'japanology', 'jargon', 'jarvis', 'jason', 'java', 'javascript', 'javascriptbased', 'javascriptfree', 'jazeera', 'jazz', 'jd', 'jeanpaul', 'jeff', 'jello', 'jem', 'jena', 'jenkins', 'jepsen', 'jeremy', 'jerk', 'jerry', 'jest', 'jet', 'jetblue', 'jetbrains', 'jetpack', 'jetson', 'jetstream', 'jettisoned', 'jewel', 'jewelry', 'jewish', 'jez', 'jfk', 'ji32k7au4a83', 'jillette', 'jim', 'jime', 'jinping', 'jinpings', 'jit', 'jitk', 'jitless', 'jk', 'jlua', 'jmap', 'job', 'joe', 'johan', 'john', 'johnson', 'join', 'joined', 'joiner', 'joining', 'joint', 'joke', 'jolt', 'jon', 'jones', 'jose', 'josiah', 'journal', 'journalbook', 'journalism', 'journalist', 'journey', 'joy', 'joyent', 'jp', 'jpeg', 'jpegs', 'jpl', 'jpm', 'jquery', 'jrpgs', 'jsfiddle', 'jsmpeg', 'json', 'json2graphql', 'jsonnet', 'jsonpath', 'jsx', 'jtag', 'jtools', 'judge', 'judgment', 'judicial', 'juggernaut', 'juice', 'julia', 'julian', 'july', 'jumbo', 'jumia', 'jump', 'jumping', 'june', 'jungle', 'junior', 'junk', 'jupyter', 'jupyterhub', 'jupyterlab', 'jurisdiction', 'jury', 'justaddcss', 'justice', 'justification', 'justintime', 'jvm', 'k', 'k3s', 'k7', 'k8s', 'kaboom', 'kafka', 'kaggle', 'kaggledays', 'kaios', 'kaist', 'kakapo', 'kakoune', 'kaldi', 'kalman', 'kandinsky', 'kansa', 'kanye', 'kanyerest', 'kaplan', 'kardach', 'karen', 'karma', 'karmic', 'karpeles', 'katex', 'katherine', 'katie', 'kató', 'kay', 'kb', 'kde', 'kdenlive', 'keaton', 'kedro', 'keep', 'keepalive', 'keepasscom', 'keepassxc', 'keeper', 'keeping', 'keith', 'kelly', 'ken', 'kenneth', 'kenya', 'kenyan', 'kep', 'kept', 'kera', 'kerfuffle', 'kernel', 'kernelbypass', 'ketamine', 'key', 'keybase', 'keybases', 'keyboard', 'keychain', 'keydb', 'keyhole', 'keyloggers', 'keymaps', 'keynote', 'keystores', 'keyup', 'keyvalue', 'keyword', 'keywords', 'kgb', 'khashoggi', 'khosla', 'kicad', 'kick', 'kickback', 'kicked', 'kicking', 'kickstarter', 'kid', 'kiddie', 'kidfluencers', 'kidnapped', 'kidnapping', 'kik', 'kikuno', 'kill', 'killed', 'killer', 'killing', 'kilo', 'kilobyte', 'kilogram', 'kilometer', 'kim', 'kind', 'kindness', 'king', 'kingdom', 'kingpin', 'kirby', 'kirkland', 'kit', 'kitchen', 'kite', 'kittson', 'klee', 'kleiner', 'klotho', 'kmeans', 'knew', 'knife', 'knitted', 'knitting', 'knock', 'knockoff', 'knoppix', 'knot', 'know', 'knowing', 'knowitalls', 'knowledge', 'known', 'knuth', 'koan', 'koarouter', 'kodaks', 'kofola', 'kohl', 'kolmogorov', 'komarov', 'kombat', 'komiser', 'komodo', 'kondos', 'kong', 'kono', 'konstellate', 'kontiki', 'koonchi', 'korea', 'korean', 'kotlin', 'kph', 'kraken', 'krautflare', 'krita', 'kroki', 'kroll', 'kryofluxing', 'ksql', 'kubeadm', 'kubernetes', 'kuhn', 'kuleshov', 'kurt', 'kurzweil', 'kustomize', 'kuznyechik', 'kv', 'kvm', 'kwin', 'kyboad', 'kyoto', 'l', 'l3', 'l4', 'l4linux', 'la', 'lab', 'label', 'labeled', 'labeler', 'labeling', 'labellers', 'labgrown', 'labor', 'laboratory', 'labour', 'labourisation', 'labyrinth', 'lack', 'lacked', 'ladder', 'lady', 'ladybug', 'lafayette', 'lag', 'laguna', 'laid', 'laidoff', 'lake', 'lambda', 'lance', 'land', 'lander', 'landing', 'landlord', 'landmark', 'landscape', 'lane', 'langauge', 'langtons', 'language', 'language2sql', 'languageagnostic', 'languageoriented', 'languageparadigm', 'lanka', 'lannister', 'lantern', 'lapis', 'lapse', 'laptop', 'lard', 'large', 'largely', 'larger', 'largescale', 'largest', 'larissa', 'larry', 'laser', 'last', 'lasting', 'lastpass', 'latchel', 'late', 'lately', 'latency', 'latenight', 'later', 'latest', 'latex', 'latexbased', 'lathe', 'latte', 'lattice', 'lattner', 'lauda', 'laugh', 'launch', 'launched', 'launcher', 'launching', 'laundered', 'laundering', 'laundromat', 'laundry', 'laundryfolding', 'lavish', 'law', 'lawmaker', 'lawsuit', 'lawyer', 'lax', 'lay', 'layer', 'laying', 'layoff', 'layout', 'layover', 'lazarus', 'lazuli', 'lazy', 'lazyloading', 'lazyworm', 'lbr', 'lc0', 'lcd', 'ldpreload', 'le', 'lead', 'leadcrime', 'leader', 'leaderless', 'leadership', 'leading', 'leaf', 'leafletjs', 'league', 'leak', 'leakage', 'leaked', 'leaking', 'leaky', 'lean', 'leap', 'leapfrog', 'learn', 'learned', 'learner', 'learning', 'learningusing', 'learns', 'learnt', 'lease', 'leasebased', 'leash', 'least', 'leather', 'leave', 'leaving', 'lebron', 'lecture', 'lecun', 'led', 'ledger', 'leech', 'leetcode', 'left', 'lefthandedness', 'leftwing', 'leg', 'legacy', 'legal', 'legalization', 'legalize', 'legalized', 'legend', 'legging', 'legibility', 'legible', 'legion', 'legislation', 'legit', 'legitimacy', 'lego', 'leibowitz', 'leica', 'leisure', 'lem', 'lemmy', 'lemon', 'lena', 'lending', 'length', 'lenovo', 'lens', 'leon', 'leonardo', 'leonhard', 'leopard', 'lesserknown', 'lesson', 'lessonslearned', 'let', 'lethal', 'letsencrypt', 'letter', 'letterboxing', 'letting', 'leukemia', 'levee', 'level', 'levelsfyi', 'leverage', 'leveraging', 'levitate', 'lewis', 'lexer', 'lexical', 'lfortran', 'lhc', 'lhcb', 'li', 'liable', 'liar', 'lib', 'libc', 'libdivide', 'libel', 'liberal', 'liberapay', 'liberate', 'libgen', 'libmill', 'librarian', 'library', 'libre', 'librefox', 'librem', 'libreoffice', 'libsodium', 'libssh2', 'license', 'licensed', 'licenseplate', 'licensing', 'lichess', 'licking', 'lidar', 'lie', 'lied', 'life', 'lifelike', 'lifelong', 'lifestyle', 'lifetime', 'lift', 'lifting', 'lifx', 'ligature', 'light', 'lightbulb', 'lighter', 'lighting', 'lightning', 'lighttpd', 'lightweight', 'ligo', 'like', 'liked', 'likelihood', 'likely', 'likeuse', 'lilium', 'limbic', 'lime', 'limit', 'limited', 'limiter', 'limiting', 'limor', 'lin', 'line', 'lineage', 'lineageos', 'linear', 'linen', 'lineofcode', 'lineup', 'linger', 'lingua', 'linguist', 'linguistic', 'linjat', 'link', 'linked', 'linkedin', 'linker', 'linkerd', 'linking', 'linksys', 'linter', 'linus', 'linux', 'linuxbased', 'lion', 'lionsgate', 'liquid', 'lisa', 'liskov', 'lisp', 'lispos', 'list', 'listed', 'listen', 'listened', 'listener', 'listening', 'listing', 'lite', 'litecli', 'literature', 'lithium', 'lithiumion', 'litigation', 'littered', 'little', 'littleknown', 'littlenoticed', 'littlevgl', 'live', 'lived', 'livejournal', 'liverpool', 'livestream', 'liveview', 'living', 'livox', 'lkh', 'llc', 'llvm', 'llvmmca', 'load', 'loadbearing', 'loaded', 'loading', 'loan', 'lobbied', 'lobby', 'lobbying', 'lobbyist', 'lobster', 'loc', 'local', 'localfirst', 'localhost', 'localization', 'locally', 'locallystored', 'locast', 'locate', 'location', 'locationdata', 'lock', 'lockbox', 'lockdown', 'locked', 'lockfree', 'lockheed', 'lockin', 'locking', 'lofi', 'log', 'logbased', 'loggedin', 'logger', 'logging', 'logic', 'logical', 'login', 'logins', 'logipedia', 'logistic', 'logistics', 'loglisp', 'logo', 'lomb', 'lombok', 'london', 'londonbased', 'lone', 'loneliness', 'lonely', 'long', 'longer', 'longest', 'longevity', 'longrange', 'longstanding', 'longterm', 'look', 'looked', 'looker', 'looking', 'lookup', 'looming', 'loop', 'loophole', 'loopy', 'loosely', 'loot', 'lopdf', 'lora', 'lord', 'lordz', 'lorem', 'los', 'lose', 'loses', 'losing', 'loss', 'lossless', 'lost', 'lot', 'lottery', 'loud', 'louder', 'loudspeaker', 'louis', 'louisville', 'loulou', 'lousy', 'love', 'loved', 'lovelorn', 'lover', 'loving', 'low', 'lowbudget', 'lowcode', 'lowcost', 'lowdown', 'lowearth', 'lowemissions', 'lower', 'lowered', 'lowest', 'lowgrowth', 'lowincome', 'lowinflation', 'lowkey', 'lowlatency', 'lowlevel', 'lowpaid', 'lowquality', 'lowrate', 'lowskill', 'lowstakes', 'lowtax', 'lowtech', 'lox', 'loyal', 'loyalist', 'lp', 'lpcnet', 'lru', 'lsd', 'lsm', 'ltclippygt', 'lte', 'lto8', 'lts', 'lua', 'luajit', 'luakit', 'lucet', 'luck', 'lucky', 'ludwig', 'lufthansa', 'luggage', 'lularoe', 'lumotive', 'luna', 'lunar', 'lunch', 'lung', 'lupin', 'lure', 'lurk', 'luster', 'luxembourg', 'luxury', 'lvalues', 'lvc', 'lyft', 'lyfts', 'lying', 'lymphoma', 'lyndon', 'lynx', 'lyric', 'lz', 'm', 'm16', 'm3', 'mac', 'macau', 'macbook', 'macbooks', 'macehead', 'macfarquhar', 'machina', 'machine', 'machinecode', 'machinelearning', 'mackenzie', 'macos', 'macro', 'macroeconomics', 'macrostrat', 'mad', 'maddening', 'made', 'madeup', 'madness', 'madrid', 'mafia', 'mag', 'magazine', 'magellanic', 'magic', 'magician', 'magicthe', 'magit', 'maglev', 'magma', 'magnesium', 'magnet', 'magnetic', 'magnetism', 'magnificent', 'magnitude', 'magyar', 'maiden', 'mail', 'mailchimp', 'maildown', 'mailman', 'mailorder', 'main', 'maine', 'mainframe', 'mainland', 'mainly', 'mainstream', 'maintain', 'maintainable', 'maintainer', 'maintaining', 'maintenance', 'major', 'majority', 'make', 'makecode', 'makefiles', 'maker', 'makerfriendly', 'makerlisp', 'making', 'malaria', 'malaysia', 'malaysian', 'malcolm', 'male', 'mali', 'malicious', 'mall', 'malloc', 'mallocfree', 'malt', 'malthusian', 'malware', 'malwaretech', 'mammal', 'mammalian', 'mammoth', 'man', 'manage', 'managed', 'management', 'manager', 'managing', 'manchun', 'mandarin', 'mandate', 'mandelbrot', 'mandrill', 'mandya', 'manga', 'manhattan', 'manhole', 'mania', 'manifest', 'manifesto', 'manifold', 'manim', 'manipulate', 'manipulates', 'manipulating', 'manipulation', 'manmade', 'manning', 'mannings', 'manoeuvring', 'mansa', 'mansion', 'manual', 'manuallycurated', 'manufacturable', 'manufacturing', 'manuscript', 'many', 'manyvalued', 'map', 'mapipedia', 'maple', 'mapmakers', 'mapmerge', 'mapped', 'mapping', 'mapr', 'mar', 'maralago', 'marathon', 'marble', 'marc', 'marcel', 'march', 'marcher', 'marching', 'marcus', 'margarine', 'margin', 'maria', 'mariadb', 'mariana', 'marie', 'marijuana', 'marine', 'mario', 'marion', 'marissa', 'maritime', 'mark', 'markdeck', 'markdown', 'marker', 'market', 'marketing', 'marketplace', 'markov', 'markovkeyboard', 'markup', 'marlborough', 'marp', 'marquis', 'marriage', 'marriott', 'martin', 'marvel', 'marvell', 'marvin', 'mary', 'maryland', 'marzipan', 'masahiro', 'masayoshi', 'masculinity', 'mask', 'masking', 'mass', 'massachusetts', 'massacre', 'massive', 'master', 'mastercard', 'masterclass', 'mastering', 'mastermind', 'mastodon', 'mat', 'match', 'matcher', 'matching', 'matchmaker', 'mate', 'mateo', 'material', 'math', 'mathematica', 'mathematical', 'mathematician', 'mathematics', 'mathexpm1', 'mathics', 'mathigon', 'mathilde', 'mathml', 'mathoverflow', 'mating', 'matisse', 'matlab', 'matlabs', 'matplotlib', 'matrix', 'matrixorg', 'matrixprofilets', 'matrox', 'matter', 'matterantimatter', 'mattermost', 'mattress', 'maturity', 'matz', 'maven', 'max', 'maximize', 'maximum', 'maxwell', 'may', 'maya', 'maybe', 'mayer', 'maze', 'mazesolving', 'mb', 'mba', 'mcas', 'mccarthy', 'mcclatchy', 'mcconnell', 'mcdonald', 'mcdonalds', 'mckinsey', 'mcnamee', 'mcnugget', 'mcsema', 'mcu', 'md', 'mdio', 'mdls', 'mdm', 'mdma', 'mdt9100', 'meal', 'mean', 'meaning', 'meaningful', 'meaningless', 'meant', 'measles', 'measure', 'measured', 'measuring', 'meat', 'meatfree', 'meatless', 'mechanic', 'mechanical', 'mechanised', 'mechanism', 'med', 'medal', 'medalwinning', 'median', 'mediated', 'medical', 'medicare', 'medication', 'medicine', 'medieval', 'meditation', 'mediterranean', 'medium', 'meduza', 'meeker', 'meet', 'meeting', 'meetup', 'meetups', 'megabreach', 'megapixel', 'megapode', 'meghan', 'meiyu', 'melanoma', 'melatonin', 'melinda', 'mellanox', 'mellon', 'melody', 'melt', 'meltdown', 'melted', 'melting', 'member', 'membership', 'memcached', 'meme', 'memo', 'memoir', 'memoization', 'memory', 'memoryefficient', 'memorymanagement', 'memorymapped', 'memorystorage', 'memristor', 'memsetting', 'men', 'mend', 'mendeley', 'menger', 'menstrual', 'menstruation', 'mental', 'mentalist', 'mentally', 'mention', 'mentor', 'mentoring', 'mentorship', 'menu', 'meps', 'mercenary', 'merchant', 'mercury', 'mere', 'merge', 'merged', 'merger', 'meritbased', 'meritocracy', 'merlin', 'mermaid', 'merritt', 'merryman', 'mesa', 'mescaline', 'mesh', 'meshroom', 'mesopotamian', 'mess', 'message', 'messageoriented', 'messaging', 'messed', 'messenger', 'messing', 'met', 'meta', 'metaanalysis', 'metabase', 'metabolism', 'metadata', 'metadataprivate', 'metadataresistant', 'metal', 'metalearners', 'metallic', 'metallurgy', 'metamaterial', 'metamath', 'metamorphic', 'metaphor', 'metaprogramming', 'metareinforcement', 'metasploit', 'metatron', 'meteorite', 'meteorologist', 'meth', 'methane', 'methanol', 'method', 'methodology', 'methodshackstips', 'metric', 'metropolis', 'metrotube', 'meundies', 'mexican', 'mexico', 'mfsk', 'miami', 'mic', 'michael', 'michelin', 'mick', 'mickey', 'micro', 'microamp', 'microarchitectural', 'microarchitecture', 'microbe', 'microbial', 'microbiome', 'microbiota', 'microbit', 'microbots', 'microchip', 'microcode', 'microcomputer', 'microcontroller', 'microcontrollers', 'microdosing', 'microengine', 'microframework', 'microg', 'microhydro', 'microkernel', 'micromechanical', 'micropayments', 'microphone', 'microplastics', 'microprocessor', 'micropromotions', 'micropython', 'microsd', 'microservice', 'microservices', 'microsimulation', 'microsoft', 'microsofts', 'microsystems', 'microtonal', 'microtransactions', 'microwasm', 'microwave', 'microworkers', 'mid', 'mid40', 'midcentury', 'middle', 'middleclass', 'middleman', 'midi', 'midlevel', 'midpoint', 'midrange', 'midway', 'midwife', 'miegakure', 'might', 'mighty', 'migrant', 'migrate', 'migrates', 'migrating', 'migration', 'mike', 'mild', 'mile', 'milestone', 'military', 'milk', 'milkshake', 'milky', 'mill', 'millennial', 'millennials', 'millennium', 'milling', 'million', 'millionaire', 'milliwatt', 'milo', 'milton', 'mimblewimble', 'mimetic', 'mimic', 'minard', 'mind', 'mindcontrolled', 'mindfulness', 'mindwandering', 'mine', 'minecraft', 'minefield', 'mineral', 'minetimeai', 'minhaj', 'mini', 'miniature', 'minidumps', 'minigrids', 'miniintroduction', 'minimal', 'minimalism', 'minimalist', 'minimally', 'minimize', 'minimum', 'minimumwage', 'mining', 'minister', 'ministry', 'ministx', 'minix', 'minnesota', 'minnow', 'minor', 'minority', 'minr', 'mint', 'mintable', 'minus', 'minute', 'minya', 'mips', 'miracle', 'miri', 'mirror', 'mirrorless', 'mirrorworld', 'misadventure', 'misconception', 'misconduct', 'miserable', 'misfired', 'misfortune', 'misinformation', 'misinformed', 'misissuance', 'misissue', 'misjudged', 'misjudgment', 'mislay', 'mislead', 'misleading', 'misled', 'miss', 'missed', 'missile', 'missing', 'mission', 'missouri', 'mistake', 'mistaken', 'mistakenly', 'misunderstanding', 'misunderstood', 'misuse', 'misuseresistant', 'misusing', 'mit', 'mitchell', 'mite', 'mitigate', 'mitigating', 'mitigation', 'mitm', 'mitochondrial', 'mitochondrion', 'mitski', 'mix', 'mixandmatch', 'mixed', 'mixedreality', 'mixer', 'mixing', 'mixtureofexperts', 'mjøsa', 'mkcert', 'ml', 'mla', 'mljar', 'mlm', 'mmap', 'mmd', 'mmo', 'mmt', 'moa', 'moat', 'mob', 'mobile', 'mobilehome', 'mochi', 'mocked', 'mockingbird', 'mockit', 'modal', 'modchips', 'modding', 'mode', 'model', 'modeler', 'modelines', 'modeling', 'modelingtoolkitjl', 'modelling', 'modem', 'moderator', 'modern', 'modification', 'modified', 'modify', 'modular', 'module', 'modus', 'mold', 'molding', 'molecular', 'molecule', 'moloch', 'molotovribbentrop', 'molten', 'mom', 'moment', 'momentum', 'mommy', 'momo3', 'monad', 'monarch', 'monday', 'monetary', 'monetize', 'monetized', 'monetizing', 'money', 'moneyback', 'moneylaundering', 'moneymaking', 'mongodb', 'monism', 'monitor', 'monitored', 'monitoring', 'monk', 'monkey', 'monoculture', 'monoid', 'monoidal', 'monoids', 'monolith', 'monolithic', 'monopoly', 'monorepo', 'monorepos', 'monospace', 'monotonicity', 'monotype', 'monsanto', 'monster', 'monstrous', 'monte', 'month', 'monthly', 'monument', 'monzo', 'moocs', 'mood', 'moody', 'moon', 'moonscript', 'moonshot', 'moore', 'moot', 'moral', 'moralizing', 'morally', 'morehouse', 'morgan', 'moritz', 'mormon', 'morning', 'morrell', 'morris', 'morse', 'mortal', 'mortality', 'mortem', 'mortgage', 'mosaic', 'moscow', 'mosquito', 'mossad', 'mostconsumed', 'mostly', 'mostshared', 'mosuo', 'motel', 'mothball', 'mother', 'motherboard', 'motherson', 'motif', 'motion', 'motionplus', 'motivate', 'motor', 'motorcycle', 'motoring', 'motorola', 'motorway', 'mountain', 'mouse', 'mouth', 'move', 'moved', 'movement', 'mover', 'movfuscator', 'movie', 'moviegoer', 'moving', 'mozartjs', 'mozilla', 'mp', 'mp3', 'mph', 'mprofile', 'mpu', 'mr', 'mr2js', 'mrdocs', 'mri', 'msdn', 'msdos', 'msg', 'msx', 'mt', 'mtasts', 'mtcp', 'mtdnn', 'much', 'muchhated', 'mud', 'mudrex', 'mueller', 'muilenburg', 'mujica', 'mull', 'multi', 'multiagent', 'multiarmed', 'multicellularity', 'multicore', 'multidimensional', 'multilanguage', 'multilevel', 'multimedia', 'multimilliondollar', 'multimodal', 'multimodel', 'multiparty', 'multipattern', 'multiperson', 'multiplatform', 'multiplayer', 'multiple', 'multiplication', 'multiply', 'multiprocessing', 'multiprocessingsharedmemory', 'multitasking', 'multithreaded', 'multithreading', 'mulvaney', 'mumble', 'mummy', 'munchery', 'munger', 'munging', 'municipal', 'muon', 'murder', 'murderous', 'murray', 'musa', 'muscle', 'muscleactuated', 'muscular', 'muse', 'musenet', 'museum', 'mushroom', 'music', 'musical', 'musician', 'musicmap', 'musicstreaming', 'musish', 'musk', 'muslim', 'must', 'musthave', 'mustknow', 'musée', 'mutable', 'mutate', 'mutated', 'mutiny', 'mutt', 'mutter', 'mutual', 'mvp', 'mybrandnewlogo', 'mycpu', 'myequifaxcom', 'myriad', 'mysore', 'myspace', 'mysql', 'mysqlmariadb', 'mysterious', 'mystery', 'myth', 'mythbusters', 'n', 'n9', 'na', 'nabis', 'nadella', 'nadellaissance', 'nader', 'nafta', 'nail', 'nakamoto', 'naked', 'nala', 'name', 'named', 'namedrop', 'nameof', 'nameserver', 'nami', 'naming', 'nana', 'nanaimo', 'nancy', 'nand', 'nanke', 'nannou', 'nano', 'nanoantennae', 'nanobox', 'nanodegrees', 'nanoparticles', 'nanosecond', 'nanotube', 'napalm', 'napkin', 'napster', 'narcissist', 'narrative', 'narrow', 'narrowly', 'nasa', 'nasal', 'nasm', 'nassim', 'nat', 'nate', 'nation', 'national', 'nationalist', 'nationwide', 'native', 'natively', 'nato', 'natuive', 'natural', 'naturalsounding', 'nature', 'naval', 'navi', 'navigates', 'navigating', 'navigation', 'navy', 'nazi', 'nba', 'nbas', 'nbc', 'ne', 'neal', 'near', 'nearby', 'neardisaster', 'neardoomed', 'nearduplicate', 'nearfuture', 'nearing', 'nearir', 'nearly', 'nearoptimal', 'nears', 'neat', 'nebula', 'necessarily', 'necessary', 'necessity', 'need', 'needed', 'needle', 'nefertiti', 'negative', 'negatively', 'negativelyreceived', 'neglect', 'negligence', 'negotiability', 'negotiated', 'negotiation', 'neighbor', 'neighborhood', 'neighboring', 'neill', 'neither', 'neko', 'nelson', 'nemu', 'neo', 'neoliberal', 'neoliberalism', 'neolithic', 'neovim', 'neptunian', 'nerd', 'nerve', 'nervous', 'nescss', 'nest', 'nested', 'nestle', 'net', 'netbsd', 'netflix', 'netflixs', 'nethack', 'netheads', 'netherlands', 'netlify', 'netscape', 'network', 'networked', 'networking', 'neumann', 'neural', 'neuroactive', 'neurogenesis', 'neurogensis', 'neuron', 'neuronal', 'neuroscientist', 'neurosexism', 'neutral', 'neutrality', 'neutrino', 'neutron', 'never', 'neverblink', 'neverslow', 'nevod', 'new', 'newbie', 'newest', 'newfoundland', 'newly', 'newlygenerated', 'newport', 'news', 'newsdominated', 'newsfeed', 'newsletter', 'newsom', 'newspaper', 'newsroom', 'next', 'nextday', 'nextdnsio', 'nextdoor', 'nextgeneration', 'nextjournal', 'nextjs', 'nextparadigm', 'nexus', 'nfc', 'nfhttp', 'nfl', 'nginx', 'ngozi', 'ngrok', 'nh', 'nhtsa', 'nic', 'nice', 'nicely', 'nicer', 'nicest', 'nietzsche', 'nigerian', 'night', 'nightlight', 'nightly', 'nightmare', 'nih', 'nike', 'niki', 'nikoli', 'nil', 'nile', 'nilsson', 'nim', 'nine', 'ninemonth', 'ninety', 'nintendo', 'nirsoft', 'nishimura', 'nist', 'nitric', 'nitro', 'nitrogenfixing', 'nlgraphs', 'nlp', 'nncp', 'nnn', 'no4', 'noaa', 'nobel', 'noble', 'nobleman', 'nobody', 'nocebo', 'nocode', 'nocturnal', 'node', 'nodeal', 'nodejs', 'nodered', 'nodomain', 'noether', 'nofly', 'noir', 'noise', 'noisy', 'nokia', 'nomination', 'nonacademics', 'nonce', 'noncoding', 'noncommercial', 'noncompete', 'noncompetes', 'noncorporate', 'nondesigners', 'nondeterministic', 'none', 'noneuclidean', 'nonexistent', 'nonfiction', 'nonhodgkin', 'nonhosting', 'nonhuman', 'nonlinear', 'nonnegative', 'nonphotorealistic', 'nonprofit', 'nonprogrammers', 'nonrealtime', 'nonsecure', 'nonsense', 'nonsouth', 'nonstop', 'nonsurgical', 'nontechnical', 'nonusers', 'nonvc', 'nonviolent', 'nonwesterner', 'noodle', 'nopec', 'noprotocol', 'nord', 'nordic', 'nordine', 'nordvpn', 'normal', 'normalisation', 'normalization', 'normalize', 'normalized', 'norman', 'normandy', 'norsk', 'north', 'northbluish', 'northern', 'northwest', 'norway', 'norwegian', 'noscript', 'nose', 'nosedive', 'nosql', 'notarizing', 'notation', 'notational', 'note', 'notebook', 'notepad', 'notepin', 'notetaking', 'nothing', 'notice', 'noticed', 'noticing', 'notification', 'notifying', 'notion', 'notorious', 'notpetya', 'notre', 'notredame', 'nouveau', 'novartis', 'novel', 'novelty', 'novice', 'novo', 'nowhere', 'np', 'npm', 'npr', 'nreal', 'nrepl', 'nsa', 'nsastyle', 'nsf', 'nso', 'nt', 'ntsc', 'nuclear', 'nucleus', 'nucv', 'nude', 'nudge', 'nudging', 'nuisance', 'null', 'nullboard', 'nullpointerexception', 'number', 'numeral', 'numeric', 'numerical', 'numerous', 'numpy', 'numpycompatible', 'nuro', 'nurse', 'nursing', 'nurtured', 'nut', 'nutrition', 'nutshell', 'nuttx', 'nvidia', 'nvidias', 'nvme', 'nvmm', 'nwheeled', 'ny', 'nyc', 'nyt', 'nz', 'o', 'oak', 'oakland', 'oat', 'oath', 'oauth', 'oberlin', 'obese', 'obesity', 'obfuscated', 'obfuscating', 'obituary', 'object', 'objectbased', 'objected', 'objection', 'objective', 'objectivec', 'objectivesmalltalk', 'objector', 'objectoriented', 'obligation', 'obscure', 'observability', 'observable', 'observables', 'observerindependence', 'observes', 'obsessed', 'obsession', 'obsessive', 'obsessively', 'obsidian', 'obsolescence', 'obsolete', 'obstacle', 'obtained', 'obvious', 'ocados', 'ocaml', 'ocapic', 'ocasiocortez', 'occult', 'occupational', 'ocean', 'oceanplastics', 'ociv2', 'ocr', 'octave', 'octolinker', 'octopus', 'oculus', 'odd', 'oddly', 'odds', 'ode', 'odour', 'offence', 'offender', 'offense', 'offer', 'offered', 'offering', 'office', 'officer', 'official', 'officially', 'offline', 'offlineready', 'offloading', 'offs', 'offshore', 'offst', 'offthemenu', 'oflead', 'often', 'oftquoted', 'ogallala', 'oh', 'ohanian', 'ohio', 'ohmm', 'oil', 'oip', 'ok', 'oklahoma', 'okrs', 'okular', 'ol', 'ola', 'old', 'older', 'oldest', 'oldschool', 'oled', 'oligarch', 'oligarchy', 'olive', 'oliver', 'olivia', 'olof', 'olympic', 'olympics', 'omen', 'omg', 'omitting', 'on2', 'onavo', 'onboarding', 'onboards', 'oncampus', 'onceinahundred', 'oncolytic', 'ondemand', 'ondieoscillators', 'onduty', 'one', 'onebedroom', 'oneclick', 'onefourth', 'onegraph', 'onemetrelong', 'oneminute', 'oneperson', 'onequarter', 'oneshot', 'oneyear', 'ongoing', 'onion', 'onionrouted', 'onionshare', 'online', 'onlines', 'onoff', 'onprem', 'onsen', 'onslaught', 'onto', 'ontology', 'onward', 'oo', 'oodi', 'oop', 'oormipass', 'op', 'opal', 'open', 'openaccess', 'openai', 'openais', 'openbsd', 'opencl', 'opencv', 'opencvpython', 'opendronemap', 'opened', 'openedge', 'opengl', 'openid', 'opening', 'openjdk', 'openlisp', 'openly', 'openmandriva', 'openpilot', 'openplan', 'openregistry', 'openrex', 'openring', 'openrsync', 'openscad', 'openshot', 'opensource', 'opensourced', 'opensources', 'opensourcing', 'openssd', 'openssh', 'openssl', 'openstack', 'openstreetmap', 'opensuse', 'opentable', 'openwrt', 'opera', 'operable', 'operate', 'operating', 'operation', 'operationalerrors', 'operator', 'opinion', 'opioid', 'opioids', 'opp', 'opponent', 'opportunity', 'oppose', 'opposing', 'opposition', 'ops', 'opt', 'optic', 'optical', 'optimal', 'optimising', 'optimism', 'optimization', 'optimize', 'optimized', 'optimizer', 'optimizing', 'option', 'optometrist', 'optout', 'opus', 'opz', 'oracle', 'oral', 'orange', 'orangeslice', 'orbit', 'orca', 'orchestra', 'orchestration', 'order', 'ordered', 'ordinary', 'oregon', 'oreilly', 'org', 'organ', 'organelle', 'organic', 'organisation', 'organisational', 'organise', 'organism', 'organization', 'organizational', 'organize', 'organized', 'organizer', 'organizing', 'orgmode', 'orientalism', 'origami', 'origin', 'original', 'originalteil', 'orleans', 'orm', 'orourkes', 'oroville', 'orphan', 'orwell', 'orwellian', 'os2', 'osakars', 'oscar', 'oscilloscope', 'osi', 'osint', 'osirisrex', 'oslo', 'osmo', 'others', 'otonomo', 'otp', 'otter', 'ottoman', 'ottomanera', 'ought', 'oumuamua', 'ourworldindata', 'oust', 'ouster', 'ousts', 'outage', 'outbreak', 'outcome', 'outcry', 'outdated', 'outdoors', 'outgroup', 'outgrown', 'outlaw', 'outlawed', 'outlet', 'outlier', 'outlook', 'outlookcom', 'outnumber', 'outofoffice', 'outoforder', 'outpace', 'outperform', 'outperformed', 'outperforming', 'outperforms', 'output', 'outrage', 'outrageously', 'outran', 'outrun', 'outschooling', 'outsell', 'outside', 'outsize', 'outsmarts', 'outsourcer', 'outsourcing', 'overall', 'overcharged', 'overcome', 'overengaged', 'overestimated', 'overflow', 'overhead', 'overloaded', 'overlook', 'overlooked', 'overlord', 'overnight', 'overoptimize', 'overpaid', 'overpriced', 'overpromised', 'overrated', 'overselling', 'oversight', 'overstate', 'overstrike', 'overtake', 'overtakes', 'overthrowing', 'overtime', 'overturn', 'overview', 'overwatch', 'overwhelmed', 'overwhelmingly', 'overwork', 'overzealous', 'owen', 'owl', 'owned', 'owner', 'ownership', 'owning', 'oxfam', 'oxide', 'oxy', 'oxycontin', 'oxygen', 'oya', 'oyster', 'ozone', 'ozonedepleting', 'p', 'p2p', 'p3', 'p30', 'pa', 'paas', 'pac', 'pace', 'pacemaker', 'pacific', 'pack', 'package', 'packaging', 'packard', 'packed', 'packet', 'packing', 'pacman', 'pact', 'paedophile', 'page', 'pagedraw', 'pagerank', 'pagerduty', 'paging', 'pai', 'paid', 'pain', 'painful', 'paint', 'paintbynumbers', 'painted', 'painterly', 'painting', 'pair', 'palantir', 'palette', 'pall', 'palme', 'palmos', 'palsy', 'paltrow', 'pamir', 'panasonic', 'panda', 'pandemic', 'pandoc', 'pane', 'panel', 'panera', 'panic', 'paper', 'paperclip', 'paperwork', 'par', 'parable', 'paradigm', 'paradise', 'paradox', 'parallel', 'parallelism', 'paralysis', 'paralyzed', 'parameter', 'paranoia', 'paraphrasing', 'parasail', 'parasitic', 'parc', 'pardon', 'parent', 'parental', 'parentalcontrol', 'parenthesis', 'parenting', 'paris', 'parity', 'park', 'parker', 'parkes', 'parking', 'parkinson', 'parliament', 'parliamentary', 'parmigianoreggiano', 'parrallel', 'parrot', 'parse', 'parser', 'parsing', 'part', 'partial', 'partially', 'participatory', 'particle', 'particular', 'particulate', 'partition', 'partner', 'partnership', 'parton', 'parttime', 'party', 'pas', 'pascal', 'pass', 'passed', 'passenger', 'passing', 'passion', 'passionate', 'passive', 'passively', 'passport', 'password', 'passwordfree', 'past', 'patagonia', 'patch', 'patching', 'patent', 'patenting', 'paternity', 'path', 'pathfinder', 'pathfinding', 'pathfindingjs', 'pathogen', 'pathological', 'pathologist', 'pathology', 'pathstyle', 'pathway', 'patient', 'patio11', 'patreon', 'patreonsimilar', 'patrick', 'patriot', 'patrol', 'patron', 'pattern', 'patterson', 'patty', 'paul', 'pavement', 'pay', 'payday', 'paying', 'payless', 'payload', 'payment', 'paymentsd', 'payouts', 'paypal', 'paypals', 'payperarticle', 'paywall', 'paywalled', 'pb', 'pc', 'pcb', 'pcie', 'pcjs', 'pd', 'pdf', 'pdfs', 'pdk', 'pdp1', 'pdp1140', 'pdp7', 'pea', 'peace', 'peak', 'peaking', 'pearl', 'pearlman', 'pearphpnet', 'peazip', 'pecker', 'peculiar', 'pedal', 'peddler', 'peddling', 'pedestrian', 'pedophile', 'pee', 'peeled', 'peer', 'peergos', 'peerjs', 'peermaps', 'peerreviewing', 'peertopeer', 'pei', 'pellet', 'pelosi', 'peloton', 'pen', 'penalize', 'penalizes', 'penalty', 'pending', 'penetration', 'penguin', 'pengwin', 'penn', 'pennsylvania', 'penrose', 'pensioner', 'pentagon', 'pentaquark', 'pentested', 'pentesters', 'pentesting', 'people', 'pep', 'pepper', 'pepsico', 'per', 'perceived', 'percent', 'percentage', 'percentile', 'perception', 'perennial', 'perf', 'perfect', 'perfectly', 'perform', 'performance', 'peril', 'perilous', 'perimeter', 'period', 'periodic', 'periodtracking', 'peripheral', 'periscope', 'perk', 'perkins', 'perl', 'perl6', 'perlin', 'permafrost', 'permanent', 'permission', 'permit', 'perpetual', 'perpetuates', 'perry', 'persecution', 'persession', 'persia', 'persian', 'persist', 'persistence', 'persistent', 'person', 'personal', 'personality', 'personalize', 'personalized', 'personally', 'perspective', 'perturbed', 'peru', 'peruvian', 'perversion', 'pessimistic', 'pester', 'pesticide', 'pet', 'petascale', 'pete', 'peter', 'petition', 'petri', 'petty', 'pewdiepie', 'pfas', 'pg', 'pge', 'pghoard', 'pgp', 'pgstatstatements', 'phage', 'phantom', 'pharma', 'pharmaceutical', 'pharmacology', 'pharo', 'phase', 'phd', 'phenomenon', 'phenylephrine', 'philadelphia', 'philanderer', 'philanthropy', 'philip', 'philippine', 'philly', 'philosopher', 'philosophical', 'philosophy', 'philosophyquoting', 'phish', 'phishing', 'phoenix', 'phone', 'phonemakers', 'phonesurveillance', 'phony', 'phospholipid', 'photo', 'photocopy', 'photodynamic', 'photoessay', 'photograph', 'photographed', 'photographer', 'photography', 'photoresist', 'photosketching', 'photosynthesis', 'php', 'phrase', 'physic', 'physical', 'physician', 'physicist', 'physiological', 'pi', 'pianist', 'piano', 'pic', 'picasa', 'pichai', 'pick', 'picker', 'pickup', 'picotorrent', 'picsum', 'picture', 'pid1', 'piece', 'pig', 'pigeon', 'pihole', 'pijul', 'pika', 'pikapack', 'pikaweb', 'piketty', 'pile', 'pill', 'pilosa', 'pilot', 'piloted', 'piloting', 'pilotwings', 'pin', 'pinball', 'pine64', 'pinebook', 'pinephone', 'ping', 'pingcap', 'pink', 'pinker', 'pinkertons', 'pino', 'pinpoint', 'pinterest', 'pioneer', 'pioneered', 'pioneering', 'pip3', 'pipdig', 'pipe', 'pipeline', 'pipelinedb', 'pipelining', 'pipinstallable', 'pipkin', 'pipowered', 'piracy', 'pirate', 'pishot', 'pitch', 'pitfall', 'pivot', 'pivotal', 'pixel', 'pixelart', 'pixelbook', 'pixelfed', 'pizza', 'pj', 'pki', 'place', 'placebo', 'placed', 'placement', 'plagiarism', 'plagued', 'plaguing', 'plaid', 'plain', 'plan', 'planar', 'plane', 'planespotting', 'planet', 'planetary', 'planetscale', 'planetwide', 'planisphere', 'plankalkül', 'plankton', 'planned', 'planner', 'planning', 'plant', 'plantbased', 'planter', 'planting', 'plantuml', 'plasma', 'plastic', 'plate', 'plateau', 'platelet', 'platform', 'plausible', 'play', 'playable', 'playback', 'playbook', 'playdate', 'played', 'player', 'playground', 'playing', 'playjs', 'playlist', 'playstation', 'playtime', 'pleads', 'pleasant', 'please', 'pleasure', 'pledge', 'plight', 'pliocene', 'plot', 'plotneuralnet', 'plotter', 'plotting', 'plotty', 'plucked', 'plug', 'pluggable', 'plugin', 'plugins', 'plumber', 'plummet', 'plummeted', 'plummeting', 'plunge', 'plural', 'pluralsight', 'plus', 'pm', 'pmarca', 'pneumatic', 'png', 'poached', 'poacher', 'poaching', 'poc', 'pocket', 'pod', 'podcast', 'podcasting', 'podcasts', 'podman', 'poem', 'poetry', 'pogo', 'point', 'pointed', 'pointer', 'pointing', 'pointy', 'poised', 'poisonfree', 'poisoning', 'poke', 'poker', 'pokémon', 'poland', 'polar', 'polari', 'polarized', 'police', 'policing', 'policy', 'polish', 'political', 'politician', 'politics', 'poll', 'pollen', 'pollute', 'polluted', 'polluter', 'polluting', 'pollution', 'poly1305', 'polyfill', 'polyglot', 'polygon', 'polynesia', 'polynomial', 'polytopes', 'ponens', 'pong', 'pony', 'pool', 'poole', 'pooping', 'poor', 'poorest', 'poorly', 'poorquality', 'pop', 'popcorn', 'popecon', 'popular', 'popularity', 'population', 'populationbased', 'populous', 'popup', 'porn', 'pornhub', 'porno', 'pornography', 'porsche', 'porsches', 'port', 'portable', 'portal', 'portfolio', 'porting', 'portland', 'portmanteau', 'portrait', 'pose', 'posing', 'position', 'positionalonly', 'positive', 'positivity', 'posixcompliant', 'posse', 'possession', 'possibility', 'possible', 'post', 'postage', 'postal', 'postantibiotic', 'postcard', 'postcrisis', 'posted', 'poster', 'posteriori', 'postgis', 'postgres', 'postgresbacked', 'postgresql', 'postgresqls', 'posting', 'postlhc', 'postmake', 'postmarketos', 'postmodern', 'postmortem', 'postpone', 'postponement', 'postquantum', 'postsurgical', 'pot', 'potassium', 'potato', 'potent', 'potential', 'potentially', 'pothole', 'pound', 'poverty', 'powder', 'power', 'power1', 'powered', 'powerful', 'powerhouse', 'powering', 'powerless', 'powerpoint', 'powerport', 'powertoys', 'pprint', 'pr', 'practical', 'practically', 'practice', 'practicejs', 'prado', 'pragmatic', 'prague', 'praise', 'praised', 'prank', 'pratchett', 'pratt', 'pre', 'pre1400', 'preacher', 'preaches', 'precarious', 'precede', 'preceded', 'precedent', 'precious', 'precise', 'precision', 'predation', 'predator', 'predatory', 'predicament', 'predict', 'predictably', 'predicted', 'predicting', 'prediction', 'predictive', 'predictor', 'predicts', 'preemptive', 'prefect', 'prefer', 'preference', 'preferred', 'prefers', 'prefetch', 'prefix', 'pregoogle', 'preinstalled', 'preliminary', 'preload', 'premature', 'premiere', 'premium', 'prenatal', 'prenda', 'preorder', 'preorders', 'prepares', 'preparing', 'prepend', 'prepl', 'preprint', 'preprocessing', 'preprohibition', 'preraphaelites', 'prescription', 'presence', 'present', 'presentation', 'preservation', 'preserve', 'preserved', 'preserving', 'president', 'presidential', 'press', 'pressure', 'pressured', 'pressuring', 'presumed', 'pretending', 'pretty', 'prevalence', 'prevent', 'preventable', 'prevented', 'preventing', 'prevention', 'preview', 'previous', 'prey', 'price', 'priced', 'pricefixing', 'pricey', 'pricing', 'priest', 'primary', 'prime', 'primer', 'primitive', 'prince', 'princeton', 'principal', 'principle', 'principled', 'print', 'printed', 'printer', 'printing', 'printk', 'printout', 'prion', 'prioritization', 'prioritizing', 'prisma', 'prison', 'prisoner', 'prisonlike', 'pristine', 'privacy', 'privacyasaservice', 'privacyenabled', 'privacyfocused', 'privacypreserving', 'private', 'privately', 'privatestorageio', 'privilege', 'privilegeboundary', 'privilegeseparated', 'prize', 'prized', 'pro', 'probabilistic', 'probability', 'probable', 'probably', 'probe', 'probing', 'problem', 'problemsolving', 'problm', 'procedural', 'procedure', 'proceed', 'proceeding', 'process', 'processed', 'processing', 'processor', 'procrastinating', 'procrastination', 'prodigy', 'produce', 'produced', 'producing', 'product', 'productbuilding', 'production', 'productionready', 'productive', 'productively', 'productivity', 'productmarket', 'prof', 'profanity', 'professional', 'professionallypackaged', 'professor', 'proficient', 'profile', 'profiler', 'profiling', 'profit', 'profitability', 'profitable', 'profiting', 'profive', 'program', 'programatically', 'programmable', 'programmatically', 'programmed', 'programmer', 'programming', 'progress', 'progressing', 'progression', 'progressive', 'prohibition', 'project', 'projected', 'projecting', 'projection', 'projector', 'proliferate', 'proliferation', 'prolific', 'prolog', 'prometheus', 'prominent', 'promise', 'promised', 'promising', 'promote', 'promoted', 'promotes', 'promotion', 'prompt', 'pronounceable', 'proof', 'propaganda', 'propagation', 'propelled', 'proper', 'property', 'propertybased', 'prophet', 'propofolinduced', 'proposal', 'propose', 'proposed', 'proposes', 'propranolol', 'proprietary', 'propulsion', 'proquints', 'prosecutor', 'prosemirror', 'prospect', 'prospecting', 'prosperity', 'prostate', 'prosthesis', 'prosthetic', 'protect', 'protected', 'protecting', 'protection', 'protects', 'protein', 'protest', 'protester', 'protestors', 'protocol', 'proton', 'protonmail', 'protoplanetary', 'protothreads', 'prototype', 'prototyping', 'provably', 'prove', 'proven', 'provenanceaware', 'prover', 'provide', 'provided', 'provider', 'provides', 'providing', 'province', 'proving', 'provision', 'proxy', 'pruitt', 'prvalues', 'ps1', 'ps3', 'psa', 'pseudo3d', 'pseudoscientific', 'psi', 'psilocybin', 'psk', 'psptool', 'psu', 'psychedelic', 'psychedelics', 'psychiatric', 'psychiatrist', 'psychiatry', 'psychic', 'psychological', 'psychology', 'psychopath', 'psychosis', 'psychotropic', 'psyonix', 'pterosaur', 'pto', 'ptsd', 'puberty', 'pubg', 'public', 'publication', 'publicfacing', 'publichealth', 'publickey', 'publicly', 'publish', 'published', 'publisher', 'publishes', 'publishing', 'puerto', 'puffer', 'pufferfish', 'pugsql', 'pulitzer', 'pull', 'pulled', 'pulling', 'pulseaudio', 'pump', 'pun', 'punch', 'punchtop', 'punctureproof', 'punish', 'punishing', 'punishment', 'puquios', 'purchase', 'purchased', 'purdue', 'pure', 'pureboot', 'purego', 'purely', 'purenim', 'pureos', 'purescript', 'pureview', 'purge', 'purged', 'purging', 'purifying', 'purism', 'purple', 'purpose', 'pursue', 'pursuit', 'purveyor', 'purview', 'push', 'pushdown', 'pushed', 'pushing', 'pushnotifications', 'pushup', 'put', 'putin', 'putting', 'putty', 'puzzle', 'puzzlesolving', 'pvalues', 'pwas', 'pwn', 'pwn2own', 'pwned', 'pycharm', 'pygamer', 'pyjama', 'pylon', 'pyodide', 'pypi', 'pypy', 'pyramid', 'pyrenees', 'pyrex', 'pyright', 'pysnooper', 'pyspark', 'pysyft', 'pythagorean', 'pythia', 'python', 'pythonc', 'pythonic', 'pythononly', 'pytorch', 'pytorchbiggraph', 'pytype', 'pāṇini', 'q', 'q1', 'q2', 'q2vkpt', 'q4', 'qantas', 'qemu', 'qf72', 'qgrep', 'qnx', 'qr', 'qri', 'qt5', 'qtc', 'quad', 'quadcopters', 'quadcore', 'quadriga', 'quadruple', 'quake', 'quakeworld', 'qualcomm', 'qualifies', 'quality', 'quantifies', 'quantitative', 'quants', 'quantum', 'quarantine', 'quark', 'quarter', 'quarterly', 'quaternet', 'quaternionbased', 'qubits', 'queen', 'query', 'querying', 'quest', 'question', 'questionable', 'questioned', 'questioning', 'queue', 'queueing', 'quic', 'quiche', 'quick', 'quickly', 'quid', 'quiet', 'quietly', 'quilc', 'quillbot', 'quine', 'quinesnake', 'quinn', 'quintuple', 'quirk', 'quit', 'quite', 'quits', 'quitting', 'quixote', 'quiz', 'quizmaker', 'quo', 'quote', 'r', 'r1000', 'r2d2', 'rabbit', 'race', 'racial', 'racing', 'racism', 'racist', 'rack', 'racket', 'racketonchez', 'rackspace', 'radar', 'radarbased', 'radeon', 'radiation', 'radiationhardened', 'radical', 'radicalization', 'radicle', 'radio', 'radioactive', 'radiohead', 'radioinstigator', 'radiotracer', 'radius', 'radix', 'rage', 'raid', 'raider', 'rail', 'railroad', 'railway', 'rain', 'rainforest', 'raining', 'raise', 'raised', 'raising', 'rally', 'ralph', 'ralston', 'ram', 'rambleed', 'ramen', 'rampant', 'ramses', 'ran', 'ranch', 'random', 'randomized', 'randomjson', 'randomly', 'randomorg', 'range', 'ranging', 'rank', 'ranking', 'rankwave', 'ransack', 'ransacked', 'ransom', 'ransomware', 'rant', 'rap', 'rape', 'rapid', 'rapidly', 'rappler', 'raptor', 'raptorq', 'rare', 'rareearth', 'rarest', 'rarity', 'raspberry', 'raspberrypicking', 'raster', 'rat', 'rate', 'rated', 'ratfree', 'rather', 'rating', 'ratio', 'rational', 'rationalization', 'ratliff', 'rav1e', 'raven', 'ray', 'raycaster', 'raylib', 'rayshader', 'raystrips', 'raytheon', 'raytraced', 'raytracing', 'razing', 'razr', 'rc1', 'rc3', 'rce', 'rchangemyview', 'rclone', 'rdbms', 'rdevops', 'rdrand', 're2c', 'reach', 'reached', 'reaching', 'react', 'reaction', 'reactivation', 'reactive', 'reactivity', 'reactor', 'reactos', 'read', 'readable', 'reader', 'reading', 'readline', 'readmes', 'readout', 'readwise', 'ready', 'readytoembed', 'reahl', 'real', 'realestate', 'realised', 'realises', 'realist', 'reality', 'realize', 'reallife', 'really', 'realsense', 'realtalk', 'realtime', 'realtimeapp', 'realworld', 'reap', 'reappraise', 'reapproaching', 'reason', 'reasonable', 'reasoning', 'reasonml', 'reasonmlocaml', 'reassemble', 'reassesses', 'rebase', 'rebate', 'rebecca', 'rebel', 'rebirth', 'reboot', 'reborn', 'rebrands', 'rebuild', 'rebuilding', 'rebuttal', 'recall', 'recap', 'recaptcha', 'recarve', 'receipt', 'received', 'receives', 'recency', 'recent', 'recently', 'recession', 'recipe', 'recipient', 'reckless', 'reckoning', 'reclaim', 'recluse', 'recognise', 'recognition', 'recognized', 'recognizes', 'recommend', 'recommendation', 'recommended', 'recommends', 'reconcile', 'reconciles', 'reconsideration', 'reconsidering', 'reconsiders', 'reconsolidation', 'reconstructing', 'reconstruction', 'record', 'recordbreaking', 'recorded', 'recorder', 'recording', 'recordsmonth', 'recourse', 'recovered', 'recovery', 'recreate', 'recreated', 'recreating', 'recruit', 'recruiter', 'recruiting', 'recurrent', 'recurse', 'recursion', 'recursive', 'recyclables', 'recycled', 'recycles', 'recycling', 'red', 'redaction', 'redasm', 'reddit', 'redditors', 'reddits', 'redditstweets', 'redecentralizing', 'redefining', 'redemption', 'redesign', 'redesigned', 'redesigning', 'redesigns', 'redex', 'redhat', 'redirected', 'redirects', 'redis', 'rediscover', 'rediscovered', 'redisearch', 'redlight', 'redom', 'redox', 'redshift', 'reduce', 'reduced', 'reduces', 'reducing', 'reduction', 'redundancy', 'redundant', 'redux', 'redwood', 'reed', 'reeducation', 'reeling', 'reengineering', 'reestablishes', 'reevolving', 'ref', 'refactoring', 'reference', 'referer', 'referred', 'refine', 'refinery', 'reflect', 'reflecting', 'reflection', 'reflects', 'reform', 'refresh', 'refrigeration', 'refuge', 'refugee', 'refund', 'refunded', 'refunding', 'refurbished', 'refurbishing', 'refuse', 'refused', 'refusing', 'refutes', 'regain', 'regarding', 'regex', 'regexp', 'regime', 'region', 'regional', 'register', 'registered', 'registering', 'registrar', 'registry', 'regolith', 'regression', 'regret', 'regs', 'regular', 'regulate', 'regulated', 'regulating', 'regulation', 'regulator', 'regulatory', 'rehab', 'reid', 'reimagined', 'reimplementation', 'reimplemented', 'reimplementing', 'reinforcement', 'reinstall', 'reinstate', 'reinvent', 'reinventing', 'reinvention', 'reitz', 'reiwa', 'reject', 'rejected', 'rejecting', 'rejection', 'rekognition', 'related', 'relational', 'relationship', 'relatively', 'relay', 'relearn', 'relearning', 'release', 'released', 'releasing', 'relentless', 'relentlessly', 'relentlessness', 'relents', 'relevance', 'relevant', 'reliable', 'reliance', 'relicensing', 'relies', 'religion', 'religious', 'reltron', 'rely', 'remain', 'remainder', 'remains', 'remastered', 'remastering', 'remediation', 'remedybg', 'remember', 'remembering', 'remorse', 'remote', 'remotefirst', 'remotely', 'remotepowered', 'removable', 'removal', 'remove', 'removebg', 'removed', 'removing', 'renaissance', 'render', 'rendered', 'renderer', 'rendering', 'renderless', 'renewables', 'renewed', 'renews', 'renouncing', 'renovation', 'rent', 'rental', 'rentasister', 'rentcontrolled', 'rentech', 'rented', 'renter', 'renting', 'rentstabilized', 'rené', 'reopens', 'reorganize', 'repackaged', 'repair', 'repairing', 'repalm', 'repeal', 'repealed', 'repeat', 'repeatably', 'repeating', 'repetition', 'repl', 'replace', 'replaced', 'replacement', 'replaces', 'replacing', 'replete', 'replica', 'replication', 'replicator', 'replit', 'reply', 'repo', 'report', 'reported', 'reportedly', 'reporter', 'reporting', 'repos', 'repository', 'represent', 'representation', 'representative', 'reprieve', 'reproducibility', 'reproducible', 'reprogrammable', 'republic', 'repurposing', 'reputable', 'reputation', 'request', 'requested', 'require', 'required', 'requirement', 'requires', 'requiring', 'reregistering', 'rerouted', 'rescue', 'rescued', 'research', 'researcher', 'reseq', 'reservation', 'reset', 'reshapes', 'resident', 'resign', 'resigning', 'resigns', 'resilience', 'resilient', 'resist', 'resistance', 'resisted', 'resisting', 'resolution', 'resolved', 'resolvers', 'resonance', 'resonates', 'resort', 'resource', 'resourcessteps', 'respiratory', 'respond', 'responds', 'response', 'responsibility', 'responsible', 'responsive', 'ressa', 'rest', 'restart', 'restaurant', 'restful', 'restic', 'restocked', 'restoration', 'restore', 'restored', 'restores', 'restoring', 'restraint', 'restrict', 'restricted', 'restriction', 'restricts', 'restructures', 'result', 'resume', 'resurfaces', 'resurgence', 'retail', 'retailer', 'retains', 'retaliation', 'retargetable', 'retdec', 'rethink', 'rethinking', 'retinal', 'retire', 'retired', 'retiree', 'retirement', 'retires', 'retracted', 'retraction', 'retreat', 'retreating', 'retrieve', 'retro', 'retrospective', 'return', 'returned', 'reunited', 'reuse', 'reuters', 'reveal', 'revealed', 'revealing', 'reveals', 'revenge', 'revenue', 'reversal', 'reverse', 'reverseengineering', 'reversible', 'reversing', 'revert', 'revery', 'review', 'reviewed', 'reviewer', 'reviewing', 'revised', 'revisited', 'revisting', 'revival', 'revive', 'revived', 'revives', 'reviving', 'revoke', 'revoked', 'revoking', 'revolt', 'revolut', 'revolutapp', 'revolution', 'revolutionary', 'revolutionise', 'revolutionized', 'reward', 'rewarding', 'rewrite', 'rewriter', 'rewriting', 'rewrote', 'reycling', 'rfactor', 'rfc', 'rfc1149', 'rfc8482', 'rfcs', 'rfid', 'rga', 'rhel', 'rhine', 'rhonda', 'rhubarb', 'rhythm', 'rhythmic', 'riaa', 'riak', 'rice', 'rich', 'richard', 'richer', 'richest', 'richter', 'richtext', 'rick', 'rico', 'ricochetim', 'rid', 'ride', 'ridehailing', 'rider', 'rideshare', 'ridesharing', 'ridiculous', 'riding', 'riemann', 'rife', 'rifle', 'rift', 'rig', 'rigetti', 'rigging', 'right', 'righttorepair', 'rigorous', 'rigorously', 'ring', 'rio', 'riot', 'riotim', 'rip', 'ripcord', 'ripgrep', 'ripped', 'ripple', 'risc', 'riscv', 'rise', 'rising', 'risk', 'risking', 'risky', 'risp', 'ritalin', 'ritchie', 'ritual', 'ritzcarlton', 'rival', 'rivalry', 'river', 'rivian', 'rl', 'rlgraph', 'rnn', 'rnnbased', 'ro', 'road', 'roadmap', 'roadshow', 'roast', 'robbins', 'robert', 'robinhood', 'roboadvisers', 'robocall', 'robocaller', 'robocallers', 'robocalls', 'robocrop', 'robomaster', 'robot', 'robotic', 'robotics', 'robs', 'robust', 'roc', 'rock', 'rock64', 'rocked', 'rocker', 'rocket', 'rockland', 'rocksdb', 'rockset', 'rod', 'rode', 'rogan', 'roger', 'rogers', 'rogue', 'roiled', 'roku', 'role', 'roll', 'roller', 'rolling', 'rollins', 'rollover', 'rollyourown', 'rom', 'roma', 'roman', 'romania', 'romanian', 'rome', 'roof', 'room', 'roomba', 'roommate', 'roomsh', 'roomtemperature', 'roosendaal', 'root', 'rooted', 'rooter', 'rootkit', 'rope', 'roquette', 'rose', 'roshambo', 'roshi', 'ross', 'rosshow', 'rot', 'rotary', 'rotate', 'rotating', 'rotation', 'rotten', 'rotting', 'rough', 'round', 'roundup', 'route', 'router', 'routine', 'routinely', 'routing', 'roux', 'rover', 'row', 'rowhammer', 'royal', 'royalty', 'royaltyfree', 'rpcs', 'rpcs3', 'rpg', 'rpiracy', 'rpki', 'rpn', 'rps', 'rsa', 'rsync', 'rt', 'rtfm', 'rtlsdr', 'rtos', 'rtx', 'rtxpowered', 'rubber', 'rubik', 'rubin', 'ruby', 'rudder', 'rue', 'rueful', 'rugged', 'ruin', 'ruined', 'rule', 'rulesofthumb', 'ruling', 'rumor', 'run', 'runaway', 'runc', 'runet', 'rung', 'runing', 'runjs', 'runner', 'running', 'runtime', 'runtimes', 'runup', 'rupee', 'rural', 'rus', 'rush', 'russell', 'russia', 'russiagate', 'russian', 'rust', 'rustic', 'rusty', 'rut', 'rv320rv325', 'rvalues', 'ryan', 'ryzen', 'rückzugsorte', 's', 's08', 's1', 's11', 's15', 's17', 's18', 's3', 's360', 'saarinen', 'saas', 'sabotaged', 'sachs', 'sack', 'sacked', 'sacklers', 'sacred', 'sacrifice', 'sacrificed', 'sad', 'sadder', 'saddest', 'saddle', 'sadr', 'safari', 'safe', 'safer', 'safety', 'safetytampering', 'saga', 'sagedb', 'sagelib', 'sagemath', 'sagrada', 'said', 'sail', 'saint', 'salary', 'sale', 'salesforce', 'salesforcecom', 'salesman', 'salient', 'salieri', 'salinger', 'salsa', 'salt', 'saltiest', 'saltwater', 'sam', 'samesex', 'samos', 'sample', 'sampled', 'sampling', 'samsung', 'samsungs', 'samurai', 'san', 'sanction', 'sanctuary', 'sand', 'sandberg', 'sandbox', 'sandboxed', 'sandboxing', 'sandisk', 'sandspiel', 'sandwich', 'sane', 'sanitizers', 'sanity', 'sanos', 'sans', 'sanskrit', 'santa', 'sap', 'sapiens', 'sarah', 'saratoga', 'sartre', 'sas', 'saskatchewan', 'sat', 'satan', 'satellit', 'satellite', 'satellitetrain', 'sathack', 'satnet', 'satoshi', 'satoshis', 'satsmt', 'saturating', 'saturday', 'saturn', 'satya', 'sauce', 'saudi', 'sauron', 'sausage', 'savage', 'savaged', 'save', 'saved', 'saving', 'savior', 'saw', 'say', 'saying', 'sb', 'sbc', 'sbi', 'sbox', 'scaffolding', 'scala', 'scalable', 'scale', 'scaled', 'scaleway', 'scaling', 'scam', 'scammed', 'scammer', 'scammy', 'scan', 'scandal', 'scannable', 'scanned', 'scanner', 'scanning', 'scar', 'scare', 'scared', 'scatter', 'scattering', 'scenario', 'scene', 'schedule', 'scheduler', 'scheduling', 'schema', 'schemaless', 'schematic', 'scheme', 'schick', 'schizophrenia', 'schmidt', 'schneier', 'scholar', 'school', 'schoolboy', 'schoolgirl', 'schrödinger', 'schumpeter', 'science', 'scienceanalytics', 'scientific', 'scientist', 'scifi', 'scihub', 'scissors', 'scons', 'scoot', 'scooter', 'scope', 'score', 'scoresheets', 'scoring', 'scotland', 'scott', 'scotus', 'scour', 'scout', 'scp', 'scrabble', 'scrambling', 'scrap', 'scrape', 'scraped', 'scraping', 'scrapinghub', 'scratch', 'screen', 'screener', 'screening', 'screenshots', 'screentime', 'screw', 'screwed', 'scribble', 'scribd', 'scribe', 'script', 'script8', 'scriptable', 'scripting', 'scripto', 'scripture', 'scroll', 'scrub', 'scrum', 'scrutinize', 'scrutiny', 'scylladb', 'sd', 'sdk', 'sdks', 'se', 'sea', 'seabed', 'seafood', 'seal', 'sealed', 'sealevel', 'seamless', 'search', 'searchable', 'searched', 'searching', 'searchlight', 'sears', 'season', 'seasonality', 'seasteading', 'seat', 'seattle', 'seawater', 'seaweed', 'sec', 'secbsd', 'second', 'secondorder', 'secrecy', 'secret', 'secretary', 'secretive', 'secretly', 'secretspilling', 'sector', 'secure', 'secured', 'securely', 'secures', 'security', 'securityfocused', 'securitytxt', 'sed', 'sedation', 'sediment', 'sednit', 'seducing', 'see', 'seed', 'seedy', 'seeing', 'seek', 'seeker', 'seeking', 'seem', 'seems', 'seen', 'sega', 'segment', 'segwit', 'seibel', 'seize', 'seized', 'seizes', 'seizure', 'select', 'selected', 'selection', 'selective', 'selectively', 'selenium', 'self', 'selfcontained', 'selfcontrol', 'selfdefence', 'selfdestruct', 'selfdistancing', 'selfdriving', 'selfemployed', 'selfenumerating', 'selfforgiveness', 'selfgrading', 'selfhosted', 'selfie', 'selfish', 'selflearning', 'selfmade', 'selfmutating', 'selfpowered', 'selfprioritizing', 'selfreproducing', 'selfselection', 'selfservice', 'selfstudy', 'selfsupervised', 'selftaught', 'sell', 'seller', 'selling', 'semantic', 'semantics', 'semenya', 'semiconductor', 'semifinal', 'semiidentical', 'seminal', 'semirings', 'seml', 'semver', 'senate', 'senator', 'send', 'sending', 'sends', 'seneca', 'senile', 'senior', 'sense', 'senseis', 'sensible', 'sensing', 'sensingactuation', 'sensitive', 'sensor', 'sensorimotor', 'sensorvault', 'sensory', 'sent', 'sentence', 'sentenced', 'sentient', 'sentry', 'seo', 'separate', 'separately', 'separator', 'september', 'sequel', 'sequence', 'sequencer', 'serenityos', 'serf', 'sergiu', 'serial', 'serializability', 'serialkiller', 'series', 'serious', 'seriously', 'serotonin', 'servant', 'serve', 'served', 'server', 'serverless', 'serverside', 'service', 'serving', 'servo', 'session', 'set', 'setinterval', 'setl', 'setting', 'settle', 'settlement', 'settling', 'setup', 'seven', 'sevendimensional', 'seventy', 'seventytwo', 'several', 'severe', 'severity', 'sewing', 'sex', 'sexism', 'sexist', 'sexpression', 'sexual', 'sexually', 'sexy', 'sf', 'sfs', 'sfw', 'sgx', 'sh', 'sha1', 'shackle', 'shadama', 'shaders', 'shadow', 'shady', 'shake', 'shakespeare', 'shakeup', 'shakier', 'shaking', 'shakti', 'shaky', 'shame', 'shamed', 'shamir', 'shanghai', 'shannon', 'shaohua', 'shape', 'shaped', 'shaping', 'shardy', 'share', 'shared', 'shareholder', 'sharing', 'shark', 'sharp', 'shattering', 'shazam', 'shazamlike', 'shed', 'sheep', 'sheet', 'shelf', 'shell', 'shellcode', 'shellvault', 'shelter', 'shen', 'shenandoah', 'shenanigan', 'shenmues', 'shepherd', 'sherpa', 'sheryl', 'shield', 'shift', 'shifted', 'shimura', 'shine', 'shining', 'shiny', 'shinyjs', 'ship', 'shipment', 'shipped', 'shipping', 'shipwreck', 'shit', 'shittiest', 'shkreli', 'shlayer', 'shocking', 'shockwaves', 'shoddy', 'shoe', 'shoesource', 'shoestring', 'shook', 'shoot', 'shooter', 'shooting', 'shop', 'shop3', 'shopify', 'shopping', 'shorewall', 'short', 'shortage', 'shortcoming', 'shortcut', 'shorted', 'shortened', 'shorter', 'shortfall', 'shortterm', 'shot', 'shoulder', 'shouldnt', 'show', 'showcase', 'showed', 'showing', 'shown', 'showreel', 'shrink', 'shrinking', 'shrug', 'shrugged', 'shuntingyard', 'shut', 'shutdown', 'shuts', 'shutting', 'shuttle', 'shuttleworth', 'shy', 'siberian', 'sibling', 'sick', 'sicp', 'side', 'sidebottoms', 'sidechannel', 'sidechannels', 'sideeffects', 'sideproject', 'sideprojects', 'sidewalk', 'sideways', 'sidewinder', 'siding', 'siem', 'sieve', 'sight', 'sighting', 'sign', 'signal', 'signaling', 'signalman', 'signature', 'signed', 'significance', 'significant', 'significantly', 'signing', 'signup', 'signups', 'sigsaly', 'sikorsky', 'silence', 'silenced', 'silencing', 'silent', 'silicon', 'silk', 'silo', 'silver', 'sim', 'simcity', 'simd', 'simdjson', 'simfix', 'similar', 'similarity', 'simon', 'simon3264', 'simone', 'simple', 'simpler', 'simplest', 'simplicity', 'simplified', 'simplifies', 'simplify', 'simplistic', 'simply', 'simpson', 'simulate', 'simulated', 'simulates', 'simulating', 'simulation', 'simulator', 'since', 'sinclair', 'sing', 'singapore', 'singh', 'single', 'singlecolumn', 'singledose', 'singlefamily', 'singlefile', 'singlepage', 'singleuse', 'singular', 'sink', 'sinking', 'siphoning', 'sir', 'siren', 'sirixdb', 'sisense', 'sister', 'sit', 'site', 'sitin', 'sitting', 'situation', 'situational', 'six', 'sixel', 'sixth', 'sixty', 'sixtyfour', 'sixtyone', 'sixyear', 'size', 'sized', 'sizzling', 'sk', 'skeletal', 'skeleton', 'skeptic', 'skeptical', 'skepticism', 'sketch', 'skewed', 'skews', 'skill', 'skillbuilding', 'skilled', 'skimmer', 'skin', 'skincare', 'skipped', 'skipper', 'skipping', 'skiptracing', 'skirting', 'skittle', 'skull', 'sky', 'skymind', 'skype', 'skyrocket', 'skyrocketing', 'slack', 'slain', 'slam', 'slash', 'slaughter', 'slaughterhousefive', 'slave', 'slay', 'sleep', 'sleeper', 'sleeping', 'sleepless', 'sleepyhead', 'sleuth', 'slice', 'slick', 'slide', 'slightly', 'slim', 'slipped', 'slippery', 'slope', 'sloth', 'slow', 'slowed', 'slower', 'slowing', 'slowly', 'slowmotion', 'slows', 'sluggish', 'slump', 'sm', 'small', 'smaller', 'smallest', 'smallscale', 'smalltalk', 'smalltown', 'smart', 'smartcard', 'smarter', 'smartest', 'smartphone', 'smartphones', 'smartwatch', 'smartwatching', 'smashing', 'smell', 'smile', 'smime', 'smith', 'smoke', 'smoker', 'smoking', 'smolder', 'smooth', 'smoothsort', 'smt', 'smuggled', 'snack', 'snafu', 'snake', 'snakebite', 'snap', 'snapchat', 'snapchats', 'snapdragon', 'snark', 'sneaker', 'sneeze', 'sniff', 'snigl', 'snobbery', 'snooping', 'snoopy', 'snopes', 'snow', 'snowball', 'snowden', 'snowfall', 'snowshoe', 'snub', 'soap', 'soar', 'sobering', 'sobriety', 'soc', 'socalled', 'soccer', 'social', 'socialamnesia', 'socialism', 'societal', 'society', 'socket', 'sockmap', 'soda', 'soft', 'softbank', 'soften', 'softer', 'software', 'softwarecontrolled', 'softwaredefined', 'softwareengineering', 'soil', 'sokal', 'solar', 'solarflare', 'solarpowered', 'sold', 'solder', 'soldier', 'sole', 'soliciting', 'solid', 'solidstate', 'solitaire', 'solitary', 'solo', 'solomon', 'solution', 'solve', 'solved', 'solver', 'solves', 'solving', 'someday', 'someone', 'something', 'sometimes', 'son', 'song', 'songcraft', 'songwriting', 'sonic', 'sony', 'sonys', 'soon', 'sop', 'sorbet', 'soros', 'sorrow', 'sorry', 'sort', 'sorted', 'sorting', 'sortofcpm', 'sortraits', 'sought', 'soul', 'sound', 'soundcard', 'soundfont', 'sounding', 'soundness', 'soundzoom', 'soup', 'soupedup', 'sour', 'source', 'sourceavailable', 'sourcebusterjs', 'sourced', 'sourcehut', 'sourcehuts', 'sourcetosource', 'sourcetrail', 'sourcing', 'south', 'southendonsea', 'southern', 'southwest', 'sovereign', 'soviet', 'sp500', 'spa', 'space', 'spacecraft', 'spaced', 'spaceflight', 'spacetime', 'spacevim', 'spacex', 'spacy', 'spaghetti', 'spain', 'spam', 'spamfilters', 'spamming', 'span', 'spanish', 'spanning', 'sparcbook', 'spare', 'spark', 'sparked', 'sparkle', 'sparse', 'sparselygated', 'sparser', 'sparta', 'spartan', 'spaseio', 'spatial', 'spatialos', 'speak', 'speaker', 'speaking', 'speaks', 'spec', 'specexec', 'special', 'specialist', 'specialized', 'specially', 'specialpurpose', 'specie', 'specific', 'specification', 'specifying', 'spectacle', 'spectre', 'spectremeltdownl1tfmds', 'spectrum', 'speculative', 'speech', 'speech2face', 'speech2text', 'speechtocode', 'speechtospeech', 'speed', 'speedgate', 'speedoptimized', 'speedrunning', 'speedup', 'spektral', 'spellable', 'spelled', 'spend', 'spender', 'spending', 'spends', 'spent', 'sperm', 'spice', 'spider', 'spidermon', 'spied', 'spiel', 'spiked', 'spill', 'spillway', 'spin', 'spina', 'spinach', 'spine', 'spinning', 'spinout', 'spite', 'splash', 'splashdown', 'splatter', 'spleen', 'spliced', 'splicing', 'spline', 'split', 'splitting', 'spoiler', 'spoiling', 'spoken', 'sponge', 'spongebob', 'sponsor', 'sponsored', 'spontaneous', 'spoof', 'spoofing', 'spookily', 'spoon', 'sport', 'spot', 'spotify', 'spotifyapp', 'spotlight', 'spotted', 'spotting', 'spouse', 'spraying', 'sprayprinter', 'spread', 'spreading', 'spreadsheet', 'spreadsheetlike', 'spree', 'sprint', 'sprite', 'spritestack', 'sprout', 'spur', 'spurious', 'spurred', 'spy', 'spycraft', 'spying', 'spyware', 'sql', 'sqler', 'sqlite', 'sqs', 'squad', 'square', 'squared', 'squarepants', 'squeak', 'squeeze', 'squeezed', 'squeezing', 'squid', 'squirrel', 'sr71', 'sr71s', 'sre', 'srht', 'sri', 'ssa', 'ssaform', 'ssai', 'ssd', 'ssds', 'sse', 'ssh', 'sshdocker', 'ssl', 'sslcerts', 'ssri', 'st', 'stability', 'stable', 'stablecoin', 'stack', 'stackdriver', 'stacking', 'stackless', 'stackoverflow', 'stadium', 'staff', 'staffed', 'staffer', 'stage', 'staged', 'staging', 'stagnant', 'stagnation', 'stain', 'stained', 'stainlesssteel', 'stake', 'stalin', 'stallmans', 'stamp', 'stan', 'stand', 'standalone', 'standard', 'standardize', 'standardized', 'standardizing', 'standardsrest', 'standing', 'standoff', 'stanford', 'stanislaw', 'stanley', 'staple', 'stapleton', 'star', 'starbucks', 'starcraft', 'stardew', 'starinov', 'stark', 'starkey', 'starlink', 'starry', 'starship', 'starsky', 'start', 'started', 'starter', 'starting', 'startup', 'starz', 'stasi', 'state', 'statebacked', 'stateless', 'statement', 'stateoftheart', 'stateowned', 'static', 'statically', 'station', 'statistic', 'statistical', 'statistically', 'statistique', 'stats', 'statue', 'status', 'stay', 'staying', 'stdlib', 'steal', 'stealing', 'steam', 'steel', 'steep', 'steepest', 'steer', 'steganography', 'steiger', 'steinway', 'stellar', 'stellarium', 'stem', 'step', 'stepbystep', 'stephen', 'stephenson', 'stepping', 'stereo', 'stereogram', 'steroid', 'steve', 'steven', 'steves', 'steward', 'stick', 'sticker', 'stigma', 'still', 'stimulant', 'sting', 'stink', 'stir', 'stirring', 'stirrup', 'stirshaken', 'stitch', 'stitchfix', 'stm32', 'stmicro', 'stochastic', 'stock', 'stockfish', 'stockholm', 'stockpiling', 'stoic', 'stoicism', 'stokes', 'stole', 'stolen', 'stomach', 'stone', 'stonehenge', 'stood', 'stop', 'stoppage', 'stopped', 'stopping', 'storage', 'store', 'stored', 'storex', 'storing', 'storm', 'story', 'strache', 'stradivarius', 'straight', 'strails', 'strain', 'strandbeest', 'strange', 'strangelooking', 'strangeness', 'stranger', 'strangest', 'strangler', 'strangs', 'strans', 'strapped', 'strategic', 'strategy', 'stratolaunch', 'strava', 'straw', 'strawberry', 'streak', 'stream', 'streamer', 'streaming', 'streebog', 'street', 'streetlight', 'streisand', 'strength', 'stress', 'stressed', 'stretch', 'strict', 'strictest', 'strike', 'string', 'strip', 'stripe', 'stripped', 'strippeddown', 'stroads', 'strobe', 'stroke', 'strong', 'stronger', 'strongest', 'strongly', 'struck', 'struct', 'structural', 'structure', 'structured', 'structuring', 'struggle', 'struggled', 'struggling', 'strumia', 'ststettfalcon', 'stub', 'stubborn', 'stuck', 'student', 'studied', 'studio', 'study', 'studying', 'stuff', 'stuffed', 'stump', 'stunning', 'stunningly', 'stuns', 'stupid', 'stupidity', 'style', 'styleable', 'styled', 'stylelint', 'stylish', 'sub', 'subacute', 'subaru', 'subdue', 'subfield', 'subgrid', 'subinterpreters', 'subject', 'sublime', 'submarine', 'submit', 'submitted', 'subnetworks', 'subpoena', 'subprime', 'subprocess', 'subreddits', 'subsaharan', 'subscriber', 'subscribing', 'subscription', 'subscriptionpocalypse', 'subsidize', 'subsidizing', 'subsidy', 'substantially', 'substitute', 'subsystem', 'subtitle', 'subtle', 'subtlety', 'subtraction', 'subtractive', 'suburb', 'suburban', 'subway', 'succeed', 'succeeded', 'success', 'successful', 'successfully', 'succession', 'successor', 'succulent', 'suck', 'sucker', 'sudan', 'suddenly', 'sudoku', 'sue', 'sued', 'suffer', 'suffering', 'suffers', 'suffocating', 'sugar', 'sugary', 'suggest', 'suggesting', 'suggests', 'suicidal', 'suicide', 'suit', 'suite', 'summarization', 'summarized', 'summarizer', 'summary', 'summation', 'summer', 'summit', 'sumofthreecubes', 'sun', 'sundar', 'sunday', 'sunfish', 'sunglass', 'sunlight', 'sunscreen', 'sunset', 'supdate', 'super', 'superblock', 'superbowl', 'supercharger', 'supercharging', 'supercomputer', 'superconductivity', 'superconductor', 'superconductors', 'supergrid', 'superhighway', 'superionic', 'superior', 'superjumbos', 'supermarket', 'supermicro', 'superpower', 'superrich', 'superscalar', 'supersonic', 'supersponge', 'superstimulate', 'supertuxkart', 'supervision', 'supper', 'supplement', 'supplier', 'supply', 'supplychain', 'support', 'supported', 'supporter', 'supporting', 'suppression', 'supreme', 'sure', 'surely', 'surf', 'surface', 'surge', 'surgeon', 'surgery', 'surgical', 'surgically', 'surpassed', 'surplus', 'surprise', 'surprised', 'surprising', 'surprisingly', 'surrealist', 'surrender', 'surveillance', 'survey', 'survival', 'survive', 'survived', 'survivor', 'susceptible', 'suse', 'suspect', 'suspected', 'suspend', 'suspended', 'suspendresume', 'suspends', 'suspension', 'sustainability', 'sustainable', 'sv', 'svalbard', 'svelte', 'svg', 'svgbob', 'sviatoslav', 'swallowing', 'swamp', 'swansea', 'swapping', 'swarm', 'swatter', 'swatting', 'sway', 'swc', 'swear', 'swears', 'sweat', 'sweatshop', 'sweden', 'swedish', 'sweeping', 'sweetened', 'swerv', 'swift', 'swiftui', 'swiftwasm', 'swimmer', 'swimming', 'swindle', 'swine', 'swing', 'swipe', 'swiss', 'swissvote', 'switch', 'switched', 'switching', 'switzerland', 'sword', 'symbol', 'symbolic', 'symbolics', 'symlinkrace', 'symptom', 'synapsis', 'sync', 'synchronization', 'synchronize', 'synchronizing', 'synchrony', 'syncing', 'syncthing', 'syndrome', 'synonymous', 'syntax', 'synthesis', 'synthesizer', 'synthetic', 'synths', 'syria', 'sysadmin', 'system', 'system360', 'system360370', 'system76', 'systematic', 'systemd', 'systemdjournald', 'systemic', 'systemslowlevel', 't1', 't2', 't25', 't265', 'tab', 'tabbed', 'table', 'tableau', 'tableplus', 'tablesaw', 'tablet', 'tabletop', 'tabular', 'tackle', 'tackling', 'tactic', 'tag', 'tagboard', 'taichi', 'tail', 'tailored', 'taiwan', 'taiwanese', 'takahashi', 'takaoka', 'take', 'takeaway', 'takedown', 'takehome', 'taken', 'takeoff', 'taking', 'tale', 'talebs', 'talent', 'talented', 'taliban', 'talk', 'talking', 'talkinghead', 'talkshow', 'taller', 'tallest', 'talos', 'tame', 'tamed', 'tangent', 'tank', 'tanker', 'tao', 'tap', 'tape', 'taped', 'tapering', 'tapping', 'tar', 'tarantino', 'target', 'targeted', 'targeting', 'targz', 'tariff', 'taro', 'tarpit', 'tarrare', 'task', 'tasmanian', 'taste', 'tastier', 'tatsuya', 'tattoo', 'taught', 'taunting', 'tax', 'taxed', 'taxevasion', 'taxfree', 'taxi', 'taxing', 'taxonomy', 'taxpayer', 'taycan', 'taylor', 'tbox', 'tcp', 'tcpip', 'tdp', 'tea', 'teach', 'teacher', 'teaching', 'team', 'teapot', 'tear', 'teardown', 'tech', 'techheavy', 'techlash', 'technical', 'technically', 'technique', 'techno', 'technologist', 'technology', 'technosignature', 'techoriented', 'techsavvy', 'tectonic', 'tectonically', 'ted', 'teen', 'teenage', 'teenager', 'teenytiny', 'teeth', 'telco', 'telecom', 'telecommunication', 'telegram', 'telekom', 'telemetry', 'telephone', 'telephony', 'telescope', 'teletype', 'television', 'tell', 'telling', 'telnet', 'temp', 'temperature', 'template', 'templating', 'templeos', 'temporal', 'temporarily', 'temporary', 'temptation', 'ten', 'tenant', 'tencent', 'tend', 'tennessee', 'tense', 'tension', 'tensor', 'tensorflow', 'tensorflowbased', 'tensorflowjs', 'tent', 'tentacle', 'tenth', 'tenure', 'tenurebased', 'terabyte', 'term', 'terminal', 'terminate', 'terminated', 'terminates', 'termination', 'termius', 'termshark', 'terra', 'terraform', 'terrain', 'terrapattern', 'terrestrial', 'terrible', 'terrifying', 'territory', 'terror', 'terrorist', 'terrority', 'terry', 'tertill', 'tesla', 'test', 'testable', 'tested', 'tester', 'testify', 'testimony', 'testing', 'testosterone', 'tether', 'tethered', 'tetrahydrocannabinol', 'tetri', 'tex', 'texas', 'text', 'textbook', 'texting', 'textonly', 'textreme', 'texture', 'textworld', 'tfidf', 'thai', 'thailand', 'thank', 'thanks', 'thatll', 'thats', 'thawing', 'thc', 'theatre', 'thee', 'theft', 'theia', 'thelio', 'theme', 'themeforest', 'theologian', 'theorem', 'theoretical', 'theory', 'theranos', 'therapist', 'therapy', 'there', 'thereof', 'theresa', 'thermal', 'theyre', 'theyve', 'thief', 'thiels', 'thin', 'thing', 'think', 'thinker', 'thinking', 'thinkpad', 'third', 'thirdbiggest', 'thirdparty', 'thirst', 'thirty', 'thirtyhour', 'thomas', 'thorough', 'thought', 'thoughter', 'thousand', 'thread', 'threaded', 'threat', 'threaten', 'threatened', 'threatening', 'threatens', 'three', 'threeday', 'threejs', 'threema', 'threepage', 'thriceflown', 'thrift', 'thrill', 'thrive', 'thrived', 'thriving', 'throne', 'throttling', 'throughout', 'throughput', 'throw', 'throwback', 'throwing', 'thrust', 'thucydides', 'thule', 'thunderbird', 'thunderbolt', 'thundering', 'thursday', 'ti', 'ti84', 'tiananmen', 'tibetan', 'tick', 'ticket', 'ticketholder', 'ticketing', 'ticking', 'tickling', 'tictoctrack', 'tidal', 'tidb', 'tie', 'tied', 'tierney', 'tighten', 'tightens', 'tik', 'tiktok', 'tile', 'tile38', 'tiling', 'tilling', 'tilt', 'tim', 'timber', 'time', 'timelapse', 'timeline', 'timescaledb', 'timeseries', 'timestamped', 'timestamps', 'timetable', 'timex', 'timing', 'tinderstyle', 'tinfoil', 'tinkersynth', 'tiny', 'tinyalloc', 'tinyseed', 'tinytetris', 'tiobe', 'tip', 'tipoff', 'tipping', 'tire', 'tired', 'tissue', 'titan', 'titanium', 'title', 'tl', 'tla', 'tld', 'tldr', 'tlds', 'tlssni01', 'tmobile', 'tmobilesprint', 'toast', 'tobacco', 'todate', 'today', 'toddler', 'todo', 'todolist', 'tofu', 'together', 'toil', 'toilet', 'tok', 'tokamak', 'token', 'tokyo', 'told', 'tolerable', 'tolerance', 'tolerate', 'tolkien', 'toll', 'tolstoy', 'tom', 'tomato', 'tomb', 'tomcrypt', 'tomorrow', 'ton', 'tonedeaf', 'tonejs', 'tonga', 'tonight', 'tonkin', 'tonne', 'tony', 'took', 'tool', 'toolbox', 'toolchain', 'toolchains', 'toolkit', 'toolsmethods', 'tootdon', 'toothbrush', 'top', 'topdown', 'topic', 'topological', 'topology', 'topranked', 'topsecret', 'tor', 'torguard', 'tornado', 'toronto', 'torrent', 'torrentfreak', 'torsshsh', 'tortoise', 'torvalds', 'tos', 'toshi', 'total', 'totaled', 'touch', 'touchpad', 'touchscreen', 'touchstone', 'touchtech', 'tough', 'toughest', 'tour', 'tourist', 'tout', 'toward', 'towards', 'towed', 'towel', 'tower', 'town', 'tox', 'toxic', 'toy', 'toyota', 'tpm', 'tpu', 'traccar', 'trace', 'tracebacks', 'traced', 'tracer', 'tracing', 'track', 'tracker', 'tracking', 'trackpoint', 'tractor', 'trade', 'trademark', 'trademarked', 'tradeoff', 'trader', 'tradesman', 'trading', 'traditional', 'traditionally', 'traduora', 'traffic', 'trafficbusting', 'trafficker', 'tragedy', 'trail', 'trailer', 'traillift', 'train', 'training', 'trainwreck', 'trait', 'trajectory', 'trak', 'transaction', 'transactionid', 'transatomic', 'transcatheter', 'transcendental', 'transcoding', 'transcribe', 'transcribed', 'transcription', 'transfer', 'transferred', 'transform', 'transformation', 'transformative', 'transformed', 'transformer', 'transformerxl', 'transforming', 'transforms', 'transfusion', 'transistor', 'transit', 'transition', 'transitioned', 'translate', 'translated', 'translating', 'translation', 'translatotron', 'transmissible', 'transmission', 'transmit', 'transmitter', 'transparency', 'transparent', 'transpile', 'transplant', 'transplanting', 'transport', 'transportation', 'trap', 'trapdoor', 'trapped', 'trash', 'trauma', 'travel', 'travelchime', 'traveled', 'traveler', 'traveling', 'traveller', 'traversal', 'travis', 'treasure', 'treasury', 'treat', 'treated', 'treatment', 'treaty', 'tree', 'trek', 'trellolike', 'tremor', 'trench', 'trend', 'trending', 'trendy', 'trexo', 'triage', 'trial', 'triangle', 'triangulum', 'tribe', 'trick', 'tricked', 'tricky', 'tridactyl', 'tried', 'trigger', 'triggering', 'trilemma', 'trilium', 'trillion', 'trinity', 'trip', 'triple', 'tripping', 'trippy', 'tristan', 'triton', 'triumph', 'trivia', 'troika', 'trojan', 'troll', 'trollfavored', 'trolling', 'trombone', 'troop', 'tropical', 'trouble', 'troubled', 'troubleshooting', 'trove', 'truce', 'truck', 'trucker', 'true', 'truffle', 'truly', 'trump', 'trust', 'trustbusting', 'trustfund', 'trustworthy', 'truth', 'try', 'trying', 'tsa', 'tsastyle', 'tsetlin', 'tshark', 'tshirts', 'tsinghua', 'tsmc', 'tsmcs', 'tsp', 'tsunami', 'tube', 'tudder', 'tuft', 'tufte', 'tui', 'tuition', 'tulip', 'tumble', 'tumblr', 'tumor', 'tun', 'tune', 'tuned', 'tuning', 'tunisia', 'tunnel', 'tunnelling', 'turbine', 'turboboosted', 'turbocharge', 'turbotax', 'turing', 'turkers', 'turkish', 'turn', 'turnaround', 'turned', 'turning', 'turnover', 'turo', 'tusk', 'tutorial', 'tv', 'tvshows', 'twa', 'tweak', 'tweet', 'tweeting', 'twenty', 'twh', 'twice', 'twigg', 'twilight', 'twilio', 'twin', 'twist', 'twisted', 'twitch', 'twitter', 'two', 'twoacre', 'twofactor', 'twothirds', 'twoway', 'txqr', 'txr', 'txti', 'tycoon', 'type', 'typec', 'typechecker', 'typed', 'typeface', 'typelevel', 'typesafe', 'typescript', 'typesetting', 'typewriter', 'typex', 'typically', 'typing', 'typography', 'tyranny', 'u', 'u2', 'u2f', 'uae', 'uav', 'ub', 'uber', 'ubers', 'ubi', 'ubiome', 'ublock', 'ubs', 'ubuntu', 'uc', 'udacity', 'uefi', 'ufo', 'uganda', 'ugly', 'uhd', 'uhlenbeck', 'ui', 'uis', 'uk', 'ukrainian', 'ulbricht', 'ulisp', 'ultima', 'ultimate', 'ultra', 'ultrahd', 'ultralisp', 'ultraprocessed', 'ultrarare', 'ultrasound', 'ultratimeefficient', 'ultraviolent', 'ultraviolet', 'ultrawealthy', 'ultrawide', 'umbrella', 'umich', 'un', 'una', 'unable', 'unauthorized', 'unborn', 'unbridled', 'unbroke', 'unbundling', 'uncanny', 'uncap', 'uncaptcha2', 'uncertainty', 'uncharted', 'uncleftish', 'uncomfortable', 'uncompromising', 'unconscious', 'unconstitutional', 'unconventional', 'uncorrelated', 'uncover', 'uncovered', 'uncovers', 'uncrewed', 'undefined', 'under18s', 'underactuated', 'underappreciated', 'underclocking', 'undercover', 'underdelivered', 'underestimated', 'undergrad', 'underground', 'undermined', 'undermining', 'underpaid', 'underpaying', 'underrepresented', 'underscored', 'underscreen', 'undersea', 'understand', 'understanding', 'underused', 'undervalued', 'underwater', 'underway', 'underworld', 'underwriter', 'undetected', 'undisclosed', 'undocumented', 'unearthed', 'unemployed', 'unemployment', 'unencrypted', 'unencumbered', 'unequal', 'unexpected', 'unexpectedly', 'unexplained', 'unfair', 'unhackable', 'unhappiness', 'unhappy', 'unhashed', 'unheard', 'uni', 'unicef', 'unicode', 'unicorn', 'unification', 'unified', 'unifont', 'uniform', 'unifying', 'unikernel', 'unikernels', 'uninitialized', 'unintentionally', 'union', 'unionize', 'unionizing', 'unique', 'unirotor', 'unit', 'united', 'uniter', 'unity', 'universal', 'universe', 'university', 'unix', 'unixfriendly', 'unixhaters', 'unixlike', 'unixlinux', 'unixlinuxposix', 'unknowingly', 'unknown', 'unlearned', 'unleash', 'unleashed', 'unleashing', 'unless', 'unlikely', 'unlimited', 'unlivable', 'unlock', 'unlocked', 'unlocks', 'unmanaged', 'unmasked', 'unmasking', 'unmetered', 'unnecessary', 'unofficial', 'unpaid', 'unplanted', 'unpleasant', 'unplug', 'unplugging', 'unprecedented', 'unpressurized', 'unprivileged', 'unprofitable', 'unprovability', 'unraveling', 'unrealistic', 'unreasonable', 'unregistered', 'unregulated', 'unreported', 'unsafe', 'unsanitary', 'unsatisfying', 'unschooled', 'unschooling', 'unscientific', 'unseals', 'unsee', 'unseen', 'unsettling', 'unsexy', 'unsolvable', 'unsolved', 'unsorted', 'unstable', 'unstructured', 'unsubscribed', 'unsubscription', 'unsung', 'unsupervised', 'unsupported', 'unthinkable', 'untimely', 'untold', 'untouched', 'untrusted', 'untyped', 'unusably', 'unused', 'unusedcss', 'unusual', 'unvaccinated', 'unveil', 'unveiled', 'unveiling', 'unveils', 'unwalledgarden', 'unwind', 'unwittingly', 'uommibatto', 'update', 'updated', 'upend', 'upended', 'upending', 'upends', 'upfront', 'upgrade', 'upgraded', 'upload', 'uploaddownload', 'uploaded', 'uploading', 'uploads', 'upnp', 'upon', 'uppy', 'uprising', 'ups', 'upside', 'upsolve', 'upvote', 'upwork', 'uranium', 'uranus', 'urban', 'urbanism', 'urbano', 'urge', 'urged', 'urgent', 'urging', 'uri', 'urinal', 'uris', 'url', 'urllib', 'uroboros', 'urql', 'ursula', 'uruguay', 'us', 'us10144532b2', 'usa', 'usability', 'usaf', 'usage', 'usain', 'usb', 'usb4', 'usbc', 'usborne', 'usda', 'usdbacked', 'usdmonth', 'use', 'used', 'useeffect', 'useful', 'useless', 'user', 'useragent', 'userbase', 'usercentric', 'userfriendly', 'userlevel', 'usermode', 'username', 'userspace', 'using', 'usmexico', 'usps', 'uspto', 'usthai', 'usual', 'usually', 'utah', 'utc', 'utf8', 'utilisation', 'utilitarian', 'utility', 'utopia', 'utopian', 'utterance', 'uucp', 'uuid', 'uuids', 'uw', 'uwp', 'ux', 'uxy', 'uyghur', 'uyghurs', 'v', 'v0190', 'v050', 'v100', 'v1000', 'v11', 'v110', 'v114', 'v140', 'v18', 'v2', 'v3', 'v316', 'v37', 'v3vee', 'v400', 'v5', 'v50', 'v62', 'v64', 'v700', 'v71', 'v72', 'v8', 'v80', 'va', 'vacation', 'vaccination', 'vaccine', 'vacuum', 'vacuumed', 'valetparking', 'valgrind', 'valid', 'validation', 'valitor', 'valley', 'valor', 'valuable', 'valuation', 'value', 'valued', 'valve', 'vampire', 'van', 'vancouver', 'vanguard', 'vanilla', 'vanish', 'vanished', 'vanishing', 'vanlife', 'vaping', 'variable', 'variance', 'variant', 'variational', 'various', 'varroa', 'vase', 'vast', 'vastly', 'vault', 'vbmi', 'vc', 'vchan', 'vector', 'vectorization', 'vectorized', 'vectrex', 'vega', 'vegan', 'vegetable', 'vegetarian', 'vehicle', 'veil', 'velocity', 'vendor', 'venezuela', 'venezuelan', 'venice', 'venn', 'vent', 'ventilation', 'venture', 'venus', 'verdi', 'verge', 'verifiable', 'verification', 'verified', 'verify', 'verilator', 'verilog', 'verizon', 'vermeer', 'vermont', 'vernacular', 'version', 'versioning', 'versus', 'vertically', 'vessel', 'vest', 'veteran', 'vetting', 'vewy', 'vexing', 'vfx', 'vga', 'vgamousekeyboardvt100', 'vhs', 'vi', 'via', 'viable', 'vic20', 'vice', 'victim', 'video', 'videocommon', 'videoflow', 'videogame', 'vienna', 'vietnam', 'view', 'viewer', 'viewing', 'vignette', 'vii', 'vikingage', 'village', 'villain', 'villainy', 'vim', 'vim8', 'vimdev', 'vimneovim', 'vimperator', 'vimwasm', 'vinci', 'vinod', 'vintage', 'vinyl', 'violate', 'violated', 'violates', 'violating', 'violation', 'violence', 'violent', 'violet', 'vip', 'virgin', 'virginia', 'virtio', 'virtiofs', 'virtual', 'virtualization', 'virtually', 'virtue', 'virus', 'visa', 'visibility', 'visible', 'vision', 'visionary', 'visit', 'visiting', 'visitor', 'visma', 'vista', 'visual', 'visualisation', 'visualization', 'visualize', 'visualized', 'visualizes', 'visualizing', 'visually', 'visuals', 'vita', 'vitamin', 'vivaldi', 'vive', 'vivox', 'vixie', 'vladimir', 'vlc', 'vm', 'vmalloc', 'vms', 'vmware', 'vocal', 'vocoder', 'vodafone', 'voice', 'voilà', 'volatile', 'volcanic', 'volcano', 'volk', 'volkswagen', 'volt', 'voltaire', 'voltmeter', 'volume', 'volument', 'voluntarily', 'volunteer', 'volvo', 'von', 'vonnegut', 'voodoo1', 'voronoidelaunay', 'vote', 'voted', 'voter', 'voting', 'vow', 'voyage', 'voynich', 'vp', 'vp8', 'vpn', 'vpns', 'vpnsecure', 'vps', 'vr', 'vrscript', 'vscode', 'vscodium', 'vue', 'vuejs', 'vugu', 'vulcanizer', 'vulkan', 'vuln', 'vulnerability', 'vulnerable', 'vuvuzela', 'vw', 'w11', 'w14', 'w16', 'w17', 'w19', 'w3c', 'w3schoolsdev', 'w5lfl', 'wac', 'waffle', 'wag', 'wage', 'waif', 'waifu', 'wait', 'waited', 'waiting', 'wake', 'walg', 'walk', 'walker', 'walking', 'walkout', 'wall', 'walled', 'wallet', 'wallpaper', 'walmart', 'wander', 'wanderlust', 'wannacry', 'want', 'wanted', 'wapm', 'war', 'warby', 'warcraft', 'wardley', 'warehouse', 'warehousescale', 'warfare', 'wargames', 'warming', 'warn', 'warned', 'warning', 'warns', 'warp', 'warrant', 'warrantless', 'warren', 'warrior', 'warship', 'wary', 'wasabi', 'wash', 'washed', 'washington', 'wasi', 'wasm', 'wasmer', 'wasmwinforms', 'wasnt', 'wasp', 'waste', 'wasted', 'wasting', 'watch', 'watched', 'watching', 'watchlist', 'watchmaker', 'watchme', 'watchtower', 'water', 'watercss', 'watered', 'waterfox', 'wateronly', 'waterway', 'watson', 'wave', 'way', 'wayback', 'wayland', 'waymo', 'waze', 'weak', 'weakness', 'wealth', 'wealthcreation', 'wealthy', 'weapon', 'wear', 'wearable', 'wearer', 'wearing', 'weasel', 'weather', 'web', 'webapp', 'webapps', 'webassembly', 'webauthn', 'webb', 'webbased', 'webcam', 'webgl', 'webgl1', 'webhook', 'webiny', 'webkit', 'webpack', 'webpage', 'webrender', 'webrtc', 'webserverapp', 'webshell', 'website', 'websiteblog', 'websocket', 'websocketd', 'websockets', 'webstorm', 'webthings', 'webtoons', 'webview', 'wechat', 'wedding', 'wedgwood', 'wednesday', 'weeding', 'week', 'weekend', 'weekly', 'weighed', 'weighs', 'weight', 'weightagnostic', 'weightlifting', 'weil', 'weinberg', 'weird', 'weirdening', 'weirdness', 'welcome', 'welding', 'welfare', 'well', 'wellbeing', 'wellmeaning', 'wellness', 'weltschmerz', 'went', 'wepay', 'werent', 'west', 'western', 'westerner', 'westjet', 'wet', 'weve', 'wework', 'weworking', 'wgpu', 'whale', 'whaling', 'whanganui', 'whappirc', 'whatever', 'whats', 'whatsapp', 'whatwg', 'wheat', 'wheel', 'wheres', 'whether', 'while1', 'whimsical', 'whine', 'whirlwind', 'whiskey', 'whistle', 'whistleblower', 'whistleblowing', 'whistled', 'white', 'whiteboard', 'whitecollar', 'whitelists', 'whitespace', 'whitewash', 'whitney', 'whole', 'wholebody', 'wholesale', 'wholesome', 'whopper', 'whore', 'whose', 'why', 'wide', 'wideangle', 'wideband', 'widening', 'widens', 'widespread', 'widevine', 'widget', 'widlar', 'wife', 'wifi', 'wiki', 'wikileaks', 'wikimedia', 'wikipedia', 'wikipedian', 'wikipedias', 'wikis', 'wild', 'wildduck', 'wildest', 'wildfire', 'wildlife', 'wilkinson', 'william', 'williamson', 'willpower', 'wilson', 'wilted', 'win', 'win32', 'wind', 'windfall', 'winding', 'windmill', 'window', 'wine', 'winforms', 'wing', 'wingtip', 'winner', 'winning', 'winter', 'wintun', 'wio', 'wipe', 'wiphone', 'wipro', 'wire', 'wirecard', 'wireguard', 'wireguarddocs', 'wireless', 'wireshark', 'wisconsin', 'wisdom', 'wish', 'wisper', 'witch', 'witchhunt', 'withdraw', 'withdrawal', 'withdrawing', 'withfriends', 'within', 'without', 'wittgenstein', 'wizard', 'wizardry', 'wlrootsrs', 'woe', 'wojcicki', 'wolf', 'wolfe', 'wolfenstein', 'wolfram', 'woman', 'womanmonitoring', 'womb', 'wombat', 'wonder', 'wonderful', 'wondering', 'wonderland', 'wong', 'wont', 'wood', 'wooden', 'word', 'word2vec', 'wordpress', 'work', 'workbook', 'workday', 'worked', 'worker', 'workersdev', 'workflow', 'workforce', 'working', 'workinprogress', 'workism', 'worklife', 'workout', 'workplace', 'workshop', 'workspace', 'workstation', 'workswithnest', 'workweek', 'world', 'worldwide', 'worldwideweb', 'worm', 'wormable', 'wormhole', 'worried', 'worry', 'worrying', 'worse', 'worsen', 'worst', 'worstsort', 'worth', 'worthless', 'would', 'wounding', 'woven', 'wow', 'wp', 'wpa3', 'wpf', 'wrangham', 'wrapper', 'wrath', 'wreaks', 'wreck', 'wrecked', 'wrf', 'write', 'writer', 'writes', 'writeup', 'writewhatwhere', 'writing', 'written', 'wrong', 'wrongful', 'wrote', 'wsj', 'wsl', 'wsl2', 'wtf', 'ww2', 'wwdc', 'wwii', 'wwv', 'wwwcloudflarecom', 'wyden', 'wyhash', 'wysiwyg', 'wyze', 'x', 'x210', 'x265', 'x68000', 'x86', 'x8664', 'xanadu', 'xapiand', 'xavier', 'xbox', 'xcel', 'xcode', 'xdp', 'xdpcap', 'xdr', 'xed', 'xen', 'xendbg', 'xenix', 'xenophon', 'xenserver', 'xerox', 'xerrors', 'xfiles', 'xfs', 'xg2xg', 'xhci', 'xi', 'xiaomi', 'xieditor', 'xilinx', 'xinjiang', 'xiphorg', 'xkcdstyle', 'xl', 'xmake', 'xmpp', 'xnu', 'xp', 'xpath', 'xplane', 'xps', 'xr', 'xray', 'xrp', 'xs4all', 'xspreadsheet', 'xubuntu', 'xvalues', 'xxh3', 'xy', 'xz', 'yacht', 'yahoo', 'yakuza', 'yale', 'yaml', 'yang', 'yann', 'yard', 'yarn', 'yc', 'yc120', 'ycs', 'year', 'year2038', 'yearlong', 'yearslong', 'yeast', 'yelling', 'yellow', 'yelp', 'yeltsin', 'yes', 'yesterday', 'yet', 'yggdrasil', 'yiannopoulos', 'yiddish', 'yield', 'yodeler', 'yoga', 'yogurt', 'yolo', 'york', 'yorkers', 'yoshua', 'youd', 'young', 'youngblood', 'younger', 'youngster', 'youre', 'youth', 'youthful', 'youtube', 'youtubedl', 'youtuber', 'youve', 'yr', 'ytmnd', 'yuan', 'yubikey', 'yudkin', 'yugabyte', 'yukaghir', 'yuml', 'yun', 'yuri', 'z', 'z3', 'z80', 'zabbix', 'zagreb', 'zanzibar', 'zaporozhian', 'zapping', 'zarf', 'zdog', 'zealand', 'zealotry', 'zebra', 'zeit', 'zelda', 'zen', 'zeppelin', 'zero', 'zerobudget', 'zerocarbon', 'zeroconfig', 'zeroday', 'zerodays', 'zerohttpd', 'zeroing', 'zeroknowledge', 'zeronet', 'zeroshot', 'zerosize', 'zerowaste', 'zetasql', 'zfs', 'zig', 'zil', 'zillow', 'zip', 'zipline', 'zipper', 'zircon', 'zkeme80', 'zksnark', 'zlua', 'zmachine', 'zombie', 'zombieload', 'zone', 'zoo', 'zoom', 'zork', 'zorp', 'zotero', 'zsh', 'zstandard', 'zte', 'zuckerberg', 'zuckerbergs', 'zulip', 'zx', 'zx81', 'λcalculuschurch']\n"
     ]
    }
   ],
   "source": [
    "from sklearn.feature_extraction.text import TfidfVectorizer\n",
    "df_short = df_cleaned[df_cleaned.view >= 50].copy().reset_index(drop=True) # further reduce the data\n",
    "df_short['tag'] = df_short.view >= 100\n",
    "df_short.info()\n",
    "tfidf_vect = TfidfVectorizer(analyzer=clean_text)\n",
    "df_tfidf = tfidf_vect.fit_transform(df_short['title'])\n",
    "\n",
    "print(df_tfidf.shape)\n",
    "print(tfidf_vect.get_feature_names())"
   ]
  },
  {
   "cell_type": "code",
   "execution_count": 54,
   "metadata": {},
   "outputs": [
    {
     "data": {
      "text/html": [
       "<div>\n",
       "<style scoped>\n",
       "    .dataframe tbody tr th:only-of-type {\n",
       "        vertical-align: middle;\n",
       "    }\n",
       "\n",
       "    .dataframe tbody tr th {\n",
       "        vertical-align: top;\n",
       "    }\n",
       "\n",
       "    .dataframe thead th {\n",
       "        text-align: right;\n",
       "    }\n",
       "</style>\n",
       "<table border=\"1\" class=\"dataframe\">\n",
       "  <thead>\n",
       "    <tr style=\"text-align: right;\">\n",
       "      <th></th>\n",
       "      <th></th>\n",
       "      <th>0</th>\n",
       "      <th>00</th>\n",
       "      <th>00s</th>\n",
       "      <th>01</th>\n",
       "      <th>012</th>\n",
       "      <th>013</th>\n",
       "      <th>020</th>\n",
       "      <th>0200</th>\n",
       "      <th>0257</th>\n",
       "      <th>...</th>\n",
       "      <th>zotero</th>\n",
       "      <th>zsh</th>\n",
       "      <th>zstandard</th>\n",
       "      <th>zte</th>\n",
       "      <th>zuckerberg</th>\n",
       "      <th>zuckerbergs</th>\n",
       "      <th>zulip</th>\n",
       "      <th>zx</th>\n",
       "      <th>zx81</th>\n",
       "      <th>λcalculuschurch</th>\n",
       "    </tr>\n",
       "  </thead>\n",
       "  <tbody>\n",
       "    <tr>\n",
       "      <th>0</th>\n",
       "      <td>0.0</td>\n",
       "      <td>0.0</td>\n",
       "      <td>0.0</td>\n",
       "      <td>0.0</td>\n",
       "      <td>0.0</td>\n",
       "      <td>0.0</td>\n",
       "      <td>0.0</td>\n",
       "      <td>0.0</td>\n",
       "      <td>0.0</td>\n",
       "      <td>0.0</td>\n",
       "      <td>...</td>\n",
       "      <td>0.0</td>\n",
       "      <td>0.0</td>\n",
       "      <td>0.0</td>\n",
       "      <td>0.0</td>\n",
       "      <td>0.0</td>\n",
       "      <td>0.0</td>\n",
       "      <td>0.0</td>\n",
       "      <td>0.0</td>\n",
       "      <td>0.0</td>\n",
       "      <td>0.0</td>\n",
       "    </tr>\n",
       "    <tr>\n",
       "      <th>1</th>\n",
       "      <td>0.0</td>\n",
       "      <td>0.0</td>\n",
       "      <td>0.0</td>\n",
       "      <td>0.0</td>\n",
       "      <td>0.0</td>\n",
       "      <td>0.0</td>\n",
       "      <td>0.0</td>\n",
       "      <td>0.0</td>\n",
       "      <td>0.0</td>\n",
       "      <td>0.0</td>\n",
       "      <td>...</td>\n",
       "      <td>0.0</td>\n",
       "      <td>0.0</td>\n",
       "      <td>0.0</td>\n",
       "      <td>0.0</td>\n",
       "      <td>0.0</td>\n",
       "      <td>0.0</td>\n",
       "      <td>0.0</td>\n",
       "      <td>0.0</td>\n",
       "      <td>0.0</td>\n",
       "      <td>0.0</td>\n",
       "    </tr>\n",
       "    <tr>\n",
       "      <th>2</th>\n",
       "      <td>0.0</td>\n",
       "      <td>0.0</td>\n",
       "      <td>0.0</td>\n",
       "      <td>0.0</td>\n",
       "      <td>0.0</td>\n",
       "      <td>0.0</td>\n",
       "      <td>0.0</td>\n",
       "      <td>0.0</td>\n",
       "      <td>0.0</td>\n",
       "      <td>0.0</td>\n",
       "      <td>...</td>\n",
       "      <td>0.0</td>\n",
       "      <td>0.0</td>\n",
       "      <td>0.0</td>\n",
       "      <td>0.0</td>\n",
       "      <td>0.0</td>\n",
       "      <td>0.0</td>\n",
       "      <td>0.0</td>\n",
       "      <td>0.0</td>\n",
       "      <td>0.0</td>\n",
       "      <td>0.0</td>\n",
       "    </tr>\n",
       "    <tr>\n",
       "      <th>3</th>\n",
       "      <td>0.0</td>\n",
       "      <td>0.0</td>\n",
       "      <td>0.0</td>\n",
       "      <td>0.0</td>\n",
       "      <td>0.0</td>\n",
       "      <td>0.0</td>\n",
       "      <td>0.0</td>\n",
       "      <td>0.0</td>\n",
       "      <td>0.0</td>\n",
       "      <td>0.0</td>\n",
       "      <td>...</td>\n",
       "      <td>0.0</td>\n",
       "      <td>0.0</td>\n",
       "      <td>0.0</td>\n",
       "      <td>0.0</td>\n",
       "      <td>0.0</td>\n",
       "      <td>0.0</td>\n",
       "      <td>0.0</td>\n",
       "      <td>0.0</td>\n",
       "      <td>0.0</td>\n",
       "      <td>0.0</td>\n",
       "    </tr>\n",
       "    <tr>\n",
       "      <th>4</th>\n",
       "      <td>0.0</td>\n",
       "      <td>0.0</td>\n",
       "      <td>0.0</td>\n",
       "      <td>0.0</td>\n",
       "      <td>0.0</td>\n",
       "      <td>0.0</td>\n",
       "      <td>0.0</td>\n",
       "      <td>0.0</td>\n",
       "      <td>0.0</td>\n",
       "      <td>0.0</td>\n",
       "      <td>...</td>\n",
       "      <td>0.0</td>\n",
       "      <td>0.0</td>\n",
       "      <td>0.0</td>\n",
       "      <td>0.0</td>\n",
       "      <td>0.0</td>\n",
       "      <td>0.0</td>\n",
       "      <td>0.0</td>\n",
       "      <td>0.0</td>\n",
       "      <td>0.0</td>\n",
       "      <td>0.0</td>\n",
       "    </tr>\n",
       "  </tbody>\n",
       "</table>\n",
       "<p>5 rows × 14206 columns</p>\n",
       "</div>"
      ],
      "text/plain": [
       "          0   00  00s   01  012  013  020  0200  0257       ...         \\\n",
       "0  0.0  0.0  0.0  0.0  0.0  0.0  0.0  0.0   0.0   0.0       ...          \n",
       "1  0.0  0.0  0.0  0.0  0.0  0.0  0.0  0.0   0.0   0.0       ...          \n",
       "2  0.0  0.0  0.0  0.0  0.0  0.0  0.0  0.0   0.0   0.0       ...          \n",
       "3  0.0  0.0  0.0  0.0  0.0  0.0  0.0  0.0   0.0   0.0       ...          \n",
       "4  0.0  0.0  0.0  0.0  0.0  0.0  0.0  0.0   0.0   0.0       ...          \n",
       "\n",
       "   zotero  zsh  zstandard  zte  zuckerberg  zuckerbergs  zulip   zx  zx81  \\\n",
       "0     0.0  0.0        0.0  0.0         0.0          0.0    0.0  0.0   0.0   \n",
       "1     0.0  0.0        0.0  0.0         0.0          0.0    0.0  0.0   0.0   \n",
       "2     0.0  0.0        0.0  0.0         0.0          0.0    0.0  0.0   0.0   \n",
       "3     0.0  0.0        0.0  0.0         0.0          0.0    0.0  0.0   0.0   \n",
       "4     0.0  0.0        0.0  0.0         0.0          0.0    0.0  0.0   0.0   \n",
       "\n",
       "   λcalculuschurch  \n",
       "0              0.0  \n",
       "1              0.0  \n",
       "2              0.0  \n",
       "3              0.0  \n",
       "4              0.0  \n",
       "\n",
       "[5 rows x 14206 columns]"
      ]
     },
     "execution_count": 54,
     "metadata": {},
     "output_type": "execute_result"
    }
   ],
   "source": [
    "word_count_short_df = pd.DataFrame(df_tfidf.toarray(), columns=tfidf_vect.get_feature_names())\n",
    "word_count_short_df.head()"
   ]
  },
  {
   "cell_type": "code",
   "execution_count": 55,
   "metadata": {},
   "outputs": [],
   "source": [
    "from sklearn.cluster import KMeans\n",
    "km = KMeans(n_clusters=2, random_state=1)\n",
    "post_d = km.fit_transform(word_count_short_df)"
   ]
  },
  {
   "cell_type": "code",
   "execution_count": 56,
   "metadata": {},
   "outputs": [
    {
     "data": {
      "text/plain": [
       "array([[1.00006818, 1.03843059],\n",
       "       [0.99940167, 1.03896857],\n",
       "       [0.99870365, 0.95349165],\n",
       "       ...,\n",
       "       [0.99978455, 0.98467571],\n",
       "       [1.00017578, 1.03862589],\n",
       "       [1.00016877, 1.03896857]])"
      ]
     },
     "execution_count": 56,
     "metadata": {},
     "output_type": "execute_result"
    }
   ],
   "source": [
    "post_d"
   ]
  },
  {
   "cell_type": "code",
   "execution_count": 57,
   "metadata": {},
   "outputs": [
    {
     "name": "stdout",
     "output_type": "stream",
     "text": [
      "tag    False  True \n",
      "row_0              \n",
      "0       3700   6368\n",
      "1        298    382\n"
     ]
    }
   ],
   "source": [
    "labels = km.labels_\n",
    "print(pd.crosstab(labels, df_short['tag']))"
   ]
  },
  {
   "cell_type": "code",
   "execution_count": 58,
   "metadata": {},
   "outputs": [
    {
     "data": {
      "image/png": "[encoded data removed]",
      "text/plain": [
       "<Figure size 360x360 with 1 Axes>"
      ]
     },
     "metadata": {
      "needs_background": "light"
     },
     "output_type": "display_data"
    }
   ],
   "source": [
    "plt.figure(figsize = (5, 5))\n",
    "plt.scatter(x=post_d[:,0], y=post_d[:,1], c=labels, linewidths=0) #purple is 1\n",
    "plt.xlabel(\"Euclidean distance to Cluster 1\")\n",
    "plt.ylabel(\"Euclidean distance to Cluster 2\")\n",
    "plt.show()"
   ]
  },
  {
   "cell_type": "markdown",
   "metadata": {},
   "source": [
    "According to the crosstab, the posts highly viewed are not efficiently clustered. A possible reason is some highly viewed posts contain less keywords to cluster."
   ]
  },
  {
   "cell_type": "markdown",
   "metadata": {},
   "source": [
    "### Feature engineer the data by title lengths"
   ]
  },
  {
   "cell_type": "code",
   "execution_count": 59,
   "metadata": {},
   "outputs": [],
   "source": [
    "df_short['length'] = df_short['body_text_lemmatized'].apply(lambda x: len(x))\n",
    "df_short['length_normalized'] = df_short['length'] / df_short['length'].max()\n",
    "word_short_feature_df = pd.concat([df_short['length_normalized'], pd.DataFrame(df_tfidf.toarray())], axis=1)"
   ]
  },
  {
   "cell_type": "code",
   "execution_count": 60,
   "metadata": {},
   "outputs": [
    {
     "data": {
      "text/html": [
       "<div>\n",
       "<style scoped>\n",
       "    .dataframe tbody tr th:only-of-type {\n",
       "        vertical-align: middle;\n",
       "    }\n",
       "\n",
       "    .dataframe tbody tr th {\n",
       "        vertical-align: top;\n",
       "    }\n",
       "\n",
       "    .dataframe thead th {\n",
       "        text-align: right;\n",
       "    }\n",
       "</style>\n",
       "<table border=\"1\" class=\"dataframe\">\n",
       "  <thead>\n",
       "    <tr style=\"text-align: right;\">\n",
       "      <th></th>\n",
       "      <th>length_normalized</th>\n",
       "      <th>0</th>\n",
       "      <th>1</th>\n",
       "      <th>2</th>\n",
       "      <th>3</th>\n",
       "      <th>4</th>\n",
       "      <th>5</th>\n",
       "      <th>6</th>\n",
       "      <th>7</th>\n",
       "      <th>8</th>\n",
       "      <th>...</th>\n",
       "      <th>14196</th>\n",
       "      <th>14197</th>\n",
       "      <th>14198</th>\n",
       "      <th>14199</th>\n",
       "      <th>14200</th>\n",
       "      <th>14201</th>\n",
       "      <th>14202</th>\n",
       "      <th>14203</th>\n",
       "      <th>14204</th>\n",
       "      <th>14205</th>\n",
       "    </tr>\n",
       "  </thead>\n",
       "  <tbody>\n",
       "    <tr>\n",
       "      <th>0</th>\n",
       "      <td>0.571429</td>\n",
       "      <td>0.0</td>\n",
       "      <td>0.0</td>\n",
       "      <td>0.0</td>\n",
       "      <td>0.0</td>\n",
       "      <td>0.0</td>\n",
       "      <td>0.0</td>\n",
       "      <td>0.0</td>\n",
       "      <td>0.0</td>\n",
       "      <td>0.0</td>\n",
       "      <td>...</td>\n",
       "      <td>0.0</td>\n",
       "      <td>0.0</td>\n",
       "      <td>0.0</td>\n",
       "      <td>0.0</td>\n",
       "      <td>0.0</td>\n",
       "      <td>0.0</td>\n",
       "      <td>0.0</td>\n",
       "      <td>0.0</td>\n",
       "      <td>0.0</td>\n",
       "      <td>0.0</td>\n",
       "    </tr>\n",
       "    <tr>\n",
       "      <th>1</th>\n",
       "      <td>0.500000</td>\n",
       "      <td>0.0</td>\n",
       "      <td>0.0</td>\n",
       "      <td>0.0</td>\n",
       "      <td>0.0</td>\n",
       "      <td>0.0</td>\n",
       "      <td>0.0</td>\n",
       "      <td>0.0</td>\n",
       "      <td>0.0</td>\n",
       "      <td>0.0</td>\n",
       "      <td>...</td>\n",
       "      <td>0.0</td>\n",
       "      <td>0.0</td>\n",
       "      <td>0.0</td>\n",
       "      <td>0.0</td>\n",
       "      <td>0.0</td>\n",
       "      <td>0.0</td>\n",
       "      <td>0.0</td>\n",
       "      <td>0.0</td>\n",
       "      <td>0.0</td>\n",
       "      <td>0.0</td>\n",
       "    </tr>\n",
       "    <tr>\n",
       "      <th>2</th>\n",
       "      <td>0.428571</td>\n",
       "      <td>0.0</td>\n",
       "      <td>0.0</td>\n",
       "      <td>0.0</td>\n",
       "      <td>0.0</td>\n",
       "      <td>0.0</td>\n",
       "      <td>0.0</td>\n",
       "      <td>0.0</td>\n",
       "      <td>0.0</td>\n",
       "      <td>0.0</td>\n",
       "      <td>...</td>\n",
       "      <td>0.0</td>\n",
       "      <td>0.0</td>\n",
       "      <td>0.0</td>\n",
       "      <td>0.0</td>\n",
       "      <td>0.0</td>\n",
       "      <td>0.0</td>\n",
       "      <td>0.0</td>\n",
       "      <td>0.0</td>\n",
       "      <td>0.0</td>\n",
       "      <td>0.0</td>\n",
       "    </tr>\n",
       "    <tr>\n",
       "      <th>3</th>\n",
       "      <td>0.142857</td>\n",
       "      <td>0.0</td>\n",
       "      <td>0.0</td>\n",
       "      <td>0.0</td>\n",
       "      <td>0.0</td>\n",
       "      <td>0.0</td>\n",
       "      <td>0.0</td>\n",
       "      <td>0.0</td>\n",
       "      <td>0.0</td>\n",
       "      <td>0.0</td>\n",
       "      <td>...</td>\n",
       "      <td>0.0</td>\n",
       "      <td>0.0</td>\n",
       "      <td>0.0</td>\n",
       "      <td>0.0</td>\n",
       "      <td>0.0</td>\n",
       "      <td>0.0</td>\n",
       "      <td>0.0</td>\n",
       "      <td>0.0</td>\n",
       "      <td>0.0</td>\n",
       "      <td>0.0</td>\n",
       "    </tr>\n",
       "    <tr>\n",
       "      <th>4</th>\n",
       "      <td>0.642857</td>\n",
       "      <td>0.0</td>\n",
       "      <td>0.0</td>\n",
       "      <td>0.0</td>\n",
       "      <td>0.0</td>\n",
       "      <td>0.0</td>\n",
       "      <td>0.0</td>\n",
       "      <td>0.0</td>\n",
       "      <td>0.0</td>\n",
       "      <td>0.0</td>\n",
       "      <td>...</td>\n",
       "      <td>0.0</td>\n",
       "      <td>0.0</td>\n",
       "      <td>0.0</td>\n",
       "      <td>0.0</td>\n",
       "      <td>0.0</td>\n",
       "      <td>0.0</td>\n",
       "      <td>0.0</td>\n",
       "      <td>0.0</td>\n",
       "      <td>0.0</td>\n",
       "      <td>0.0</td>\n",
       "    </tr>\n",
       "  </tbody>\n",
       "</table>\n",
       "<p>5 rows × 14207 columns</p>\n",
       "</div>"
      ],
      "text/plain": [
       "   length_normalized    0    1    2    3    4    5    6    7    8  ...    \\\n",
       "0           0.571429  0.0  0.0  0.0  0.0  0.0  0.0  0.0  0.0  0.0  ...     \n",
       "1           0.500000  0.0  0.0  0.0  0.0  0.0  0.0  0.0  0.0  0.0  ...     \n",
       "2           0.428571  0.0  0.0  0.0  0.0  0.0  0.0  0.0  0.0  0.0  ...     \n",
       "3           0.142857  0.0  0.0  0.0  0.0  0.0  0.0  0.0  0.0  0.0  ...     \n",
       "4           0.642857  0.0  0.0  0.0  0.0  0.0  0.0  0.0  0.0  0.0  ...     \n",
       "\n",
       "   14196  14197  14198  14199  14200  14201  14202  14203  14204  14205  \n",
       "0    0.0    0.0    0.0    0.0    0.0    0.0    0.0    0.0    0.0    0.0  \n",
       "1    0.0    0.0    0.0    0.0    0.0    0.0    0.0    0.0    0.0    0.0  \n",
       "2    0.0    0.0    0.0    0.0    0.0    0.0    0.0    0.0    0.0    0.0  \n",
       "3    0.0    0.0    0.0    0.0    0.0    0.0    0.0    0.0    0.0    0.0  \n",
       "4    0.0    0.0    0.0    0.0    0.0    0.0    0.0    0.0    0.0    0.0  \n",
       "\n",
       "[5 rows x 14207 columns]"
      ]
     },
     "execution_count": 60,
     "metadata": {},
     "output_type": "execute_result"
    }
   ],
   "source": [
    "word_short_feature_df.head()"
   ]
  },
  {
   "cell_type": "code",
   "execution_count": 61,
   "metadata": {},
   "outputs": [],
   "source": [
    "km = KMeans(n_clusters=2, random_state=1)\n",
    "post_d_len = km.fit_transform(word_short_feature_df)"
   ]
  },
  {
   "cell_type": "code",
   "execution_count": 62,
   "metadata": {},
   "outputs": [
    {
     "data": {
      "text/plain": [
       "array([[1.00129337, 1.04330425],\n",
       "       [0.99978411, 1.02525802],\n",
       "       [0.99697701, 1.00759965],\n",
       "       ...,\n",
       "       [1.02749445, 1.12149377],\n",
       "       [1.01562036, 1.00340029],\n",
       "       [1.02991101, 1.00040862]])"
      ]
     },
     "execution_count": 62,
     "metadata": {},
     "output_type": "execute_result"
    }
   ],
   "source": [
    "post_d_len"
   ]
  },
  {
   "cell_type": "code",
   "execution_count": 63,
   "metadata": {},
   "outputs": [
    {
     "name": "stdout",
     "output_type": "stream",
     "text": [
      "tag    False  True \n",
      "row_0              \n",
      "0       2190   3515\n",
      "1       1808   3235\n"
     ]
    }
   ],
   "source": [
    "labels = km.labels_\n",
    "print(pd.crosstab(labels, df_short['tag']))"
   ]
  },
  {
   "cell_type": "code",
   "execution_count": 64,
   "metadata": {
    "scrolled": true
   },
   "outputs": [
    {
     "data": {
      "image/png": "[encoded data removed]",
      "text/plain": [
       "<Figure size 360x360 with 1 Axes>"
      ]
     },
     "metadata": {
      "needs_background": "light"
     },
     "output_type": "display_data"
    }
   ],
   "source": [
    "plt.figure(figsize = (5, 5)) #purple is 1\n",
    "plt.scatter(x=post_d_len[:,0], y=post_d_len[:,1], c=labels, linewidths=0)\n",
    "plt.xlabel(\"Euclidean distance to Cluster 1\")\n",
    "plt.ylabel(\"Euclidean distance to Cluster 2\")\n",
    "plt.show()"
   ]
  },
  {
   "cell_type": "markdown",
   "metadata": {},
   "source": [
    "Further feature engineering is required for better clustering."
   ]
  },
  {
   "cell_type": "markdown",
   "metadata": {},
   "source": [
    "## (VII) Conclusions\n",
    "\n",
    "In summary:\n",
    "1. 4.9% of total posts in 2019 have more than 100 views\n",
    "2. No significant difference between view counts and genre. \n",
    "3. Posts created at noon (around 12 pm) and in night (10 pm to 2 am) got more views.\n",
    "4. Random forest classifier has an accuracy of 65.7%, but need further improvement.\n",
    "5. Cluster of the post need more work on feature engineering."
   ]
  }
 ],
 "metadata": {
  "kernelspec": {
   "display_name": "Python 3",
   "language": "python",
   "name": "python3"
  },
  "language_info": {
   "codemirror_mode": {
    "name": "ipython",
    "version": 3
   },
   "file_extension": ".py",
   "mimetype": "text/x-python",
   "name": "python",
   "nbconvert_exporter": "python",
   "pygments_lexer": "ipython3",
   "version": "3.7.1"
  }
 },
 "nbformat": 4,
 "nbformat_minor": 2
}
